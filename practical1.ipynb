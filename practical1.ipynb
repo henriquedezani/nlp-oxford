{
 "cells": [
  {
   "cell_type": "markdown",
   "metadata": {
    "deletable": true,
    "editable": true
   },
   "source": [
    "## Practical 1: word2vec\n",
    "<p>Oxford CS - Deep NLP 2017<br>\n",
    "https://www.cs.ox.ac.uk/teaching/courses/2016-2017/dl/</p>\n",
    "<p>[Yannis Assael, Brendan Shillingford, Chris Dyer]</p>"
   ]
  },
  {
   "cell_type": "markdown",
   "metadata": {
    "deletable": true,
    "editable": true
   },
   "source": [
    "This practical is presented as an IPython Notebook, with the code written for recent versions of **Python 3**. The code in this practical will not work with Python 2 unless you modify it. If you are using your own Python installation, ensure you have a setup identical to that described in the installation shell script (which is intended for use with the department lab machines). We will be unable to support installation on personal machines due to time constraints, so please use the lab machines and the setup script if you are unfamiliar with how to install Anaconda.\n",
    "\n",
    "To execute a notebook cell, press `shift-enter`. The return value of the last command will be displayed, if it is not `None`.\n",
    "\n",
    "Potentially useful library documentation, references, and resources:\n",
    "\n",
    "* IPython notebooks: <https://ipython.org/ipython-doc/3/notebook/notebook.html#introduction>\n",
    "* Numpy numerical array library: <https://docs.scipy.org/doc/>\n",
    "* Gensim's word2vec: <https://radimrehurek.com/gensim/models/word2vec.html>\n",
    "* Bokeh interactive plots: <http://bokeh.pydata.org/en/latest/> (we provide plotting code here, but click the thumbnails for more examples to copy-paste)\n",
    "* scikit-learn ML library (aka `sklearn`): <http://scikit-learn.org/stable/documentation.html>\n",
    "* nltk NLP toolkit: <http://www.nltk.org/>\n",
    "* tutorial for processing xml in python using `lxml`: <http://lxml.de/tutorial.html> (we did this for you below, but in case you need it in the future)"
   ]
  },
  {
   "cell_type": "code",
   "execution_count": 1,
   "metadata": {
    "collapsed": false,
    "deletable": true,
    "editable": true
   },
   "outputs": [],
   "source": [
    "import numpy as np\n",
    "import os\n",
    "from random import shuffle\n",
    "import re\n",
    "from collections import *"
   ]
  },
  {
   "cell_type": "code",
   "execution_count": 2,
   "metadata": {
    "collapsed": false,
    "deletable": true,
    "editable": true
   },
   "outputs": [
    {
     "data": {
      "text/html": [
       "\n",
       "    <div class=\"bk-root\">\n",
       "        <a href=\"http://bokeh.pydata.org\" target=\"_blank\" class=\"bk-logo bk-logo-small bk-logo-notebook\"></a>\n",
       "        <span id=\"151af058-56ca-4124-93c9-1d25dae80c12\">Loading BokehJS ...</span>\n",
       "    </div>"
      ]
     },
     "metadata": {},
     "output_type": "display_data"
    },
    {
     "data": {
      "application/javascript": [
       "\n",
       "(function(global) {\n",
       "  function now() {\n",
       "    return new Date();\n",
       "  }\n",
       "\n",
       "  var force = true;\n",
       "\n",
       "  if (typeof (window._bokeh_onload_callbacks) === \"undefined\" || force === true) {\n",
       "    window._bokeh_onload_callbacks = [];\n",
       "    window._bokeh_is_loading = undefined;\n",
       "  }\n",
       "\n",
       "\n",
       "  \n",
       "  if (typeof (window._bokeh_timeout) === \"undefined\" || force === true) {\n",
       "    window._bokeh_timeout = Date.now() + 5000;\n",
       "    window._bokeh_failed_load = false;\n",
       "  }\n",
       "\n",
       "  var NB_LOAD_WARNING = {'data': {'text/html':\n",
       "     \"<div style='background-color: #fdd'>\\n\"+\n",
       "     \"<p>\\n\"+\n",
       "     \"BokehJS does not appear to have successfully loaded. If loading BokehJS from CDN, this \\n\"+\n",
       "     \"may be due to a slow or bad network connection. Possible fixes:\\n\"+\n",
       "     \"</p>\\n\"+\n",
       "     \"<ul>\\n\"+\n",
       "     \"<li>re-rerun `output_notebook()` to attempt to load from CDN again, or</li>\\n\"+\n",
       "     \"<li>use INLINE resources instead, as so:</li>\\n\"+\n",
       "     \"</ul>\\n\"+\n",
       "     \"<code>\\n\"+\n",
       "     \"from bokeh.resources import INLINE\\n\"+\n",
       "     \"output_notebook(resources=INLINE)\\n\"+\n",
       "     \"</code>\\n\"+\n",
       "     \"</div>\"}};\n",
       "\n",
       "  function display_loaded() {\n",
       "    if (window.Bokeh !== undefined) {\n",
       "      document.getElementById(\"151af058-56ca-4124-93c9-1d25dae80c12\").textContent = \"BokehJS successfully loaded.\";\n",
       "    } else if (Date.now() < window._bokeh_timeout) {\n",
       "      setTimeout(display_loaded, 100)\n",
       "    }\n",
       "  }\n",
       "\n",
       "  function run_callbacks() {\n",
       "    window._bokeh_onload_callbacks.forEach(function(callback) { callback() });\n",
       "    delete window._bokeh_onload_callbacks\n",
       "    console.info(\"Bokeh: all callbacks have finished\");\n",
       "  }\n",
       "\n",
       "  function load_libs(js_urls, callback) {\n",
       "    window._bokeh_onload_callbacks.push(callback);\n",
       "    if (window._bokeh_is_loading > 0) {\n",
       "      console.log(\"Bokeh: BokehJS is being loaded, scheduling callback at\", now());\n",
       "      return null;\n",
       "    }\n",
       "    if (js_urls == null || js_urls.length === 0) {\n",
       "      run_callbacks();\n",
       "      return null;\n",
       "    }\n",
       "    console.log(\"Bokeh: BokehJS not loaded, scheduling load and callback at\", now());\n",
       "    window._bokeh_is_loading = js_urls.length;\n",
       "    for (var i = 0; i < js_urls.length; i++) {\n",
       "      var url = js_urls[i];\n",
       "      var s = document.createElement('script');\n",
       "      s.src = url;\n",
       "      s.async = false;\n",
       "      s.onreadystatechange = s.onload = function() {\n",
       "        window._bokeh_is_loading--;\n",
       "        if (window._bokeh_is_loading === 0) {\n",
       "          console.log(\"Bokeh: all BokehJS libraries loaded\");\n",
       "          run_callbacks()\n",
       "        }\n",
       "      };\n",
       "      s.onerror = function() {\n",
       "        console.warn(\"failed to load library \" + url);\n",
       "      };\n",
       "      console.log(\"Bokeh: injecting script tag for BokehJS library: \", url);\n",
       "      document.getElementsByTagName(\"head\")[0].appendChild(s);\n",
       "    }\n",
       "  };var element = document.getElementById(\"151af058-56ca-4124-93c9-1d25dae80c12\");\n",
       "  if (element == null) {\n",
       "    console.log(\"Bokeh: ERROR: autoload.js configured with elementid '151af058-56ca-4124-93c9-1d25dae80c12' but no matching script tag was found. \")\n",
       "    return false;\n",
       "  }\n",
       "\n",
       "  var js_urls = [\"https://cdn.pydata.org/bokeh/release/bokeh-0.12.4.min.js\", \"https://cdn.pydata.org/bokeh/release/bokeh-widgets-0.12.4.min.js\"];\n",
       "\n",
       "  var inline_js = [\n",
       "    function(Bokeh) {\n",
       "      Bokeh.set_log_level(\"info\");\n",
       "    },\n",
       "    \n",
       "    function(Bokeh) {\n",
       "      \n",
       "      document.getElementById(\"151af058-56ca-4124-93c9-1d25dae80c12\").textContent = \"BokehJS is loading...\";\n",
       "    },\n",
       "    function(Bokeh) {\n",
       "      console.log(\"Bokeh: injecting CSS: https://cdn.pydata.org/bokeh/release/bokeh-0.12.4.min.css\");\n",
       "      Bokeh.embed.inject_css(\"https://cdn.pydata.org/bokeh/release/bokeh-0.12.4.min.css\");\n",
       "      console.log(\"Bokeh: injecting CSS: https://cdn.pydata.org/bokeh/release/bokeh-widgets-0.12.4.min.css\");\n",
       "      Bokeh.embed.inject_css(\"https://cdn.pydata.org/bokeh/release/bokeh-widgets-0.12.4.min.css\");\n",
       "    }\n",
       "  ];\n",
       "\n",
       "  function run_inline_js() {\n",
       "    \n",
       "    if ((window.Bokeh !== undefined) || (force === true)) {\n",
       "      for (var i = 0; i < inline_js.length; i++) {\n",
       "        inline_js[i](window.Bokeh);\n",
       "      }if (force === true) {\n",
       "        display_loaded();\n",
       "      }} else if (Date.now() < window._bokeh_timeout) {\n",
       "      setTimeout(run_inline_js, 100);\n",
       "    } else if (!window._bokeh_failed_load) {\n",
       "      console.log(\"Bokeh: BokehJS failed to load within specified timeout.\");\n",
       "      window._bokeh_failed_load = true;\n",
       "    } else if (force !== true) {\n",
       "      var cell = $(document.getElementById(\"151af058-56ca-4124-93c9-1d25dae80c12\")).parents('.cell').data().cell;\n",
       "      cell.output_area.append_execute_result(NB_LOAD_WARNING)\n",
       "    }\n",
       "\n",
       "  }\n",
       "\n",
       "  if (window._bokeh_is_loading === 0) {\n",
       "    console.log(\"Bokeh: BokehJS loaded, going straight to plotting\");\n",
       "    run_inline_js();\n",
       "  } else {\n",
       "    load_libs(js_urls, function() {\n",
       "      console.log(\"Bokeh: BokehJS plotting callback run at\", now());\n",
       "      run_inline_js();\n",
       "    });\n",
       "  }\n",
       "}(this));"
      ]
     },
     "metadata": {},
     "output_type": "display_data"
    }
   ],
   "source": [
    "from bokeh.models import ColumnDataSource, LabelSet\n",
    "from bokeh.plotting import figure, show, output_file\n",
    "from bokeh.io import output_notebook\n",
    "output_notebook()"
   ]
  },
  {
   "cell_type": "markdown",
   "metadata": {
    "deletable": true,
    "editable": true
   },
   "source": [
    "### Part 0: Download the TED dataset"
   ]
  },
  {
   "cell_type": "code",
   "execution_count": 3,
   "metadata": {
    "collapsed": false,
    "deletable": true,
    "editable": true
   },
   "outputs": [],
   "source": [
    "import urllib.request\n",
    "import zipfile\n",
    "import lxml.etree"
   ]
  },
  {
   "cell_type": "code",
   "execution_count": 4,
   "metadata": {
    "collapsed": false,
    "deletable": true,
    "editable": true
   },
   "outputs": [],
   "source": [
    "# Download the dataset if it's not already there: this may take a minute as it is 75MB\n",
    "if not os.path.isfile('ted_en-20160408.zip'):\n",
    "    urllib.request.urlretrieve(\"https://wit3.fbk.eu/get.php?path=XML_releases/xml/ted_en-20160408.zip&filename=ted_en-20160408.zip\", filename=\"ted_en-20160408.zip\")"
   ]
  },
  {
   "cell_type": "code",
   "execution_count": 5,
   "metadata": {
    "collapsed": true,
    "deletable": true,
    "editable": true
   },
   "outputs": [],
   "source": [
    "# For now, we're only interested in the subtitle text, so let's extract that from the XML:\n",
    "with zipfile.ZipFile('ted_en-20160408.zip', 'r') as z:\n",
    "    doc = lxml.etree.parse(z.open('ted_en-20160408.xml', 'r'))\n",
    "input_text = '\\n'.join(doc.xpath('//content/text()'))\n",
    "del doc"
   ]
  },
  {
   "cell_type": "markdown",
   "metadata": {
    "deletable": true,
    "editable": true
   },
   "source": [
    "### Part 1: Preprocessing\n",
    "\n",
    "In this part, we attempt to clean up the raw subtitles a bit, so that we get only sentences. The following substring shows examples of what we're trying to get rid of. Since it's hard to define precisely what we want to get rid of, we'll just use some simple heuristics."
   ]
  },
  {
   "cell_type": "code",
   "execution_count": 6,
   "metadata": {
    "collapsed": false,
    "deletable": true,
    "editable": true,
    "scrolled": false
   },
   "outputs": [
    {
     "data": {
      "text/plain": [
       "' baby does.\\n(Video) Hyowon Gweon: See this? (Ball squeaks) Did you see that? (Ball squeaks) Cool. See this one? (Ball squeaks) Wow.\\nLaura Schulz: Told you. (Laughs)\\n(Vide'"
      ]
     },
     "execution_count": 6,
     "metadata": {},
     "output_type": "execute_result"
    }
   ],
   "source": [
    "i = input_text.find(\"Hyowon Gweon: See this?\")\n",
    "input_text[i-20:i+150]"
   ]
  },
  {
   "cell_type": "markdown",
   "metadata": {
    "deletable": true,
    "editable": true
   },
   "source": [
    "Let's start by removing all parenthesized strings using a regex:"
   ]
  },
  {
   "cell_type": "code",
   "execution_count": 7,
   "metadata": {
    "collapsed": true,
    "deletable": true,
    "editable": true
   },
   "outputs": [],
   "source": [
    "input_text_noparens = re.sub(r'\\([^)]*\\)', '', input_text)"
   ]
  },
  {
   "cell_type": "markdown",
   "metadata": {
    "deletable": true,
    "editable": true
   },
   "source": [
    "We can verify the same location in the text is now clean as follows. We won't worry about the irregular spaces since we'll later split the text into sentences and tokenize it anyway."
   ]
  },
  {
   "cell_type": "code",
   "execution_count": 8,
   "metadata": {
    "collapsed": false,
    "deletable": true,
    "editable": true
   },
   "outputs": [
    {
     "data": {
      "text/plain": [
       "\"hat the baby does.\\n Hyowon Gweon: See this?  Did you see that?  Cool. See this one?  Wow.\\nLaura Schulz: Told you. \\n HG: See this one?  Hey Clara, this one's for you. You \""
      ]
     },
     "execution_count": 8,
     "metadata": {},
     "output_type": "execute_result"
    }
   ],
   "source": [
    "i = input_text_noparens.find(\"Hyowon Gweon: See this?\")\n",
    "input_text_noparens[i-20:i+150]"
   ]
  },
  {
   "cell_type": "markdown",
   "metadata": {
    "deletable": true,
    "editable": true
   },
   "source": [
    "Now, let's attempt to remove speakers' names that occur at the beginning of a line, by deleting pieces of the form \"`<up to 20 characters>:`\", as shown in this example. Of course, this is an imperfect heuristic. "
   ]
  },
  {
   "cell_type": "code",
   "execution_count": 9,
   "metadata": {
    "collapsed": false,
    "deletable": true,
    "editable": true
   },
   "outputs": [
    {
     "data": {
      "text/plain": [
       "[\"Here are two reasons companies fail: they only do more of the same, or they only do what's new\",\n",
       " 'To me the real, real solution to quality growth is figuring out the balance between two activities: exploration and exploitation',\n",
       " ' Both are necessary, but it can be too much of a good thing',\n",
       " 'Consider Facit',\n",
       " \" I'm actually old enough to remember them\"]"
      ]
     },
     "execution_count": 9,
     "metadata": {},
     "output_type": "execute_result"
    }
   ],
   "source": [
    "sentences_strings_ted = []\n",
    "for line in input_text_noparens.split('\\n'):\n",
    "    m = re.match(r'^(?:(?P<precolon>[^:]{,20}):)?(?P<postcolon>.*)$', line)\n",
    "    sentences_strings_ted.extend(sent for sent in m.groupdict()['postcolon'].split('.') if sent)\n",
    "\n",
    "# Uncomment if you need to save some RAM: these strings are about 50MB.\n",
    "del input_text, input_text_noparens\n",
    "\n",
    "# Let's view the first few:\n",
    "sentences_strings_ted[:5]"
   ]
  },
  {
   "cell_type": "markdown",
   "metadata": {
    "deletable": true,
    "editable": true
   },
   "source": [
    "Now that we have sentences, we're ready to tokenize each of them into words. This tokenization is imperfect, of course. For instance, how many tokens is \"can't\", and where/how do we split it? We'll take the simplest naive approach of splitting on spaces. Before splitting, we remove non-alphanumeric characters, such as punctuation. You may want to consider the following question: why do we replace these characters with spaces rather than deleting them? Think of a case where this yields a different answer."
   ]
  },
  {
   "cell_type": "code",
   "execution_count": 10,
   "metadata": {
    "collapsed": false,
    "deletable": true,
    "editable": true
   },
   "outputs": [],
   "source": [
    "sentences_ted = []\n",
    "for sent_str in sentences_strings_ted:\n",
    "    tokens = re.sub(r\"[^a-z0-9]+\", \" \", sent_str.lower()).split()\n",
    "    sentences_ted.append(tokens)"
   ]
  },
  {
   "cell_type": "markdown",
   "metadata": {
    "deletable": true,
    "editable": true
   },
   "source": [
    "Two sample processed sentences:"
   ]
  },
  {
   "cell_type": "code",
   "execution_count": 11,
   "metadata": {
    "collapsed": false,
    "deletable": true,
    "editable": true
   },
   "outputs": [
    {
     "data": {
      "text/plain": [
       "266694"
      ]
     },
     "execution_count": 11,
     "metadata": {},
     "output_type": "execute_result"
    }
   ],
   "source": [
    "len(sentences_ted)"
   ]
  },
  {
   "cell_type": "code",
   "execution_count": 12,
   "metadata": {
    "collapsed": false,
    "deletable": true,
    "editable": true
   },
   "outputs": [
    {
     "name": "stdout",
     "output_type": "stream",
     "text": [
      "['here', 'are', 'two', 'reasons', 'companies', 'fail', 'they', 'only', 'do', 'more', 'of', 'the', 'same', 'or', 'they', 'only', 'do', 'what', 's', 'new']\n",
      "['to', 'me', 'the', 'real', 'real', 'solution', 'to', 'quality', 'growth', 'is', 'figuring', 'out', 'the', 'balance', 'between', 'two', 'activities', 'exploration', 'and', 'exploitation']\n"
     ]
    }
   ],
   "source": [
    "print(sentences_ted[0])\n",
    "print(sentences_ted[1])"
   ]
  },
  {
   "cell_type": "markdown",
   "metadata": {
    "deletable": true,
    "editable": true
   },
   "source": [
    "### Part 2: Word Frequencies"
   ]
  },
  {
   "cell_type": "markdown",
   "metadata": {
    "deletable": true,
    "editable": true
   },
   "source": [
    "If you store the counts of the top 1000 words in a list called `counts_ted_top1000`, the code below will plot the histogram requested in the writeup."
   ]
  },
  {
   "cell_type": "code",
   "execution_count": 13,
   "metadata": {
    "collapsed": false,
    "deletable": true,
    "editable": true
   },
   "outputs": [],
   "source": [
    "cnt = Counter()\n",
    "for sentence in sentences_ted:\n",
    "    for word in sentence:\n",
    "        cnt[word] += 1\n",
    "        \n",
    "counts_ted_top1000 = []\n",
    "for common_word in cnt.most_common(1000):\n",
    "    counts_ted_top1000.append(common_word[1])"
   ]
  },
  {
   "cell_type": "markdown",
   "metadata": {
    "deletable": true,
    "editable": true
   },
   "source": [
    "Plot distribution of top-1000 words"
   ]
  },
  {
   "cell_type": "code",
   "execution_count": 14,
   "metadata": {
    "collapsed": false,
    "deletable": true,
    "editable": true
   },
   "outputs": [
    {
     "data": {
      "text/html": [
       "\n",
       "\n",
       "    <div class=\"bk-root\">\n",
       "        <div class=\"bk-plotdiv\" id=\"534a3bec-2bff-4f1b-876b-6210d5646dfa\"></div>\n",
       "    </div>\n",
       "<script type=\"text/javascript\">\n",
       "  \n",
       "  (function(global) {\n",
       "    function now() {\n",
       "      return new Date();\n",
       "    }\n",
       "  \n",
       "    var force = false;\n",
       "  \n",
       "    if (typeof (window._bokeh_onload_callbacks) === \"undefined\" || force === true) {\n",
       "      window._bokeh_onload_callbacks = [];\n",
       "      window._bokeh_is_loading = undefined;\n",
       "    }\n",
       "  \n",
       "  \n",
       "    \n",
       "    if (typeof (window._bokeh_timeout) === \"undefined\" || force === true) {\n",
       "      window._bokeh_timeout = Date.now() + 0;\n",
       "      window._bokeh_failed_load = false;\n",
       "    }\n",
       "  \n",
       "    var NB_LOAD_WARNING = {'data': {'text/html':\n",
       "       \"<div style='background-color: #fdd'>\\n\"+\n",
       "       \"<p>\\n\"+\n",
       "       \"BokehJS does not appear to have successfully loaded. If loading BokehJS from CDN, this \\n\"+\n",
       "       \"may be due to a slow or bad network connection. Possible fixes:\\n\"+\n",
       "       \"</p>\\n\"+\n",
       "       \"<ul>\\n\"+\n",
       "       \"<li>re-rerun `output_notebook()` to attempt to load from CDN again, or</li>\\n\"+\n",
       "       \"<li>use INLINE resources instead, as so:</li>\\n\"+\n",
       "       \"</ul>\\n\"+\n",
       "       \"<code>\\n\"+\n",
       "       \"from bokeh.resources import INLINE\\n\"+\n",
       "       \"output_notebook(resources=INLINE)\\n\"+\n",
       "       \"</code>\\n\"+\n",
       "       \"</div>\"}};\n",
       "  \n",
       "    function display_loaded() {\n",
       "      if (window.Bokeh !== undefined) {\n",
       "        document.getElementById(\"534a3bec-2bff-4f1b-876b-6210d5646dfa\").textContent = \"BokehJS successfully loaded.\";\n",
       "      } else if (Date.now() < window._bokeh_timeout) {\n",
       "        setTimeout(display_loaded, 100)\n",
       "      }\n",
       "    }\n",
       "  \n",
       "    function run_callbacks() {\n",
       "      window._bokeh_onload_callbacks.forEach(function(callback) { callback() });\n",
       "      delete window._bokeh_onload_callbacks\n",
       "      console.info(\"Bokeh: all callbacks have finished\");\n",
       "    }\n",
       "  \n",
       "    function load_libs(js_urls, callback) {\n",
       "      window._bokeh_onload_callbacks.push(callback);\n",
       "      if (window._bokeh_is_loading > 0) {\n",
       "        console.log(\"Bokeh: BokehJS is being loaded, scheduling callback at\", now());\n",
       "        return null;\n",
       "      }\n",
       "      if (js_urls == null || js_urls.length === 0) {\n",
       "        run_callbacks();\n",
       "        return null;\n",
       "      }\n",
       "      console.log(\"Bokeh: BokehJS not loaded, scheduling load and callback at\", now());\n",
       "      window._bokeh_is_loading = js_urls.length;\n",
       "      for (var i = 0; i < js_urls.length; i++) {\n",
       "        var url = js_urls[i];\n",
       "        var s = document.createElement('script');\n",
       "        s.src = url;\n",
       "        s.async = false;\n",
       "        s.onreadystatechange = s.onload = function() {\n",
       "          window._bokeh_is_loading--;\n",
       "          if (window._bokeh_is_loading === 0) {\n",
       "            console.log(\"Bokeh: all BokehJS libraries loaded\");\n",
       "            run_callbacks()\n",
       "          }\n",
       "        };\n",
       "        s.onerror = function() {\n",
       "          console.warn(\"failed to load library \" + url);\n",
       "        };\n",
       "        console.log(\"Bokeh: injecting script tag for BokehJS library: \", url);\n",
       "        document.getElementsByTagName(\"head\")[0].appendChild(s);\n",
       "      }\n",
       "    };var element = document.getElementById(\"534a3bec-2bff-4f1b-876b-6210d5646dfa\");\n",
       "    if (element == null) {\n",
       "      console.log(\"Bokeh: ERROR: autoload.js configured with elementid '534a3bec-2bff-4f1b-876b-6210d5646dfa' but no matching script tag was found. \")\n",
       "      return false;\n",
       "    }\n",
       "  \n",
       "    var js_urls = [];\n",
       "  \n",
       "    var inline_js = [\n",
       "      function(Bokeh) {\n",
       "        (function() {\n",
       "          var fn = function() {\n",
       "            var docs_json = {\"421fc46c-1777-4394-a954-560aeabb8a97\":{\"roots\":{\"references\":[{\"attributes\":{\"callback\":null},\"id\":\"b8e43268-38ef-4eeb-a4b8-06758c1590c8\",\"type\":\"DataRange1d\"},{\"attributes\":{\"plot\":{\"id\":\"26d71432-9964-42ec-b7e3-beb0d19285a7\",\"subtype\":\"Figure\",\"type\":\"Plot\"}},\"id\":\"c395b5d8-d809-4106-ab02-bab083c3d352\",\"type\":\"SaveTool\"},{\"attributes\":{\"plot\":{\"id\":\"26d71432-9964-42ec-b7e3-beb0d19285a7\",\"subtype\":\"Figure\",\"type\":\"Plot\"},\"ticker\":{\"id\":\"d06cfa68-8cdf-4a8e-87d9-de9cfbeaa43b\",\"type\":\"BasicTicker\"}},\"id\":\"22dbd842-33aa-41b3-86d7-06ec5c245dd7\",\"type\":\"Grid\"},{\"attributes\":{},\"id\":\"ea5f3317-ad31-42e3-84bd-d957dc77cdaf\",\"type\":\"BasicTickFormatter\"},{\"attributes\":{},\"id\":\"5d133383-5a05-4af5-a21a-c3c2fc6ef146\",\"type\":\"ToolEvents\"},{\"attributes\":{\"formatter\":{\"id\":\"452a46de-cfa0-4fb4-b070-f0327f00b459\",\"type\":\"BasicTickFormatter\"},\"plot\":{\"id\":\"26d71432-9964-42ec-b7e3-beb0d19285a7\",\"subtype\":\"Figure\",\"type\":\"Plot\"},\"ticker\":{\"id\":\"d06cfa68-8cdf-4a8e-87d9-de9cfbeaa43b\",\"type\":\"BasicTicker\"}},\"id\":\"a66810eb-8015-4d82-9060-578b553f152b\",\"type\":\"LinearAxis\"},{\"attributes\":{\"plot\":{\"id\":\"26d71432-9964-42ec-b7e3-beb0d19285a7\",\"subtype\":\"Figure\",\"type\":\"Plot\"}},\"id\":\"0138053d-ac0b-422e-8290-e4e5a3d01339\",\"type\":\"PanTool\"},{\"attributes\":{\"dimension\":1,\"plot\":{\"id\":\"26d71432-9964-42ec-b7e3-beb0d19285a7\",\"subtype\":\"Figure\",\"type\":\"Plot\"},\"ticker\":{\"id\":\"81d526f1-82e5-4864-8a88-8a675c04616d\",\"type\":\"BasicTicker\"}},\"id\":\"e4d8e2d7-ad83-4c63-9293-cac8d347465b\",\"type\":\"Grid\"},{\"attributes\":{},\"id\":\"d06cfa68-8cdf-4a8e-87d9-de9cfbeaa43b\",\"type\":\"BasicTicker\"},{\"attributes\":{\"active_drag\":\"auto\",\"active_scroll\":\"auto\",\"active_tap\":\"auto\",\"tools\":[{\"id\":\"0138053d-ac0b-422e-8290-e4e5a3d01339\",\"type\":\"PanTool\"},{\"id\":\"aa4db719-2d3d-4f46-9afd-9531237dec38\",\"type\":\"WheelZoomTool\"},{\"id\":\"b6f3b968-5fc5-46e0-8b4a-bde5f2d9a079\",\"type\":\"ResetTool\"},{\"id\":\"c395b5d8-d809-4106-ab02-bab083c3d352\",\"type\":\"SaveTool\"}]},\"id\":\"082d06b8-3871-47e7-a933-d68ea8c9a4a2\",\"type\":\"Toolbar\"},{\"attributes\":{\"plot\":{\"id\":\"26d71432-9964-42ec-b7e3-beb0d19285a7\",\"subtype\":\"Figure\",\"type\":\"Plot\"}},\"id\":\"aa4db719-2d3d-4f46-9afd-9531237dec38\",\"type\":\"WheelZoomTool\"},{\"attributes\":{\"callback\":null},\"id\":\"24784f8b-ecd7-4463-acd1-a3e7f751ce8c\",\"type\":\"DataRange1d\"},{\"attributes\":{\"callback\":null,\"column_names\":[\"top\",\"left\",\"right\"],\"data\":{\"left\":{\"__ndarray__\":\"AAAAAABAeUB7FK5H4VqjQHsUrkfhxrFAuB6F61HguUB7FK5H4fzAQJqZmZmZCcVAuB6F61EWyUDXo3A9CiPNQHsUrkfhl9BACtejcD2e0kCamZmZmaTUQClcj8L1qtZAuB6F61Gx2EBI4XoUrrfaQNejcD0KvtxAZ2ZmZmbE3kB7FK5HYWXgQMP1KFyPaOFACtejcL1r4kBSuB6F627jQJqZmZkZcuRA4XoUrkd15UApXI/CdXjmQHE9Cteje+dAuB6F69F+6EAAAAAAAILpQEjhehQuhepAkML1KFyI60DXo3A9iovsQB+F61G4ju1AZ2ZmZuaR7kCuR+F6FJXvQHsUrkchTPBAH4XrUbjN8EDD9ShcT0/xQGdmZmbm0PFACtejcH1S8kCuR+F6FNTyQFK4HoWrVfNA9ihcj0LX80CamZmZ2Vj0QD4K16Nw2vRA4XoUrgdc9UCF61G4nt31QClcj8I1X/ZAzczMzMzg9kBxPQrXY2L3QBWuR+H64/dAuB6F65Fl+EBcj8L1KOf4QAAAAADAaPlApHA9Clfq+UBI4XoU7mv6QOxRuB6F7fpAkML1KBxv+0AzMzMzs/D7QNejcD1KcvxAexSuR+Hz/EAfhetReHX9QMP1KFwP9/1AZ2ZmZqZ4/kAK16NwPfr+QK5H4XrUe/9AUrgehWv9/0B7FK5HgT8AQc3MzMxMgABBH4XrURjBAEFxPQrX4wEBQcP1KFyvQgFBFa5H4XqDAUFnZmZmRsQBQbgehesRBQJBCtejcN1FAkFcj8L1qIYCQa5H4Xp0xwJBAAAAAEAIA0FSuB6FC0kDQaRwPQrXiQNB9ihcj6LKA0FI4XoUbgsEQZqZmZk5TARB7FG4HgWNBEE+Ctej0M0EQZDC9SicDgVB4XoUrmdPBUEzMzMzM5AFQYXrUbj+0AVB16NwPcoRBkEpXI/ClVIGQXsUrkdhkwZBzczMzCzUBkEfhetR+BQHQXE9CtfDVQdBw/UoXI+WB0EVrkfhWtcHQWdmZmYmGAhBuB6F6/FYCEEK16NwvZkIQVyPwvWI2ghBrkfhelQbCUE=\",\"dtype\":\"float64\",\"shape\":[100]},\"right\":{\"__ndarray__\":\"exSuR+Fao0B7FK5H4caxQLgehetR4LlAexSuR+H8wECamZmZmQnFQLgehetRFslA16NwPQojzUB7FK5H4ZfQQArXo3A9ntJAmpmZmZmk1EApXI/C9arWQLgehetRsdhASOF6FK632kDXo3A9Cr7cQGdmZmZmxN5AexSuR2Fl4EDD9Shcj2jhQArXo3C9a+JAUrgehetu40CamZmZGXLkQOF6FK5HdeVAKVyPwnV45kBxPQrXo3vnQLgehevRfuhAAAAAAACC6UBI4XoULoXqQJDC9ShciOtA16NwPYqL7EAfhetRuI7tQGdmZmbmke5ArkfhehSV70B7FK5HIUzwQB+F61G4zfBAw/UoXE9P8UBnZmZm5tDxQArXo3B9UvJArkfhehTU8kBSuB6Fq1XzQPYoXI9C1/NAmpmZmdlY9EA+CtejcNr0QOF6FK4HXPVAhetRuJ7d9UApXI/CNV/2QM3MzMzM4PZAcT0K12Ni90AVrkfh+uP3QLgeheuRZfhAXI/C9Sjn+EAAAAAAwGj5QKRwPQpX6vlASOF6FO5r+kDsUbgehe36QJDC9Sgcb/tAMzMzM7Pw+0DXo3A9SnL8QHsUrkfh8/xAH4XrUXh1/UDD9ShcD/f9QGdmZmameP5ACtejcD36/kCuR+F61Hv/QFK4HoVr/f9AexSuR4E/AEHNzMzMTIAAQR+F61EYwQBBcT0K1+MBAUHD9Shcr0IBQRWuR+F6gwFBZ2ZmZkbEAUG4HoXrEQUCQQrXo3DdRQJBXI/C9aiGAkGuR+F6dMcCQQAAAABACANBUrgehQtJA0GkcD0K14kDQfYoXI+iygNBSOF6FG4LBEGamZmZOUwEQexRuB4FjQRBPgrXo9DNBEGQwvUonA4FQeF6FK5nTwVBMzMzMzOQBUGF61G4/tAFQdejcD3KEQZBKVyPwpVSBkF7FK5HYZMGQc3MzMws1AZBH4XrUfgUB0FxPQrXw1UHQcP1KFyPlgdBFa5H4VrXB0FnZmZmJhgIQbgehevxWAhBCtejcL2ZCEFcj8L1iNoIQa5H4XpUGwlBAAAAACBcCUE=\",\"dtype\":\"float64\",\"shape\":[100]},\"top\":{\"__ndarray__\":\"50H1zNSBOT/ypb1tgHIBPwsriUb5Uew+zuTFiLI04j78kGUPxTHhPh40R25oQNY+zuTFiLI00j4pPQWW1y7APsTbB2FDRsg+JT0FltcuwD4tPQWW1y6wPi09BZbXLrA+JT0FltcuwD4tPQWW1y6gPiU9BZbXLrA+LT0FltcuoD4AAAAAAAAAADU9BZbXLqA+AAAAAAAAAAAAAAAAAAAAAAAAAAAAAAAAAAAAAAAAAAAAAAAAAAAAADU9BZbXLqA+AAAAAAAAAAAAAAAAAAAAAAAAAAAAAAAANT0FltcuoD4AAAAAAAAAAAAAAAAAAAAANT0FltcuoD4AAAAAAAAAACU9BZbXLqA+AAAAAAAAAAAlPQWW1y6gPkU9BZbXLqA+AAAAAAAAAAAlPQWW1y6gPgAAAAAAAAAAJT0FltcuoD4AAAAAAAAAAAAAAAAAAAAAAAAAAAAAAAAAAAAAAAAAAAAAAAAAAAAAJT0FltcuoD4AAAAAAAAAAAAAAAAAAAAAAAAAAAAAAAAAAAAAAAAAACU9BZbXLqA+AAAAAAAAAAAAAAAAAAAAAAAAAAAAAAAAAAAAAAAAAAAlPQWW1y6gPgAAAAAAAAAAAAAAAAAAAAAAAAAAAAAAAAAAAAAAAAAART0FltcuoD4AAAAAAAAAAAAAAAAAAAAAAAAAAAAAAAAAAAAAAAAAAAAAAAAAAAAAAAAAAAAAAAAAAAAAAAAAAAAAAAAAAAAAAAAAAAAAAAAAAAAAAAAAACU9BZbXLqA+AAAAAAAAAAAAAAAAAAAAAAAAAAAAAAAAAAAAAAAAAAAAAAAAAAAAAAAAAAAAAAAAAAAAAAAAAAAAAAAAAAAAAAAAAAAAAAAAAAAAAAAAAAAAAAAAAAAAAAAAAAAAAAAAAAAAAAAAAAAAAAAAAAAAAAAAAAAAAAAAAAAAAAAAAAAAAAAAAAAAAAAAAAAAAAAAAAAAAAAAAAAAAAAAAAAAAAAAAAAAAAAAAAAAAAAAAAAAAAAAAAAAAAAAAAAAAAAAAAAAAAAAAAAAAAAAAAAAAAAAAAAAAAAAJT0FltcuoD4=\",\"dtype\":\"float64\",\"shape\":[100]}}},\"id\":\"a1cdf9a5-4d5e-4a79-9020-fbbd59869d78\",\"type\":\"ColumnDataSource\"},{\"attributes\":{\"formatter\":{\"id\":\"ea5f3317-ad31-42e3-84bd-d957dc77cdaf\",\"type\":\"BasicTickFormatter\"},\"plot\":{\"id\":\"26d71432-9964-42ec-b7e3-beb0d19285a7\",\"subtype\":\"Figure\",\"type\":\"Plot\"},\"ticker\":{\"id\":\"81d526f1-82e5-4864-8a88-8a675c04616d\",\"type\":\"BasicTicker\"}},\"id\":\"8cd8c32b-736b-4523-9ba7-5dc06fd9f83c\",\"type\":\"LinearAxis\"},{\"attributes\":{\"bottom\":{\"value\":0},\"fill_color\":{\"value\":\"#1f77b4\"},\"left\":{\"field\":\"left\"},\"line_color\":{\"value\":\"#555555\"},\"right\":{\"field\":\"right\"},\"top\":{\"field\":\"top\"}},\"id\":\"34a510aa-2918-4fd2-acce-b6d5c230f811\",\"type\":\"Quad\"},{\"attributes\":{},\"id\":\"452a46de-cfa0-4fb4-b070-f0327f00b459\",\"type\":\"BasicTickFormatter\"},{\"attributes\":{\"bottom\":{\"value\":0},\"fill_alpha\":{\"value\":0.1},\"fill_color\":{\"value\":\"#1f77b4\"},\"left\":{\"field\":\"left\"},\"line_alpha\":{\"value\":0.1},\"line_color\":{\"value\":\"#1f77b4\"},\"right\":{\"field\":\"right\"},\"top\":{\"field\":\"top\"}},\"id\":\"61076ff8-18c4-479f-8e54-20f23b99dbba\",\"type\":\"Quad\"},{\"attributes\":{\"data_source\":{\"id\":\"a1cdf9a5-4d5e-4a79-9020-fbbd59869d78\",\"type\":\"ColumnDataSource\"},\"glyph\":{\"id\":\"34a510aa-2918-4fd2-acce-b6d5c230f811\",\"type\":\"Quad\"},\"hover_glyph\":null,\"nonselection_glyph\":{\"id\":\"61076ff8-18c4-479f-8e54-20f23b99dbba\",\"type\":\"Quad\"},\"selection_glyph\":null},\"id\":\"e19814a8-5ed6-45f9-8470-a0333d3fc26a\",\"type\":\"GlyphRenderer\"},{\"attributes\":{},\"id\":\"81d526f1-82e5-4864-8a88-8a675c04616d\",\"type\":\"BasicTicker\"},{\"attributes\":{\"plot\":{\"id\":\"26d71432-9964-42ec-b7e3-beb0d19285a7\",\"subtype\":\"Figure\",\"type\":\"Plot\"}},\"id\":\"b6f3b968-5fc5-46e0-8b4a-bde5f2d9a079\",\"type\":\"ResetTool\"},{\"attributes\":{\"below\":[{\"id\":\"a66810eb-8015-4d82-9060-578b553f152b\",\"type\":\"LinearAxis\"}],\"left\":[{\"id\":\"8cd8c32b-736b-4523-9ba7-5dc06fd9f83c\",\"type\":\"LinearAxis\"}],\"renderers\":[{\"id\":\"a66810eb-8015-4d82-9060-578b553f152b\",\"type\":\"LinearAxis\"},{\"id\":\"22dbd842-33aa-41b3-86d7-06ec5c245dd7\",\"type\":\"Grid\"},{\"id\":\"8cd8c32b-736b-4523-9ba7-5dc06fd9f83c\",\"type\":\"LinearAxis\"},{\"id\":\"e4d8e2d7-ad83-4c63-9293-cac8d347465b\",\"type\":\"Grid\"},{\"id\":\"e19814a8-5ed6-45f9-8470-a0333d3fc26a\",\"type\":\"GlyphRenderer\"}],\"title\":{\"id\":\"6f2c7c10-4829-4110-a2db-7c8a3f3da9be\",\"type\":\"Title\"},\"tool_events\":{\"id\":\"5d133383-5a05-4af5-a21a-c3c2fc6ef146\",\"type\":\"ToolEvents\"},\"toolbar\":{\"id\":\"082d06b8-3871-47e7-a933-d68ea8c9a4a2\",\"type\":\"Toolbar\"},\"toolbar_location\":\"above\",\"x_range\":{\"id\":\"b8e43268-38ef-4eeb-a4b8-06758c1590c8\",\"type\":\"DataRange1d\"},\"y_range\":{\"id\":\"24784f8b-ecd7-4463-acd1-a3e7f751ce8c\",\"type\":\"DataRange1d\"}},\"id\":\"26d71432-9964-42ec-b7e3-beb0d19285a7\",\"subtype\":\"Figure\",\"type\":\"Plot\"},{\"attributes\":{\"plot\":null,\"text\":\"Top-1000 words distribution\"},\"id\":\"6f2c7c10-4829-4110-a2db-7c8a3f3da9be\",\"type\":\"Title\"}],\"root_ids\":[\"26d71432-9964-42ec-b7e3-beb0d19285a7\"]},\"title\":\"Bokeh Application\",\"version\":\"0.12.4\"}};\n",
       "            var render_items = [{\"docid\":\"421fc46c-1777-4394-a954-560aeabb8a97\",\"elementid\":\"534a3bec-2bff-4f1b-876b-6210d5646dfa\",\"modelid\":\"26d71432-9964-42ec-b7e3-beb0d19285a7\"}];\n",
       "            \n",
       "            Bokeh.embed.embed_items(docs_json, render_items);\n",
       "          };\n",
       "          if (document.readyState != \"loading\") fn();\n",
       "          else document.addEventListener(\"DOMContentLoaded\", fn);\n",
       "        })();\n",
       "      },\n",
       "      function(Bokeh) {\n",
       "      }\n",
       "    ];\n",
       "  \n",
       "    function run_inline_js() {\n",
       "      \n",
       "      if ((window.Bokeh !== undefined) || (force === true)) {\n",
       "        for (var i = 0; i < inline_js.length; i++) {\n",
       "          inline_js[i](window.Bokeh);\n",
       "        }if (force === true) {\n",
       "          display_loaded();\n",
       "        }} else if (Date.now() < window._bokeh_timeout) {\n",
       "        setTimeout(run_inline_js, 100);\n",
       "      } else if (!window._bokeh_failed_load) {\n",
       "        console.log(\"Bokeh: BokehJS failed to load within specified timeout.\");\n",
       "        window._bokeh_failed_load = true;\n",
       "      } else if (force !== true) {\n",
       "        var cell = $(document.getElementById(\"534a3bec-2bff-4f1b-876b-6210d5646dfa\")).parents('.cell').data().cell;\n",
       "        cell.output_area.append_execute_result(NB_LOAD_WARNING)\n",
       "      }\n",
       "  \n",
       "    }\n",
       "  \n",
       "    if (window._bokeh_is_loading === 0) {\n",
       "      console.log(\"Bokeh: BokehJS loaded, going straight to plotting\");\n",
       "      run_inline_js();\n",
       "    } else {\n",
       "      load_libs(js_urls, function() {\n",
       "        console.log(\"Bokeh: BokehJS plotting callback run at\", now());\n",
       "        run_inline_js();\n",
       "      });\n",
       "    }\n",
       "  }(this));\n",
       "</script>"
      ]
     },
     "metadata": {},
     "output_type": "display_data"
    }
   ],
   "source": [
    "hist, edges = np.histogram(counts_ted_top1000, density=True, bins=100, normed=True)\n",
    "\n",
    "p = figure(tools=\"pan,wheel_zoom,reset,save\",\n",
    "           toolbar_location=\"above\",\n",
    "           title=\"Top-1000 words distribution\")\n",
    "p.quad(top=hist, bottom=0, left=edges[:-1], right=edges[1:], line_color=\"#555555\")\n",
    "show(p)"
   ]
  },
  {
   "cell_type": "markdown",
   "metadata": {
    "deletable": true,
    "editable": true
   },
   "source": [
    "### Part 3: Train Word2Vec"
   ]
  },
  {
   "cell_type": "code",
   "execution_count": 15,
   "metadata": {
    "collapsed": false,
    "deletable": true,
    "editable": true
   },
   "outputs": [],
   "source": [
    "from gensim.models import Word2Vec"
   ]
  },
  {
   "cell_type": "code",
   "execution_count": 16,
   "metadata": {
    "collapsed": true,
    "deletable": true,
    "editable": true
   },
   "outputs": [],
   "source": [
    "model_ted = Word2Vec(sentences_ted, min_count=10)"
   ]
  },
  {
   "cell_type": "markdown",
   "metadata": {
    "deletable": true,
    "editable": true
   },
   "source": [
    "### Part 4: Ted Learnt Representations"
   ]
  },
  {
   "cell_type": "markdown",
   "metadata": {
    "deletable": true,
    "editable": true
   },
   "source": [
    "Finding similar words: (see gensim docs for more functionality of `most_similar`)"
   ]
  },
  {
   "cell_type": "code",
   "execution_count": 17,
   "metadata": {
    "collapsed": false,
    "deletable": true,
    "editable": true
   },
   "outputs": [
    {
     "data": {
      "text/plain": [
       "[('woman', 0.8438417911529541),\n",
       " ('guy', 0.8063907623291016),\n",
       " ('lady', 0.7816480398178101),\n",
       " ('soldier', 0.7725540995597839),\n",
       " ('girl', 0.7550985813140869),\n",
       " ('boy', 0.7334039211273193),\n",
       " ('gentleman', 0.7171799540519714),\n",
       " ('friend', 0.6917258501052856),\n",
       " ('kid', 0.6822806000709534),\n",
       " ('poet', 0.6713488101959229)]"
      ]
     },
     "execution_count": 17,
     "metadata": {},
     "output_type": "execute_result"
    }
   ],
   "source": [
    "model_ted.most_similar(\"man\")"
   ]
  },
  {
   "cell_type": "code",
   "execution_count": 18,
   "metadata": {
    "collapsed": false,
    "deletable": true,
    "editable": true
   },
   "outputs": [
    {
     "data": {
      "text/plain": [
       "[('machine', 0.734657883644104),\n",
       " ('software', 0.7088214159011841),\n",
       " ('device', 0.6672253608703613),\n",
       " ('robot', 0.6611739993095398),\n",
       " ('camera', 0.6345241069793701),\n",
       " ('program', 0.6326144933700562),\n",
       " ('3d', 0.6260584592819214),\n",
       " ('interface', 0.620205283164978),\n",
       " ('chip', 0.6156195402145386),\n",
       " ('printer', 0.6116030812263489)]"
      ]
     },
     "execution_count": 18,
     "metadata": {},
     "output_type": "execute_result"
    }
   ],
   "source": [
    "model_ted.most_similar(\"computer\")"
   ]
  },
  {
   "cell_type": "code",
   "execution_count": 19,
   "metadata": {
    "collapsed": true,
    "deletable": true,
    "editable": true
   },
   "outputs": [],
   "source": [
    "# ..."
   ]
  },
  {
   "cell_type": "markdown",
   "metadata": {
    "deletable": true,
    "editable": true
   },
   "source": [
    "#### t-SNE visualization\n",
    "To use the t-SNE code below, first put a list of the top 1000 words (as strings) into a variable `words_top_ted`. The following code gets the corresponding vectors from the model, assuming it's called `model_ted`:"
   ]
  },
  {
   "cell_type": "code",
   "execution_count": 20,
   "metadata": {
    "collapsed": false,
    "deletable": true,
    "editable": true
   },
   "outputs": [],
   "source": [
    "words_top_ted = []\n",
    "for common_word in cnt.most_common(1000):\n",
    "    words_top_ted.append(common_word[0])\n",
    "\n",
    "# This assumes words_top_ted is a list of strings, the top 1000 words\n",
    "words_top_vec_ted = model_ted[words_top_ted]"
   ]
  },
  {
   "cell_type": "code",
   "execution_count": 21,
   "metadata": {
    "collapsed": false,
    "deletable": true,
    "editable": true
   },
   "outputs": [],
   "source": [
    "from sklearn.manifold import TSNE\n",
    "tsne = TSNE(n_components=2, random_state=0)\n",
    "words_top_ted_tsne = tsne.fit_transform(words_top_vec_ted)"
   ]
  },
  {
   "cell_type": "code",
   "execution_count": 22,
   "metadata": {
    "collapsed": false,
    "deletable": true,
    "editable": true
   },
   "outputs": [
    {
     "data": {
      "text/html": [
       "\n",
       "\n",
       "    <div class=\"bk-root\">\n",
       "        <div class=\"bk-plotdiv\" id=\"857a3eed-6985-438e-bf7f-7f920fa5a2d7\"></div>\n",
       "    </div>\n",
       "<script type=\"text/javascript\">\n",
       "  \n",
       "  (function(global) {\n",
       "    function now() {\n",
       "      return new Date();\n",
       "    }\n",
       "  \n",
       "    var force = false;\n",
       "  \n",
       "    if (typeof (window._bokeh_onload_callbacks) === \"undefined\" || force === true) {\n",
       "      window._bokeh_onload_callbacks = [];\n",
       "      window._bokeh_is_loading = undefined;\n",
       "    }\n",
       "  \n",
       "  \n",
       "    \n",
       "    if (typeof (window._bokeh_timeout) === \"undefined\" || force === true) {\n",
       "      window._bokeh_timeout = Date.now() + 0;\n",
       "      window._bokeh_failed_load = false;\n",
       "    }\n",
       "  \n",
       "    var NB_LOAD_WARNING = {'data': {'text/html':\n",
       "       \"<div style='background-color: #fdd'>\\n\"+\n",
       "       \"<p>\\n\"+\n",
       "       \"BokehJS does not appear to have successfully loaded. If loading BokehJS from CDN, this \\n\"+\n",
       "       \"may be due to a slow or bad network connection. Possible fixes:\\n\"+\n",
       "       \"</p>\\n\"+\n",
       "       \"<ul>\\n\"+\n",
       "       \"<li>re-rerun `output_notebook()` to attempt to load from CDN again, or</li>\\n\"+\n",
       "       \"<li>use INLINE resources instead, as so:</li>\\n\"+\n",
       "       \"</ul>\\n\"+\n",
       "       \"<code>\\n\"+\n",
       "       \"from bokeh.resources import INLINE\\n\"+\n",
       "       \"output_notebook(resources=INLINE)\\n\"+\n",
       "       \"</code>\\n\"+\n",
       "       \"</div>\"}};\n",
       "  \n",
       "    function display_loaded() {\n",
       "      if (window.Bokeh !== undefined) {\n",
       "        document.getElementById(\"857a3eed-6985-438e-bf7f-7f920fa5a2d7\").textContent = \"BokehJS successfully loaded.\";\n",
       "      } else if (Date.now() < window._bokeh_timeout) {\n",
       "        setTimeout(display_loaded, 100)\n",
       "      }\n",
       "    }\n",
       "  \n",
       "    function run_callbacks() {\n",
       "      window._bokeh_onload_callbacks.forEach(function(callback) { callback() });\n",
       "      delete window._bokeh_onload_callbacks\n",
       "      console.info(\"Bokeh: all callbacks have finished\");\n",
       "    }\n",
       "  \n",
       "    function load_libs(js_urls, callback) {\n",
       "      window._bokeh_onload_callbacks.push(callback);\n",
       "      if (window._bokeh_is_loading > 0) {\n",
       "        console.log(\"Bokeh: BokehJS is being loaded, scheduling callback at\", now());\n",
       "        return null;\n",
       "      }\n",
       "      if (js_urls == null || js_urls.length === 0) {\n",
       "        run_callbacks();\n",
       "        return null;\n",
       "      }\n",
       "      console.log(\"Bokeh: BokehJS not loaded, scheduling load and callback at\", now());\n",
       "      window._bokeh_is_loading = js_urls.length;\n",
       "      for (var i = 0; i < js_urls.length; i++) {\n",
       "        var url = js_urls[i];\n",
       "        var s = document.createElement('script');\n",
       "        s.src = url;\n",
       "        s.async = false;\n",
       "        s.onreadystatechange = s.onload = function() {\n",
       "          window._bokeh_is_loading--;\n",
       "          if (window._bokeh_is_loading === 0) {\n",
       "            console.log(\"Bokeh: all BokehJS libraries loaded\");\n",
       "            run_callbacks()\n",
       "          }\n",
       "        };\n",
       "        s.onerror = function() {\n",
       "          console.warn(\"failed to load library \" + url);\n",
       "        };\n",
       "        console.log(\"Bokeh: injecting script tag for BokehJS library: \", url);\n",
       "        document.getElementsByTagName(\"head\")[0].appendChild(s);\n",
       "      }\n",
       "    };var element = document.getElementById(\"857a3eed-6985-438e-bf7f-7f920fa5a2d7\");\n",
       "    if (element == null) {\n",
       "      console.log(\"Bokeh: ERROR: autoload.js configured with elementid '857a3eed-6985-438e-bf7f-7f920fa5a2d7' but no matching script tag was found. \")\n",
       "      return false;\n",
       "    }\n",
       "  \n",
       "    var js_urls = [];\n",
       "  \n",
       "    var inline_js = [\n",
       "      function(Bokeh) {\n",
       "        (function() {\n",
       "          var fn = function() {\n",
       "            var docs_json = {\"7cb28b61-eb1d-461e-92d2-4efed59a8027\":{\"roots\":{\"references\":[{\"attributes\":{\"callback\":null,\"column_names\":[\"x2\",\"names\",\"x1\"],\"data\":{\"names\":[\"the\",\"and\",\"to\",\"of\",\"a\",\"that\",\"i\",\"in\",\"it\",\"you\",\"we\",\"is\",\"s\",\"this\",\"so\",\"they\",\"was\",\"for\",\"are\",\"have\",\"but\",\"what\",\"on\",\"with\",\"can\",\"t\",\"about\",\"there\",\"be\",\"as\",\"at\",\"all\",\"not\",\"do\",\"my\",\"one\",\"re\",\"people\",\"like\",\"if\",\"from\",\"now\",\"our\",\"he\",\"an\",\"just\",\"these\",\"or\",\"when\",\"because\",\"very\",\"me\",\"out\",\"by\",\"them\",\"how\",\"know\",\"up\",\"going\",\"had\",\"more\",\"think\",\"who\",\"were\",\"see\",\"your\",\"their\",\"which\",\"would\",\"here\",\"really\",\"get\",\"ve\",\"then\",\"m\",\"world\",\"us\",\"time\",\"some\",\"has\",\"don\",\"actually\",\"into\",\"way\",\"where\",\"will\",\"years\",\"things\",\"other\",\"no\",\"could\",\"go\",\"well\",\"want\",\"been\",\"make\",\"right\",\"she\",\"said\",\"something\",\"those\",\"first\",\"two\",\"than\",\"much\",\"also\",\"look\",\"new\",\"thing\",\"little\",\"got\",\"back\",\"over\",\"most\",\"say\",\"even\",\"his\",\"life\",\"only\",\"work\",\"many\",\"take\",\"need\",\"did\",\"lot\",\"kind\",\"why\",\"good\",\"around\",\"every\",\"different\",\"down\",\"ll\",\"let\",\"her\",\"through\",\"same\",\"being\",\"come\",\"d\",\"day\",\"year\",\"three\",\"use\",\"doing\",\"put\",\"called\",\"any\",\"today\",\"percent\",\"made\",\"after\",\"thank\",\"tell\",\"great\",\"human\",\"find\",\"didn\",\"fact\",\"talk\",\"change\",\"started\",\"another\",\"idea\",\"big\",\"last\",\"own\",\"before\",\"its\",\"never\",\"should\",\"better\",\"give\",\"thought\",\"went\",\"might\",\"important\",\"000\",\"again\",\"together\",\"able\",\"still\",\"problem\",\"off\",\"next\",\"part\",\"course\",\"system\",\"him\",\"does\",\"each\",\"start\",\"show\",\"long\",\"ago\",\"story\",\"came\",\"brain\",\"few\",\"bit\",\"between\",\"used\",\"place\",\"technology\",\"women\",\"too\",\"old\",\"mean\",\"data\",\"water\",\"looking\",\"question\",\"maybe\",\"found\",\"love\",\"doesn\",\"end\",\"example\",\"10\",\"done\",\"point\",\"four\",\"real\",\"wanted\",\"ever\",\"school\",\"understand\",\"sort\",\"live\",\"call\",\"whole\",\"children\",\"always\",\"trying\",\"may\",\"person\",\"away\",\"believe\",\"feel\",\"try\",\"million\",\"working\",\"help\",\"everything\",\"five\",\"country\",\"thinking\",\"second\",\"using\",\"information\",\"money\",\"means\",\"took\",\"power\",\"times\",\"high\",\"space\",\"number\",\"kids\",\"home\",\"become\",\"create\",\"small\",\"design\",\"making\",\"best\",\"left\",\"getting\",\"future\",\"enough\",\"man\",\"quite\",\"city\",\"without\",\"sense\",\"happened\",\"comes\",\"social\",\"probably\",\"less\",\"light\",\"talking\",\"energy\",\"am\",\"building\",\"science\",\"food\",\"body\",\"told\",\"interesting\",\"half\",\"ask\",\"pretty\",\"play\",\"hard\",\"anything\",\"lives\",\"countries\",\"such\",\"coming\",\"family\",\"stuff\",\"dollars\",\"moment\",\"earth\",\"20\",\"imagine\",\"across\",\"side\",\"saw\",\"while\",\"happen\",\"okay\",\"once\",\"build\",\"having\",\"men\",\"later\",\"experience\",\"asked\",\"makes\",\"living\",\"seen\",\"says\",\"room\",\"hand\",\"simple\",\"health\",\"ways\",\"else\",\"case\",\"almost\",\"yet\",\"young\",\"days\",\"nothing\",\"care\",\"bad\",\"happens\",\"goes\",\"move\",\"states\",\"reason\",\"computer\",\"open\",\"africa\",\"learn\",\"process\",\"inside\",\"someone\",\"six\",\"far\",\"project\",\"mind\",\"remember\",\"single\",\"picture\",\"both\",\"whether\",\"problems\",\"saying\",\"basically\",\"community\",\"already\",\"within\",\"looked\",\"myself\",\"billion\",\"possible\",\"often\",\"business\",\"planet\",\"global\",\"everybody\",\"top\",\"sure\",\"public\",\"set\",\"wrong\",\"book\",\"car\",\"keep\",\"yes\",\"answer\",\"oh\",\"hope\",\"sometimes\",\"true\",\"history\",\"war\",\"child\",\"guy\",\"instead\",\"months\",\"ideas\",\"looks\",\"matter\",\"government\",\"amazing\",\"united\",\"since\",\"bring\",\"age\",\"cells\",\"job\",\"heard\",\"until\",\"face\",\"wasn\",\"100\",\"read\",\"control\",\"isn\",\"research\",\"30\",\"words\",\"u\",\"group\",\"under\",\"self\",\"somebody\",\"built\",\"state\",\"woman\",\"turn\",\"beautiful\",\"friends\",\"line\",\"knew\",\"couple\",\"order\",\"form\",\"yeah\",\"internet\",\"middle\",\"music\",\"piece\",\"nature\",\"head\",\"though\",\"stop\",\"everyone\",\"50\",\"places\",\"video\",\"learned\",\"language\",\"run\",\"night\",\"decided\",\"word\",\"study\",\"cancer\",\"works\",\"taking\",\"became\",\"exactly\",\"species\",\"completely\",\"society\",\"education\",\"against\",\"stories\",\"large\",\"share\",\"level\",\"heart\",\"america\",\"model\",\"questions\",\"gets\",\"mother\",\"god\",\"company\",\"turns\",\"ourselves\",\"happening\",\"art\",\"hear\",\"themselves\",\"must\",\"itself\",\"kinds\",\"rather\",\"students\",\"name\",\"hours\",\"disease\",\"front\",\"house\",\"huge\",\"couldn\",\"created\",\"universe\",\"ok\",\"animals\",\"american\",\"environment\",\"worked\",\"minutes\",\"ones\",\"black\",\"1\",\"perhaps\",\"past\",\"third\",\"along\",\"others\",\"finally\",\"sound\",\"early\",\"game\",\"thousands\",\"century\",\"based\",\"least\",\"per\",\"ted\",\"lots\",\"figure\",\"free\",\"particular\",\"guys\",\"happy\",\"news\",\"learning\",\"entire\",\"won\",\"gave\",\"machine\",\"india\",\"during\",\"systems\",\"air\",\"difference\",\"outside\",\"natural\",\"taken\",\"seven\",\"changed\",\"given\",\"leave\",\"cell\",\"15\",\"close\",\"cities\",\"behind\",\"full\",\"scale\",\"difficult\",\"china\",\"takes\",\"companies\",\"yourself\",\"area\",\"reality\",\"seeing\",\"easy\",\"turned\",\"cost\",\"eyes\",\"team\",\"moving\",\"population\",\"culture\",\"york\",\"hands\",\"began\",\"whatever\",\"terms\",\"needs\",\"image\",\"simply\",\"needed\",\"beginning\",\"father\",\"local\",\"realized\",\"media\",\"death\",\"parents\",\"walk\",\"view\",\"white\",\"market\",\"parts\",\"ocean\",\"economic\",\"eight\",\"powerful\",\"week\",\"known\",\"size\",\"felt\",\"humans\",\"certain\",\"spend\",\"longer\",\"phone\",\"wonderful\",\"cannot\",\"grow\",\"common\",\"center\",\"tried\",\"fish\",\"land\",\"oil\",\"deal\",\"interested\",\"political\",\"red\",\"gone\",\"amount\",\"weeks\",\"spent\",\"opportunity\",\"lost\",\"paper\",\"national\",\"quickly\",\"blue\",\"step\",\"poor\",\"green\",\"buy\",\"wouldn\",\"growth\",\"either\",\"patients\",\"sitting\",\"ability\",\"changes\",\"write\",\"challenge\",\"south\",\"low\",\"friend\",\"growing\",\"field\",\"shows\",\"2\",\"born\",\"rest\",\"climate\",\"40\",\"test\",\"street\",\"surface\",\"incredible\",\"average\",\"morning\",\"value\",\"pay\",\"scientists\",\"program\",\"physical\",\"girl\",\"behavior\",\"met\",\"hundreds\",\"feeling\",\"economy\",\"dna\",\"complex\",\"access\",\"risk\",\"animal\",\"structure\",\"feet\",\"attention\",\"anyone\",\"areas\",\"deep\",\"watch\",\"short\",\"absolutely\",\"brought\",\"speak\",\"die\",\"bottom\",\"numbers\",\"audience\",\"stage\",\"realize\",\"law\",\"images\",\"wrote\",\"understanding\",\"knowledge\",\"books\",\"literally\",\"movement\",\"ground\",\"giving\",\"eat\",\"force\",\"alone\",\"seems\",\"telling\",\"hold\",\"starting\",\"nice\",\"sea\",\"forward\",\"developed\",\"kid\",\"individual\",\"millions\",\"support\",\"running\",\"tools\",\"miles\",\"online\",\"result\",\"act\",\"medical\",\"technologies\",\"north\",\"lab\",\"development\",\"blood\",\"fear\",\"map\",\"nobody\",\"personal\",\"voice\",\"issue\",\"key\",\"material\",\"recently\",\"12\",\"theory\",\"cut\",\"cars\",\"fast\",\"sun\",\"changing\",\"clear\",\"playing\",\"especially\",\"girls\",\"soon\",\"patient\",\"choice\",\"fly\",\"creating\",\"normal\",\"europe\",\"discovered\",\"talked\",\"relationship\",\"gives\",\"generation\",\"dark\",\"showed\",\"type\",\"seem\",\"chance\",\"industry\",\"asking\",\"rate\",\"fun\",\"hour\",\"designed\",\"issues\",\"color\",\"university\",\"computers\",\"innovation\",\"class\",\"several\",\"english\",\"tiny\",\"save\",\"focus\",\"allow\",\"developing\",\"digital\",\"solve\",\"network\",\"film\",\"special\",\"wall\",\"baby\",\"situation\",\"solution\",\"box\",\"knows\",\"reasons\",\"dead\",\"meet\",\"stand\",\"anybody\",\"impact\",\"begin\",\"haven\",\"term\",\"beyond\",\"pictures\",\"please\",\"produce\",\"ice\",\"shape\",\"non\",\"cool\",\"resources\",\"robot\",\"groups\",\"stay\",\"likely\",\"truth\",\"available\",\"major\",\"rights\",\"obviously\",\"writing\",\"cause\",\"experiment\",\"evidence\",\"modern\",\"drug\",\"incredibly\",\"becomes\",\"guess\",\"bigger\",\"aren\",\"nine\",\"product\",\"drugs\",\"lived\",\"involved\",\"google\",\"month\",\"perfect\",\"putting\",\"similar\",\"effect\",\"eye\",\"pick\",\"message\",\"quality\",\"violence\",\"web\",\"office\",\"security\",\"evolution\",\"solar\",\"indeed\",\"basic\",\"general\",\"towards\",\"present\",\"drive\",\"send\",\"listen\",\"worth\",\"revolution\",\"explain\",\"hundred\",\"died\",\"certainly\",\"ready\",\"teach\",\"journey\",\"25\",\"walking\",\"hit\",\"led\",\"approach\",\"international\",\"200\",\"games\",\"scientific\",\"chinese\",\"60\",\"potential\",\"crazy\",\"communities\",\"device\",\"source\",\"camera\",\"rules\",\"sex\",\"carbon\",\"sounds\",\"boy\",\"reach\",\"starts\",\"examples\",\"west\",\"3\",\"particularly\",\"measure\",\"software\",\"success\",\"totally\",\"suddenly\",\"action\",\"higher\",\"college\",\"code\",\"eventually\",\"democracy\",\"sit\",\"minute\",\"among\",\"largest\",\"hospital\",\"showing\",\"period\",\"notice\",\"develop\",\"mass\",\"onto\",\"dream\",\"break\",\"plants\",\"add\",\"memory\",\"zero\",\"favorite\",\"everywhere\",\"11\",\"response\",\"moved\",\"speed\",\"schools\",\"wants\",\"table\",\"individuals\",\"extremely\",\"movie\",\"wait\",\"anyway\",\"medicine\",\"follow\",\"trust\",\"plant\",\"biggest\",\"watching\",\"organization\",\"road\",\"creative\",\"choose\",\"worse\",\"lead\",\"500\",\"results\",\"exciting\",\"grew\",\"materials\",\"jobs\",\"positive\",\"east\",\"plan\",\"poverty\",\"strong\",\"fall\",\"safe\",\"essentially\",\"object\",\"door\",\"vision\",\"son\",\"continue\",\"happiness\",\"further\",\"doctor\",\"student\",\"role\",\"objects\",\"including\",\"named\",\"extraordinary\",\"standing\",\"leaders\",\"african\",\"projects\",\"usually\",\"skin\",\"conversation\",\"models\",\"allowed\",\"supposed\",\"interest\",\"faster\",\"police\",\"fight\",\"families\",\"connected\",\"tree\",\"5\",\"cases\",\"screen\",\"goal\",\"somewhere\",\"buildings\",\"finding\",\"shown\"],\"x1\":{\"__ndarray__\":\"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\",\"dtype\":\"float64\",\"shape\":[1000]},\"x2\":{\"__ndarray__\":\"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\",\"dtype\":\"float64\",\"shape\":[1000]}}},\"id\":\"51e70c34-34e5-4dc4-8d1d-78ff606c9d39\",\"type\":\"ColumnDataSource\"},{\"attributes\":{\"below\":[{\"id\":\"850f9cbb-db1e-497b-ba3b-91629696ef0b\",\"type\":\"LinearAxis\"}],\"left\":[{\"id\":\"697bd370-0773-4764-bf5c-cff5fe83332a\",\"type\":\"LinearAxis\"}],\"renderers\":[{\"id\":\"850f9cbb-db1e-497b-ba3b-91629696ef0b\",\"type\":\"LinearAxis\"},{\"id\":\"de48122a-f04c-47b0-8f75-3d17a52019f6\",\"type\":\"Grid\"},{\"id\":\"697bd370-0773-4764-bf5c-cff5fe83332a\",\"type\":\"LinearAxis\"},{\"id\":\"a866718a-7ea8-4a06-8a67-d2428ba867ef\",\"type\":\"Grid\"},{\"id\":\"5aa32aa1-c14b-4c18-8919-beceed436bb6\",\"type\":\"GlyphRenderer\"},{\"id\":\"6b0d8566-4d15-432e-a6e7-4574d57568a3\",\"type\":\"LabelSet\"}],\"title\":{\"id\":\"98c0d510-6ab8-457b-8e21-b743b00e40b4\",\"type\":\"Title\"},\"tool_events\":{\"id\":\"45cf4922-d25c-47a3-a9dd-8eaa929af5b4\",\"type\":\"ToolEvents\"},\"toolbar\":{\"id\":\"9d56c87e-5e4b-49be-8248-55204ddea2e0\",\"type\":\"Toolbar\"},\"toolbar_location\":\"above\",\"x_range\":{\"id\":\"0d9e5f30-adf1-45ef-aeb4-e10b8b655a92\",\"type\":\"DataRange1d\"},\"y_range\":{\"id\":\"5cc2def2-e257-4682-b6cd-d60e2432b7ab\",\"type\":\"DataRange1d\"}},\"id\":\"c47440e0-da69-429b-a5f2-51d780ddda75\",\"subtype\":\"Figure\",\"type\":\"Plot\"},{\"attributes\":{\"plot\":{\"id\":\"c47440e0-da69-429b-a5f2-51d780ddda75\",\"subtype\":\"Figure\",\"type\":\"Plot\"}},\"id\":\"4223c726-9baa-4c2e-8e56-8c11e0b4a023\",\"type\":\"ResetTool\"},{\"attributes\":{\"fill_color\":{\"value\":\"#1f77b4\"},\"line_color\":{\"value\":\"#1f77b4\"},\"size\":{\"units\":\"screen\",\"value\":8},\"x\":{\"field\":\"x1\"},\"y\":{\"field\":\"x2\"}},\"id\":\"aca4d659-e3ab-458c-be21-6940916f7589\",\"type\":\"Circle\"},{\"attributes\":{\"plot\":{\"id\":\"c47440e0-da69-429b-a5f2-51d780ddda75\",\"subtype\":\"Figure\",\"type\":\"Plot\"},\"ticker\":{\"id\":\"65e3172d-7508-4d2f-99d8-374b34237a53\",\"type\":\"BasicTicker\"}},\"id\":\"de48122a-f04c-47b0-8f75-3d17a52019f6\",\"type\":\"Grid\"},{\"attributes\":{\"plot\":{\"id\":\"c47440e0-da69-429b-a5f2-51d780ddda75\",\"subtype\":\"Figure\",\"type\":\"Plot\"}},\"id\":\"1a90658e-5f2d-4ade-9a81-069e7f0b5232\",\"type\":\"PanTool\"},{\"attributes\":{},\"id\":\"45cf4922-d25c-47a3-a9dd-8eaa929af5b4\",\"type\":\"ToolEvents\"},{\"attributes\":{\"plot\":null,\"text\":\"word2vec T-SNE for most common words\"},\"id\":\"98c0d510-6ab8-457b-8e21-b743b00e40b4\",\"type\":\"Title\"},{\"attributes\":{\"active_drag\":\"auto\",\"active_scroll\":\"auto\",\"active_tap\":\"auto\",\"tools\":[{\"id\":\"1a90658e-5f2d-4ade-9a81-069e7f0b5232\",\"type\":\"PanTool\"},{\"id\":\"f0ca22d9-d85b-4481-a928-e7753ee65d86\",\"type\":\"WheelZoomTool\"},{\"id\":\"4223c726-9baa-4c2e-8e56-8c11e0b4a023\",\"type\":\"ResetTool\"},{\"id\":\"b9e32ac6-bcc1-424b-ab3c-212b294a8e33\",\"type\":\"SaveTool\"}]},\"id\":\"9d56c87e-5e4b-49be-8248-55204ddea2e0\",\"type\":\"Toolbar\"},{\"attributes\":{\"dimension\":1,\"plot\":{\"id\":\"c47440e0-da69-429b-a5f2-51d780ddda75\",\"subtype\":\"Figure\",\"type\":\"Plot\"},\"ticker\":{\"id\":\"f37ac7db-6f9b-473e-8d5e-79c4be18253b\",\"type\":\"BasicTicker\"}},\"id\":\"a866718a-7ea8-4a06-8a67-d2428ba867ef\",\"type\":\"Grid\"},{\"attributes\":{\"callback\":null},\"id\":\"5cc2def2-e257-4682-b6cd-d60e2432b7ab\",\"type\":\"DataRange1d\"},{\"attributes\":{\"fill_alpha\":{\"value\":0.1},\"fill_color\":{\"value\":\"#1f77b4\"},\"line_alpha\":{\"value\":0.1},\"line_color\":{\"value\":\"#1f77b4\"},\"size\":{\"units\":\"screen\",\"value\":8},\"x\":{\"field\":\"x1\"},\"y\":{\"field\":\"x2\"}},\"id\":\"b019207a-f0ec-48c8-9d8c-0c99e8ec7113\",\"type\":\"Circle\"},{\"attributes\":{},\"id\":\"2a6dca15-8915-46ab-968d-670418214496\",\"type\":\"BasicTickFormatter\"},{\"attributes\":{\"data_source\":{\"id\":\"51e70c34-34e5-4dc4-8d1d-78ff606c9d39\",\"type\":\"ColumnDataSource\"},\"glyph\":{\"id\":\"aca4d659-e3ab-458c-be21-6940916f7589\",\"type\":\"Circle\"},\"hover_glyph\":null,\"nonselection_glyph\":{\"id\":\"b019207a-f0ec-48c8-9d8c-0c99e8ec7113\",\"type\":\"Circle\"},\"selection_glyph\":null},\"id\":\"5aa32aa1-c14b-4c18-8919-beceed436bb6\",\"type\":\"GlyphRenderer\"},{\"attributes\":{},\"id\":\"65e3172d-7508-4d2f-99d8-374b34237a53\",\"type\":\"BasicTicker\"},{\"attributes\":{\"callback\":null},\"id\":\"0d9e5f30-adf1-45ef-aeb4-e10b8b655a92\",\"type\":\"DataRange1d\"},{\"attributes\":{\"formatter\":{\"id\":\"94d1b7f5-9279-4f30-a128-1f3d56c38eb0\",\"type\":\"BasicTickFormatter\"},\"plot\":{\"id\":\"c47440e0-da69-429b-a5f2-51d780ddda75\",\"subtype\":\"Figure\",\"type\":\"Plot\"},\"ticker\":{\"id\":\"65e3172d-7508-4d2f-99d8-374b34237a53\",\"type\":\"BasicTicker\"}},\"id\":\"850f9cbb-db1e-497b-ba3b-91629696ef0b\",\"type\":\"LinearAxis\"},{\"attributes\":{\"plot\":{\"id\":\"c47440e0-da69-429b-a5f2-51d780ddda75\",\"subtype\":\"Figure\",\"type\":\"Plot\"}},\"id\":\"f0ca22d9-d85b-4481-a928-e7753ee65d86\",\"type\":\"WheelZoomTool\"},{\"attributes\":{},\"id\":\"f37ac7db-6f9b-473e-8d5e-79c4be18253b\",\"type\":\"BasicTicker\"},{\"attributes\":{\"plot\":{\"id\":\"c47440e0-da69-429b-a5f2-51d780ddda75\",\"subtype\":\"Figure\",\"type\":\"Plot\"},\"source\":{\"id\":\"51e70c34-34e5-4dc4-8d1d-78ff606c9d39\",\"type\":\"ColumnDataSource\"},\"text\":{\"field\":\"names\"},\"text_align\":\"center\",\"text_color\":{\"value\":\"#555555\"},\"text_font_size\":{\"value\":\"8pt\"},\"x\":{\"field\":\"x1\"},\"y\":{\"field\":\"x2\"},\"y_offset\":{\"value\":6}},\"id\":\"6b0d8566-4d15-432e-a6e7-4574d57568a3\",\"type\":\"LabelSet\"},{\"attributes\":{\"formatter\":{\"id\":\"2a6dca15-8915-46ab-968d-670418214496\",\"type\":\"BasicTickFormatter\"},\"plot\":{\"id\":\"c47440e0-da69-429b-a5f2-51d780ddda75\",\"subtype\":\"Figure\",\"type\":\"Plot\"},\"ticker\":{\"id\":\"f37ac7db-6f9b-473e-8d5e-79c4be18253b\",\"type\":\"BasicTicker\"}},\"id\":\"697bd370-0773-4764-bf5c-cff5fe83332a\",\"type\":\"LinearAxis\"},{\"attributes\":{\"plot\":{\"id\":\"c47440e0-da69-429b-a5f2-51d780ddda75\",\"subtype\":\"Figure\",\"type\":\"Plot\"}},\"id\":\"b9e32ac6-bcc1-424b-ab3c-212b294a8e33\",\"type\":\"SaveTool\"},{\"attributes\":{},\"id\":\"94d1b7f5-9279-4f30-a128-1f3d56c38eb0\",\"type\":\"BasicTickFormatter\"}],\"root_ids\":[\"c47440e0-da69-429b-a5f2-51d780ddda75\"]},\"title\":\"Bokeh Application\",\"version\":\"0.12.4\"}};\n",
       "            var render_items = [{\"docid\":\"7cb28b61-eb1d-461e-92d2-4efed59a8027\",\"elementid\":\"857a3eed-6985-438e-bf7f-7f920fa5a2d7\",\"modelid\":\"c47440e0-da69-429b-a5f2-51d780ddda75\"}];\n",
       "            \n",
       "            Bokeh.embed.embed_items(docs_json, render_items);\n",
       "          };\n",
       "          if (document.readyState != \"loading\") fn();\n",
       "          else document.addEventListener(\"DOMContentLoaded\", fn);\n",
       "        })();\n",
       "      },\n",
       "      function(Bokeh) {\n",
       "      }\n",
       "    ];\n",
       "  \n",
       "    function run_inline_js() {\n",
       "      \n",
       "      if ((window.Bokeh !== undefined) || (force === true)) {\n",
       "        for (var i = 0; i < inline_js.length; i++) {\n",
       "          inline_js[i](window.Bokeh);\n",
       "        }if (force === true) {\n",
       "          display_loaded();\n",
       "        }} else if (Date.now() < window._bokeh_timeout) {\n",
       "        setTimeout(run_inline_js, 100);\n",
       "      } else if (!window._bokeh_failed_load) {\n",
       "        console.log(\"Bokeh: BokehJS failed to load within specified timeout.\");\n",
       "        window._bokeh_failed_load = true;\n",
       "      } else if (force !== true) {\n",
       "        var cell = $(document.getElementById(\"857a3eed-6985-438e-bf7f-7f920fa5a2d7\")).parents('.cell').data().cell;\n",
       "        cell.output_area.append_execute_result(NB_LOAD_WARNING)\n",
       "      }\n",
       "  \n",
       "    }\n",
       "  \n",
       "    if (window._bokeh_is_loading === 0) {\n",
       "      console.log(\"Bokeh: BokehJS loaded, going straight to plotting\");\n",
       "      run_inline_js();\n",
       "    } else {\n",
       "      load_libs(js_urls, function() {\n",
       "        console.log(\"Bokeh: BokehJS plotting callback run at\", now());\n",
       "        run_inline_js();\n",
       "      });\n",
       "    }\n",
       "  }(this));\n",
       "</script>"
      ]
     },
     "metadata": {},
     "output_type": "display_data"
    }
   ],
   "source": [
    "p = figure(tools=\"pan,wheel_zoom,reset,save\",\n",
    "           toolbar_location=\"above\",\n",
    "           title=\"word2vec T-SNE for most common words\")\n",
    "\n",
    "source = ColumnDataSource(data=dict(x1=words_top_ted_tsne[:,0],\n",
    "                                    x2=words_top_ted_tsne[:,1],\n",
    "                                    names=words_top_ted))\n",
    "\n",
    "p.scatter(x=\"x1\", y=\"x2\", size=8, source=source)\n",
    "\n",
    "labels = LabelSet(x=\"x1\", y=\"x2\", text=\"names\", y_offset=6,\n",
    "                  text_font_size=\"8pt\", text_color=\"#555555\",\n",
    "                  source=source, text_align='center')\n",
    "p.add_layout(labels)\n",
    "\n",
    "show(p)"
   ]
  },
  {
   "cell_type": "markdown",
   "metadata": {
    "deletable": true,
    "editable": true
   },
   "source": [
    "### Part 5: Wiki Learnt Representations"
   ]
  },
  {
   "cell_type": "markdown",
   "metadata": {
    "deletable": true,
    "editable": true
   },
   "source": [
    "Download dataset"
   ]
  },
  {
   "cell_type": "code",
   "execution_count": 24,
   "metadata": {
    "collapsed": true,
    "deletable": true,
    "editable": true
   },
   "outputs": [],
   "source": [
    "if not os.path.isfile('wikitext-103-raw-v1.zip'):\n",
    "    urllib.request.urlretrieve(\"https://s3.amazonaws.com/research.metamind.io/wikitext/wikitext-103-raw-v1.zip\", filename=\"wikitext-103-raw-v1.zip\")"
   ]
  },
  {
   "cell_type": "code",
   "execution_count": 25,
   "metadata": {
    "collapsed": false,
    "deletable": true,
    "editable": true
   },
   "outputs": [],
   "source": [
    "with zipfile.ZipFile('wikitext-103-raw-v1.zip', 'r') as z:\n",
    "    input_text = str(z.open('wikitext-103-raw/wiki.train.raw', 'r').read(), encoding='utf-8') # Thanks Robert Bastian"
   ]
  },
  {
   "cell_type": "markdown",
   "metadata": {
    "deletable": true,
    "editable": true
   },
   "source": [
    "Preprocess sentences (note that it's important to remove small sentences for performance)"
   ]
  },
  {
   "cell_type": "code",
   "execution_count": 26,
   "metadata": {
    "collapsed": false,
    "deletable": true,
    "editable": true
   },
   "outputs": [
    {
     "ename": "KeyboardInterrupt",
     "evalue": "",
     "output_type": "error",
     "traceback": [
      "\u001b[0;31m---------------------------------------------------------------------------\u001b[0m",
      "\u001b[0;31mKeyboardInterrupt\u001b[0m                         Traceback (most recent call last)",
      "\u001b[0;32m<ipython-input-26-dd1bc6868b64>\u001b[0m in \u001b[0;36m<module>\u001b[0;34m()\u001b[0m\n\u001b[1;32m      7\u001b[0m \u001b[0;34m\u001b[0m\u001b[0m\n\u001b[1;32m      8\u001b[0m \u001b[0;32mfor\u001b[0m \u001b[0ms_i\u001b[0m \u001b[0;32min\u001b[0m \u001b[0mrange\u001b[0m\u001b[0;34m(\u001b[0m\u001b[0mlen\u001b[0m\u001b[0;34m(\u001b[0m\u001b[0msentences_wiki\u001b[0m\u001b[0;34m)\u001b[0m\u001b[0;34m)\u001b[0m\u001b[0;34m:\u001b[0m\u001b[0;34m\u001b[0m\u001b[0m\n\u001b[0;32m----> 9\u001b[0;31m     \u001b[0msentences_wiki\u001b[0m\u001b[0;34m[\u001b[0m\u001b[0ms_i\u001b[0m\u001b[0;34m]\u001b[0m \u001b[0;34m=\u001b[0m \u001b[0mre\u001b[0m\u001b[0;34m.\u001b[0m\u001b[0msub\u001b[0m\u001b[0;34m(\u001b[0m\u001b[0;34m\"[^a-z]\"\u001b[0m\u001b[0;34m,\u001b[0m \u001b[0;34m\" \"\u001b[0m\u001b[0;34m,\u001b[0m \u001b[0msentences_wiki\u001b[0m\u001b[0;34m[\u001b[0m\u001b[0ms_i\u001b[0m\u001b[0;34m]\u001b[0m\u001b[0;34m.\u001b[0m\u001b[0mlower\u001b[0m\u001b[0;34m(\u001b[0m\u001b[0;34m)\u001b[0m\u001b[0;34m)\u001b[0m\u001b[0;34m\u001b[0m\u001b[0m\n\u001b[0m\u001b[1;32m     10\u001b[0m     \u001b[0msentences_wiki\u001b[0m\u001b[0;34m[\u001b[0m\u001b[0ms_i\u001b[0m\u001b[0;34m]\u001b[0m \u001b[0;34m=\u001b[0m \u001b[0mre\u001b[0m\u001b[0;34m.\u001b[0m\u001b[0msub\u001b[0m\u001b[0;34m(\u001b[0m\u001b[0;34mr'\\([^)]*\\)'\u001b[0m\u001b[0;34m,\u001b[0m \u001b[0;34m''\u001b[0m\u001b[0;34m,\u001b[0m \u001b[0msentences_wiki\u001b[0m\u001b[0;34m[\u001b[0m\u001b[0ms_i\u001b[0m\u001b[0;34m]\u001b[0m\u001b[0;34m)\u001b[0m\u001b[0;34m.\u001b[0m\u001b[0msplit\u001b[0m\u001b[0;34m(\u001b[0m\u001b[0;34m)\u001b[0m\u001b[0;34m\u001b[0m\u001b[0m\n",
      "\u001b[0;32m/usr/lib/python3.5/re.py\u001b[0m in \u001b[0;36msub\u001b[0;34m(pattern, repl, string, count, flags)\u001b[0m\n\u001b[1;32m    180\u001b[0m     \u001b[0ma\u001b[0m \u001b[0mcallable\u001b[0m\u001b[0;34m,\u001b[0m \u001b[0mit\u001b[0m\u001b[0;31m'\u001b[0m\u001b[0ms\u001b[0m \u001b[0mpassed\u001b[0m \u001b[0mthe\u001b[0m \u001b[0mmatch\u001b[0m \u001b[0mobject\u001b[0m \u001b[0;32mand\u001b[0m \u001b[0mmust\u001b[0m \u001b[0;32mreturn\u001b[0m\u001b[0;34m\u001b[0m\u001b[0m\n\u001b[1;32m    181\u001b[0m     a replacement string to be used.\"\"\"\n\u001b[0;32m--> 182\u001b[0;31m     \u001b[0;32mreturn\u001b[0m \u001b[0m_compile\u001b[0m\u001b[0;34m(\u001b[0m\u001b[0mpattern\u001b[0m\u001b[0;34m,\u001b[0m \u001b[0mflags\u001b[0m\u001b[0;34m)\u001b[0m\u001b[0;34m.\u001b[0m\u001b[0msub\u001b[0m\u001b[0;34m(\u001b[0m\u001b[0mrepl\u001b[0m\u001b[0;34m,\u001b[0m \u001b[0mstring\u001b[0m\u001b[0;34m,\u001b[0m \u001b[0mcount\u001b[0m\u001b[0;34m)\u001b[0m\u001b[0;34m\u001b[0m\u001b[0m\n\u001b[0m\u001b[1;32m    183\u001b[0m \u001b[0;34m\u001b[0m\u001b[0m\n\u001b[1;32m    184\u001b[0m \u001b[0;32mdef\u001b[0m \u001b[0msubn\u001b[0m\u001b[0;34m(\u001b[0m\u001b[0mpattern\u001b[0m\u001b[0;34m,\u001b[0m \u001b[0mrepl\u001b[0m\u001b[0;34m,\u001b[0m \u001b[0mstring\u001b[0m\u001b[0;34m,\u001b[0m \u001b[0mcount\u001b[0m\u001b[0;34m=\u001b[0m\u001b[0;36m0\u001b[0m\u001b[0;34m,\u001b[0m \u001b[0mflags\u001b[0m\u001b[0;34m=\u001b[0m\u001b[0;36m0\u001b[0m\u001b[0;34m)\u001b[0m\u001b[0;34m:\u001b[0m\u001b[0;34m\u001b[0m\u001b[0m\n",
      "\u001b[0;31mKeyboardInterrupt\u001b[0m: "
     ]
    }
   ],
   "source": [
    "sentences_wiki = []\n",
    "for line in input_text.split('\\n'):\n",
    "    s = [x for x in line.split('.') if x and len(x.split()) >= 5]\n",
    "    sentences_wiki.extend(s)\n",
    "\n",
    "for s_i in range(len(sentences_wiki)):\n",
    "    sentences_wiki[s_i] = re.sub(\"[^a-z]\", \" \", sentences_wiki[s_i].lower())\n",
    "    sentences_wiki[s_i] = re.sub(r'\\([^)]*\\)', '', sentences_wiki[s_i]).split()\n",
    "    \n",
    "del input_text "
   ]
  },
  {
   "cell_type": "code",
   "execution_count": null,
   "metadata": {
    "collapsed": false,
    "deletable": true,
    "editable": true
   },
   "outputs": [],
   "source": [
    "# sample 1/5 of the data\n",
    "shuffle(sentences_wiki)\n",
    "print(len(sentences_wiki))\n",
    "sentences_wiki = sentences_wiki[:int(len(sentences_wiki)/5)]\n",
    "print(len(sentences_wiki))"
   ]
  },
  {
   "cell_type": "markdown",
   "metadata": {
    "deletable": true,
    "editable": true
   },
   "source": [
    "Now, repeat all the same steps that you performed above. You should be able to reuse essentially all the code."
   ]
  },
  {
   "cell_type": "code",
   "execution_count": null,
   "metadata": {
    "collapsed": false,
    "deletable": true,
    "editable": true
   },
   "outputs": [],
   "source": [
    "for sent_str in sentences_strings_ted:\n",
    "    tokens = re.sub(r\"[^a-z0-9]+\", \" \", sent_str.lower()).split()\n",
    "    sentences_ted.append(tokens)"
   ]
  },
  {
   "cell_type": "code",
   "execution_count": null,
   "metadata": {
    "collapsed": false,
    "deletable": true,
    "editable": true
   },
   "outputs": [],
   "source": [
    "sentences_wiki[:3]"
   ]
  },
  {
   "cell_type": "code",
   "execution_count": null,
   "metadata": {
    "collapsed": false,
    "deletable": true,
    "editable": true
   },
   "outputs": [],
   "source": [
    "hist, edges = np.histogram(counts_wiki_top1000, density=True, bins=100, normed=True)\n",
    "\n",
    "p = figure(tools=\"pan,wheel_zoom,reset,save\",\n",
    "           toolbar_location=\"above\",\n",
    "           title=\"Top-1000 words distribution\")\n",
    "p.quad(top=hist, bottom=0, left=edges[:-1], right=edges[1:], line_color=\"#555555\")\n",
    "show(p)"
   ]
  },
  {
   "cell_type": "markdown",
   "metadata": {
    "deletable": true,
    "editable": true
   },
   "source": [
    "#### t-SNE visualization"
   ]
  },
  {
   "cell_type": "code",
   "execution_count": null,
   "metadata": {
    "collapsed": true,
    "deletable": true,
    "editable": true
   },
   "outputs": [],
   "source": [
    "# This assumes words_top_wiki is a list of strings, the top 1000 words\n",
    "words_top_vec_wiki = model_wiki[words_top_wiki]\n",
    "\n",
    "tsne = TSNE(n_components=2, random_state=0)\n",
    "words_top_wiki_tsne = tsne.fit_transform(words_top_vec_wiki)"
   ]
  },
  {
   "cell_type": "code",
   "execution_count": null,
   "metadata": {
    "collapsed": false,
    "deletable": true,
    "editable": true
   },
   "outputs": [],
   "source": [
    "p = figure(tools=\"pan,wheel_zoom,reset,save\",\n",
    "           toolbar_location=\"above\",\n",
    "           title=\"word2vec T-SNE for most common words\")\n",
    "\n",
    "source = ColumnDataSource(data=dict(x1=words_top_wiki_tsne[:,0],\n",
    "                                    x2=words_top_wiki_tsne[:,1],\n",
    "                                    names=words_top_wiki))\n",
    "\n",
    "p.scatter(x=\"x1\", y=\"x2\", size=8, source=source)\n",
    "\n",
    "labels = LabelSet(x=\"x1\", y=\"x2\", text=\"names\", y_offset=6,\n",
    "                  text_font_size=\"8pt\", text_color=\"#555555\",\n",
    "                  source=source, text_align='center')\n",
    "p.add_layout(labels)\n",
    "\n",
    "show(p)"
   ]
  }
 ],
 "metadata": {
  "anaconda-cloud": {},
  "kernelspec": {
   "display_name": "Python 3",
   "language": "python",
   "name": "python3"
  },
  "language_info": {
   "codemirror_mode": {
    "name": "ipython",
    "version": 3
   },
   "file_extension": ".py",
   "mimetype": "text/x-python",
   "name": "python",
   "nbconvert_exporter": "python",
   "pygments_lexer": "ipython3",
   "version": "3.5.2"
  }
 },
 "nbformat": 4,
 "nbformat_minor": 0
}
