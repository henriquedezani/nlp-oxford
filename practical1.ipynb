{
 "cells": [
  {
   "cell_type": "markdown",
   "metadata": {
    "deletable": true,
    "editable": true
   },
   "source": [
    "## Practical 1: word2vec\n",
    "<p>Oxford CS - Deep NLP 2017<br>\n",
    "https://www.cs.ox.ac.uk/teaching/courses/2016-2017/dl/</p>\n",
    "<p>[Yannis Assael, Brendan Shillingford, Chris Dyer]</p>"
   ]
  },
  {
   "cell_type": "markdown",
   "metadata": {
    "deletable": true,
    "editable": true
   },
   "source": [
    "This practical is presented as an IPython Notebook, with the code written for recent versions of **Python 3**. The code in this practical will not work with Python 2 unless you modify it. If you are using your own Python installation, ensure you have a setup identical to that described in the installation shell script (which is intended for use with the department lab machines). We will be unable to support installation on personal machines due to time constraints, so please use the lab machines and the setup script if you are unfamiliar with how to install Anaconda.\n",
    "\n",
    "To execute a notebook cell, press `shift-enter`. The return value of the last command will be displayed, if it is not `None`.\n",
    "\n",
    "Potentially useful library documentation, references, and resources:\n",
    "\n",
    "* IPython notebooks: <https://ipython.org/ipython-doc/3/notebook/notebook.html#introduction>\n",
    "* Numpy numerical array library: <https://docs.scipy.org/doc/>\n",
    "* Gensim's word2vec: <https://radimrehurek.com/gensim/models/word2vec.html>\n",
    "* Bokeh interactive plots: <http://bokeh.pydata.org/en/latest/> (we provide plotting code here, but click the thumbnails for more examples to copy-paste)\n",
    "* scikit-learn ML library (aka `sklearn`): <http://scikit-learn.org/stable/documentation.html>\n",
    "* nltk NLP toolkit: <http://www.nltk.org/>\n",
    "* tutorial for processing xml in python using `lxml`: <http://lxml.de/tutorial.html> (we did this for you below, but in case you need it in the future)"
   ]
  },
  {
   "cell_type": "code",
   "execution_count": 75,
   "metadata": {
    "collapsed": false,
    "deletable": true,
    "editable": true
   },
   "outputs": [],
   "source": [
    "import numpy as np\n",
    "import os\n",
    "from random import shuffle\n",
    "import re\n",
    "from collections import *\n",
    "from sklearn.manifold import TSNE\n",
    "from gensim.models import Word2Vec"
   ]
  },
  {
   "cell_type": "code",
   "execution_count": 76,
   "metadata": {
    "collapsed": false,
    "deletable": true,
    "editable": true
   },
   "outputs": [
    {
     "data": {
      "text/html": [
       "\n",
       "    <div class=\"bk-root\">\n",
       "        <a href=\"http://bokeh.pydata.org\" target=\"_blank\" class=\"bk-logo bk-logo-small bk-logo-notebook\"></a>\n",
       "        <span id=\"2873aca1-c946-451d-a635-2cb0315a1b34\">Loading BokehJS ...</span>\n",
       "    </div>"
      ]
     },
     "metadata": {},
     "output_type": "display_data"
    },
    {
     "data": {
      "application/javascript": [
       "\n",
       "(function(global) {\n",
       "  function now() {\n",
       "    return new Date();\n",
       "  }\n",
       "\n",
       "  var force = true;\n",
       "\n",
       "  if (typeof (window._bokeh_onload_callbacks) === \"undefined\" || force === true) {\n",
       "    window._bokeh_onload_callbacks = [];\n",
       "    window._bokeh_is_loading = undefined;\n",
       "  }\n",
       "\n",
       "\n",
       "  \n",
       "  if (typeof (window._bokeh_timeout) === \"undefined\" || force === true) {\n",
       "    window._bokeh_timeout = Date.now() + 5000;\n",
       "    window._bokeh_failed_load = false;\n",
       "  }\n",
       "\n",
       "  var NB_LOAD_WARNING = {'data': {'text/html':\n",
       "     \"<div style='background-color: #fdd'>\\n\"+\n",
       "     \"<p>\\n\"+\n",
       "     \"BokehJS does not appear to have successfully loaded. If loading BokehJS from CDN, this \\n\"+\n",
       "     \"may be due to a slow or bad network connection. Possible fixes:\\n\"+\n",
       "     \"</p>\\n\"+\n",
       "     \"<ul>\\n\"+\n",
       "     \"<li>re-rerun `output_notebook()` to attempt to load from CDN again, or</li>\\n\"+\n",
       "     \"<li>use INLINE resources instead, as so:</li>\\n\"+\n",
       "     \"</ul>\\n\"+\n",
       "     \"<code>\\n\"+\n",
       "     \"from bokeh.resources import INLINE\\n\"+\n",
       "     \"output_notebook(resources=INLINE)\\n\"+\n",
       "     \"</code>\\n\"+\n",
       "     \"</div>\"}};\n",
       "\n",
       "  function display_loaded() {\n",
       "    if (window.Bokeh !== undefined) {\n",
       "      document.getElementById(\"2873aca1-c946-451d-a635-2cb0315a1b34\").textContent = \"BokehJS successfully loaded.\";\n",
       "    } else if (Date.now() < window._bokeh_timeout) {\n",
       "      setTimeout(display_loaded, 100)\n",
       "    }\n",
       "  }\n",
       "\n",
       "  function run_callbacks() {\n",
       "    window._bokeh_onload_callbacks.forEach(function(callback) { callback() });\n",
       "    delete window._bokeh_onload_callbacks\n",
       "    console.info(\"Bokeh: all callbacks have finished\");\n",
       "  }\n",
       "\n",
       "  function load_libs(js_urls, callback) {\n",
       "    window._bokeh_onload_callbacks.push(callback);\n",
       "    if (window._bokeh_is_loading > 0) {\n",
       "      console.log(\"Bokeh: BokehJS is being loaded, scheduling callback at\", now());\n",
       "      return null;\n",
       "    }\n",
       "    if (js_urls == null || js_urls.length === 0) {\n",
       "      run_callbacks();\n",
       "      return null;\n",
       "    }\n",
       "    console.log(\"Bokeh: BokehJS not loaded, scheduling load and callback at\", now());\n",
       "    window._bokeh_is_loading = js_urls.length;\n",
       "    for (var i = 0; i < js_urls.length; i++) {\n",
       "      var url = js_urls[i];\n",
       "      var s = document.createElement('script');\n",
       "      s.src = url;\n",
       "      s.async = false;\n",
       "      s.onreadystatechange = s.onload = function() {\n",
       "        window._bokeh_is_loading--;\n",
       "        if (window._bokeh_is_loading === 0) {\n",
       "          console.log(\"Bokeh: all BokehJS libraries loaded\");\n",
       "          run_callbacks()\n",
       "        }\n",
       "      };\n",
       "      s.onerror = function() {\n",
       "        console.warn(\"failed to load library \" + url);\n",
       "      };\n",
       "      console.log(\"Bokeh: injecting script tag for BokehJS library: \", url);\n",
       "      document.getElementsByTagName(\"head\")[0].appendChild(s);\n",
       "    }\n",
       "  };var element = document.getElementById(\"2873aca1-c946-451d-a635-2cb0315a1b34\");\n",
       "  if (element == null) {\n",
       "    console.log(\"Bokeh: ERROR: autoload.js configured with elementid '2873aca1-c946-451d-a635-2cb0315a1b34' but no matching script tag was found. \")\n",
       "    return false;\n",
       "  }\n",
       "\n",
       "  var js_urls = [\"https://cdn.pydata.org/bokeh/release/bokeh-0.12.4.min.js\", \"https://cdn.pydata.org/bokeh/release/bokeh-widgets-0.12.4.min.js\"];\n",
       "\n",
       "  var inline_js = [\n",
       "    function(Bokeh) {\n",
       "      Bokeh.set_log_level(\"info\");\n",
       "    },\n",
       "    \n",
       "    function(Bokeh) {\n",
       "      \n",
       "      document.getElementById(\"2873aca1-c946-451d-a635-2cb0315a1b34\").textContent = \"BokehJS is loading...\";\n",
       "    },\n",
       "    function(Bokeh) {\n",
       "      console.log(\"Bokeh: injecting CSS: https://cdn.pydata.org/bokeh/release/bokeh-0.12.4.min.css\");\n",
       "      Bokeh.embed.inject_css(\"https://cdn.pydata.org/bokeh/release/bokeh-0.12.4.min.css\");\n",
       "      console.log(\"Bokeh: injecting CSS: https://cdn.pydata.org/bokeh/release/bokeh-widgets-0.12.4.min.css\");\n",
       "      Bokeh.embed.inject_css(\"https://cdn.pydata.org/bokeh/release/bokeh-widgets-0.12.4.min.css\");\n",
       "    }\n",
       "  ];\n",
       "\n",
       "  function run_inline_js() {\n",
       "    \n",
       "    if ((window.Bokeh !== undefined) || (force === true)) {\n",
       "      for (var i = 0; i < inline_js.length; i++) {\n",
       "        inline_js[i](window.Bokeh);\n",
       "      }if (force === true) {\n",
       "        display_loaded();\n",
       "      }} else if (Date.now() < window._bokeh_timeout) {\n",
       "      setTimeout(run_inline_js, 100);\n",
       "    } else if (!window._bokeh_failed_load) {\n",
       "      console.log(\"Bokeh: BokehJS failed to load within specified timeout.\");\n",
       "      window._bokeh_failed_load = true;\n",
       "    } else if (force !== true) {\n",
       "      var cell = $(document.getElementById(\"2873aca1-c946-451d-a635-2cb0315a1b34\")).parents('.cell').data().cell;\n",
       "      cell.output_area.append_execute_result(NB_LOAD_WARNING)\n",
       "    }\n",
       "\n",
       "  }\n",
       "\n",
       "  if (window._bokeh_is_loading === 0) {\n",
       "    console.log(\"Bokeh: BokehJS loaded, going straight to plotting\");\n",
       "    run_inline_js();\n",
       "  } else {\n",
       "    load_libs(js_urls, function() {\n",
       "      console.log(\"Bokeh: BokehJS plotting callback run at\", now());\n",
       "      run_inline_js();\n",
       "    });\n",
       "  }\n",
       "}(this));"
      ]
     },
     "metadata": {},
     "output_type": "display_data"
    }
   ],
   "source": [
    "from bokeh.models import ColumnDataSource, LabelSet\n",
    "from bokeh.plotting import figure, show, output_file\n",
    "from bokeh.io import output_notebook\n",
    "output_notebook()"
   ]
  },
  {
   "cell_type": "markdown",
   "metadata": {
    "deletable": true,
    "editable": true
   },
   "source": [
    "### Part 0: Download the TED dataset"
   ]
  },
  {
   "cell_type": "code",
   "execution_count": 77,
   "metadata": {
    "collapsed": false,
    "deletable": true,
    "editable": true
   },
   "outputs": [],
   "source": [
    "import urllib.request\n",
    "import zipfile\n",
    "import lxml.etree"
   ]
  },
  {
   "cell_type": "code",
   "execution_count": 78,
   "metadata": {
    "collapsed": false,
    "deletable": true,
    "editable": true
   },
   "outputs": [],
   "source": [
    "# Download the dataset if it's not already there: this may take a minute as it is 75MB\n",
    "if not os.path.isfile('ted_en-20160408.zip'):\n",
    "    urllib.request.urlretrieve(\"https://wit3.fbk.eu/get.php?path=XML_releases/xml/ted_en-20160408.zip&filename=ted_en-20160408.zip\", filename=\"ted_en-20160408.zip\")"
   ]
  },
  {
   "cell_type": "code",
   "execution_count": 79,
   "metadata": {
    "collapsed": true,
    "deletable": true,
    "editable": true
   },
   "outputs": [],
   "source": [
    "# For now, we're only interested in the subtitle text, so let's extract that from the XML:\n",
    "with zipfile.ZipFile('ted_en-20160408.zip', 'r') as z:\n",
    "    doc = lxml.etree.parse(z.open('ted_en-20160408.xml', 'r'))\n",
    "input_text = '\\n'.join(doc.xpath('//content/text()'))\n",
    "del doc"
   ]
  },
  {
   "cell_type": "markdown",
   "metadata": {
    "deletable": true,
    "editable": true
   },
   "source": [
    "### Part 1: Preprocessing\n",
    "\n",
    "In this part, we attempt to clean up the raw subtitles a bit, so that we get only sentences. The following substring shows examples of what we're trying to get rid of. Since it's hard to define precisely what we want to get rid of, we'll just use some simple heuristics."
   ]
  },
  {
   "cell_type": "code",
   "execution_count": 80,
   "metadata": {
    "collapsed": false,
    "deletable": true,
    "editable": true,
    "scrolled": false
   },
   "outputs": [
    {
     "data": {
      "text/plain": [
       "' baby does.\\n(Video) Hyowon Gweon: See this? (Ball squeaks) Did you see that? (Ball squeaks) Cool. See this one? (Ball squeaks) Wow.\\nLaura Schulz: Told you. (Laughs)\\n(Vide'"
      ]
     },
     "execution_count": 80,
     "metadata": {},
     "output_type": "execute_result"
    }
   ],
   "source": [
    "i = input_text.find(\"Hyowon Gweon: See this?\")\n",
    "input_text[i-20:i+150]"
   ]
  },
  {
   "cell_type": "markdown",
   "metadata": {
    "deletable": true,
    "editable": true
   },
   "source": [
    "Let's start by removing all parenthesized strings using a regex:"
   ]
  },
  {
   "cell_type": "code",
   "execution_count": 81,
   "metadata": {
    "collapsed": true,
    "deletable": true,
    "editable": true
   },
   "outputs": [],
   "source": [
    "input_text_noparens = re.sub(r'\\([^)]*\\)', '', input_text)"
   ]
  },
  {
   "cell_type": "markdown",
   "metadata": {
    "deletable": true,
    "editable": true
   },
   "source": [
    "We can verify the same location in the text is now clean as follows. We won't worry about the irregular spaces since we'll later split the text into sentences and tokenize it anyway."
   ]
  },
  {
   "cell_type": "code",
   "execution_count": 82,
   "metadata": {
    "collapsed": false,
    "deletable": true,
    "editable": true
   },
   "outputs": [
    {
     "data": {
      "text/plain": [
       "\"hat the baby does.\\n Hyowon Gweon: See this?  Did you see that?  Cool. See this one?  Wow.\\nLaura Schulz: Told you. \\n HG: See this one?  Hey Clara, this one's for you. You \""
      ]
     },
     "execution_count": 82,
     "metadata": {},
     "output_type": "execute_result"
    }
   ],
   "source": [
    "i = input_text_noparens.find(\"Hyowon Gweon: See this?\")\n",
    "input_text_noparens[i-20:i+150]"
   ]
  },
  {
   "cell_type": "markdown",
   "metadata": {
    "deletable": true,
    "editable": true
   },
   "source": [
    "Now, let's attempt to remove speakers' names that occur at the beginning of a line, by deleting pieces of the form \"`<up to 20 characters>:`\", as shown in this example. Of course, this is an imperfect heuristic. "
   ]
  },
  {
   "cell_type": "code",
   "execution_count": 83,
   "metadata": {
    "collapsed": false,
    "deletable": true,
    "editable": true
   },
   "outputs": [
    {
     "data": {
      "text/plain": [
       "[\"Here are two reasons companies fail: they only do more of the same, or they only do what's new\",\n",
       " 'To me the real, real solution to quality growth is figuring out the balance between two activities: exploration and exploitation',\n",
       " ' Both are necessary, but it can be too much of a good thing',\n",
       " 'Consider Facit',\n",
       " \" I'm actually old enough to remember them\"]"
      ]
     },
     "execution_count": 83,
     "metadata": {},
     "output_type": "execute_result"
    }
   ],
   "source": [
    "sentences_strings_ted = []\n",
    "for line in input_text_noparens.split('\\n'):\n",
    "    m = re.match(r'^(?:(?P<precolon>[^:]{,20}):)?(?P<postcolon>.*)$', line)\n",
    "    sentences_strings_ted.extend(sent for sent in m.groupdict()['postcolon'].split('.') if sent)\n",
    "\n",
    "# Uncomment if you need to save some RAM: these strings are about 50MB.\n",
    "del input_text, input_text_noparens\n",
    "\n",
    "# Let's view the first few:\n",
    "sentences_strings_ted[:5]"
   ]
  },
  {
   "cell_type": "markdown",
   "metadata": {
    "deletable": true,
    "editable": true
   },
   "source": [
    "Now that we have sentences, we're ready to tokenize each of them into words. This tokenization is imperfect, of course. For instance, how many tokens is \"can't\", and where/how do we split it? We'll take the simplest naive approach of splitting on spaces. Before splitting, we remove non-alphanumeric characters, such as punctuation. You may want to consider the following question: why do we replace these characters with spaces rather than deleting them? Think of a case where this yields a different answer."
   ]
  },
  {
   "cell_type": "code",
   "execution_count": 84,
   "metadata": {
    "collapsed": false,
    "deletable": true,
    "editable": true
   },
   "outputs": [],
   "source": [
    "sentences_ted = []\n",
    "for sent_str in sentences_strings_ted:\n",
    "    tokens = re.sub(r\"[^a-z0-9]+\", \" \", sent_str.lower()).split()\n",
    "    sentences_ted.append(tokens)"
   ]
  },
  {
   "cell_type": "markdown",
   "metadata": {
    "deletable": true,
    "editable": true
   },
   "source": [
    "Two sample processed sentences:"
   ]
  },
  {
   "cell_type": "code",
   "execution_count": 85,
   "metadata": {
    "collapsed": false,
    "deletable": true,
    "editable": true
   },
   "outputs": [
    {
     "data": {
      "text/plain": [
       "266694"
      ]
     },
     "execution_count": 85,
     "metadata": {},
     "output_type": "execute_result"
    }
   ],
   "source": [
    "len(sentences_ted)"
   ]
  },
  {
   "cell_type": "code",
   "execution_count": 86,
   "metadata": {
    "collapsed": false,
    "deletable": true,
    "editable": true
   },
   "outputs": [
    {
     "name": "stdout",
     "output_type": "stream",
     "text": [
      "['here', 'are', 'two', 'reasons', 'companies', 'fail', 'they', 'only', 'do', 'more', 'of', 'the', 'same', 'or', 'they', 'only', 'do', 'what', 's', 'new']\n",
      "['to', 'me', 'the', 'real', 'real', 'solution', 'to', 'quality', 'growth', 'is', 'figuring', 'out', 'the', 'balance', 'between', 'two', 'activities', 'exploration', 'and', 'exploitation']\n"
     ]
    }
   ],
   "source": [
    "print(sentences_ted[0])\n",
    "print(sentences_ted[1])"
   ]
  },
  {
   "cell_type": "markdown",
   "metadata": {
    "deletable": true,
    "editable": true
   },
   "source": [
    "### Part 2: Word Frequencies"
   ]
  },
  {
   "cell_type": "markdown",
   "metadata": {
    "deletable": true,
    "editable": true
   },
   "source": [
    "If you store the counts of the top 1000 words in a list called `counts_ted_top1000`, the code below will plot the histogram requested in the writeup."
   ]
  },
  {
   "cell_type": "code",
   "execution_count": 87,
   "metadata": {
    "collapsed": false,
    "deletable": true,
    "editable": true
   },
   "outputs": [],
   "source": [
    "cnt = Counter()\n",
    "for sentence in sentences_ted:\n",
    "    for word in sentence:\n",
    "        cnt[word] += 1\n",
    "        \n",
    "counts_ted_top1000 = []\n",
    "for common_word in cnt.most_common(1000):\n",
    "    counts_ted_top1000.append(common_word[1])"
   ]
  },
  {
   "cell_type": "markdown",
   "metadata": {
    "deletable": true,
    "editable": true
   },
   "source": [
    "Plot distribution of top-1000 words"
   ]
  },
  {
   "cell_type": "code",
   "execution_count": 88,
   "metadata": {
    "collapsed": false,
    "deletable": true,
    "editable": true
   },
   "outputs": [
    {
     "data": {
      "text/html": [
       "\n",
       "\n",
       "    <div class=\"bk-root\">\n",
       "        <div class=\"bk-plotdiv\" id=\"f7cd3f3d-19f4-4623-bb45-cf38b5107453\"></div>\n",
       "    </div>\n",
       "<script type=\"text/javascript\">\n",
       "  \n",
       "  (function(global) {\n",
       "    function now() {\n",
       "      return new Date();\n",
       "    }\n",
       "  \n",
       "    var force = false;\n",
       "  \n",
       "    if (typeof (window._bokeh_onload_callbacks) === \"undefined\" || force === true) {\n",
       "      window._bokeh_onload_callbacks = [];\n",
       "      window._bokeh_is_loading = undefined;\n",
       "    }\n",
       "  \n",
       "  \n",
       "    \n",
       "    if (typeof (window._bokeh_timeout) === \"undefined\" || force === true) {\n",
       "      window._bokeh_timeout = Date.now() + 0;\n",
       "      window._bokeh_failed_load = false;\n",
       "    }\n",
       "  \n",
       "    var NB_LOAD_WARNING = {'data': {'text/html':\n",
       "       \"<div style='background-color: #fdd'>\\n\"+\n",
       "       \"<p>\\n\"+\n",
       "       \"BokehJS does not appear to have successfully loaded. If loading BokehJS from CDN, this \\n\"+\n",
       "       \"may be due to a slow or bad network connection. Possible fixes:\\n\"+\n",
       "       \"</p>\\n\"+\n",
       "       \"<ul>\\n\"+\n",
       "       \"<li>re-rerun `output_notebook()` to attempt to load from CDN again, or</li>\\n\"+\n",
       "       \"<li>use INLINE resources instead, as so:</li>\\n\"+\n",
       "       \"</ul>\\n\"+\n",
       "       \"<code>\\n\"+\n",
       "       \"from bokeh.resources import INLINE\\n\"+\n",
       "       \"output_notebook(resources=INLINE)\\n\"+\n",
       "       \"</code>\\n\"+\n",
       "       \"</div>\"}};\n",
       "  \n",
       "    function display_loaded() {\n",
       "      if (window.Bokeh !== undefined) {\n",
       "        document.getElementById(\"f7cd3f3d-19f4-4623-bb45-cf38b5107453\").textContent = \"BokehJS successfully loaded.\";\n",
       "      } else if (Date.now() < window._bokeh_timeout) {\n",
       "        setTimeout(display_loaded, 100)\n",
       "      }\n",
       "    }\n",
       "  \n",
       "    function run_callbacks() {\n",
       "      window._bokeh_onload_callbacks.forEach(function(callback) { callback() });\n",
       "      delete window._bokeh_onload_callbacks\n",
       "      console.info(\"Bokeh: all callbacks have finished\");\n",
       "    }\n",
       "  \n",
       "    function load_libs(js_urls, callback) {\n",
       "      window._bokeh_onload_callbacks.push(callback);\n",
       "      if (window._bokeh_is_loading > 0) {\n",
       "        console.log(\"Bokeh: BokehJS is being loaded, scheduling callback at\", now());\n",
       "        return null;\n",
       "      }\n",
       "      if (js_urls == null || js_urls.length === 0) {\n",
       "        run_callbacks();\n",
       "        return null;\n",
       "      }\n",
       "      console.log(\"Bokeh: BokehJS not loaded, scheduling load and callback at\", now());\n",
       "      window._bokeh_is_loading = js_urls.length;\n",
       "      for (var i = 0; i < js_urls.length; i++) {\n",
       "        var url = js_urls[i];\n",
       "        var s = document.createElement('script');\n",
       "        s.src = url;\n",
       "        s.async = false;\n",
       "        s.onreadystatechange = s.onload = function() {\n",
       "          window._bokeh_is_loading--;\n",
       "          if (window._bokeh_is_loading === 0) {\n",
       "            console.log(\"Bokeh: all BokehJS libraries loaded\");\n",
       "            run_callbacks()\n",
       "          }\n",
       "        };\n",
       "        s.onerror = function() {\n",
       "          console.warn(\"failed to load library \" + url);\n",
       "        };\n",
       "        console.log(\"Bokeh: injecting script tag for BokehJS library: \", url);\n",
       "        document.getElementsByTagName(\"head\")[0].appendChild(s);\n",
       "      }\n",
       "    };var element = document.getElementById(\"f7cd3f3d-19f4-4623-bb45-cf38b5107453\");\n",
       "    if (element == null) {\n",
       "      console.log(\"Bokeh: ERROR: autoload.js configured with elementid 'f7cd3f3d-19f4-4623-bb45-cf38b5107453' but no matching script tag was found. \")\n",
       "      return false;\n",
       "    }\n",
       "  \n",
       "    var js_urls = [];\n",
       "  \n",
       "    var inline_js = [\n",
       "      function(Bokeh) {\n",
       "        (function() {\n",
       "          var fn = function() {\n",
       "            var docs_json = {\"11e1d94b-955c-4332-ac29-da4b672b63d8\":{\"roots\":{\"references\":[{\"attributes\":{\"plot\":{\"id\":\"981198c3-4499-4357-915a-7da9c259ee7b\",\"subtype\":\"Figure\",\"type\":\"Plot\"}},\"id\":\"454479f5-19d5-4d3d-9c91-1035c5787c82\",\"type\":\"PanTool\"},{\"attributes\":{},\"id\":\"f0a8ff2b-da12-4eb1-a812-4af6e1b328f4\",\"type\":\"BasicTicker\"},{\"attributes\":{\"plot\":{\"id\":\"981198c3-4499-4357-915a-7da9c259ee7b\",\"subtype\":\"Figure\",\"type\":\"Plot\"}},\"id\":\"be682977-cc66-4731-bbaf-38913da8dd3f\",\"type\":\"ResetTool\"},{\"attributes\":{\"formatter\":{\"id\":\"5a59e2c9-e60b-4bee-9a8d-d42083c18044\",\"type\":\"BasicTickFormatter\"},\"plot\":{\"id\":\"981198c3-4499-4357-915a-7da9c259ee7b\",\"subtype\":\"Figure\",\"type\":\"Plot\"},\"ticker\":{\"id\":\"2c8e516c-a9d0-4b2c-a1f6-eb78935bf9bd\",\"type\":\"BasicTicker\"}},\"id\":\"c75e7886-ebf3-4f7e-93d6-b13cafb82ebd\",\"type\":\"LinearAxis\"},{\"attributes\":{\"formatter\":{\"id\":\"46f76042-d169-48cd-8944-9f10365db4e5\",\"type\":\"BasicTickFormatter\"},\"plot\":{\"id\":\"981198c3-4499-4357-915a-7da9c259ee7b\",\"subtype\":\"Figure\",\"type\":\"Plot\"},\"ticker\":{\"id\":\"f0a8ff2b-da12-4eb1-a812-4af6e1b328f4\",\"type\":\"BasicTicker\"}},\"id\":\"04bfab0f-4c12-4f83-8df9-64e7f81d46a2\",\"type\":\"LinearAxis\"},{\"attributes\":{\"dimension\":1,\"plot\":{\"id\":\"981198c3-4499-4357-915a-7da9c259ee7b\",\"subtype\":\"Figure\",\"type\":\"Plot\"},\"ticker\":{\"id\":\"f0a8ff2b-da12-4eb1-a812-4af6e1b328f4\",\"type\":\"BasicTicker\"}},\"id\":\"3cc21830-23b6-4898-85d0-2f8ca07fd769\",\"type\":\"Grid\"},{\"attributes\":{\"callback\":null},\"id\":\"8ee39cbd-44dd-4e30-81ff-5676faea73f3\",\"type\":\"DataRange1d\"},{\"attributes\":{\"callback\":null,\"column_names\":[\"right\",\"top\",\"left\"],\"data\":{\"left\":{\"__ndarray__\":\"AAAAAABAeUB7FK5H4VqjQHsUrkfhxrFAuB6F61HguUB7FK5H4fzAQJqZmZmZCcVAuB6F61EWyUDXo3A9CiPNQHsUrkfhl9BACtejcD2e0kCamZmZmaTUQClcj8L1qtZAuB6F61Gx2EBI4XoUrrfaQNejcD0KvtxAZ2ZmZmbE3kB7FK5HYWXgQMP1KFyPaOFACtejcL1r4kBSuB6F627jQJqZmZkZcuRA4XoUrkd15UApXI/CdXjmQHE9Cteje+dAuB6F69F+6EAAAAAAAILpQEjhehQuhepAkML1KFyI60DXo3A9iovsQB+F61G4ju1AZ2ZmZuaR7kCuR+F6FJXvQHsUrkchTPBAH4XrUbjN8EDD9ShcT0/xQGdmZmbm0PFACtejcH1S8kCuR+F6FNTyQFK4HoWrVfNA9ihcj0LX80CamZmZ2Vj0QD4K16Nw2vRA4XoUrgdc9UCF61G4nt31QClcj8I1X/ZAzczMzMzg9kBxPQrXY2L3QBWuR+H64/dAuB6F65Fl+EBcj8L1KOf4QAAAAADAaPlApHA9Clfq+UBI4XoU7mv6QOxRuB6F7fpAkML1KBxv+0AzMzMzs/D7QNejcD1KcvxAexSuR+Hz/EAfhetReHX9QMP1KFwP9/1AZ2ZmZqZ4/kAK16NwPfr+QK5H4XrUe/9AUrgehWv9/0B7FK5HgT8AQc3MzMxMgABBH4XrURjBAEFxPQrX4wEBQcP1KFyvQgFBFa5H4XqDAUFnZmZmRsQBQbgehesRBQJBCtejcN1FAkFcj8L1qIYCQa5H4Xp0xwJBAAAAAEAIA0FSuB6FC0kDQaRwPQrXiQNB9ihcj6LKA0FI4XoUbgsEQZqZmZk5TARB7FG4HgWNBEE+Ctej0M0EQZDC9SicDgVB4XoUrmdPBUEzMzMzM5AFQYXrUbj+0AVB16NwPcoRBkEpXI/ClVIGQXsUrkdhkwZBzczMzCzUBkEfhetR+BQHQXE9CtfDVQdBw/UoXI+WB0EVrkfhWtcHQWdmZmYmGAhBuB6F6/FYCEEK16NwvZkIQVyPwvWI2ghBrkfhelQbCUE=\",\"dtype\":\"float64\",\"shape\":[100]},\"right\":{\"__ndarray__\":\"exSuR+Fao0B7FK5H4caxQLgehetR4LlAexSuR+H8wECamZmZmQnFQLgehetRFslA16NwPQojzUB7FK5H4ZfQQArXo3A9ntJAmpmZmZmk1EApXI/C9arWQLgehetRsdhASOF6FK632kDXo3A9Cr7cQGdmZmZmxN5AexSuR2Fl4EDD9Shcj2jhQArXo3C9a+JAUrgehetu40CamZmZGXLkQOF6FK5HdeVAKVyPwnV45kBxPQrXo3vnQLgehevRfuhAAAAAAACC6UBI4XoULoXqQJDC9ShciOtA16NwPYqL7EAfhetRuI7tQGdmZmbmke5ArkfhehSV70B7FK5HIUzwQB+F61G4zfBAw/UoXE9P8UBnZmZm5tDxQArXo3B9UvJArkfhehTU8kBSuB6Fq1XzQPYoXI9C1/NAmpmZmdlY9EA+CtejcNr0QOF6FK4HXPVAhetRuJ7d9UApXI/CNV/2QM3MzMzM4PZAcT0K12Ni90AVrkfh+uP3QLgeheuRZfhAXI/C9Sjn+EAAAAAAwGj5QKRwPQpX6vlASOF6FO5r+kDsUbgehe36QJDC9Sgcb/tAMzMzM7Pw+0DXo3A9SnL8QHsUrkfh8/xAH4XrUXh1/UDD9ShcD/f9QGdmZmameP5ACtejcD36/kCuR+F61Hv/QFK4HoVr/f9AexSuR4E/AEHNzMzMTIAAQR+F61EYwQBBcT0K1+MBAUHD9Shcr0IBQRWuR+F6gwFBZ2ZmZkbEAUG4HoXrEQUCQQrXo3DdRQJBXI/C9aiGAkGuR+F6dMcCQQAAAABACANBUrgehQtJA0GkcD0K14kDQfYoXI+iygNBSOF6FG4LBEGamZmZOUwEQexRuB4FjQRBPgrXo9DNBEGQwvUonA4FQeF6FK5nTwVBMzMzMzOQBUGF61G4/tAFQdejcD3KEQZBKVyPwpVSBkF7FK5HYZMGQc3MzMws1AZBH4XrUfgUB0FxPQrXw1UHQcP1KFyPlgdBFa5H4VrXB0FnZmZmJhgIQbgehevxWAhBCtejcL2ZCEFcj8L1iNoIQa5H4XpUGwlBAAAAACBcCUE=\",\"dtype\":\"float64\",\"shape\":[100]},\"top\":{\"__ndarray__\":\"50H1zNSBOT/ypb1tgHIBPwsriUb5Uew+zuTFiLI04j78kGUPxTHhPh40R25oQNY+zuTFiLI00j4pPQWW1y7APsTbB2FDRsg+JT0FltcuwD4tPQWW1y6wPi09BZbXLrA+JT0FltcuwD4tPQWW1y6gPiU9BZbXLrA+LT0FltcuoD4AAAAAAAAAADU9BZbXLqA+AAAAAAAAAAAAAAAAAAAAAAAAAAAAAAAAAAAAAAAAAAAAAAAAAAAAADU9BZbXLqA+AAAAAAAAAAAAAAAAAAAAAAAAAAAAAAAANT0FltcuoD4AAAAAAAAAAAAAAAAAAAAANT0FltcuoD4AAAAAAAAAACU9BZbXLqA+AAAAAAAAAAAlPQWW1y6gPkU9BZbXLqA+AAAAAAAAAAAlPQWW1y6gPgAAAAAAAAAAJT0FltcuoD4AAAAAAAAAAAAAAAAAAAAAAAAAAAAAAAAAAAAAAAAAAAAAAAAAAAAAJT0FltcuoD4AAAAAAAAAAAAAAAAAAAAAAAAAAAAAAAAAAAAAAAAAACU9BZbXLqA+AAAAAAAAAAAAAAAAAAAAAAAAAAAAAAAAAAAAAAAAAAAlPQWW1y6gPgAAAAAAAAAAAAAAAAAAAAAAAAAAAAAAAAAAAAAAAAAART0FltcuoD4AAAAAAAAAAAAAAAAAAAAAAAAAAAAAAAAAAAAAAAAAAAAAAAAAAAAAAAAAAAAAAAAAAAAAAAAAAAAAAAAAAAAAAAAAAAAAAAAAAAAAAAAAACU9BZbXLqA+AAAAAAAAAAAAAAAAAAAAAAAAAAAAAAAAAAAAAAAAAAAAAAAAAAAAAAAAAAAAAAAAAAAAAAAAAAAAAAAAAAAAAAAAAAAAAAAAAAAAAAAAAAAAAAAAAAAAAAAAAAAAAAAAAAAAAAAAAAAAAAAAAAAAAAAAAAAAAAAAAAAAAAAAAAAAAAAAAAAAAAAAAAAAAAAAAAAAAAAAAAAAAAAAAAAAAAAAAAAAAAAAAAAAAAAAAAAAAAAAAAAAAAAAAAAAAAAAAAAAAAAAAAAAAAAAAAAAAAAAAAAAAAAAJT0FltcuoD4=\",\"dtype\":\"float64\",\"shape\":[100]}}},\"id\":\"f8054397-e5e5-4741-8d32-dbdd70840716\",\"type\":\"ColumnDataSource\"},{\"attributes\":{},\"id\":\"5a59e2c9-e60b-4bee-9a8d-d42083c18044\",\"type\":\"BasicTickFormatter\"},{\"attributes\":{\"bottom\":{\"value\":0},\"fill_alpha\":{\"value\":0.1},\"fill_color\":{\"value\":\"#1f77b4\"},\"left\":{\"field\":\"left\"},\"line_alpha\":{\"value\":0.1},\"line_color\":{\"value\":\"#1f77b4\"},\"right\":{\"field\":\"right\"},\"top\":{\"field\":\"top\"}},\"id\":\"f2f5789a-da00-4b0a-a818-a527acf43024\",\"type\":\"Quad\"},{\"attributes\":{\"plot\":{\"id\":\"981198c3-4499-4357-915a-7da9c259ee7b\",\"subtype\":\"Figure\",\"type\":\"Plot\"},\"ticker\":{\"id\":\"2c8e516c-a9d0-4b2c-a1f6-eb78935bf9bd\",\"type\":\"BasicTicker\"}},\"id\":\"2e38a9b8-20c8-44e8-91e8-4857dbce613f\",\"type\":\"Grid\"},{\"attributes\":{\"bottom\":{\"value\":0},\"fill_color\":{\"value\":\"#1f77b4\"},\"left\":{\"field\":\"left\"},\"line_color\":{\"value\":\"#555555\"},\"right\":{\"field\":\"right\"},\"top\":{\"field\":\"top\"}},\"id\":\"e06282e0-74af-4f3f-b6be-cbb96cf117ae\",\"type\":\"Quad\"},{\"attributes\":{\"callback\":null},\"id\":\"978a6e03-de37-4cde-89e0-1bfb74e4ac53\",\"type\":\"DataRange1d\"},{\"attributes\":{\"below\":[{\"id\":\"c75e7886-ebf3-4f7e-93d6-b13cafb82ebd\",\"type\":\"LinearAxis\"}],\"left\":[{\"id\":\"04bfab0f-4c12-4f83-8df9-64e7f81d46a2\",\"type\":\"LinearAxis\"}],\"renderers\":[{\"id\":\"c75e7886-ebf3-4f7e-93d6-b13cafb82ebd\",\"type\":\"LinearAxis\"},{\"id\":\"2e38a9b8-20c8-44e8-91e8-4857dbce613f\",\"type\":\"Grid\"},{\"id\":\"04bfab0f-4c12-4f83-8df9-64e7f81d46a2\",\"type\":\"LinearAxis\"},{\"id\":\"3cc21830-23b6-4898-85d0-2f8ca07fd769\",\"type\":\"Grid\"},{\"id\":\"2c3466cc-22dd-4668-9484-8699c623013d\",\"type\":\"GlyphRenderer\"}],\"title\":{\"id\":\"a30255c0-fd50-4b80-85d5-b0ebd57675b4\",\"type\":\"Title\"},\"tool_events\":{\"id\":\"8b4604a6-94d3-46e8-853b-8c0e1792d1e6\",\"type\":\"ToolEvents\"},\"toolbar\":{\"id\":\"7bcc031d-9c3d-4aa9-be9f-860731fd13a5\",\"type\":\"Toolbar\"},\"toolbar_location\":\"above\",\"x_range\":{\"id\":\"8ee39cbd-44dd-4e30-81ff-5676faea73f3\",\"type\":\"DataRange1d\"},\"y_range\":{\"id\":\"978a6e03-de37-4cde-89e0-1bfb74e4ac53\",\"type\":\"DataRange1d\"}},\"id\":\"981198c3-4499-4357-915a-7da9c259ee7b\",\"subtype\":\"Figure\",\"type\":\"Plot\"},{\"attributes\":{\"plot\":{\"id\":\"981198c3-4499-4357-915a-7da9c259ee7b\",\"subtype\":\"Figure\",\"type\":\"Plot\"}},\"id\":\"98a90b91-3ac7-45df-8d0c-e85d82801fdc\",\"type\":\"WheelZoomTool\"},{\"attributes\":{},\"id\":\"46f76042-d169-48cd-8944-9f10365db4e5\",\"type\":\"BasicTickFormatter\"},{\"attributes\":{},\"id\":\"8b4604a6-94d3-46e8-853b-8c0e1792d1e6\",\"type\":\"ToolEvents\"},{\"attributes\":{\"plot\":{\"id\":\"981198c3-4499-4357-915a-7da9c259ee7b\",\"subtype\":\"Figure\",\"type\":\"Plot\"}},\"id\":\"75165381-99f4-4df4-8225-c6ae1b86bce6\",\"type\":\"SaveTool\"},{\"attributes\":{\"plot\":null,\"text\":\"Top-1000 words distribution\"},\"id\":\"a30255c0-fd50-4b80-85d5-b0ebd57675b4\",\"type\":\"Title\"},{\"attributes\":{\"data_source\":{\"id\":\"f8054397-e5e5-4741-8d32-dbdd70840716\",\"type\":\"ColumnDataSource\"},\"glyph\":{\"id\":\"e06282e0-74af-4f3f-b6be-cbb96cf117ae\",\"type\":\"Quad\"},\"hover_glyph\":null,\"nonselection_glyph\":{\"id\":\"f2f5789a-da00-4b0a-a818-a527acf43024\",\"type\":\"Quad\"},\"selection_glyph\":null},\"id\":\"2c3466cc-22dd-4668-9484-8699c623013d\",\"type\":\"GlyphRenderer\"},{\"attributes\":{},\"id\":\"2c8e516c-a9d0-4b2c-a1f6-eb78935bf9bd\",\"type\":\"BasicTicker\"},{\"attributes\":{\"active_drag\":\"auto\",\"active_scroll\":\"auto\",\"active_tap\":\"auto\",\"tools\":[{\"id\":\"454479f5-19d5-4d3d-9c91-1035c5787c82\",\"type\":\"PanTool\"},{\"id\":\"98a90b91-3ac7-45df-8d0c-e85d82801fdc\",\"type\":\"WheelZoomTool\"},{\"id\":\"be682977-cc66-4731-bbaf-38913da8dd3f\",\"type\":\"ResetTool\"},{\"id\":\"75165381-99f4-4df4-8225-c6ae1b86bce6\",\"type\":\"SaveTool\"}]},\"id\":\"7bcc031d-9c3d-4aa9-be9f-860731fd13a5\",\"type\":\"Toolbar\"}],\"root_ids\":[\"981198c3-4499-4357-915a-7da9c259ee7b\"]},\"title\":\"Bokeh Application\",\"version\":\"0.12.4\"}};\n",
       "            var render_items = [{\"docid\":\"11e1d94b-955c-4332-ac29-da4b672b63d8\",\"elementid\":\"f7cd3f3d-19f4-4623-bb45-cf38b5107453\",\"modelid\":\"981198c3-4499-4357-915a-7da9c259ee7b\"}];\n",
       "            \n",
       "            Bokeh.embed.embed_items(docs_json, render_items);\n",
       "          };\n",
       "          if (document.readyState != \"loading\") fn();\n",
       "          else document.addEventListener(\"DOMContentLoaded\", fn);\n",
       "        })();\n",
       "      },\n",
       "      function(Bokeh) {\n",
       "      }\n",
       "    ];\n",
       "  \n",
       "    function run_inline_js() {\n",
       "      \n",
       "      if ((window.Bokeh !== undefined) || (force === true)) {\n",
       "        for (var i = 0; i < inline_js.length; i++) {\n",
       "          inline_js[i](window.Bokeh);\n",
       "        }if (force === true) {\n",
       "          display_loaded();\n",
       "        }} else if (Date.now() < window._bokeh_timeout) {\n",
       "        setTimeout(run_inline_js, 100);\n",
       "      } else if (!window._bokeh_failed_load) {\n",
       "        console.log(\"Bokeh: BokehJS failed to load within specified timeout.\");\n",
       "        window._bokeh_failed_load = true;\n",
       "      } else if (force !== true) {\n",
       "        var cell = $(document.getElementById(\"f7cd3f3d-19f4-4623-bb45-cf38b5107453\")).parents('.cell').data().cell;\n",
       "        cell.output_area.append_execute_result(NB_LOAD_WARNING)\n",
       "      }\n",
       "  \n",
       "    }\n",
       "  \n",
       "    if (window._bokeh_is_loading === 0) {\n",
       "      console.log(\"Bokeh: BokehJS loaded, going straight to plotting\");\n",
       "      run_inline_js();\n",
       "    } else {\n",
       "      load_libs(js_urls, function() {\n",
       "        console.log(\"Bokeh: BokehJS plotting callback run at\", now());\n",
       "        run_inline_js();\n",
       "      });\n",
       "    }\n",
       "  }(this));\n",
       "</script>"
      ]
     },
     "metadata": {},
     "output_type": "display_data"
    }
   ],
   "source": [
    "hist, edges = np.histogram(counts_ted_top1000, density=True, bins=100, normed=True)\n",
    "\n",
    "p = figure(tools=\"pan,wheel_zoom,reset,save\",\n",
    "           toolbar_location=\"above\",\n",
    "           title=\"Top-1000 words distribution\")\n",
    "p.quad(top=hist, bottom=0, left=edges[:-1], right=edges[1:], line_color=\"#555555\")\n",
    "show(p)"
   ]
  },
  {
   "cell_type": "markdown",
   "metadata": {
    "deletable": true,
    "editable": true
   },
   "source": [
    "### Part 3: Train Word2Vec"
   ]
  },
  {
   "cell_type": "code",
   "execution_count": 89,
   "metadata": {
    "collapsed": true,
    "deletable": true,
    "editable": true
   },
   "outputs": [],
   "source": [
    "model_ted = Word2Vec(sentences_ted, min_count=10)"
   ]
  },
  {
   "cell_type": "markdown",
   "metadata": {
    "deletable": true,
    "editable": true
   },
   "source": [
    "### Part 4: Ted Learnt Representations"
   ]
  },
  {
   "cell_type": "markdown",
   "metadata": {
    "deletable": true,
    "editable": true
   },
   "source": [
    "Finding similar words: (see gensim docs for more functionality of `most_similar`)"
   ]
  },
  {
   "cell_type": "code",
   "execution_count": 90,
   "metadata": {
    "collapsed": false,
    "deletable": true,
    "editable": true
   },
   "outputs": [
    {
     "data": {
      "text/plain": [
       "[('woman', 0.8327457904815674),\n",
       " ('guy', 0.8038840293884277),\n",
       " ('boy', 0.7492162585258484),\n",
       " ('lady', 0.7428460717201233),\n",
       " ('girl', 0.7419350743293762),\n",
       " ('soldier', 0.7121762037277222),\n",
       " ('gentleman', 0.7038803100585938),\n",
       " ('kid', 0.690717339515686),\n",
       " ('poet', 0.6856828927993774),\n",
       " ('rabbi', 0.6648629903793335)]"
      ]
     },
     "execution_count": 90,
     "metadata": {},
     "output_type": "execute_result"
    }
   ],
   "source": [
    "model_ted.most_similar(\"man\")"
   ]
  },
  {
   "cell_type": "code",
   "execution_count": 96,
   "metadata": {
    "collapsed": false,
    "deletable": true,
    "editable": true
   },
   "outputs": [
    {
     "data": {
      "text/plain": [
       "[('girl', 0.8389654755592346),\n",
       " ('man', 0.8327457904815674),\n",
       " ('boy', 0.8142095804214478),\n",
       " ('lady', 0.7715435028076172),\n",
       " ('child', 0.7595261335372925),\n",
       " ('soldier', 0.748707115650177),\n",
       " ('kid', 0.7337332367897034),\n",
       " ('gentleman', 0.7168759107589722),\n",
       " ('guy', 0.7017260789871216),\n",
       " ('poet', 0.6941766738891602)]"
      ]
     },
     "execution_count": 96,
     "metadata": {},
     "output_type": "execute_result"
    }
   ],
   "source": [
    "model_ted.most_similar(\"woman\")"
   ]
  },
  {
   "cell_type": "code",
   "execution_count": 97,
   "metadata": {
    "collapsed": false,
    "deletable": true,
    "editable": true
   },
   "outputs": [
    {
     "data": {
      "text/plain": [
       "[('legacy', 0.681867241859436),\n",
       " ('son', 0.6359061598777771),\n",
       " ('client', 0.6248802542686462),\n",
       " ('hero', 0.6058573722839355),\n",
       " ('career', 0.6047384142875671),\n",
       " ('daughter', 0.6018286347389221),\n",
       " ('faith', 0.5973504781723022),\n",
       " ('family', 0.5964661240577698),\n",
       " ('goal', 0.5922276973724365),\n",
       " ('partner', 0.5919524431228638)]"
      ]
     },
     "execution_count": 97,
     "metadata": {},
     "output_type": "execute_result"
    }
   ],
   "source": [
    "model_ted.most_similar(\"dream\")"
   ]
  },
  {
   "cell_type": "code",
   "execution_count": 109,
   "metadata": {
    "collapsed": false,
    "deletable": true,
    "editable": true
   },
   "outputs": [
    {
     "data": {
      "text/plain": [
       "[('equality', 0.6449852585792542),\n",
       " ('status', 0.6320967078208923),\n",
       " ('attorney', 0.6296111345291138),\n",
       " ('condition', 0.6133536696434021),\n",
       " ('religion', 0.609982430934906),\n",
       " ('instinct', 0.6051177382469177),\n",
       " ('diagnosis', 0.6047748327255249),\n",
       " ('opinion', 0.6020995378494263),\n",
       " ('faith', 0.5978935360908508),\n",
       " ('torture', 0.5932691097259521)]"
      ]
     },
     "execution_count": 109,
     "metadata": {},
     "output_type": "execute_result"
    }
   ],
   "source": [
    "model_ted.most_similar(\"marriage\")"
   ]
  },
  {
   "cell_type": "code",
   "execution_count": 111,
   "metadata": {
    "collapsed": false,
    "deletable": true,
    "editable": true
   },
   "outputs": [
    {
     "data": {
      "text/plain": [
       "[('knowledge', 0.7105307579040527),\n",
       " ('design', 0.7031307220458984),\n",
       " ('biology', 0.7024695873260498),\n",
       " ('content', 0.6812153458595276),\n",
       " ('tool', 0.6803750991821289),\n",
       " ('technologies', 0.6777361035346985),\n",
       " ('digital', 0.6713321208953857),\n",
       " ('method', 0.6664557456970215),\n",
       " ('process', 0.6631579399108887),\n",
       " ('innovation', 0.657585620880127)]"
      ]
     },
     "execution_count": 111,
     "metadata": {},
     "output_type": "execute_result"
    }
   ],
   "source": [
    "model_ted.most_similar(\"technology\")"
   ]
  },
  {
   "cell_type": "code",
   "execution_count": 112,
   "metadata": {
    "collapsed": false,
    "deletable": true,
    "editable": true
   },
   "outputs": [
    {
     "data": {
      "text/plain": [
       "[('communications', 0.7452797889709473),\n",
       " ('educational', 0.7452716827392578),\n",
       " ('enterprise', 0.7433018088340759),\n",
       " ('ecology', 0.7381998300552368),\n",
       " ('journalism', 0.7338690757751465),\n",
       " ('engineering', 0.7319249510765076),\n",
       " ('sciences', 0.7281091809272766),\n",
       " ('computing', 0.7280259728431702),\n",
       " ('humanities', 0.7270147800445557),\n",
       " ('robotics', 0.7255637645721436)]"
      ]
     },
     "execution_count": 112,
     "metadata": {},
     "output_type": "execute_result"
    }
   ],
   "source": [
    "model_ted.most_similar(\"entertainment\")"
   ]
  },
  {
   "cell_type": "code",
   "execution_count": 113,
   "metadata": {
    "collapsed": false,
    "deletable": true,
    "editable": true
   },
   "outputs": [
    {
     "data": {
      "text/plain": [
       "[('technology', 0.7031307220458984),\n",
       " ('biology', 0.6955777406692505),\n",
       " ('science', 0.6780058145523071),\n",
       " ('mathematics', 0.6582353115081787),\n",
       " ('engineering', 0.6562415957450867),\n",
       " ('mathematical', 0.6546720266342163),\n",
       " ('tool', 0.6542975902557373),\n",
       " ('model', 0.648714542388916),\n",
       " ('art', 0.6454150676727295),\n",
       " ('architecture', 0.6380443572998047)]"
      ]
     },
     "execution_count": 113,
     "metadata": {},
     "output_type": "execute_result"
    }
   ],
   "source": [
    "model_ted.most_similar(\"design\")"
   ]
  },
  {
   "cell_type": "code",
   "execution_count": 105,
   "metadata": {
    "collapsed": false,
    "deletable": true,
    "editable": true
   },
   "outputs": [
    {
     "name": "stdout",
     "output_type": "stream",
     "text": [
      "[('james', 0.9280941486358643), ('queen', 0.9276872277259827), ('president', 0.9250240325927734)]\n",
      "[('thoughts', 0.904100239276886), ('hands', 0.8828719258308411), ('pocket', 0.8704074621200562)]\n",
      "[('happiness', 0.649143636226654), ('humanity', 0.6329495906829834), ('experience', 0.6264689564704895)]\n",
      "[('vietnam', 0.7212347984313965), ('congo', 0.7053382396697998), ('syria', 0.7051510810852051)]\n"
     ]
    }
   ],
   "source": [
    "print(model_ted.most_similar_cosmul(positive=['woman', 'king'], negative=['man'])[:3])\n",
    "print(model_ted.most_similar_cosmul(positive=['computer', 'mind'], negative=['machine'])[:3])\n",
    "print(model_ted.most_similar_cosmul(positive=['life','meaning'])[:3])\n",
    "print(model_ted.most_similar_cosmul(positive=['war', 'usa'])[:3])"
   ]
  },
  {
   "cell_type": "markdown",
   "metadata": {
    "deletable": true,
    "editable": true
   },
   "source": [
    "#### t-SNE visualization\n",
    "To use the t-SNE code below, first put a list of the top 1000 words (as strings) into a variable `words_top_ted`. The following code gets the corresponding vectors from the model, assuming it's called `model_ted`:"
   ]
  },
  {
   "cell_type": "code",
   "execution_count": 93,
   "metadata": {
    "collapsed": false,
    "deletable": true,
    "editable": true
   },
   "outputs": [],
   "source": [
    "words_top_ted = []\n",
    "for common_word in cnt.most_common(1000):\n",
    "    words_top_ted.append(common_word[0])\n",
    "\n",
    "# This assumes words_top_ted is a list of strings, the top 1000 words\n",
    "words_top_vec_ted = model_ted[words_top_ted]"
   ]
  },
  {
   "cell_type": "code",
   "execution_count": 94,
   "metadata": {
    "collapsed": false,
    "deletable": true,
    "editable": true
   },
   "outputs": [],
   "source": [
    "tsne = TSNE(n_components=2, random_state=0)\n",
    "words_top_ted_tsne = tsne.fit_transform(words_top_vec_ted)"
   ]
  },
  {
   "cell_type": "code",
   "execution_count": 95,
   "metadata": {
    "collapsed": false,
    "deletable": true,
    "editable": true
   },
   "outputs": [
    {
     "data": {
      "text/html": [
       "\n",
       "\n",
       "    <div class=\"bk-root\">\n",
       "        <div class=\"bk-plotdiv\" id=\"88090f82-696f-47b3-a14b-cc5b74dfd8a0\"></div>\n",
       "    </div>\n",
       "<script type=\"text/javascript\">\n",
       "  \n",
       "  (function(global) {\n",
       "    function now() {\n",
       "      return new Date();\n",
       "    }\n",
       "  \n",
       "    var force = false;\n",
       "  \n",
       "    if (typeof (window._bokeh_onload_callbacks) === \"undefined\" || force === true) {\n",
       "      window._bokeh_onload_callbacks = [];\n",
       "      window._bokeh_is_loading = undefined;\n",
       "    }\n",
       "  \n",
       "  \n",
       "    \n",
       "    if (typeof (window._bokeh_timeout) === \"undefined\" || force === true) {\n",
       "      window._bokeh_timeout = Date.now() + 0;\n",
       "      window._bokeh_failed_load = false;\n",
       "    }\n",
       "  \n",
       "    var NB_LOAD_WARNING = {'data': {'text/html':\n",
       "       \"<div style='background-color: #fdd'>\\n\"+\n",
       "       \"<p>\\n\"+\n",
       "       \"BokehJS does not appear to have successfully loaded. If loading BokehJS from CDN, this \\n\"+\n",
       "       \"may be due to a slow or bad network connection. Possible fixes:\\n\"+\n",
       "       \"</p>\\n\"+\n",
       "       \"<ul>\\n\"+\n",
       "       \"<li>re-rerun `output_notebook()` to attempt to load from CDN again, or</li>\\n\"+\n",
       "       \"<li>use INLINE resources instead, as so:</li>\\n\"+\n",
       "       \"</ul>\\n\"+\n",
       "       \"<code>\\n\"+\n",
       "       \"from bokeh.resources import INLINE\\n\"+\n",
       "       \"output_notebook(resources=INLINE)\\n\"+\n",
       "       \"</code>\\n\"+\n",
       "       \"</div>\"}};\n",
       "  \n",
       "    function display_loaded() {\n",
       "      if (window.Bokeh !== undefined) {\n",
       "        document.getElementById(\"88090f82-696f-47b3-a14b-cc5b74dfd8a0\").textContent = \"BokehJS successfully loaded.\";\n",
       "      } else if (Date.now() < window._bokeh_timeout) {\n",
       "        setTimeout(display_loaded, 100)\n",
       "      }\n",
       "    }\n",
       "  \n",
       "    function run_callbacks() {\n",
       "      window._bokeh_onload_callbacks.forEach(function(callback) { callback() });\n",
       "      delete window._bokeh_onload_callbacks\n",
       "      console.info(\"Bokeh: all callbacks have finished\");\n",
       "    }\n",
       "  \n",
       "    function load_libs(js_urls, callback) {\n",
       "      window._bokeh_onload_callbacks.push(callback);\n",
       "      if (window._bokeh_is_loading > 0) {\n",
       "        console.log(\"Bokeh: BokehJS is being loaded, scheduling callback at\", now());\n",
       "        return null;\n",
       "      }\n",
       "      if (js_urls == null || js_urls.length === 0) {\n",
       "        run_callbacks();\n",
       "        return null;\n",
       "      }\n",
       "      console.log(\"Bokeh: BokehJS not loaded, scheduling load and callback at\", now());\n",
       "      window._bokeh_is_loading = js_urls.length;\n",
       "      for (var i = 0; i < js_urls.length; i++) {\n",
       "        var url = js_urls[i];\n",
       "        var s = document.createElement('script');\n",
       "        s.src = url;\n",
       "        s.async = false;\n",
       "        s.onreadystatechange = s.onload = function() {\n",
       "          window._bokeh_is_loading--;\n",
       "          if (window._bokeh_is_loading === 0) {\n",
       "            console.log(\"Bokeh: all BokehJS libraries loaded\");\n",
       "            run_callbacks()\n",
       "          }\n",
       "        };\n",
       "        s.onerror = function() {\n",
       "          console.warn(\"failed to load library \" + url);\n",
       "        };\n",
       "        console.log(\"Bokeh: injecting script tag for BokehJS library: \", url);\n",
       "        document.getElementsByTagName(\"head\")[0].appendChild(s);\n",
       "      }\n",
       "    };var element = document.getElementById(\"88090f82-696f-47b3-a14b-cc5b74dfd8a0\");\n",
       "    if (element == null) {\n",
       "      console.log(\"Bokeh: ERROR: autoload.js configured with elementid '88090f82-696f-47b3-a14b-cc5b74dfd8a0' but no matching script tag was found. \")\n",
       "      return false;\n",
       "    }\n",
       "  \n",
       "    var js_urls = [];\n",
       "  \n",
       "    var inline_js = [\n",
       "      function(Bokeh) {\n",
       "        (function() {\n",
       "          var fn = function() {\n",
       "            var docs_json = {\"d38ab028-59c3-4cc1-a44d-4d8b853b0fb1\":{\"roots\":{\"references\":[{\"attributes\":{\"plot\":{\"id\":\"86f92ed9-b98a-41aa-9260-fb1cdd4c32f9\",\"subtype\":\"Figure\",\"type\":\"Plot\"}},\"id\":\"88a59f2d-924a-4d03-9f6b-a529315b2f4c\",\"type\":\"PanTool\"},{\"attributes\":{},\"id\":\"0a17733a-19fc-4791-888d-690c1576dc03\",\"type\":\"BasicTicker\"},{\"attributes\":{\"fill_alpha\":{\"value\":0.1},\"fill_color\":{\"value\":\"#1f77b4\"},\"line_alpha\":{\"value\":0.1},\"line_color\":{\"value\":\"#1f77b4\"},\"size\":{\"units\":\"screen\",\"value\":8},\"x\":{\"field\":\"x1\"},\"y\":{\"field\":\"x2\"}},\"id\":\"815e798d-8941-449e-9e50-bc2ea1b41fb4\",\"type\":\"Circle\"},{\"attributes\":{\"plot\":null,\"text\":\"word2vec T-SNE for most common words\"},\"id\":\"ccd04ec1-878d-4395-8b7a-e99eafd5bcfa\",\"type\":\"Title\"},{\"attributes\":{\"dimension\":1,\"plot\":{\"id\":\"86f92ed9-b98a-41aa-9260-fb1cdd4c32f9\",\"subtype\":\"Figure\",\"type\":\"Plot\"},\"ticker\":{\"id\":\"0a17733a-19fc-4791-888d-690c1576dc03\",\"type\":\"BasicTicker\"}},\"id\":\"3c26d49d-0ef8-44e3-995a-198dd211c173\",\"type\":\"Grid\"},{\"attributes\":{},\"id\":\"509a8f79-b84b-4f33-9c48-773e3ea9f235\",\"type\":\"BasicTickFormatter\"},{\"attributes\":{\"formatter\":{\"id\":\"509a8f79-b84b-4f33-9c48-773e3ea9f235\",\"type\":\"BasicTickFormatter\"},\"plot\":{\"id\":\"86f92ed9-b98a-41aa-9260-fb1cdd4c32f9\",\"subtype\":\"Figure\",\"type\":\"Plot\"},\"ticker\":{\"id\":\"0a17733a-19fc-4791-888d-690c1576dc03\",\"type\":\"BasicTicker\"}},\"id\":\"72c8719b-1f44-42eb-8e0a-d1b809191c4a\",\"type\":\"LinearAxis\"},{\"attributes\":{},\"id\":\"1293afe6-4f6a-4fb9-9c40-c13c0e4c1bd8\",\"type\":\"ToolEvents\"},{\"attributes\":{\"active_drag\":\"auto\",\"active_scroll\":\"auto\",\"active_tap\":\"auto\",\"tools\":[{\"id\":\"88a59f2d-924a-4d03-9f6b-a529315b2f4c\",\"type\":\"PanTool\"},{\"id\":\"60b680a1-9d80-45ac-a887-d548da5da5c1\",\"type\":\"WheelZoomTool\"},{\"id\":\"e207ac15-2453-44aa-8256-82c185a3e25c\",\"type\":\"ResetTool\"},{\"id\":\"375551fb-63ad-474e-9a24-0a6f2e705598\",\"type\":\"SaveTool\"}]},\"id\":\"f8848954-e6b9-4950-9f04-531f21a2202b\",\"type\":\"Toolbar\"},{\"attributes\":{\"data_source\":{\"id\":\"de715a96-3340-4a12-ac51-a10089e7ed6c\",\"type\":\"ColumnDataSource\"},\"glyph\":{\"id\":\"1ed7b4ac-9a8b-4632-8386-c8938735a171\",\"type\":\"Circle\"},\"hover_glyph\":null,\"nonselection_glyph\":{\"id\":\"815e798d-8941-449e-9e50-bc2ea1b41fb4\",\"type\":\"Circle\"},\"selection_glyph\":null},\"id\":\"b2271062-3331-4e00-af0c-73d28fd245c8\",\"type\":\"GlyphRenderer\"},{\"attributes\":{\"below\":[{\"id\":\"a955d6d1-49ab-4832-8510-505f4bf6a37b\",\"type\":\"LinearAxis\"}],\"left\":[{\"id\":\"72c8719b-1f44-42eb-8e0a-d1b809191c4a\",\"type\":\"LinearAxis\"}],\"renderers\":[{\"id\":\"a955d6d1-49ab-4832-8510-505f4bf6a37b\",\"type\":\"LinearAxis\"},{\"id\":\"cf1f726d-f5d2-4641-94f9-c6d57a0b6f7e\",\"type\":\"Grid\"},{\"id\":\"72c8719b-1f44-42eb-8e0a-d1b809191c4a\",\"type\":\"LinearAxis\"},{\"id\":\"3c26d49d-0ef8-44e3-995a-198dd211c173\",\"type\":\"Grid\"},{\"id\":\"b2271062-3331-4e00-af0c-73d28fd245c8\",\"type\":\"GlyphRenderer\"},{\"id\":\"e7db24a7-89b1-4e4d-9d8f-74c76321d589\",\"type\":\"LabelSet\"}],\"title\":{\"id\":\"ccd04ec1-878d-4395-8b7a-e99eafd5bcfa\",\"type\":\"Title\"},\"tool_events\":{\"id\":\"1293afe6-4f6a-4fb9-9c40-c13c0e4c1bd8\",\"type\":\"ToolEvents\"},\"toolbar\":{\"id\":\"f8848954-e6b9-4950-9f04-531f21a2202b\",\"type\":\"Toolbar\"},\"toolbar_location\":\"above\",\"x_range\":{\"id\":\"cb013af6-ee0b-4aa5-b40d-cbd5c1fed57e\",\"type\":\"DataRange1d\"},\"y_range\":{\"id\":\"bcdff2e3-231b-4468-bb02-108fda59acf8\",\"type\":\"DataRange1d\"}},\"id\":\"86f92ed9-b98a-41aa-9260-fb1cdd4c32f9\",\"subtype\":\"Figure\",\"type\":\"Plot\"},{\"attributes\":{\"plot\":{\"id\":\"86f92ed9-b98a-41aa-9260-fb1cdd4c32f9\",\"subtype\":\"Figure\",\"type\":\"Plot\"},\"source\":{\"id\":\"de715a96-3340-4a12-ac51-a10089e7ed6c\",\"type\":\"ColumnDataSource\"},\"text\":{\"field\":\"names\"},\"text_align\":\"center\",\"text_color\":{\"value\":\"#555555\"},\"text_font_size\":{\"value\":\"8pt\"},\"x\":{\"field\":\"x1\"},\"y\":{\"field\":\"x2\"},\"y_offset\":{\"value\":6}},\"id\":\"e7db24a7-89b1-4e4d-9d8f-74c76321d589\",\"type\":\"LabelSet\"},{\"attributes\":{\"plot\":{\"id\":\"86f92ed9-b98a-41aa-9260-fb1cdd4c32f9\",\"subtype\":\"Figure\",\"type\":\"Plot\"},\"ticker\":{\"id\":\"76353792-cab0-469b-8467-d99edaedbad3\",\"type\":\"BasicTicker\"}},\"id\":\"cf1f726d-f5d2-4641-94f9-c6d57a0b6f7e\",\"type\":\"Grid\"},{\"attributes\":{\"callback\":null},\"id\":\"bcdff2e3-231b-4468-bb02-108fda59acf8\",\"type\":\"DataRange1d\"},{\"attributes\":{},\"id\":\"7d12e271-e5e4-48a5-b3a5-8ef0cbe20721\",\"type\":\"BasicTickFormatter\"},{\"attributes\":{\"callback\":null},\"id\":\"cb013af6-ee0b-4aa5-b40d-cbd5c1fed57e\",\"type\":\"DataRange1d\"},{\"attributes\":{\"plot\":{\"id\":\"86f92ed9-b98a-41aa-9260-fb1cdd4c32f9\",\"subtype\":\"Figure\",\"type\":\"Plot\"}},\"id\":\"e207ac15-2453-44aa-8256-82c185a3e25c\",\"type\":\"ResetTool\"},{\"attributes\":{\"callback\":null,\"column_names\":[\"names\",\"x2\",\"x1\"],\"data\":{\"names\":[\"the\",\"and\",\"to\",\"of\",\"a\",\"that\",\"i\",\"in\",\"it\",\"you\",\"we\",\"is\",\"s\",\"this\",\"so\",\"they\",\"was\",\"for\",\"are\",\"have\",\"but\",\"what\",\"on\",\"with\",\"can\",\"t\",\"about\",\"there\",\"be\",\"as\",\"at\",\"all\",\"not\",\"do\",\"my\",\"one\",\"re\",\"people\",\"like\",\"if\",\"from\",\"now\",\"our\",\"he\",\"an\",\"just\",\"these\",\"or\",\"when\",\"because\",\"very\",\"me\",\"out\",\"by\",\"them\",\"how\",\"know\",\"up\",\"going\",\"had\",\"more\",\"think\",\"who\",\"were\",\"see\",\"your\",\"their\",\"which\",\"would\",\"here\",\"really\",\"get\",\"ve\",\"then\",\"m\",\"world\",\"us\",\"time\",\"some\",\"has\",\"don\",\"actually\",\"into\",\"way\",\"where\",\"will\",\"years\",\"things\",\"other\",\"no\",\"could\",\"go\",\"well\",\"want\",\"been\",\"make\",\"right\",\"she\",\"said\",\"something\",\"those\",\"first\",\"two\",\"than\",\"much\",\"also\",\"look\",\"new\",\"thing\",\"little\",\"got\",\"back\",\"over\",\"most\",\"say\",\"even\",\"his\",\"life\",\"only\",\"work\",\"many\",\"take\",\"need\",\"did\",\"lot\",\"kind\",\"why\",\"good\",\"around\",\"every\",\"different\",\"down\",\"ll\",\"let\",\"her\",\"through\",\"same\",\"being\",\"come\",\"d\",\"day\",\"year\",\"three\",\"use\",\"doing\",\"put\",\"called\",\"any\",\"today\",\"percent\",\"made\",\"after\",\"thank\",\"tell\",\"great\",\"human\",\"find\",\"didn\",\"fact\",\"talk\",\"change\",\"started\",\"another\",\"idea\",\"big\",\"last\",\"own\",\"before\",\"its\",\"never\",\"should\",\"better\",\"give\",\"thought\",\"went\",\"might\",\"important\",\"000\",\"again\",\"able\",\"together\",\"still\",\"problem\",\"off\",\"next\",\"part\",\"course\",\"system\",\"him\",\"does\",\"each\",\"start\",\"show\",\"long\",\"ago\",\"story\",\"came\",\"brain\",\"few\",\"bit\",\"between\",\"used\",\"place\",\"technology\",\"women\",\"too\",\"old\",\"mean\",\"data\",\"water\",\"looking\",\"question\",\"maybe\",\"found\",\"love\",\"doesn\",\"end\",\"example\",\"10\",\"done\",\"point\",\"four\",\"real\",\"wanted\",\"ever\",\"understand\",\"school\",\"sort\",\"live\",\"call\",\"whole\",\"children\",\"always\",\"trying\",\"may\",\"person\",\"away\",\"feel\",\"believe\",\"try\",\"million\",\"working\",\"help\",\"everything\",\"five\",\"country\",\"thinking\",\"second\",\"using\",\"information\",\"money\",\"means\",\"power\",\"took\",\"times\",\"high\",\"space\",\"number\",\"kids\",\"home\",\"become\",\"create\",\"small\",\"design\",\"making\",\"best\",\"left\",\"getting\",\"future\",\"enough\",\"man\",\"quite\",\"city\",\"without\",\"sense\",\"happened\",\"comes\",\"social\",\"probably\",\"light\",\"less\",\"talking\",\"energy\",\"am\",\"building\",\"science\",\"food\",\"body\",\"told\",\"interesting\",\"half\",\"ask\",\"pretty\",\"play\",\"hard\",\"anything\",\"lives\",\"countries\",\"coming\",\"such\",\"family\",\"stuff\",\"dollars\",\"earth\",\"moment\",\"20\",\"imagine\",\"across\",\"side\",\"saw\",\"while\",\"happen\",\"once\",\"okay\",\"build\",\"having\",\"men\",\"later\",\"experience\",\"makes\",\"asked\",\"living\",\"seen\",\"says\",\"room\",\"hand\",\"simple\",\"health\",\"ways\",\"else\",\"case\",\"yet\",\"almost\",\"young\",\"days\",\"nothing\",\"bad\",\"care\",\"happens\",\"goes\",\"move\",\"states\",\"reason\",\"computer\",\"open\",\"africa\",\"learn\",\"process\",\"inside\",\"someone\",\"six\",\"far\",\"project\",\"mind\",\"remember\",\"single\",\"picture\",\"both\",\"whether\",\"problems\",\"community\",\"saying\",\"basically\",\"already\",\"within\",\"looked\",\"myself\",\"billion\",\"possible\",\"often\",\"business\",\"planet\",\"global\",\"top\",\"everybody\",\"public\",\"sure\",\"set\",\"wrong\",\"car\",\"book\",\"keep\",\"answer\",\"yes\",\"oh\",\"hope\",\"sometimes\",\"true\",\"history\",\"war\",\"guy\",\"child\",\"instead\",\"months\",\"ideas\",\"looks\",\"matter\",\"government\",\"amazing\",\"united\",\"since\",\"bring\",\"age\",\"cells\",\"job\",\"heard\",\"until\",\"face\",\"wasn\",\"100\",\"read\",\"control\",\"isn\",\"research\",\"30\",\"words\",\"u\",\"group\",\"under\",\"self\",\"somebody\",\"built\",\"state\",\"woman\",\"turn\",\"friends\",\"beautiful\",\"line\",\"knew\",\"couple\",\"order\",\"form\",\"yeah\",\"internet\",\"middle\",\"music\",\"piece\",\"nature\",\"head\",\"though\",\"stop\",\"everyone\",\"50\",\"places\",\"video\",\"language\",\"learned\",\"run\",\"night\",\"decided\",\"word\",\"study\",\"cancer\",\"taking\",\"works\",\"became\",\"exactly\",\"species\",\"society\",\"completely\",\"education\",\"against\",\"stories\",\"large\",\"share\",\"level\",\"heart\",\"america\",\"model\",\"questions\",\"gets\",\"mother\",\"god\",\"company\",\"turns\",\"ourselves\",\"happening\",\"art\",\"hear\",\"themselves\",\"must\",\"itself\",\"kinds\",\"rather\",\"students\",\"name\",\"hours\",\"disease\",\"front\",\"house\",\"couldn\",\"huge\",\"created\",\"universe\",\"ok\",\"animals\",\"american\",\"environment\",\"worked\",\"minutes\",\"ones\",\"black\",\"1\",\"perhaps\",\"past\",\"third\",\"along\",\"finally\",\"others\",\"sound\",\"early\",\"game\",\"thousands\",\"century\",\"based\",\"least\",\"per\",\"ted\",\"lots\",\"figure\",\"free\",\"guys\",\"particular\",\"happy\",\"news\",\"learning\",\"entire\",\"won\",\"gave\",\"machine\",\"india\",\"during\",\"systems\",\"air\",\"difference\",\"outside\",\"natural\",\"taken\",\"seven\",\"given\",\"changed\",\"leave\",\"cell\",\"15\",\"close\",\"cities\",\"behind\",\"full\",\"scale\",\"china\",\"difficult\",\"takes\",\"companies\",\"area\",\"yourself\",\"reality\",\"seeing\",\"easy\",\"turned\",\"cost\",\"eyes\",\"moving\",\"team\",\"population\",\"culture\",\"york\",\"hands\",\"whatever\",\"began\",\"needs\",\"terms\",\"image\",\"simply\",\"needed\",\"beginning\",\"father\",\"local\",\"realized\",\"media\",\"death\",\"parents\",\"view\",\"walk\",\"white\",\"market\",\"parts\",\"ocean\",\"eight\",\"economic\",\"powerful\",\"known\",\"week\",\"size\",\"felt\",\"humans\",\"certain\",\"spend\",\"longer\",\"phone\",\"wonderful\",\"cannot\",\"grow\",\"common\",\"center\",\"tried\",\"fish\",\"land\",\"oil\",\"deal\",\"political\",\"interested\",\"red\",\"gone\",\"amount\",\"weeks\",\"opportunity\",\"spent\",\"paper\",\"lost\",\"national\",\"quickly\",\"blue\",\"step\",\"poor\",\"green\",\"buy\",\"growth\",\"wouldn\",\"either\",\"patients\",\"sitting\",\"ability\",\"changes\",\"write\",\"south\",\"challenge\",\"low\",\"friend\",\"growing\",\"field\",\"shows\",\"2\",\"rest\",\"born\",\"climate\",\"40\",\"test\",\"street\",\"surface\",\"incredible\",\"average\",\"value\",\"pay\",\"program\",\"morning\",\"scientists\",\"physical\",\"girl\",\"met\",\"behavior\",\"feeling\",\"hundreds\",\"economy\",\"dna\",\"complex\",\"access\",\"risk\",\"animal\",\"structure\",\"feet\",\"attention\",\"areas\",\"anyone\",\"deep\",\"watch\",\"short\",\"absolutely\",\"brought\",\"speak\",\"bottom\",\"die\",\"numbers\",\"audience\",\"stage\",\"realize\",\"law\",\"images\",\"wrote\",\"understanding\",\"knowledge\",\"literally\",\"books\",\"movement\",\"giving\",\"ground\",\"eat\",\"force\",\"alone\",\"seems\",\"telling\",\"hold\",\"starting\",\"nice\",\"forward\",\"sea\",\"developed\",\"individual\",\"kid\",\"millions\",\"support\",\"tools\",\"running\",\"miles\",\"online\",\"result\",\"medical\",\"technologies\",\"act\",\"north\",\"development\",\"lab\",\"blood\",\"fear\",\"map\",\"nobody\",\"personal\",\"voice\",\"issue\",\"material\",\"key\",\"12\",\"recently\",\"theory\",\"cut\",\"cars\",\"fast\",\"sun\",\"changing\",\"clear\",\"playing\",\"especially\",\"girls\",\"soon\",\"patient\",\"choice\",\"fly\",\"creating\",\"talked\",\"relationship\",\"discovered\",\"normal\",\"europe\",\"gives\",\"generation\",\"dark\",\"type\",\"showed\",\"asking\",\"seem\",\"chance\",\"industry\",\"rate\",\"designed\",\"color\",\"issues\",\"hour\",\"fun\",\"innovation\",\"several\",\"class\",\"computers\",\"university\",\"english\",\"tiny\",\"focus\",\"allow\",\"save\",\"digital\",\"solve\",\"developing\",\"film\",\"network\",\"special\",\"wall\",\"baby\",\"situation\",\"solution\",\"box\",\"knows\",\"reasons\",\"stand\",\"dead\",\"meet\",\"begin\",\"haven\",\"anybody\",\"impact\",\"term\",\"beyond\",\"pictures\",\"please\",\"produce\",\"ice\",\"shape\",\"non\",\"cool\",\"resources\",\"robot\",\"groups\",\"stay\",\"likely\",\"truth\",\"rights\",\"available\",\"major\",\"writing\",\"experiment\",\"evidence\",\"obviously\",\"cause\",\"modern\",\"drug\",\"incredibly\",\"becomes\",\"bigger\",\"aren\",\"guess\",\"product\",\"drugs\",\"nine\",\"lived\",\"involved\",\"month\",\"perfect\",\"google\",\"putting\",\"effect\",\"similar\",\"eye\",\"pick\",\"message\",\"violence\",\"quality\",\"web\",\"evolution\",\"office\",\"security\",\"basic\",\"solar\",\"indeed\",\"general\",\"towards\",\"present\",\"drive\",\"worth\",\"send\",\"listen\",\"revolution\",\"explain\",\"hundred\",\"died\",\"certainly\",\"ready\",\"teach\",\"25\",\"journey\",\"hit\",\"walking\",\"led\",\"approach\",\"international\",\"200\",\"scientific\",\"games\",\"crazy\",\"60\",\"potential\",\"communities\",\"chinese\",\"device\",\"source\",\"camera\",\"sex\",\"carbon\",\"rules\",\"sounds\",\"boy\",\"reach\",\"starts\",\"west\",\"examples\",\"3\",\"software\",\"success\",\"particularly\",\"measure\",\"totally\",\"suddenly\",\"action\",\"higher\",\"college\",\"code\",\"eventually\",\"democracy\",\"minute\",\"sit\",\"among\",\"largest\",\"showing\",\"hospital\",\"notice\",\"period\",\"mass\",\"develop\",\"onto\",\"dream\",\"break\",\"plants\",\"memory\",\"add\",\"everywhere\",\"favorite\",\"11\",\"zero\",\"moved\",\"response\",\"schools\",\"speed\",\"wants\",\"movie\",\"wait\",\"extremely\",\"individuals\",\"table\",\"medicine\",\"follow\",\"anyway\",\"trust\",\"biggest\",\"plant\",\"organization\",\"watching\",\"creative\",\"road\",\"worse\",\"choose\",\"results\",\"lead\",\"500\",\"exciting\",\"grew\",\"materials\",\"jobs\",\"plan\",\"positive\",\"east\",\"poverty\",\"safe\",\"fall\",\"strong\",\"essentially\",\"object\",\"door\",\"further\",\"continue\",\"son\",\"vision\",\"happiness\",\"student\",\"doctor\",\"role\",\"objects\",\"including\",\"named\",\"extraordinary\",\"standing\",\"leaders\",\"projects\",\"skin\",\"african\",\"usually\",\"conversation\",\"allowed\",\"models\",\"supposed\",\"faster\",\"interest\",\"police\",\"fight\",\"families\",\"connected\",\"tree\",\"5\",\"screen\",\"cases\",\"somewhere\",\"goal\",\"shown\",\"finding\",\"buildings\"],\"x1\":{\"__ndarray__\":\"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\",\"dtype\":\"float64\",\"shape\":[1000]},\"x2\":{\"__ndarray__\":\"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\",\"dtype\":\"float64\",\"shape\":[1000]}}},\"id\":\"de715a96-3340-4a12-ac51-a10089e7ed6c\",\"type\":\"ColumnDataSource\"},{\"attributes\":{},\"id\":\"76353792-cab0-469b-8467-d99edaedbad3\",\"type\":\"BasicTicker\"},{\"attributes\":{\"formatter\":{\"id\":\"7d12e271-e5e4-48a5-b3a5-8ef0cbe20721\",\"type\":\"BasicTickFormatter\"},\"plot\":{\"id\":\"86f92ed9-b98a-41aa-9260-fb1cdd4c32f9\",\"subtype\":\"Figure\",\"type\":\"Plot\"},\"ticker\":{\"id\":\"76353792-cab0-469b-8467-d99edaedbad3\",\"type\":\"BasicTicker\"}},\"id\":\"a955d6d1-49ab-4832-8510-505f4bf6a37b\",\"type\":\"LinearAxis\"},{\"attributes\":{\"fill_color\":{\"value\":\"#1f77b4\"},\"line_color\":{\"value\":\"#1f77b4\"},\"size\":{\"units\":\"screen\",\"value\":8},\"x\":{\"field\":\"x1\"},\"y\":{\"field\":\"x2\"}},\"id\":\"1ed7b4ac-9a8b-4632-8386-c8938735a171\",\"type\":\"Circle\"},{\"attributes\":{\"plot\":{\"id\":\"86f92ed9-b98a-41aa-9260-fb1cdd4c32f9\",\"subtype\":\"Figure\",\"type\":\"Plot\"}},\"id\":\"375551fb-63ad-474e-9a24-0a6f2e705598\",\"type\":\"SaveTool\"},{\"attributes\":{\"plot\":{\"id\":\"86f92ed9-b98a-41aa-9260-fb1cdd4c32f9\",\"subtype\":\"Figure\",\"type\":\"Plot\"}},\"id\":\"60b680a1-9d80-45ac-a887-d548da5da5c1\",\"type\":\"WheelZoomTool\"}],\"root_ids\":[\"86f92ed9-b98a-41aa-9260-fb1cdd4c32f9\"]},\"title\":\"Bokeh Application\",\"version\":\"0.12.4\"}};\n",
       "            var render_items = [{\"docid\":\"d38ab028-59c3-4cc1-a44d-4d8b853b0fb1\",\"elementid\":\"88090f82-696f-47b3-a14b-cc5b74dfd8a0\",\"modelid\":\"86f92ed9-b98a-41aa-9260-fb1cdd4c32f9\"}];\n",
       "            \n",
       "            Bokeh.embed.embed_items(docs_json, render_items);\n",
       "          };\n",
       "          if (document.readyState != \"loading\") fn();\n",
       "          else document.addEventListener(\"DOMContentLoaded\", fn);\n",
       "        })();\n",
       "      },\n",
       "      function(Bokeh) {\n",
       "      }\n",
       "    ];\n",
       "  \n",
       "    function run_inline_js() {\n",
       "      \n",
       "      if ((window.Bokeh !== undefined) || (force === true)) {\n",
       "        for (var i = 0; i < inline_js.length; i++) {\n",
       "          inline_js[i](window.Bokeh);\n",
       "        }if (force === true) {\n",
       "          display_loaded();\n",
       "        }} else if (Date.now() < window._bokeh_timeout) {\n",
       "        setTimeout(run_inline_js, 100);\n",
       "      } else if (!window._bokeh_failed_load) {\n",
       "        console.log(\"Bokeh: BokehJS failed to load within specified timeout.\");\n",
       "        window._bokeh_failed_load = true;\n",
       "      } else if (force !== true) {\n",
       "        var cell = $(document.getElementById(\"88090f82-696f-47b3-a14b-cc5b74dfd8a0\")).parents('.cell').data().cell;\n",
       "        cell.output_area.append_execute_result(NB_LOAD_WARNING)\n",
       "      }\n",
       "  \n",
       "    }\n",
       "  \n",
       "    if (window._bokeh_is_loading === 0) {\n",
       "      console.log(\"Bokeh: BokehJS loaded, going straight to plotting\");\n",
       "      run_inline_js();\n",
       "    } else {\n",
       "      load_libs(js_urls, function() {\n",
       "        console.log(\"Bokeh: BokehJS plotting callback run at\", now());\n",
       "        run_inline_js();\n",
       "      });\n",
       "    }\n",
       "  }(this));\n",
       "</script>"
      ]
     },
     "metadata": {},
     "output_type": "display_data"
    }
   ],
   "source": [
    "p = figure(tools=\"pan,wheel_zoom,reset,save\",\n",
    "           toolbar_location=\"above\",\n",
    "           title=\"word2vec T-SNE for most common words\")\n",
    "\n",
    "source = ColumnDataSource(data=dict(x1=words_top_ted_tsne[:,0],\n",
    "                                    x2=words_top_ted_tsne[:,1],\n",
    "                                    names=words_top_ted))\n",
    "\n",
    "p.scatter(x=\"x1\", y=\"x2\", size=8, source=source)\n",
    "\n",
    "labels = LabelSet(x=\"x1\", y=\"x2\", text=\"names\", y_offset=6,\n",
    "                  text_font_size=\"8pt\", text_color=\"#555555\",\n",
    "                  source=source, text_align='center')\n",
    "p.add_layout(labels)\n",
    "\n",
    "show(p)"
   ]
  },
  {
   "cell_type": "markdown",
   "metadata": {
    "deletable": true,
    "editable": true
   },
   "source": [
    "### Extra: Literatura"
   ]
  },
  {
   "cell_type": "code",
   "execution_count": 4,
   "metadata": {
    "collapsed": false,
    "deletable": true,
    "editable": true
   },
   "outputs": [
    {
     "data": {
      "text/plain": [
       "['\\x0c1\\n\\nnao se sabe se kublai khan acredita em tudo o que diz marco polo quando este lhe\\ndescreve as cidades visitadas em suas missoes diplomaticas, mas o imperador dos\\ntartaros certamente continua a ouvir o jovem veneziano com maior curiosidade e\\natencao do que a qualquer outro de seus enviados ou exploradores',\n",
       " ' existe um momento\\nna vida dos imperadores que se segue ao orgulho pela imensa amplitude dos territorios\\nque conquistamos, a melancolia e ao alivio de saber que em breve desistiremos de\\nconhece-los e compreende-los, uma sensacao de vazio que surge ao calar da noite com\\no odor dos elefantes apos a chuva e das cinzas de sandalo que se resfriam nos braseiros,\\numa vertigem que faz estremecer os rios e as montanhas historiadas nos fulvos dorsos\\ndos planisferios, enrolando um depois do outro os despachos que anunciam o\\naniquilamento dos ultimos exercitos inimigos de derrota em derrota, e abrindo o lacre\\ndos sinetes de reis dos quais nunca se ouviu falar e que imploram a protecao das nossas\\narmadas avancadas em troca de impostos anuais de metais preciosos, peles curtidas e\\ncascos de tartarugas: e o desesperado momento em que se descobre que este imperio,\\nque nos parecia a soma de todas as maravilhas, e um esfacelo sem fim e sem forma, que\\na sua corrupcao e gangrenosa demais para ser remediada pelo nosso cetro, que o\\ntriunfo sobre os soberanos adversarios nos fez herdeiros de suas prolongadas ruinas',\n",
       " '\\nsomente nos relatorios de marco polo, kublai khan conseguia discernir, atraves das\\nmuralhas e das torres destinadas a desmoronar, a filigrana de um desenho tao fino a\\nponto de evitar as mordidas dos cupins']"
      ]
     },
     "execution_count": 4,
     "metadata": {},
     "output_type": "execute_result"
    }
   ],
   "source": [
    "with open('/home/matheus/Documents/litearatura/copilados', 'r') as in_f:\n",
    "    liter_text = in_f.read().replace('!','.').replace('?','.').lower().split('.')\n",
    "\n",
    "liter_text[:3]"
   ]
  },
  {
   "cell_type": "code",
   "execution_count": 5,
   "metadata": {
    "collapsed": false,
    "deletable": true,
    "editable": true
   },
   "outputs": [
    {
     "data": {
      "text/plain": [
       "[['nao',\n",
       "  'se',\n",
       "  'sabe',\n",
       "  'se',\n",
       "  'kublai',\n",
       "  'khan',\n",
       "  'acredita',\n",
       "  'em',\n",
       "  'tudo',\n",
       "  'o',\n",
       "  'que',\n",
       "  'diz',\n",
       "  'marco',\n",
       "  'polo',\n",
       "  'quando',\n",
       "  'este',\n",
       "  'lhe',\n",
       "  'descreve',\n",
       "  'as',\n",
       "  'cidades',\n",
       "  'visitadas',\n",
       "  'em',\n",
       "  'suas',\n",
       "  'missoes',\n",
       "  'diplomaticas',\n",
       "  'mas',\n",
       "  'o',\n",
       "  'imperador',\n",
       "  'dos',\n",
       "  'tartaros',\n",
       "  'certamente',\n",
       "  'continua',\n",
       "  'a',\n",
       "  'ouvir',\n",
       "  'o',\n",
       "  'jovem',\n",
       "  'veneziano',\n",
       "  'com',\n",
       "  'maior',\n",
       "  'curiosidade',\n",
       "  'e',\n",
       "  'atencao',\n",
       "  'do',\n",
       "  'que',\n",
       "  'a',\n",
       "  'qualquer',\n",
       "  'outro',\n",
       "  'de',\n",
       "  'seus',\n",
       "  'enviados',\n",
       "  'ou',\n",
       "  'exploradores'],\n",
       " ['existe',\n",
       "  'um',\n",
       "  'momento',\n",
       "  'na',\n",
       "  'vida',\n",
       "  'dos',\n",
       "  'imperadores',\n",
       "  'que',\n",
       "  'se',\n",
       "  'segue',\n",
       "  'ao',\n",
       "  'orgulho',\n",
       "  'pela',\n",
       "  'imensa',\n",
       "  'amplitude',\n",
       "  'dos',\n",
       "  'territorios',\n",
       "  'que',\n",
       "  'conquistamos',\n",
       "  'a',\n",
       "  'melancolia',\n",
       "  'e',\n",
       "  'ao',\n",
       "  'alivio',\n",
       "  'de',\n",
       "  'saber',\n",
       "  'que',\n",
       "  'em',\n",
       "  'breve',\n",
       "  'desistiremos',\n",
       "  'de',\n",
       "  'conhece',\n",
       "  'los',\n",
       "  'e',\n",
       "  'compreende',\n",
       "  'los',\n",
       "  'uma',\n",
       "  'sensacao',\n",
       "  'de',\n",
       "  'vazio',\n",
       "  'que',\n",
       "  'surge',\n",
       "  'ao',\n",
       "  'calar',\n",
       "  'da',\n",
       "  'noite',\n",
       "  'com',\n",
       "  'o',\n",
       "  'odor',\n",
       "  'dos',\n",
       "  'elefantes',\n",
       "  'apos',\n",
       "  'a',\n",
       "  'chuva',\n",
       "  'e',\n",
       "  'das',\n",
       "  'cinzas',\n",
       "  'de',\n",
       "  'sandalo',\n",
       "  'que',\n",
       "  'se',\n",
       "  'resfriam',\n",
       "  'nos',\n",
       "  'braseiros',\n",
       "  'uma',\n",
       "  'vertigem',\n",
       "  'que',\n",
       "  'faz',\n",
       "  'estremecer',\n",
       "  'os',\n",
       "  'rios',\n",
       "  'e',\n",
       "  'as',\n",
       "  'montanhas',\n",
       "  'historiadas',\n",
       "  'nos',\n",
       "  'fulvos',\n",
       "  'dorsos',\n",
       "  'dos',\n",
       "  'planisferios',\n",
       "  'enrolando',\n",
       "  'um',\n",
       "  'depois',\n",
       "  'do',\n",
       "  'outro',\n",
       "  'os',\n",
       "  'despachos',\n",
       "  'que',\n",
       "  'anunciam',\n",
       "  'o',\n",
       "  'aniquilamento',\n",
       "  'dos',\n",
       "  'ultimos',\n",
       "  'exercitos',\n",
       "  'inimigos',\n",
       "  'de',\n",
       "  'derrota',\n",
       "  'em',\n",
       "  'derrota',\n",
       "  'e',\n",
       "  'abrindo',\n",
       "  'o',\n",
       "  'lacre',\n",
       "  'dos',\n",
       "  'sinetes',\n",
       "  'de',\n",
       "  'reis',\n",
       "  'dos',\n",
       "  'quais',\n",
       "  'nunca',\n",
       "  'se',\n",
       "  'ouviu',\n",
       "  'falar',\n",
       "  'e',\n",
       "  'que',\n",
       "  'imploram',\n",
       "  'a',\n",
       "  'protecao',\n",
       "  'das',\n",
       "  'nossas',\n",
       "  'armadas',\n",
       "  'avancadas',\n",
       "  'em',\n",
       "  'troca',\n",
       "  'de',\n",
       "  'impostos',\n",
       "  'anuais',\n",
       "  'de',\n",
       "  'metais',\n",
       "  'preciosos',\n",
       "  'peles',\n",
       "  'curtidas',\n",
       "  'e',\n",
       "  'cascos',\n",
       "  'de',\n",
       "  'tartarugas',\n",
       "  'e',\n",
       "  'o',\n",
       "  'desesperado',\n",
       "  'momento',\n",
       "  'em',\n",
       "  'que',\n",
       "  'se',\n",
       "  'descobre',\n",
       "  'que',\n",
       "  'este',\n",
       "  'imperio',\n",
       "  'que',\n",
       "  'nos',\n",
       "  'parecia',\n",
       "  'a',\n",
       "  'soma',\n",
       "  'de',\n",
       "  'todas',\n",
       "  'as',\n",
       "  'maravilhas',\n",
       "  'e',\n",
       "  'um',\n",
       "  'esfacelo',\n",
       "  'sem',\n",
       "  'fim',\n",
       "  'e',\n",
       "  'sem',\n",
       "  'forma',\n",
       "  'que',\n",
       "  'a',\n",
       "  'sua',\n",
       "  'corrupcao',\n",
       "  'e',\n",
       "  'gangrenosa',\n",
       "  'demais',\n",
       "  'para',\n",
       "  'ser',\n",
       "  'remediada',\n",
       "  'pelo',\n",
       "  'nosso',\n",
       "  'cetro',\n",
       "  'que',\n",
       "  'o',\n",
       "  'triunfo',\n",
       "  'sobre',\n",
       "  'os',\n",
       "  'soberanos',\n",
       "  'adversarios',\n",
       "  'nos',\n",
       "  'fez',\n",
       "  'herdeiros',\n",
       "  'de',\n",
       "  'suas',\n",
       "  'prolongadas',\n",
       "  'ruinas']]"
      ]
     },
     "execution_count": 5,
     "metadata": {},
     "output_type": "execute_result"
    }
   ],
   "source": [
    "for s_i in range(len(liter_text)):\n",
    "    liter_text[s_i] = re.sub(\"[^a-z]\", \" \", liter_text[s_i]).split()\n",
    "\n",
    "liter_text[:2]"
   ]
  },
  {
   "cell_type": "code",
   "execution_count": 6,
   "metadata": {
    "collapsed": false,
    "deletable": true,
    "editable": true
   },
   "outputs": [
    {
     "name": "stdout",
     "output_type": "stream",
     "text": [
      "296415\n"
     ]
    }
   ],
   "source": [
    "shuffle(liter_text)\n",
    "print(len(liter_text))"
   ]
  },
  {
   "cell_type": "code",
   "execution_count": 7,
   "metadata": {
    "collapsed": true,
    "deletable": true,
    "editable": true
   },
   "outputs": [],
   "source": [
    "model_liter = Word2Vec(liter_text, min_count=5)"
   ]
  },
  {
   "cell_type": "code",
   "execution_count": 8,
   "metadata": {
    "collapsed": false,
    "deletable": true,
    "editable": true
   },
   "outputs": [
    {
     "data": {
      "text/plain": [
       "[('animal', 0.7381560206413269),\n",
       " ('rapaz', 0.7013584971427917),\n",
       " ('sujeito', 0.652496874332428),\n",
       " ('mendigo', 0.6234924793243408),\n",
       " ('individuo', 0.6079890727996826),\n",
       " ('pintor', 0.5963858366012573),\n",
       " ('fantasma', 0.5868741273880005),\n",
       " ('ladrao', 0.5868232250213623),\n",
       " ('assassino', 0.5821999311447144),\n",
       " ('cavalheiro', 0.5781742334365845)]"
      ]
     },
     "execution_count": 8,
     "metadata": {},
     "output_type": "execute_result"
    }
   ],
   "source": [
    "model_liter.most_similar(\"homem\")"
   ]
  },
  {
   "cell_type": "code",
   "execution_count": 9,
   "metadata": {
    "collapsed": false,
    "deletable": true,
    "editable": true
   },
   "outputs": [
    {
     "data": {
      "text/plain": [
       "[('moca', 0.7682394981384277),\n",
       " ('menina', 0.7588468790054321),\n",
       " ('crianca', 0.7381477355957031),\n",
       " ('filha', 0.7297366261482239),\n",
       " ('mae', 0.6704534292221069),\n",
       " ('criada', 0.6627806425094604),\n",
       " ('pessoa', 0.6523498296737671),\n",
       " ('viuva', 0.6336188912391663),\n",
       " ('rapariga', 0.6304502487182617),\n",
       " ('irma', 0.6278578042984009)]"
      ]
     },
     "execution_count": 9,
     "metadata": {},
     "output_type": "execute_result"
    }
   ],
   "source": [
    "model_liter.most_similar(\"mulher\")"
   ]
  },
  {
   "cell_type": "code",
   "execution_count": 38,
   "metadata": {
    "collapsed": false,
    "deletable": true,
    "editable": true
   },
   "outputs": [
    {
     "data": {
      "text/plain": [
       "[('disparate', 0.4797269403934479),\n",
       " ('erro', 0.4602298438549042),\n",
       " ('castigo', 0.4577246606349945),\n",
       " ('pecado', 0.45394080877304077),\n",
       " ('ato', 0.43664786219596863),\n",
       " ('absurdo', 0.43515482544898987),\n",
       " ('assunto', 0.42969661951065063),\n",
       " ('pensamento', 0.4277363419532776),\n",
       " ('rodka', 0.4204072058200836),\n",
       " ('acto', 0.4183739125728607)]"
      ]
     },
     "execution_count": 38,
     "metadata": {},
     "output_type": "execute_result"
    }
   ],
   "source": [
    "model_liter.most_similar(\"crime\")"
   ]
  },
  {
   "cell_type": "code",
   "execution_count": 14,
   "metadata": {
    "collapsed": false,
    "deletable": true,
    "editable": true
   },
   "outputs": [
    {
     "data": {
      "text/plain": [
       "[('pensamento', 0.7465449571609497),\n",
       " ('delirio', 0.7224061489105225),\n",
       " ('poema', 0.7125514149665833),\n",
       " ('ato', 0.7078797221183777),\n",
       " ('discurso', 0.6949011087417603),\n",
       " ('erro', 0.6935181617736816),\n",
       " ('milionesimo', 0.6853308081626892),\n",
       " ('pesadelo', 0.6822788715362549),\n",
       " ('sono', 0.6689560413360596),\n",
       " ('episodio', 0.667937695980072)]"
      ]
     },
     "execution_count": 14,
     "metadata": {},
     "output_type": "execute_result"
    }
   ],
   "source": [
    "model_liter.most_similar(\"sonho\")"
   ]
  },
  {
   "cell_type": "code",
   "execution_count": 35,
   "metadata": {
    "collapsed": false,
    "deletable": true,
    "editable": true
   },
   "outputs": [
    {
     "data": {
      "text/plain": [
       "[('odio', 0.7416133880615234),\n",
       " ('coracao', 0.7045820951461792),\n",
       " ('espirito', 0.6983347535133362),\n",
       " ('sofrimento', 0.6909886598587036),\n",
       " ('temor', 0.6888531446456909),\n",
       " ('sentimento', 0.6749279499053955),\n",
       " ('interesse', 0.6704716086387634),\n",
       " ('suicidio', 0.6636437773704529),\n",
       " ('futuro', 0.6622185707092285),\n",
       " ('remorso', 0.6566768288612366)]"
      ]
     },
     "execution_count": 35,
     "metadata": {},
     "output_type": "execute_result"
    }
   ],
   "source": [
    "model_liter.most_similar(\"amor\")"
   ]
  },
  {
   "cell_type": "code",
   "execution_count": 54,
   "metadata": {
    "collapsed": false,
    "deletable": true,
    "editable": true
   },
   "outputs": [
    {
     "data": {
      "text/plain": [
       "[('ausencia', 0.6735057830810547),\n",
       " ('vida', 0.6700690984725952),\n",
       " ('doenca', 0.6693675518035889),\n",
       " ('cegueira', 0.654128909111023),\n",
       " ('memoria', 0.6272670030593872),\n",
       " ('existencia', 0.6218945384025574),\n",
       " ('gloria', 0.6178592443466187),\n",
       " ('guerra', 0.6163017153739929),\n",
       " ('patria', 0.6059645414352417),\n",
       " ('culpa', 0.6047093272209167)]"
      ]
     },
     "execution_count": 54,
     "metadata": {},
     "output_type": "execute_result"
    }
   ],
   "source": [
    "model_liter.most_similar(\"morte\")"
   ]
  },
  {
   "cell_type": "code",
   "execution_count": 69,
   "metadata": {
    "collapsed": false,
    "deletable": true,
    "editable": true
   },
   "outputs": [
    {
     "name": "stdout",
     "output_type": "stream",
     "text": [
      "[('napoleao', 0.983713686466217), ('paris', 0.9494947791099548), ('julho', 0.937974214553833), ('cesar', 0.9322437644004822), ('luis', 0.9317600131034851), ('bonaparte', 0.927058219909668), ('herat', 0.9149861931800842), ('avinhao', 0.9110685586929321), ('angouleme', 0.9056127071380615), ('guerra', 0.9046072363853455)] \n",
      "\n",
      "[('quarto', 1.5500776767730713), ('carro', 1.535387396812439), ('jeito', 1.5226939916610718), ('espelho', 1.5090110301971436), ('banco', 1.5057342052459717), ('buraco', 1.5042953491210938), ('relogio', 1.5012691020965576), ('dedo', 1.4911432266235352), ('olho', 1.4834256172180176), ('cadaver', 1.4717621803283691)] \n",
      "\n",
      "[('espanha', 0.6328234076499939), ('gloria', 0.6323890686035156), ('inglaterra', 0.6265755891799927), ('familia', 0.6252608299255371), ('patria', 0.6241098642349243), ('execucao', 0.6170610785484314), ('europa', 0.6161503791809082), ('franca', 0.6156556010246277), ('italia', 0.6097943782806396), ('ilha', 0.6090291142463684)] \n",
      "\n",
      "[('parecia', 1.6129801273345947), ('usava', 1.5962554216384888), ('vestido', 1.5455209016799927), ('casal', 1.5395348072052002), ('ruido', 1.5391712188720703), ('jardinzinho', 1.5290679931640625), ('lugubre', 1.516363501548767), ('amplo', 1.514542579650879), ('palido', 1.513253092765808), ('desconhecido', 1.5119366645812988)] \n",
      "\n",
      "[('quadrado', 0.7857937216758728), ('arco', 0.7738080620765686), ('ramo', 0.7692071795463562), ('vaso', 0.7621514201164246), ('lago', 0.7614350318908691), ('tabuleiro', 0.7592648863792419), ('deposito', 0.7576487064361572), ('montao', 0.7528844475746155), ('odor', 0.7516685724258423), ('tanque', 0.7499815225601196)] \n",
      "\n"
     ]
    }
   ],
   "source": [
    "print(model_liter.most_similar_cosmul(positive=['roma', 'franca'], negative=['italia']), '\\n')\n",
    "print(model_liter.most_similar_cosmul(positive=['barco'], negative=['navegar']), '\\n')\n",
    "print(model_liter.most_similar_cosmul(positive=['guerra', 'paz']), '\\n')\n",
    "print(model_liter.most_similar_cosmul(positive=['homem'], negative=['deus']), '\\n')\n",
    "print(model_liter.most_similar_cosmul(positive=['labirinto', 'xadrez']), '\\n')"
   ]
  },
  {
   "cell_type": "code",
   "execution_count": 70,
   "metadata": {
    "collapsed": true,
    "deletable": true,
    "editable": true
   },
   "outputs": [],
   "source": [
    "cnt = Counter()\n",
    "for sentence in liter_text:\n",
    "    for word in sentence:\n",
    "        cnt[word] += 1\n",
    "        \n",
    "counts_liter_top1000 = []\n",
    "for common_word in cnt.most_common(1000):\n",
    "    counts_liter_top1000.append(common_word[0])\n",
    "    \n",
    "words_top_vec_liter = model_liter[counts_liter_top1000]"
   ]
  },
  {
   "cell_type": "code",
   "execution_count": 73,
   "metadata": {
    "collapsed": false,
    "deletable": true,
    "editable": true
   },
   "outputs": [],
   "source": [
    "tsne = TSNE(n_components=2, random_state=0)\n",
    "words_top_liter_tsne = tsne.fit_transform(words_top_vec_liter)"
   ]
  },
  {
   "cell_type": "code",
   "execution_count": 74,
   "metadata": {
    "collapsed": false,
    "deletable": true,
    "editable": true
   },
   "outputs": [
    {
     "data": {
      "text/html": [
       "\n",
       "\n",
       "    <div class=\"bk-root\">\n",
       "        <div class=\"bk-plotdiv\" id=\"ee309bc8-63f5-42db-96f4-aff490711d00\"></div>\n",
       "    </div>\n",
       "<script type=\"text/javascript\">\n",
       "  \n",
       "  (function(global) {\n",
       "    function now() {\n",
       "      return new Date();\n",
       "    }\n",
       "  \n",
       "    var force = false;\n",
       "  \n",
       "    if (typeof (window._bokeh_onload_callbacks) === \"undefined\" || force === true) {\n",
       "      window._bokeh_onload_callbacks = [];\n",
       "      window._bokeh_is_loading = undefined;\n",
       "    }\n",
       "  \n",
       "  \n",
       "    \n",
       "    if (typeof (window._bokeh_timeout) === \"undefined\" || force === true) {\n",
       "      window._bokeh_timeout = Date.now() + 0;\n",
       "      window._bokeh_failed_load = false;\n",
       "    }\n",
       "  \n",
       "    var NB_LOAD_WARNING = {'data': {'text/html':\n",
       "       \"<div style='background-color: #fdd'>\\n\"+\n",
       "       \"<p>\\n\"+\n",
       "       \"BokehJS does not appear to have successfully loaded. If loading BokehJS from CDN, this \\n\"+\n",
       "       \"may be due to a slow or bad network connection. Possible fixes:\\n\"+\n",
       "       \"</p>\\n\"+\n",
       "       \"<ul>\\n\"+\n",
       "       \"<li>re-rerun `output_notebook()` to attempt to load from CDN again, or</li>\\n\"+\n",
       "       \"<li>use INLINE resources instead, as so:</li>\\n\"+\n",
       "       \"</ul>\\n\"+\n",
       "       \"<code>\\n\"+\n",
       "       \"from bokeh.resources import INLINE\\n\"+\n",
       "       \"output_notebook(resources=INLINE)\\n\"+\n",
       "       \"</code>\\n\"+\n",
       "       \"</div>\"}};\n",
       "  \n",
       "    function display_loaded() {\n",
       "      if (window.Bokeh !== undefined) {\n",
       "        document.getElementById(\"ee309bc8-63f5-42db-96f4-aff490711d00\").textContent = \"BokehJS successfully loaded.\";\n",
       "      } else if (Date.now() < window._bokeh_timeout) {\n",
       "        setTimeout(display_loaded, 100)\n",
       "      }\n",
       "    }\n",
       "  \n",
       "    function run_callbacks() {\n",
       "      window._bokeh_onload_callbacks.forEach(function(callback) { callback() });\n",
       "      delete window._bokeh_onload_callbacks\n",
       "      console.info(\"Bokeh: all callbacks have finished\");\n",
       "    }\n",
       "  \n",
       "    function load_libs(js_urls, callback) {\n",
       "      window._bokeh_onload_callbacks.push(callback);\n",
       "      if (window._bokeh_is_loading > 0) {\n",
       "        console.log(\"Bokeh: BokehJS is being loaded, scheduling callback at\", now());\n",
       "        return null;\n",
       "      }\n",
       "      if (js_urls == null || js_urls.length === 0) {\n",
       "        run_callbacks();\n",
       "        return null;\n",
       "      }\n",
       "      console.log(\"Bokeh: BokehJS not loaded, scheduling load and callback at\", now());\n",
       "      window._bokeh_is_loading = js_urls.length;\n",
       "      for (var i = 0; i < js_urls.length; i++) {\n",
       "        var url = js_urls[i];\n",
       "        var s = document.createElement('script');\n",
       "        s.src = url;\n",
       "        s.async = false;\n",
       "        s.onreadystatechange = s.onload = function() {\n",
       "          window._bokeh_is_loading--;\n",
       "          if (window._bokeh_is_loading === 0) {\n",
       "            console.log(\"Bokeh: all BokehJS libraries loaded\");\n",
       "            run_callbacks()\n",
       "          }\n",
       "        };\n",
       "        s.onerror = function() {\n",
       "          console.warn(\"failed to load library \" + url);\n",
       "        };\n",
       "        console.log(\"Bokeh: injecting script tag for BokehJS library: \", url);\n",
       "        document.getElementsByTagName(\"head\")[0].appendChild(s);\n",
       "      }\n",
       "    };var element = document.getElementById(\"ee309bc8-63f5-42db-96f4-aff490711d00\");\n",
       "    if (element == null) {\n",
       "      console.log(\"Bokeh: ERROR: autoload.js configured with elementid 'ee309bc8-63f5-42db-96f4-aff490711d00' but no matching script tag was found. \")\n",
       "      return false;\n",
       "    }\n",
       "  \n",
       "    var js_urls = [];\n",
       "  \n",
       "    var inline_js = [\n",
       "      function(Bokeh) {\n",
       "        (function() {\n",
       "          var fn = function() {\n",
       "            var docs_json = {\"012d8bcb-f570-4344-99ee-266e22aa11d3\":{\"roots\":{\"references\":[{\"attributes\":{\"plot\":{\"id\":\"61bb967b-0237-4c28-ac3a-5e1d23ccead1\",\"subtype\":\"Figure\",\"type\":\"Plot\"}},\"id\":\"d0081bf6-2e51-4aea-a4d4-7924cbca7c99\",\"type\":\"SaveTool\"},{\"attributes\":{\"plot\":{\"id\":\"61bb967b-0237-4c28-ac3a-5e1d23ccead1\",\"subtype\":\"Figure\",\"type\":\"Plot\"}},\"id\":\"43f33be2-f32b-4d04-b8b8-1f4054fc81cb\",\"type\":\"ResetTool\"},{\"attributes\":{\"plot\":{\"id\":\"61bb967b-0237-4c28-ac3a-5e1d23ccead1\",\"subtype\":\"Figure\",\"type\":\"Plot\"}},\"id\":\"618d1e96-6661-42da-a9f4-7b76bbe854ac\",\"type\":\"PanTool\"},{\"attributes\":{\"below\":[{\"id\":\"8559e689-490d-49b1-8fbd-03c3fda3c04a\",\"type\":\"LinearAxis\"}],\"left\":[{\"id\":\"c29a701b-3f7d-4712-9849-fb395275261c\",\"type\":\"LinearAxis\"}],\"renderers\":[{\"id\":\"8559e689-490d-49b1-8fbd-03c3fda3c04a\",\"type\":\"LinearAxis\"},{\"id\":\"763e982c-83a5-4d7c-bd12-39c456f1686e\",\"type\":\"Grid\"},{\"id\":\"c29a701b-3f7d-4712-9849-fb395275261c\",\"type\":\"LinearAxis\"},{\"id\":\"a74f9982-c56c-42c7-a4f6-b5713c82d711\",\"type\":\"Grid\"},{\"id\":\"d570e2ef-bf23-41b2-b741-3496306fa0d2\",\"type\":\"GlyphRenderer\"},{\"id\":\"4b9b972e-2bba-4899-a097-6e0119edf942\",\"type\":\"LabelSet\"}],\"title\":{\"id\":\"96666cb0-5aaf-4281-a702-fb217be70afb\",\"type\":\"Title\"},\"tool_events\":{\"id\":\"4f9fd871-905b-4cc9-8dc3-60596fc678f4\",\"type\":\"ToolEvents\"},\"toolbar\":{\"id\":\"f0a8ed6f-2813-42aa-a758-22d159e72e9c\",\"type\":\"Toolbar\"},\"toolbar_location\":\"above\",\"x_range\":{\"id\":\"eac4059a-9246-4045-bce3-b79e6d0f0441\",\"type\":\"DataRange1d\"},\"y_range\":{\"id\":\"0b41ba00-2a28-488d-9fe6-4a22d395c1c9\",\"type\":\"DataRange1d\"}},\"id\":\"61bb967b-0237-4c28-ac3a-5e1d23ccead1\",\"subtype\":\"Figure\",\"type\":\"Plot\"},{\"attributes\":{},\"id\":\"b9911541-da7c-4b91-ba4a-a6c6f6a7c64a\",\"type\":\"BasicTickFormatter\"},{\"attributes\":{\"plot\":null,\"text\":\"word2vec T-SNE for most common words\"},\"id\":\"96666cb0-5aaf-4281-a702-fb217be70afb\",\"type\":\"Title\"},{\"attributes\":{\"callback\":null},\"id\":\"eac4059a-9246-4045-bce3-b79e6d0f0441\",\"type\":\"DataRange1d\"},{\"attributes\":{},\"id\":\"61edf317-cbd0-4bab-9241-903f378f56c9\",\"type\":\"BasicTicker\"},{\"attributes\":{\"fill_color\":{\"value\":\"#1f77b4\"},\"line_color\":{\"value\":\"#1f77b4\"},\"size\":{\"units\":\"screen\",\"value\":8},\"x\":{\"field\":\"x1\"},\"y\":{\"field\":\"x2\"}},\"id\":\"5acf3b42-47d8-46f1-ad39-53d3a526c2e0\",\"type\":\"Circle\"},{\"attributes\":{\"plot\":{\"id\":\"61bb967b-0237-4c28-ac3a-5e1d23ccead1\",\"subtype\":\"Figure\",\"type\":\"Plot\"},\"source\":{\"id\":\"b3d227d7-7240-46ef-9af3-7bd3bec841d1\",\"type\":\"ColumnDataSource\"},\"text\":{\"field\":\"names\"},\"text_align\":\"center\",\"text_color\":{\"value\":\"#555555\"},\"text_font_size\":{\"value\":\"8pt\"},\"x\":{\"field\":\"x1\"},\"y\":{\"field\":\"x2\"},\"y_offset\":{\"value\":6}},\"id\":\"4b9b972e-2bba-4899-a097-6e0119edf942\",\"type\":\"LabelSet\"},{\"attributes\":{\"formatter\":{\"id\":\"b9911541-da7c-4b91-ba4a-a6c6f6a7c64a\",\"type\":\"BasicTickFormatter\"},\"plot\":{\"id\":\"61bb967b-0237-4c28-ac3a-5e1d23ccead1\",\"subtype\":\"Figure\",\"type\":\"Plot\"},\"ticker\":{\"id\":\"25c8af24-57f2-4036-8628-bc72c2b4f4b5\",\"type\":\"BasicTicker\"}},\"id\":\"c29a701b-3f7d-4712-9849-fb395275261c\",\"type\":\"LinearAxis\"},{\"attributes\":{\"data_source\":{\"id\":\"b3d227d7-7240-46ef-9af3-7bd3bec841d1\",\"type\":\"ColumnDataSource\"},\"glyph\":{\"id\":\"5acf3b42-47d8-46f1-ad39-53d3a526c2e0\",\"type\":\"Circle\"},\"hover_glyph\":null,\"nonselection_glyph\":{\"id\":\"a0143246-fddf-43c2-93f8-8ae9462a1482\",\"type\":\"Circle\"},\"selection_glyph\":null},\"id\":\"d570e2ef-bf23-41b2-b741-3496306fa0d2\",\"type\":\"GlyphRenderer\"},{\"attributes\":{},\"id\":\"86795edf-8af2-4517-953d-63c897b64ae1\",\"type\":\"BasicTickFormatter\"},{\"attributes\":{\"callback\":null,\"column_names\":[\"names\",\"x2\",\"x1\"],\"data\":{\"names\":[\"a\",\"de\",\"e\",\"que\",\"o\",\"se\",\"nao\",\"um\",\"do\",\"com\",\"para\",\"os\",\"da\",\"em\",\"uma\",\"as\",\"por\",\"como\",\"no\",\"mas\",\"me\",\"na\",\"mais\",\"lhe\",\"ele\",\"ao\",\"eu\",\"era\",\"sua\",\"disse\",\"dos\",\"seu\",\"nos\",\"ela\",\"ou\",\"quando\",\"esta\",\"das\",\"sem\",\"ja\",\"muito\",\"foi\",\"estava\",\"depois\",\"tinha\",\"ser\",\"meu\",\"mesmo\",\"ainda\",\"isso\",\"la\",\"bem\",\"nem\",\"tudo\",\"voce\",\"so\",\"ate\",\"seus\",\"tao\",\"quem\",\"assim\",\"minha\",\"todos\",\"tambem\",\"porque\",\"pelo\",\"agora\",\"homem\",\"senhor\",\"onde\",\"casa\",\"sobre\",\"havia\",\"pela\",\"tempo\",\"entao\",\"vez\",\"ter\",\"nada\",\"tem\",\"ha\",\"coisa\",\"dizer\",\"olhos\",\"outro\",\"fazer\",\"lo\",\"dois\",\"d\",\"vida\",\"dia\",\"suas\",\"sao\",\"mulher\",\"sempre\",\"aqui\",\"ver\",\"te\",\"aos\",\"entre\",\"pouco\",\"pode\",\"nas\",\"outra\",\"esse\",\"eles\",\"toda\",\"essa\",\"noite\",\"mim\",\"deus\",\"grande\",\"num\",\"nunca\",\"pois\",\"cabeca\",\"mao\",\"todo\",\"porta\",\"antes\",\"lado\",\"sim\",\"este\",\"vai\",\"respondeu\",\"anos\",\"menos\",\"mundo\",\"todas\",\"tanto\",\"ali\",\"duas\",\"fosse\",\"outros\",\"enquanto\",\"talvez\",\"tres\",\"cada\",\"vezes\",\"perguntou\",\"dele\",\"pai\",\"qual\",\"aquele\",\"alguma\",\"coisas\",\"qualquer\",\"voz\",\"fora\",\"verdade\",\"apenas\",\"numa\",\"podia\",\"lugar\",\"eram\",\"melhor\",\"primeiro\",\"ninguem\",\"palavras\",\"momento\",\"fez\",\"si\",\"sr\",\"dar\",\"quase\",\"ia\",\"maos\",\"tinham\",\"isto\",\"dias\",\"meio\",\"mae\",\"quanto\",\"sabe\",\"mal\",\"homens\",\"aquela\",\"parte\",\"tenho\",\"logo\",\"embora\",\"seria\",\"morte\",\"bom\",\"saber\",\"sei\",\"amor\",\"estavam\",\"quarto\",\"estou\",\"algum\",\"nome\",\"quer\",\"tivesse\",\"sido\",\"lhes\",\"rosto\",\"falar\",\"diz\",\"olhar\",\"ir\",\"tal\",\"parecia\",\"mesma\",\"primeira\",\"dela\",\"velho\",\"sou\",\"diante\",\"pessoas\",\"seja\",\"fim\",\"cidade\",\"meus\",\"viu\",\"contra\",\"ai\",\"modo\",\"quixote\",\"alguns\",\"estar\",\"filho\",\"tu\",\"maneira\",\"terra\",\"dentro\",\"deu\",\"vou\",\"novo\",\"dizia\",\"sancho\",\"hora\",\"outras\",\"gente\",\"ficou\",\"palavra\",\"durante\",\"proprio\",\"caso\",\"cima\",\"sera\",\"sabia\",\"corpo\",\"queria\",\"historia\",\"coracao\",\"luz\",\"livro\",\"alguem\",\"parece\",\"quatro\",\"teria\",\"pelos\",\"desde\",\"senhora\",\"disso\",\"artagnan\",\"preciso\",\"uns\",\"pessoa\",\"segundo\",\"poderia\",\"mulheres\",\"nosso\",\"pe\",\"volta\",\"agua\",\"estao\",\"deve\",\"tarde\",\"rua\",\"sob\",\"luciano\",\"caminho\",\"certo\",\"foram\",\"faz\",\"alem\",\"mesa\",\"horas\",\"boa\",\"hoje\",\"atras\",\"ideia\",\"alma\",\"deles\",\"nossa\",\"exclamou\",\"frente\",\"ve\",\"ar\",\"estas\",\"fazia\",\"ficar\",\"carta\",\"nenhum\",\"mil\",\"sala\",\"pelas\",\"ka\",\"medo\",\"levine\",\"vamos\",\"marido\",\"propria\",\"teve\",\"manha\",\"instante\",\"possivel\",\"ponto\",\"claro\",\"voltou\",\"feito\",\"pensar\",\"ceu\",\"pobre\",\"boca\",\"jovem\",\"devia\",\"sentia\",\"silencio\",\"comecou\",\"chao\",\"porem\",\"razao\",\"quero\",\"vos\",\"ora\",\"forma\",\"pes\",\"pos\",\"pensou\",\"aquilo\",\"nenhuma\",\"repente\",\"poder\",\"cama\",\"rei\",\"causa\",\"sair\",\"ah\",\"ana\",\"essas\",\"cinco\",\"conta\",\"maior\",\"muitas\",\"esses\",\"vontade\",\"naquele\",\"deixar\",\"algumas\",\"passar\",\"maria\",\"vi\",\"desse\",\"vem\",\"trabalho\",\"dinheiro\",\"vossa\",\"amigo\",\"nesse\",\"longe\",\"posso\",\"sol\",\"vista\",\"veio\",\"chegou\",\"senao\",\"elas\",\"duvida\",\"papel\",\"livros\",\"visto\",\"aqueles\",\"medico\",\"grandes\",\"digo\",\"estado\",\"alto\",\"cavalo\",\"fundo\",\"sra\",\"vao\",\"forca\",\"chegar\",\"algo\",\"neste\",\"fato\",\"respeito\",\"janela\",\"olhou\",\"jesus\",\"passou\",\"saiu\",\"simples\",\"apesar\",\"encontrar\",\"tenha\",\"minhas\",\"certeza\",\"deixou\",\"muitos\",\"irmao\",\"via\",\"los\",\"andar\",\"continuou\",\"ouvir\",\"ordem\",\"entrar\",\"tornou\",\"levantou\",\"voces\",\"quais\",\"espirito\",\"perto\",\"vinte\",\"junto\",\"desta\",\"tras\",\"filha\",\"sangue\",\"bloom\",\"dava\",\"olhando\",\"dez\",\"certa\",\"entrou\",\"especie\",\"dizendo\",\"seguinte\",\"pequeno\",\"reis\",\"unica\",\"espera\",\"dessa\",\"comigo\",\"sendo\",\"paris\",\"pena\",\"estivesse\",\"capitulo\",\"mar\",\"voltar\",\"passado\",\"portanto\",\"amigos\",\"tua\",\"mestre\",\"baixo\",\"velha\",\"estes\",\"haviam\",\"consigo\",\"bastante\",\"contrario\",\"atencao\",\"oh\",\"vronski\",\"filhos\",\"bracos\",\"cara\",\"fazendo\",\"crianca\",\"ultima\",\"meia\",\"imediatamente\",\"familia\",\"seis\",\"naquela\",\"ouviu\",\"feliz\",\"athos\",\"dito\",\"sentiu\",\"morto\",\"entanto\",\"pais\",\"nova\",\"marius\",\"fui\",\"gritou\",\"direito\",\"deste\",\"sorriso\",\"jose\",\"passo\",\"quis\",\"viver\",\"tendo\",\"teu\",\"passos\",\"kitty\",\"capaz\",\"crime\",\"daquele\",\"umas\",\"rapaz\",\"braco\",\"ultimo\",\"tom\",\"pensava\",\"vinha\",\"merce\",\"enfim\",\"realmente\",\"contar\",\"jean\",\"pudesse\",\"guarda\",\"sinal\",\"vir\",\"ano\",\"morrer\",\"doutor\",\"cair\",\"ler\",\"guilherme\",\"debaixo\",\"escada\",\"finalmente\",\"irma\",\"favor\",\"alice\",\"cavaleiro\",\"nossos\",\"abriu\",\"atraves\",\"acrescentou\",\"unico\",\"amanha\",\"afinal\",\"expressao\",\"sentido\",\"lagrimas\",\"temos\",\"falta\",\"nele\",\"diga\",\"guerra\",\"exemplo\",\"negro\",\"pareceu\",\"muita\",\"criancas\",\"ricardo\",\"rainha\",\"fogo\",\"resposta\",\"i\",\"azul\",\"pequena\",\"memoria\",\"levar\",\"conversa\",\"daquela\",\"desejo\",\"carro\",\"dormir\",\"triste\",\"alegria\",\"sombra\",\"encontro\",\"jantar\",\"estranho\",\"tio\",\"vendo\",\"pergunta\",\"ouro\",\"chama\",\"felicidade\",\"pedra\",\"deixa\",\"las\",\"costas\",\"diabo\",\"bela\",\"segunda\",\"situacao\",\"acaso\",\"chapeu\",\"ambos\",\"faca\",\"tempos\",\"cavalos\",\"podem\",\"maximo\",\"cor\",\"haver\",\"branco\",\"aquelas\",\"altura\",\"gosto\",\"sequer\",\"pensamento\",\"ca\",\"nessa\",\"idade\",\"alias\",\"estamos\",\"sentir\",\"raskolhnikov\",\"francos\",\"numero\",\"tomar\",\"obra\",\"igreja\",\"demais\",\"paz\",\"jardim\",\"fica\",\"prazer\",\"avo\",\"castigo\",\"longo\",\"campo\",\"poeta\",\"sentado\",\"daqui\",\"alta\",\"ouvi\",\"resto\",\"pedir\",\"escrever\",\"falava\",\"geral\",\"natureza\",\"depressa\",\"epoca\",\"valjean\",\"padre\",\"principio\",\"ti\",\"meses\",\"ouvido\",\"peito\",\"labios\",\"povo\",\"acabou\",\"milady\",\"pra\",\"frio\",\"va\",\"minutos\",\"cabelos\",\"stephen\",\"tanta\",\"destino\",\"eis\",\"sorte\",\"vejo\",\"jamais\",\"forte\",\"sobretudo\",\"comer\",\"perder\",\"vento\",\"encontrou\",\"gesto\",\"partir\",\"rio\",\"efeito\",\"pegou\",\"sonho\",\"dor\",\"for\",\"cosette\",\"canto\",\"esperar\",\"novamente\",\"terrivel\",\"direcao\",\"impossivel\",\"passava\",\"jornal\",\"pior\",\"natural\",\"sete\",\"viagem\",\"ontem\",\"esperava\",\"rue\",\"dedos\",\"houve\",\"lingua\",\"iria\",\"replicou\",\"assunto\",\"creio\",\"es\",\"imagem\",\"direita\",\"vestido\",\"amo\",\"flores\",\"futuro\",\"tantas\",\"levou\",\"cardeal\",\"cao\",\"cuja\",\"completamente\",\"tera\",\"policia\",\"presenca\",\"nela\",\"fossem\",\"dado\",\"dessas\",\"afonso\",\"dando\",\"cheio\",\"delas\",\"contudo\",\"tantos\",\"aconteceu\",\"hotel\",\"casas\",\"tertuliano\",\"nesta\",\"senhores\",\"falou\",\"pao\",\"perguntar\",\"desses\",\"pernas\",\"tirar\",\"interior\",\"margarida\",\"cozinha\",\"encontra\",\"vinho\",\"movimento\",\"dificil\",\"simplesmente\",\"ruas\",\"iam\",\"questao\",\"olha\",\"sociedade\",\"ocasiao\",\"neve\",\"poucos\",\"ariza\",\"parede\",\"tive\",\"procura\",\"ideias\",\"esquerda\",\"chamar\",\"pensamentos\",\"figura\",\"leva\",\"estrada\",\"somente\",\"vira\",\"beleza\",\"passa\",\"tornar\",\"falando\",\"continuava\",\"existe\",\"entender\",\"espelho\",\"esperanca\",\"dizem\",\"caro\",\"opiniao\",\"s\",\"abrir\",\"gracas\",\"janelas\",\"olhava\",\"mortos\",\"apos\",\"franca\",\"sozinho\",\"cuidado\",\"trata\",\"nossas\",\"oito\",\"livre\",\"parou\",\"vindo\",\"tirou\",\"pediu\",\"cego\",\"necessidade\",\"chuva\",\"impressao\",\"ma\",\"deveria\",\"facil\",\"porthos\",\"belo\",\"ficava\",\"musica\",\"consciencia\",\"acho\",\"florentino\",\"mau\",\"pedro\",\"cheiro\",\"professor\",\"cafe\",\"fazem\",\"carne\",\"posto\",\"fala\",\"david\",\"precisamente\",\"matar\",\"tomou\",\"velhos\",\"trinta\",\"autor\",\"dentes\",\"companhia\",\"honra\",\"conseguiu\",\"podiam\",\"ouvia\",\"costume\",\"naturalmente\",\"cartas\",\"comum\",\"fiz\",\"querer\",\"presente\",\"arvores\",\"possa\",\"duque\",\"acima\",\"entrada\",\"fe\",\"tais\",\"forcas\",\"conhece\",\"pescoco\",\"roupa\",\"nisso\",\"motivo\",\"parar\",\"tomas\",\"cujo\",\"patio\",\"somos\",\"apareceu\",\"mandou\",\"vivo\",\"rapidamente\",\"tens\",\"bolso\",\"escola\",\"nota\",\"seguida\",\"teatro\",\"pek\",\"espada\",\"saia\",\"menor\",\"rir\",\"menina\",\"necessario\",\"conhecia\",\"doente\",\"espaco\",\"proposito\",\"jovens\",\"acordo\",\"soldados\",\"frances\",\"juntos\",\"levantar\",\"responder\",\"verdadeiro\",\"chorar\",\"visita\",\"pareciam\",\"menino\",\"aramis\",\"escuro\",\"sentou\",\"morreu\",\"compreender\",\"dai\",\"encontrava\",\"sentimento\",\"leve\",\"pensando\",\"cheia\",\"daza\",\"folhas\",\"pele\",\"baixa\",\"seguir\",\"vale\",\"lua\",\"moca\",\"cadeira\",\"portas\",\"deixando\",\"gato\",\"culpa\",\"branca\",\"igual\",\"diferente\",\"provavelmente\",\"semelhante\",\"basta\",\"kadife\",\"segredo\",\"tereza\",\"tipo\",\"seculo\",\"servico\",\"devo\",\"mente\",\"razoes\",\"cedo\",\"mostrar\",\"lembrar\",\"governo\",\"tivessem\",\"obrigado\",\"procurar\",\"cha\",\"daqueles\",\"jeito\",\"fizeram\",\"acabava\",\"perdido\",\"caiu\",\"proprios\",\"correr\",\"contas\",\"casamento\",\"ferro\",\"thenardier\",\"pensei\",\"venha\",\"le\",\"relogio\",\"continuar\",\"certamente\",\"rapariga\",\"realidade\",\"escrito\",\"boas\",\"sono\",\"imaginar\",\"importancia\",\"cinquenta\",\"olho\",\"deixe\",\"ultimos\",\"bons\",\"ponta\",\"ombros\",\"veja\",\"roupas\",\"prova\",\"lugares\",\"quiser\",\"animal\",\"quarenta\",\"antigo\",\"paginas\",\"chega\",\"faze\",\"conhecer\",\"contou\",\"distancia\",\"final\",\"dilsey\",\"grupo\",\"olhe\",\"parecer\",\"soube\",\"banco\",\"breve\",\"problema\",\"correndo\",\"entretanto\",\"ficaram\",\"fizera\",\"nomes\",\"nariz\",\"batalha\",\"metade\",\"observou\",\"achava\",\"vergonha\",\"noites\",\"chamava\",\"aproximou\",\"criado\",\"kars\",\"sorriu\"],\"x1\":{\"__ndarray__\":\"cfoUWDQuJ0DWb/1HDcoLwH2NnqJd5fO/P+/80v90+z++uQy4mCoiQPSNHvCw6SVAGiFa17ZX6j/ov6qbA2khQOZnDKo3ShtAcvRuHSXtI8BFrCF1x+8jwORB/XA5SDFAtHeQjemgMkCNCf/s7v0KwLy2RN/UnjNAluzvha+iEMDG93hsVt/av4rtCzUNjgHA0IPI8VtmIkC8LyrG/M/xP0VsLRwX6iPAV4iumh1XNUBc3TFj9A/wv8iWVxjMayPAG8MmahAmIMDr7+fN9rUhQIPFbGfSyB7Af8gOQqS/LMADEsD/rcgyQB195buW+zDAP9MFyYiBMEBYKWfbj5cWQFchgJIwIxXAxKgt11cpIMCH8KJYCTkiQC4Cs3ky5vm/0Wnb83bOKMCuNfjCOZUUwE5GNVkfnSFA+MTaLuZ21j/UFx0xMj0FwLE+FsSm5yjAvZWYMuKvLMAgVo5HyckmQOQLF8UQVTTA6lR85VDaMUCg44BbckQVQIWQ3+Y6+QpACOttptUqwz/GGkIeEpITQLYqP5gfMC5ApYd/dF+e9T89RkoM7sciQEFSD9BJIRJA+0WFbCRPIMAJ22L6+Vjgv8WtaRJnuCdAjgX3gdLjMkDS2751u0gLwJ3rtdV1zgJAznhLBU/txT+vZxvSyBMzQAHn1rnasQ3AkIelcWkP9r+ccPUIojn2P100OL3RiiFAADTKDs2Wx7/qO5O801oZQKcMsOvdwBNA/mYdrs6lEMBCxFm87XEnwOEhWfb50xdAUADci49hNMCE5etWrZUzQO0gZ6tLXiFAmKIXyVVs2L/TwXv31ewgwNEdA7uEizTAIVdmxvmj8b/iK8v+S3UowNDtFbov0ybADobMIdO+HsCo2I7hGFgwQM/r1uIibShAQs2xa2RyEEBPmTujGmQtQPF4MlyEOC5AVmfV7HgpMkAD2QhLnkgBQDYeuYt7mh3AmSW57jdXAUAEHcqdbdUPwGSPHmOQvxbAgy7XXoqlIsAxJGetgz0HwOVdKrQ6AxzAJOYdeojkMUD9kTlhbQkkwEVJ0phGSTBAcfQUxld/FkD4Vj/aNpb/v31slEP5wTPA7wttwnJBFMDJIY+8LykxQPh6RL1/XyFA1qWtcbgE/b/lyghThwExQNj6asC7fTNAjOxjUc2+KcDfVdxx9uAgwG7Bkli54g5AZYHG8UZVE8CIoW6mUWUhQDLlxfpuEL6/wLfJDSSP6j96AKWQoDAZQE79ebGUKRlAwqTH6oc4EECn/Wbg1hIhQHNdb8VN1yZAeW0q16ujC0BxgXNdTNMewIe38QXUiyFA3l5fQtAMIsDFmBpUD8wwwNeb3537ji3AT2OsMmCWD0A9/8LlijAcQDyuDB/SaALA6mr6FbZL+79XJB/UOtcIwK1fV2dUVgfASQJ70a8xLMBeLlGZlAMAwFSlTEBhP/M/04ZQhk2IIkC2ZwHpyPgxQPc8TG9fWvG/PboVxknn+D/19xDSDAQxwABsNEoX6AY/ipvtjfLiJECDJT0VjOXvPy4MQ+iHbiFADP609jgmMkBwXwq+adCMP8dzgKiVTzJAcOmtfaEeDsBcvyPyI2MuwPYvXNFmfxLAjeKaxO3l5786tpLLBvA0QMG3UKS5JjPA3z88wooZIkCSUReO8bQWwAw5CGRo6ABAlKLS8/EwF0A+UCx/z93wv+C4Ru40js+/4q1/qR0XLEDUzRm4FgAvwDfwZ+wTjhjADsYFbd2tDUDqP8wJicIrQABDufHQUhHAyzZqh9w5MsAczIG461vzP3ACe/EtHTTA5Gj4zF0/E0Ca+9YLxVEtwNHkXzq4pihAGrsR+A6UJcCr55L9hCABQPvTQ1qyviXAe59q6Qmh9j/YmnE2jjn+v7m7YxYvgDNAVEqC2z1WI8C1+96u7UUnwEa6fWman+a/XqBlPqazIkDd7EaGlSgswAoR8gwUlyDA1xF8OJ9CBEAk3vGgHx8xQD9+2PIroCLAX+qV3rZoIEB8XdcSLb0bwLtUuZzcniRAyHQjiFzdKMDfAU3STiseQMkrg5NjESBAZLVCdRVwIsA7XvUzIQY0wM02N49Mt/o/t7ww8QyOI8COSbAqfl8hQA7MJ+8PfjBAQRmjvEQ7JcBoSu9qFfgTQB0/mk5TXy9AdLtBmbUeE8DXBD8MvuQywJWp2D/4IDFAblcNsaE9MEAlTcJC3/lqv1umAOTkUhtAjXcoIundI8BUZH3B7lwGQIjIFZpJ4du/978nfYKiKcCBib79/nMYQNibbHcKTyXA/hk1A0ryMkCiYUAfpJcqwK8dC1U78xdAURm7+Tf7G8BTSIjCNXgWQENo2GRYVRBA+srt/lfzMUBG4Usy/0gxQA4MPoBgXiRAbvD8tlR4I8B5skF2A9sdwFyPAVGaOyRAym3CTpccCUCi7RXiA3wuwNaM0s6nQCPAPE0u8/kpHUBqAUxQMvIuwEi5Dp44hPE/0or31SRAKcDOfuoFsvkFwAhrK/+yPhfAeXG9K/X3K8BFUbWs+kklwK28phkBfw3ANGQcilmNC0AqXTtVcgMXQL905xmXARBAjxxxYEmqKcDfA1MzOjgwwK43GWeZMiNAVbeW63tFMsDwK2Dbu1whwCRvRCcWLyNA4pyYYszTI0CXQLuChdskQHjYEGFr8PG/EAzaF3QIJMCy0te39sgxQGwzllxO/zPAJQP154d8MECa8HsQOXgbwObVWHaPqiXA97cXYaHyv78Az+EFSzXIP5Sl5Dg1FQVAiYYWD9zlMUAIGBgtBrEfwK3qUQ21YhVAGI9/L4dOM8DxDb12jw32P5Jo7inwiRZAPlYvkUiICkBWUEmH2owXQCr8KkzWpSJABHOXDtpdHcBrlydCVcEzwDXlKuqJ6ynAL21kJheOIUBCMPggFb4YQHwU19pNJPc/l1CwKCqRJ0AoJ44qeEX7PwckO/IgWBfAB0LKtRkjJcDitLHKpoMAwABKisimrB9Ab4+EdPtRLMA6vK7PfQI0QC70Z13HdBfAmVxsEviGBkAHikjSCDMTwIvGsiF08BrA4SlDIatC/r8xCNyHcQEzQPzZQr//ZjDAy9+TgA50GUB+0jSmjxUbwPvctkSG0RhAJW+WxcdpDcB1jaL3v2swwARm2XyNJjFA9WRdqIupJsDla0ipiU8eQBB4UksIejBAnYpNdHb3IUA4IWGgYsQTwIDqems7CwPAtbK8NsbXGEAH7Kjai5cDwLQ2sZcRDSLAzKKBS9tzJEBF1mqIWd0pQAF10xvhdjHAcyl+EFPQKcAaPIw4RRAsQJDWxNTH9ANAUjUvU+18FUDAV63Jc9HXv2WMaU/h8inAgjQHIbss7D8If9mJf2cxQJPGDkjBACdAMw879HFFIEA97hqO9oEZQMkravLbERpAgTjg/q1NM8Br96ExK+cxwKHCiTrJ8w9AEePm/b+OLMAMm6WF+L4kQHhPMe1TnOC/8FUlVEmWFsACKwX8smwkwJhrjitXTCXAWTC10SVtHMDo2iuher4XwCrXj2j9zihAs689lNnQK8A6eP7XanswwHiJS8NYShNAyFn/KX0oMkDAExq82w/1v7I74SoRWB9Atgf8JNIJIEA6esF5zgYNQJidgFcjVwvAB03InyVoLUD3z7FiN0chwEInaBaJwAPAuBxAb2QpDcDjyOSfKioxQKZg9wfMFxvALpMyeC4OB8Db4eVocpMHwESafqpNsDFA4EPnVjwMFMArid99M3siQDDKKwbE2i1AGdJI1PlTCcBbwQeEiE0uQNjP+SBbhNs/2n7UawJkK8CqWOjyj+UaQCYq59HQYCPAHURtECRWHkAutPMLyx8fQBRY9pgm0SXA1xcuoBH3I0CCUXrTT8ocQJ2rHi/v/Pg/8Fa+03hyJMBw6vAB+xAnQH8L26arUBrAPbVl3Wi0LcDtYno7O70swHTgxmxqu+Q/LlIhxYtA+79jEvsRimf6v1NWvK/+JBlAVHCEjhnMCcCXw5dEX4nwP8izI6LVoTFA0Q936+xtEUBUP9bgLoQQwFvVVDv85iHAR59aiWdpGEDQ0VNVnwMkQMtV9MXAlxtAnWXf9SipJkD4lseAiEIGwLeLzfD0IB3Awt8DV5ZEEsCLxsFBOKYuQGj4j4qOwRbA6VPF42XVIUDQNZEnU6gDQA35UEkjeA5Ai5dXW1UaIUDugwCs6nojwCTlCdSFfN4/mhsJa3M3LMBcbPcypBYqwIwiK83kzRDArFfUedbMAcCM6rAb0JkwQITxTShExjPAsCA3S+IwDMAYICJi4ZsOwMc51dRNZjDAw9T1KYn2MUDKJnNKzmMkQHVNxHuK+i/A6EJU9DEyLkDWDFMTeGooQCKYoVqwPDDAVd5FxmGnLkDcZihrZzchwDjLQY61Ri1ANaA4VpeHLsADlVVIEMYnwCVwIHsGSAHAXZ2z7wYt/b8KofA7/+sdQE6cumAM2fs/K1a/BxLaMECJ5fiFeRUJQKG+KSnkXDJArDIEUcg4EECIBmf2fHMlwLA42JHmSyJAtNHAhMkU7z8i/iHbCaMwwE9NjiE7MCPAxuuSS1NCMUCOCZ52KbQxQAUbe4tEGirAOPD0w4nNF8A0p4XIGcsSwHI3zA+6KxpAErzi9r+aGkDYs052h6b5P3/zRSOdcDFAxNLU4BA7FsBhSnVBPXIyQFdhE6O47hrAOuwJ4gy9+r/BW5CZRHsjwN0iAAEoBhLA0KRL0J3kLcAKhWBKBsb0P/yewRiW+yZA+aVMCPPHLkDqOtI62bcBQKGW3Z87/tE/yh/R40e1D8CdXZo8/RozQA6y6i/dshRAbLF0kgiWEECukMeLzzEkQHedSAJRvzFAN9FUpsb0M8B0YWa3+ncZwJ+fGNT2mgbA6FNmvGQ7EEC6Aaa1G2YlwPMHe/46EyDA81DDaV/0AsB+EVGarWEBwGqD24DqiShA2ur81IjEGUCa1NMUbYMlwOAhzGggmSHAkVonHVhIMEAcqZ9UwLcrQMNFduOe7ee/fgU9gQOmIsBkgtI1Y0sxQEd14Qpy5TRATvR7H2lFK8DT2CwFFN8OwLxP9959+dw/AM+SDSBB5z/cTuWHLvMxwKKHzqbWywzApnUXHGQ3FUC1/YFGqVQaQI5sBGEcZiZAVIRNKFwX9b/HPBGz7ZsowMdLsETnUzDAM8CALGr0EECrAc+U7J4bQFSYxuvkeBFAkG8ZMc9m4j+/DnjHWE8UQFGaEQu+oDHAHBPiGh4XMEClIaJArWozwKTObMxh5BJAXkt/Ohrppj/k0WUeLtsCwJvseVlbCwRAAfPG7t9xC0CP5DtSgzUcQEnnak2XAQjA+EfeiheHGkC/V0egVokgQD0IQZo8IxhAkFwgXU6qEUDyZMGszNgvwJfuuhZOjy7AhQ2OJmMsJsAcGQ9Zix/Xv5vkwWBthfC/eTl71AnYL0AFkFVTuCnqv7EuElV07TLAw2MDYgFbFkDkCxQq8ekRQF8tcTZRlS5ALmXZBMwvAEAxOpXNJsUvQCw25A4DRQxAdJro7U8eKkC7d+uVHc8rQKYU2Y4OU96/kNPrXAUtDkByvCuNDCshQPzfh8dbp/q/CKmzJAmIJcCHKakU7TcfwEcwUsKbjfK/0usx+qPJ/T+jiDGkvm4yQP6KV6mSESjAhRkfpzALEUC59u6dMcMvwLjkJEn0aQ1AZ0OMYa61F8DC6PyJt3HmvzrcK6kanRLArWU4IKRaGkDon0EiZ1zrP6fKKDzNZybAbOcpvUXVFsBquCCCcT0JwC4pieNoyiHAu+23/ihlIsCirsIBcK4PQEPyWakLDh1AXgrYgsbZMsB4AJgGKhAxQPRe2FefOc2/SHuaw12a8D90+kpAPWUGwMdmhd2kGiNAMtzfadKlJcBRw6wt7zz/vxt9NXLIChxAtw6BbVvDJUBzgToMv/ccwKhJmDsSiixAfoVHDthLJcDjpD9cZJUyQG4kbQ5AWh5AY09RLuAnJEAPY5OWE0ksQJU8EQiadhPAo3A0E6WMAMAAibI6q9siQJHNYIHJ0hxAiylKu298IkC0DTLDmfYUwMJ/g/svqCVA4AIitsErEsBPVUBprZ0lwNRfZwz8ph1AgRODF7f1JsDddaSdwmcawO1PCGKZySJAhSwMbUQMIMADqE338S8uQKmNeHOmkfU/cq2XVHG5E0BhkvnnUS0kQN8xkEogDjBA9Qx7DZNfIcBmrREgtN0PQBmVAqElCh5AbZGPuqsRDMB2GaQ2aNEhwNYjnYDyufm/N4EMuwh+9b/2TFpG41cywNLWGG/w/DFAUWTehYHBH0BWuzkfwIkxQFHD7OgR8B1AA1wNie2PC8Dy5UOBRMklwOtRjnIpShtAWp6dYeDDIkAlGWNdwVMcQO7hing2ThvA6wn7FpPSNEAiHAtj2IAhwDYXjb97Mte/ghNTd456H8DR0gKNUmwxQNOyi+QREfW/MVU7B8pzMEC9Lh2wdFgmQIoOvsFJECxA4c3FYa5uIMDJ1/Po5PQiwAbY6LUhcQbAF8yPoRMpI8B8WapQMYokQF1sktl25CfA9YH6ZTMmG0BGpRsxbp0lQAuv/rnxE/q/8EZ+0vwKKkBgKTAFLNImQOdnQNLNHxRAOPNEDLHhDEBFHrmcmccXwELazI37qTVAm7SOL+ElKsD9dLJFipMTQGGswwl6HixAZvRaYuzSK0CmgjP53NcuwN2VQhfGPg7A4r3pmxnvGMA1hFLzdu0XwHGqTswQ/iTAmha9zgZ1+r8hh28Ik5ARQOm6zm66RhVA6nVoHIIAIcAf5NpRATgtwBmtb/ak8BBAZxS4MrssIUChkSXlvjQoQES/yY8W+hhA+yF4G7PUMMCgD0VZCdzqv8gaQg655SDAgkKoSSNoIUCjXnw+lZ4gwGiw0teKDC3AOsWDUTgIKEDMRpbWZU+8Pxna8dB+uDBAYZgzU8AOG0Cmkx62FDEkwAE+hwX8NxbAcM8NOpoII8Cagjw/eBmqP1X4OKiZmxTAkCRm3HTyCsBH5a88OvUrQOTBc2bT0y9ACEI6jsxPJkDq4Wv9W7gqwPuvtzsPwBNAg1APQCzNKUDJEVyK/rYmQKiRduGb8QpAtGBSva1QKcDx6YKji0UbQOpeAG6vGR3Ali0ik8RoKcBqXiK2PzL0v357E8v4vSNAIKd9lutwL0DAkgL3Nm8BQG0ecrJiFxPAiJgC9C+jGUDDM87IGFIDQERpWDaJ0y7AU3LHQ52gIEBGq5BOg/z/P55DbapE4xDA5SNjSdctMUDWfb7nEIclwFCgRyyuSxbAs/PI7TlXLsDp9Ko0TNQgQMx2RbhZTChAFI41gFfqKcAekkKPeIkawPdo5tjObDLAg5fm30t5MMC9sNFHQwQYQAnw0xhmVCLA7tynlv2GI8Bm6DIKl9UcwNHrpVZPah9A4phRCUb2HUBxangFCdAjQB48VpmhxgBAOpP3xqOrGUArnqcEUAAHwHs8FVL5gSzA5movB2csDkD+5Q2cY7AeQBbVp7CvjzJAUd0IoQmSEMCkZenK4MgywC+ve4tKoyLA2xg/SR2/HMDIjtIknpEIwNnv6rudaBXA9/K+34v86D+aQcJlT58HwAKRaXEp/jFA1GrfyazHJcAP/hQGqLohQNm0B4H+QwDAmu8XgXCm7796SuV0E/AxQImrKzL4SCXAs+OHGAiAJUCZQysEsZ0GQLMufkJL/jFAkAJQ2VjcNECNoTnNfFgIwHTpHof39i3AeHtBGZFQHUAQXxbDxNMvQBl4V4Ae6zFAeWTt/B6x9D/9wbJYLl0rQJ8QLxuchCdA/eJqVRRI778Cn4wC6/4gQGKCYzQdEBvACNqBV+s/FEBB9Fln2F0WQKiQn6ATwAJAwirw50+2+b9wWkXk+MIGQF9Vr5k6kRnA64t1PrUPIMCdVPbSYWwcwBON2FKmliDAYbIW3gRyIsCIJx6hifYhQM9vVHgsDDFAXsBdZPkZK0CXnvjg9E8hQJK8ur8WsifAHo8LzgoAF8BmYlesLLDgP3tP5OhudR9ARaS2xpcmL0AooavNH2cEwGRSsWszsBfAg3A1J/IAHMANhNtkIlYhQJ3Gy8Nk6AbAOsN1G907LcAAiod670MUwLHsclsbkCjAZo9e+jCyMEALtYPwBZ8RwFg1toerJDDA5IvYGFrqKMARuL+uPLwwQHySeDUvmSNAGThl3iFtFsBLKDrxH38YwIQCEHel5iNA983ayE9nHcDxpgZMxJwTwPrmGgSwPCpA133YLbNwDcB/xGXByhYIQN1pKfDeViPAJMa8WwjnAsAR3mFa/YoNwJrWpl3VrSLAejZscQM/C8CpYeqW8GcaQCIZOiLf7SfAhXN0Q329B8CPTjyb3ysxQBA90Pui2QjA7SfR6IBpKcBv/R/BZ8rwP84NN8J0dynAt7avlUbGLcBDbBcGwzgTQBirE6k/ABnAUWqq231qIkDPxZkot2wSwKfKmVodBTRAoIt6biosM8DcYF5dic0CQLSeGlnEKfI/t7EfTVJRGkDPnBJwu9gtwHOg9sKenx3AhSoyqiwjHsCSH5O/lzEewGX5zd5EGytApEjVBQMFBUBoGHilhAngP3YG011CIyFAja+8UlB6EkBmFPkoNW4hQN6mcjmhmRjAiLAlk0i0H0B3NZ6jva31P7+St0eLjifAf23gxdt8+D9sx7mRbOPlv+JbHXVapC5AzvHkwCYMLMB28CZlIFsHwGkeXfC11DBAOXYZn0TfFUBVySmS0SgoQEfXcZGciyLAVXWx03F2GsCmmzX7kFMxwJ30ytfpUjLA3UsANkfbL8BXDQg+soQKQKP0Xt5F7AbAT6q6uKLY7D/lSFO+1boOwOsTU4ONlijAM0nwQc2MLUByfb/+RQwCQAT6cstLVwVARC8EtekbM8AONYDRPLcMQJM+fpOy4RBAj7bFQxn3IEAxGB/Do5MawDVFTauRKQ7ADCW25cR14L/KPldZA6EmwAoAIhk/8SBA9fAIXerFHkCwsdePQwsEwOhOXQqwHxlAPwJeZzZaK0A0ZmfNXhjzvwQ819fY9htAWIPsMLcUKEC+4pg+XvEWwCOgHd1glCrAuIz1Sa7jLcDfoOT+JH4MwBPyIO0MywJADb6MxlQ2JsDH9hx02VodQLlP9JUsSCPAmfeY3bCnEcByv/PuhvICQDoCbbMJFyZASP6cUMiuBcB74wYWO8seQD++Plg1bCzANo2AXQRkBcD+kkOMXPsnQHonNz90Dh/AU+B8ud4iBEDoxnAiFpEvwO7js+Y11QjAkIqjHj6nKEBBHq+tyrMFQNwfOjC23gvAz4UXeGU0/D+wtMvEoED6v7MKAsiTpRdA7ZsUv+24DMAjyBPxIPcpQNTCYjUYZi9AVdp9O+peDECycYHgLkcoQCYWPkRMCCbAhj8rXC1UFsBtduwrkHsUQMRi0Wfv79i/mUM9CQcJJEBFIrrl/tQnwE3QxQjxVizA+egz032fMEDZpb2/p4r4v9CKuH68ly7ACl+KC8PmHUB1xXRpWrYMQNqsie2JGg7AblZO3/pfIUC5uHXjgxgrQLtFzviNjgBAna5TtXwgHkDaUCp9hKs1QIK2fSyv8ipAlp0uDbHmJMAxuaW1j2YjQMpg8aZ2OCHAEyM3swqwH0CVT/sqiKcHQCibjbLAtibAUAkDKXSPHECH4STIypsYwOWo2j/Q6CBAWy8QTuIDD8Di7/McW/ARwJz2CrouOfW/qAQWiWkMEsCIAkNUIf4kwAvsCcC5MvO/q+jj8S1SFECktayTVib1v+LRZTNVHhRAoVboiWG29z9pSN5cVgcYQFfb4bOT/STAnG/ck38jHsBQQw4eP63sP0YWZNW3BRjAYpeddGt9JUCSNUpBugAwQN4yRO5S6RdAk7w4vVeCM8CWEPDgzp0AwMqIfkE/1ytA9HRTzFY0IUDn9EtZYfUxQCQ84YUY1BZATzlfey6CGcAbUeAEH1UxwOCFm6SyEfc/OFwRjaHJJ8Ck5OxgHa0LwGAMNHr/ZipAISb+I2Cu9T8BCpGYW/wYQF06bxjKFR5AwUHEqRDa5L/exaZr+SIgwELQEnSQiCXASs8QEPT3E8Bc9tIUAgogQK5ur/1YWy9Auuzm6+aW8j+36a0iVDYfwM0XfSHe3B3ApF7UgZls+j8ecjaV9zoHwKdG+goZXiFAyjDtU/yhMED74cWjRsYVwBhFXmvj3zBA/m9Pzl9gH0BY7D1DWbwhwAjiwBKtrjBAiCqx9c8pMkBNjLFuPmsfQODd1eloUShAdiFdiRBfI8C+KABI8zr8Pzq9Gdc76hvAbeuBrmdDB8CiL+3SDh0iwKiIugxO5BpAZB9D8XbrMECJaFhGMBAZQIPYMmHlbvY/HOiDP9nMJMBWKeWJ1kEbwDEBe1I3ATBA1J8sCHvgLcAzlsMacl8fwNvZsULweRhARkQtN56buT+mCHebjyomQLsI4jLcZh/AmHty6j8BMUBkkP4cwRIuwH2CvCSjVCRAJcRrn4mJ+78av1wYLYsaQMqkboiXnwNArisRpDG+9L9YwkBhxkoZwLcRv6NnDi/AmCMQUOAu/L99E+1mbGAgQPJ8uXkCwSbAfbTBLX1jH8C23u/9ylQwwNvoksRIdC/AECSfR7EoDcAZ0FoRecnzP4g/SeAqKC3A1H0EAQG8J8CBDjXcfVwRQA3nheMBdiPAvPkXVkLWL8A=\",\"dtype\":\"float64\",\"shape\":[1000]},\"x2\":{\"__ndarray__\":\"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\",\"dtype\":\"float64\",\"shape\":[1000]}}},\"id\":\"b3d227d7-7240-46ef-9af3-7bd3bec841d1\",\"type\":\"ColumnDataSource\"},{\"attributes\":{\"active_drag\":\"auto\",\"active_scroll\":\"auto\",\"active_tap\":\"auto\",\"tools\":[{\"id\":\"618d1e96-6661-42da-a9f4-7b76bbe854ac\",\"type\":\"PanTool\"},{\"id\":\"84a30224-486b-4bff-974d-c09b2ef1f953\",\"type\":\"WheelZoomTool\"},{\"id\":\"43f33be2-f32b-4d04-b8b8-1f4054fc81cb\",\"type\":\"ResetTool\"},{\"id\":\"d0081bf6-2e51-4aea-a4d4-7924cbca7c99\",\"type\":\"SaveTool\"}]},\"id\":\"f0a8ed6f-2813-42aa-a758-22d159e72e9c\",\"type\":\"Toolbar\"},{\"attributes\":{\"callback\":null},\"id\":\"0b41ba00-2a28-488d-9fe6-4a22d395c1c9\",\"type\":\"DataRange1d\"},{\"attributes\":{\"formatter\":{\"id\":\"86795edf-8af2-4517-953d-63c897b64ae1\",\"type\":\"BasicTickFormatter\"},\"plot\":{\"id\":\"61bb967b-0237-4c28-ac3a-5e1d23ccead1\",\"subtype\":\"Figure\",\"type\":\"Plot\"},\"ticker\":{\"id\":\"61edf317-cbd0-4bab-9241-903f378f56c9\",\"type\":\"BasicTicker\"}},\"id\":\"8559e689-490d-49b1-8fbd-03c3fda3c04a\",\"type\":\"LinearAxis\"},{\"attributes\":{\"fill_alpha\":{\"value\":0.1},\"fill_color\":{\"value\":\"#1f77b4\"},\"line_alpha\":{\"value\":0.1},\"line_color\":{\"value\":\"#1f77b4\"},\"size\":{\"units\":\"screen\",\"value\":8},\"x\":{\"field\":\"x1\"},\"y\":{\"field\":\"x2\"}},\"id\":\"a0143246-fddf-43c2-93f8-8ae9462a1482\",\"type\":\"Circle\"},{\"attributes\":{},\"id\":\"25c8af24-57f2-4036-8628-bc72c2b4f4b5\",\"type\":\"BasicTicker\"},{\"attributes\":{},\"id\":\"4f9fd871-905b-4cc9-8dc3-60596fc678f4\",\"type\":\"ToolEvents\"},{\"attributes\":{\"dimension\":1,\"plot\":{\"id\":\"61bb967b-0237-4c28-ac3a-5e1d23ccead1\",\"subtype\":\"Figure\",\"type\":\"Plot\"},\"ticker\":{\"id\":\"25c8af24-57f2-4036-8628-bc72c2b4f4b5\",\"type\":\"BasicTicker\"}},\"id\":\"a74f9982-c56c-42c7-a4f6-b5713c82d711\",\"type\":\"Grid\"},{\"attributes\":{\"plot\":{\"id\":\"61bb967b-0237-4c28-ac3a-5e1d23ccead1\",\"subtype\":\"Figure\",\"type\":\"Plot\"},\"ticker\":{\"id\":\"61edf317-cbd0-4bab-9241-903f378f56c9\",\"type\":\"BasicTicker\"}},\"id\":\"763e982c-83a5-4d7c-bd12-39c456f1686e\",\"type\":\"Grid\"},{\"attributes\":{\"plot\":{\"id\":\"61bb967b-0237-4c28-ac3a-5e1d23ccead1\",\"subtype\":\"Figure\",\"type\":\"Plot\"}},\"id\":\"84a30224-486b-4bff-974d-c09b2ef1f953\",\"type\":\"WheelZoomTool\"}],\"root_ids\":[\"61bb967b-0237-4c28-ac3a-5e1d23ccead1\"]},\"title\":\"Bokeh Application\",\"version\":\"0.12.4\"}};\n",
       "            var render_items = [{\"docid\":\"012d8bcb-f570-4344-99ee-266e22aa11d3\",\"elementid\":\"ee309bc8-63f5-42db-96f4-aff490711d00\",\"modelid\":\"61bb967b-0237-4c28-ac3a-5e1d23ccead1\"}];\n",
       "            \n",
       "            Bokeh.embed.embed_items(docs_json, render_items);\n",
       "          };\n",
       "          if (document.readyState != \"loading\") fn();\n",
       "          else document.addEventListener(\"DOMContentLoaded\", fn);\n",
       "        })();\n",
       "      },\n",
       "      function(Bokeh) {\n",
       "      }\n",
       "    ];\n",
       "  \n",
       "    function run_inline_js() {\n",
       "      \n",
       "      if ((window.Bokeh !== undefined) || (force === true)) {\n",
       "        for (var i = 0; i < inline_js.length; i++) {\n",
       "          inline_js[i](window.Bokeh);\n",
       "        }if (force === true) {\n",
       "          display_loaded();\n",
       "        }} else if (Date.now() < window._bokeh_timeout) {\n",
       "        setTimeout(run_inline_js, 100);\n",
       "      } else if (!window._bokeh_failed_load) {\n",
       "        console.log(\"Bokeh: BokehJS failed to load within specified timeout.\");\n",
       "        window._bokeh_failed_load = true;\n",
       "      } else if (force !== true) {\n",
       "        var cell = $(document.getElementById(\"ee309bc8-63f5-42db-96f4-aff490711d00\")).parents('.cell').data().cell;\n",
       "        cell.output_area.append_execute_result(NB_LOAD_WARNING)\n",
       "      }\n",
       "  \n",
       "    }\n",
       "  \n",
       "    if (window._bokeh_is_loading === 0) {\n",
       "      console.log(\"Bokeh: BokehJS loaded, going straight to plotting\");\n",
       "      run_inline_js();\n",
       "    } else {\n",
       "      load_libs(js_urls, function() {\n",
       "        console.log(\"Bokeh: BokehJS plotting callback run at\", now());\n",
       "        run_inline_js();\n",
       "      });\n",
       "    }\n",
       "  }(this));\n",
       "</script>"
      ]
     },
     "metadata": {},
     "output_type": "display_data"
    }
   ],
   "source": [
    "p = figure(tools=\"pan,wheel_zoom,reset,save\",\n",
    "           toolbar_location=\"above\",\n",
    "           title=\"word2vec T-SNE for most common words\")\n",
    "\n",
    "source = ColumnDataSource(data=dict(x1=words_top_liter_tsne[:,0],\n",
    "                                    x2=words_top_liter_tsne[:,1],\n",
    "                                    names=counts_liter_top1000))\n",
    "\n",
    "p.scatter(x=\"x1\", y=\"x2\", size=8, source=source)\n",
    "\n",
    "labels = LabelSet(x=\"x1\", y=\"x2\", text=\"names\", y_offset=6,\n",
    "                  text_font_size=\"8pt\", text_color=\"#555555\",\n",
    "                  source=source, text_align='center')\n",
    "p.add_layout(labels)\n",
    "\n",
    "show(p)"
   ]
  },
  {
   "cell_type": "markdown",
   "metadata": {
    "deletable": true,
    "editable": true
   },
   "source": [
    "### Part 5: Wiki Learnt Representations"
   ]
  },
  {
   "cell_type": "markdown",
   "metadata": {
    "deletable": true,
    "editable": true
   },
   "source": [
    "Download dataset"
   ]
  },
  {
   "cell_type": "code",
   "execution_count": null,
   "metadata": {
    "collapsed": true,
    "deletable": true,
    "editable": true
   },
   "outputs": [],
   "source": [
    "if not os.path.isfile('wikitext-103-raw-v1.zip'):\n",
    "    urllib.request.urlretrieve(\"https://s3.amazonaws.com/research.metamind.io/wikitext/wikitext-103-raw-v1.zip\", filename=\"wikitext-103-raw-v1.zip\")"
   ]
  },
  {
   "cell_type": "code",
   "execution_count": null,
   "metadata": {
    "collapsed": false,
    "deletable": true,
    "editable": true
   },
   "outputs": [],
   "source": [
    "with zipfile.ZipFile('wikitext-103-raw-v1.zip', 'r') as z:\n",
    "    input_text = str(z.open('wikitext-103-raw/wiki.train.raw', 'r').read(), encoding='utf-8') # Thanks Robert Bastian"
   ]
  },
  {
   "cell_type": "markdown",
   "metadata": {
    "deletable": true,
    "editable": true
   },
   "source": [
    "Preprocess sentences (note that it's important to remove small sentences for performance)"
   ]
  },
  {
   "cell_type": "code",
   "execution_count": null,
   "metadata": {
    "collapsed": false,
    "deletable": true,
    "editable": true
   },
   "outputs": [],
   "source": [
    "sentences_wiki = []\n",
    "for line in input_text.split('\\n'):\n",
    "    s = [x for x in line.split('.') if x and len(x.split()) >= 5]\n",
    "    sentences_wiki.extend(s)\n",
    "\n",
    "for s_i in range(len(sentences_wiki)):\n",
    "    sentences_wiki[s_i] = re.sub(\"[^a-z]\", \" \", sentences_wiki[s_i].lower())\n",
    "    sentences_wiki[s_i] = re.sub(r'\\([^)]*\\)', '', sentences_wiki[s_i]).split()\n",
    "    \n",
    "del input_text "
   ]
  },
  {
   "cell_type": "code",
   "execution_count": null,
   "metadata": {
    "collapsed": false,
    "deletable": true,
    "editable": true
   },
   "outputs": [],
   "source": [
    "# sample 1/5 of the data\n",
    "shuffle(sentences_wiki)\n",
    "print(len(sentences_wiki))\n",
    "sentences_wiki = sentences_wiki[:int(len(sentences_wiki)/5)]\n",
    "print(len(sentences_wiki))"
   ]
  },
  {
   "cell_type": "markdown",
   "metadata": {
    "deletable": true,
    "editable": true
   },
   "source": [
    "Now, repeat all the same steps that you performed above. You should be able to reuse essentially all the code."
   ]
  },
  {
   "cell_type": "code",
   "execution_count": null,
   "metadata": {
    "collapsed": false,
    "deletable": true,
    "editable": true
   },
   "outputs": [],
   "source": [
    "cnt = Counter()\n",
    "for sentence in sentences_wiki:\n",
    "    for word in sentence:\n",
    "        cnt[word] += 1\n",
    "        \n",
    "counts_wiki_top1000 = []\n",
    "for common_word in cnt.most_common(1000):\n",
    "    counts_wiki_top1000.append(common_word[1])"
   ]
  },
  {
   "cell_type": "code",
   "execution_count": null,
   "metadata": {
    "collapsed": false,
    "deletable": true,
    "editable": true
   },
   "outputs": [],
   "source": [
    "hist, edges = np.histogram(counts_wiki_top1000, density=True, bins=100, normed=True)\n",
    "\n",
    "p = figure(tools=\"pan,wheel_zoom,reset,save\",\n",
    "           toolbar_location=\"above\",\n",
    "           title=\"Top-1000 words distribution\")\n",
    "p.quad(top=hist, bottom=0, left=edges[:-1], right=edges[1:], line_color=\"#555555\")\n",
    "show(p)"
   ]
  },
  {
   "cell_type": "code",
   "execution_count": null,
   "metadata": {
    "collapsed": true,
    "deletable": true,
    "editable": true
   },
   "outputs": [],
   "source": [
    "model_wiki = Word2Vec(sentences_wiki, min_count=10)"
   ]
  },
  {
   "cell_type": "code",
   "execution_count": null,
   "metadata": {
    "collapsed": false,
    "deletable": true,
    "editable": true
   },
   "outputs": [],
   "source": [
    "model_wiki.most_similar(\"man\")"
   ]
  },
  {
   "cell_type": "code",
   "execution_count": null,
   "metadata": {
    "collapsed": false,
    "deletable": true,
    "editable": true
   },
   "outputs": [],
   "source": [
    "model_wiki.most_similar(\"computer\")"
   ]
  },
  {
   "cell_type": "code",
   "execution_count": null,
   "metadata": {
    "collapsed": true,
    "deletable": true,
    "editable": true
   },
   "outputs": [],
   "source": [
    "words_top_wiki = []\n",
    "for common_word in cnt.most_common(1000):\n",
    "    words_top_wiki.append(common_word[0])\n"
   ]
  },
  {
   "cell_type": "markdown",
   "metadata": {
    "deletable": true,
    "editable": true
   },
   "source": [
    "#### t-SNE visualization"
   ]
  },
  {
   "cell_type": "code",
   "execution_count": null,
   "metadata": {
    "collapsed": false,
    "deletable": true,
    "editable": true
   },
   "outputs": [],
   "source": [
    "# This assumes words_top_wiki is a list of strings, the top 1000 words\n",
    "words_top_vec_wiki = model_wiki[words_top_wiki]\n",
    "\n",
    "tsne = TSNE(n_components=2, random_state=0)\n",
    "words_top_wiki_tsne = tsne.fit_transform(words_top_vec_wiki)"
   ]
  },
  {
   "cell_type": "code",
   "execution_count": null,
   "metadata": {
    "collapsed": false,
    "deletable": true,
    "editable": true
   },
   "outputs": [],
   "source": [
    "p = figure(tools=\"pan,wheel_zoom,reset,save\",\n",
    "           toolbar_location=\"above\",\n",
    "           title=\"word2vec T-SNE for most common words\")\n",
    "\n",
    "source = ColumnDataSource(data=dict(x1=words_top_wiki_tsne[:,0],\n",
    "                                    x2=words_top_wiki_tsne[:,1],\n",
    "                                    names=words_top_wiki))\n",
    "\n",
    "p.scatter(x=\"x1\", y=\"x2\", size=8, source=source)\n",
    "\n",
    "labels = LabelSet(x=\"x1\", y=\"x2\", text=\"names\", y_offset=6,\n",
    "                  text_font_size=\"8pt\", text_color=\"#555555\",\n",
    "                  source=source, text_align='center')\n",
    "p.add_layout(labels)\n",
    "\n",
    "show(p)"
   ]
  }
 ],
 "metadata": {
  "anaconda-cloud": {},
  "kernelspec": {
   "display_name": "Python 3",
   "language": "python",
   "name": "python3"
  },
  "language_info": {
   "codemirror_mode": {
    "name": "ipython",
    "version": 3
   },
   "file_extension": ".py",
   "mimetype": "text/x-python",
   "name": "python",
   "nbconvert_exporter": "python",
   "pygments_lexer": "ipython3",
   "version": "3.5.2"
  }
 },
 "nbformat": 4,
 "nbformat_minor": 0
}
