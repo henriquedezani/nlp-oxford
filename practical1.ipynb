{
 "cells": [
  {
   "cell_type": "markdown",
   "metadata": {
    "deletable": true,
    "editable": true
   },
   "source": [
    "## Practical 1: word2vec\n",
    "<p>Oxford CS - Deep NLP 2017<br>\n",
    "https://www.cs.ox.ac.uk/teaching/courses/2016-2017/dl/</p>\n",
    "<p>[Yannis Assael, Brendan Shillingford, Chris Dyer]</p>"
   ]
  },
  {
   "cell_type": "markdown",
   "metadata": {
    "deletable": true,
    "editable": true
   },
   "source": [
    "This practical is presented as an IPython Notebook, with the code written for recent versions of **Python 3**. The code in this practical will not work with Python 2 unless you modify it. If you are using your own Python installation, ensure you have a setup identical to that described in the installation shell script (which is intended for use with the department lab machines). We will be unable to support installation on personal machines due to time constraints, so please use the lab machines and the setup script if you are unfamiliar with how to install Anaconda.\n",
    "\n",
    "To execute a notebook cell, press `shift-enter`. The return value of the last command will be displayed, if it is not `None`.\n",
    "\n",
    "Potentially useful library documentation, references, and resources:\n",
    "\n",
    "* IPython notebooks: <https://ipython.org/ipython-doc/3/notebook/notebook.html#introduction>\n",
    "* Numpy numerical array library: <https://docs.scipy.org/doc/>\n",
    "* Gensim's word2vec: <https://radimrehurek.com/gensim/models/word2vec.html>\n",
    "* Bokeh interactive plots: <http://bokeh.pydata.org/en/latest/> (we provide plotting code here, but click the thumbnails for more examples to copy-paste)\n",
    "* scikit-learn ML library (aka `sklearn`): <http://scikit-learn.org/stable/documentation.html>\n",
    "* nltk NLP toolkit: <http://www.nltk.org/>\n",
    "* tutorial for processing xml in python using `lxml`: <http://lxml.de/tutorial.html> (we did this for you below, but in case you need it in the future)"
   ]
  },
  {
   "cell_type": "code",
   "execution_count": 1,
   "metadata": {
    "collapsed": false,
    "deletable": true,
    "editable": true
   },
   "outputs": [],
   "source": [
    "import numpy as np\n",
    "import os\n",
    "from random import shuffle\n",
    "import re\n",
    "from collections import *\n",
    "from sklearn.manifold import TSNE\n",
    "from gensim.models import Word2Vec"
   ]
  },
  {
   "cell_type": "code",
   "execution_count": 2,
   "metadata": {
    "collapsed": false,
    "deletable": true,
    "editable": true
   },
   "outputs": [
    {
     "data": {
      "text/html": [
       "\n",
       "    <div class=\"bk-root\">\n",
       "        <a href=\"http://bokeh.pydata.org\" target=\"_blank\" class=\"bk-logo bk-logo-small bk-logo-notebook\"></a>\n",
       "        <span id=\"31fdafe5-db6d-4bfc-b3fe-c81953cca526\">Loading BokehJS ...</span>\n",
       "    </div>"
      ]
     },
     "metadata": {},
     "output_type": "display_data"
    },
    {
     "data": {
      "application/javascript": [
       "\n",
       "(function(global) {\n",
       "  function now() {\n",
       "    return new Date();\n",
       "  }\n",
       "\n",
       "  var force = true;\n",
       "\n",
       "  if (typeof (window._bokeh_onload_callbacks) === \"undefined\" || force === true) {\n",
       "    window._bokeh_onload_callbacks = [];\n",
       "    window._bokeh_is_loading = undefined;\n",
       "  }\n",
       "\n",
       "\n",
       "  \n",
       "  if (typeof (window._bokeh_timeout) === \"undefined\" || force === true) {\n",
       "    window._bokeh_timeout = Date.now() + 5000;\n",
       "    window._bokeh_failed_load = false;\n",
       "  }\n",
       "\n",
       "  var NB_LOAD_WARNING = {'data': {'text/html':\n",
       "     \"<div style='background-color: #fdd'>\\n\"+\n",
       "     \"<p>\\n\"+\n",
       "     \"BokehJS does not appear to have successfully loaded. If loading BokehJS from CDN, this \\n\"+\n",
       "     \"may be due to a slow or bad network connection. Possible fixes:\\n\"+\n",
       "     \"</p>\\n\"+\n",
       "     \"<ul>\\n\"+\n",
       "     \"<li>re-rerun `output_notebook()` to attempt to load from CDN again, or</li>\\n\"+\n",
       "     \"<li>use INLINE resources instead, as so:</li>\\n\"+\n",
       "     \"</ul>\\n\"+\n",
       "     \"<code>\\n\"+\n",
       "     \"from bokeh.resources import INLINE\\n\"+\n",
       "     \"output_notebook(resources=INLINE)\\n\"+\n",
       "     \"</code>\\n\"+\n",
       "     \"</div>\"}};\n",
       "\n",
       "  function display_loaded() {\n",
       "    if (window.Bokeh !== undefined) {\n",
       "      document.getElementById(\"31fdafe5-db6d-4bfc-b3fe-c81953cca526\").textContent = \"BokehJS successfully loaded.\";\n",
       "    } else if (Date.now() < window._bokeh_timeout) {\n",
       "      setTimeout(display_loaded, 100)\n",
       "    }\n",
       "  }\n",
       "\n",
       "  function run_callbacks() {\n",
       "    window._bokeh_onload_callbacks.forEach(function(callback) { callback() });\n",
       "    delete window._bokeh_onload_callbacks\n",
       "    console.info(\"Bokeh: all callbacks have finished\");\n",
       "  }\n",
       "\n",
       "  function load_libs(js_urls, callback) {\n",
       "    window._bokeh_onload_callbacks.push(callback);\n",
       "    if (window._bokeh_is_loading > 0) {\n",
       "      console.log(\"Bokeh: BokehJS is being loaded, scheduling callback at\", now());\n",
       "      return null;\n",
       "    }\n",
       "    if (js_urls == null || js_urls.length === 0) {\n",
       "      run_callbacks();\n",
       "      return null;\n",
       "    }\n",
       "    console.log(\"Bokeh: BokehJS not loaded, scheduling load and callback at\", now());\n",
       "    window._bokeh_is_loading = js_urls.length;\n",
       "    for (var i = 0; i < js_urls.length; i++) {\n",
       "      var url = js_urls[i];\n",
       "      var s = document.createElement('script');\n",
       "      s.src = url;\n",
       "      s.async = false;\n",
       "      s.onreadystatechange = s.onload = function() {\n",
       "        window._bokeh_is_loading--;\n",
       "        if (window._bokeh_is_loading === 0) {\n",
       "          console.log(\"Bokeh: all BokehJS libraries loaded\");\n",
       "          run_callbacks()\n",
       "        }\n",
       "      };\n",
       "      s.onerror = function() {\n",
       "        console.warn(\"failed to load library \" + url);\n",
       "      };\n",
       "      console.log(\"Bokeh: injecting script tag for BokehJS library: \", url);\n",
       "      document.getElementsByTagName(\"head\")[0].appendChild(s);\n",
       "    }\n",
       "  };var element = document.getElementById(\"31fdafe5-db6d-4bfc-b3fe-c81953cca526\");\n",
       "  if (element == null) {\n",
       "    console.log(\"Bokeh: ERROR: autoload.js configured with elementid '31fdafe5-db6d-4bfc-b3fe-c81953cca526' but no matching script tag was found. \")\n",
       "    return false;\n",
       "  }\n",
       "\n",
       "  var js_urls = [\"https://cdn.pydata.org/bokeh/release/bokeh-0.12.4.min.js\", \"https://cdn.pydata.org/bokeh/release/bokeh-widgets-0.12.4.min.js\"];\n",
       "\n",
       "  var inline_js = [\n",
       "    function(Bokeh) {\n",
       "      Bokeh.set_log_level(\"info\");\n",
       "    },\n",
       "    \n",
       "    function(Bokeh) {\n",
       "      \n",
       "      document.getElementById(\"31fdafe5-db6d-4bfc-b3fe-c81953cca526\").textContent = \"BokehJS is loading...\";\n",
       "    },\n",
       "    function(Bokeh) {\n",
       "      console.log(\"Bokeh: injecting CSS: https://cdn.pydata.org/bokeh/release/bokeh-0.12.4.min.css\");\n",
       "      Bokeh.embed.inject_css(\"https://cdn.pydata.org/bokeh/release/bokeh-0.12.4.min.css\");\n",
       "      console.log(\"Bokeh: injecting CSS: https://cdn.pydata.org/bokeh/release/bokeh-widgets-0.12.4.min.css\");\n",
       "      Bokeh.embed.inject_css(\"https://cdn.pydata.org/bokeh/release/bokeh-widgets-0.12.4.min.css\");\n",
       "    }\n",
       "  ];\n",
       "\n",
       "  function run_inline_js() {\n",
       "    \n",
       "    if ((window.Bokeh !== undefined) || (force === true)) {\n",
       "      for (var i = 0; i < inline_js.length; i++) {\n",
       "        inline_js[i](window.Bokeh);\n",
       "      }if (force === true) {\n",
       "        display_loaded();\n",
       "      }} else if (Date.now() < window._bokeh_timeout) {\n",
       "      setTimeout(run_inline_js, 100);\n",
       "    } else if (!window._bokeh_failed_load) {\n",
       "      console.log(\"Bokeh: BokehJS failed to load within specified timeout.\");\n",
       "      window._bokeh_failed_load = true;\n",
       "    } else if (force !== true) {\n",
       "      var cell = $(document.getElementById(\"31fdafe5-db6d-4bfc-b3fe-c81953cca526\")).parents('.cell').data().cell;\n",
       "      cell.output_area.append_execute_result(NB_LOAD_WARNING)\n",
       "    }\n",
       "\n",
       "  }\n",
       "\n",
       "  if (window._bokeh_is_loading === 0) {\n",
       "    console.log(\"Bokeh: BokehJS loaded, going straight to plotting\");\n",
       "    run_inline_js();\n",
       "  } else {\n",
       "    load_libs(js_urls, function() {\n",
       "      console.log(\"Bokeh: BokehJS plotting callback run at\", now());\n",
       "      run_inline_js();\n",
       "    });\n",
       "  }\n",
       "}(this));"
      ]
     },
     "metadata": {},
     "output_type": "display_data"
    }
   ],
   "source": [
    "from bokeh.models import ColumnDataSource, LabelSet\n",
    "from bokeh.plotting import figure, show, output_file\n",
    "from bokeh.io import output_notebook\n",
    "output_notebook()"
   ]
  },
  {
   "cell_type": "markdown",
   "metadata": {
    "deletable": true,
    "editable": true
   },
   "source": [
    "### Part 0: Download the TED dataset"
   ]
  },
  {
   "cell_type": "code",
   "execution_count": 3,
   "metadata": {
    "collapsed": false,
    "deletable": true,
    "editable": true
   },
   "outputs": [],
   "source": [
    "import urllib.request\n",
    "import zipfile\n",
    "import lxml.etree"
   ]
  },
  {
   "cell_type": "code",
   "execution_count": 4,
   "metadata": {
    "collapsed": false,
    "deletable": true,
    "editable": true
   },
   "outputs": [],
   "source": [
    "# Download the dataset if it's not already there: this may take a minute as it is 75MB\n",
    "if not os.path.isfile('ted_en-20160408.zip'):\n",
    "    urllib.request.urlretrieve(\"https://wit3.fbk.eu/get.php?path=XML_releases/xml/ted_en-20160408.zip&filename=ted_en-20160408.zip\", filename=\"ted_en-20160408.zip\")"
   ]
  },
  {
   "cell_type": "code",
   "execution_count": 5,
   "metadata": {
    "collapsed": true,
    "deletable": true,
    "editable": true
   },
   "outputs": [],
   "source": [
    "# For now, we're only interested in the subtitle text, so let's extract that from the XML:\n",
    "with zipfile.ZipFile('ted_en-20160408.zip', 'r') as z:\n",
    "    doc = lxml.etree.parse(z.open('ted_en-20160408.xml', 'r'))\n",
    "input_text = '\\n'.join(doc.xpath('//content/text()'))\n",
    "del doc"
   ]
  },
  {
   "cell_type": "markdown",
   "metadata": {
    "deletable": true,
    "editable": true
   },
   "source": [
    "### Part 1: Preprocessing\n",
    "\n",
    "In this part, we attempt to clean up the raw subtitles a bit, so that we get only sentences. The following substring shows examples of what we're trying to get rid of. Since it's hard to define precisely what we want to get rid of, we'll just use some simple heuristics."
   ]
  },
  {
   "cell_type": "code",
   "execution_count": 6,
   "metadata": {
    "collapsed": false,
    "deletable": true,
    "editable": true,
    "scrolled": false
   },
   "outputs": [
    {
     "data": {
      "text/plain": [
       "' baby does.\\n(Video) Hyowon Gweon: See this? (Ball squeaks) Did you see that? (Ball squeaks) Cool. See this one? (Ball squeaks) Wow.\\nLaura Schulz: Told you. (Laughs)\\n(Vide'"
      ]
     },
     "execution_count": 6,
     "metadata": {},
     "output_type": "execute_result"
    }
   ],
   "source": [
    "i = input_text.find(\"Hyowon Gweon: See this?\")\n",
    "input_text[i-20:i+150]"
   ]
  },
  {
   "cell_type": "markdown",
   "metadata": {
    "deletable": true,
    "editable": true
   },
   "source": [
    "Let's start by removing all parenthesized strings using a regex:"
   ]
  },
  {
   "cell_type": "code",
   "execution_count": 7,
   "metadata": {
    "collapsed": true,
    "deletable": true,
    "editable": true
   },
   "outputs": [],
   "source": [
    "input_text_noparens = re.sub(r'\\([^)]*\\)', '', input_text)"
   ]
  },
  {
   "cell_type": "markdown",
   "metadata": {
    "deletable": true,
    "editable": true
   },
   "source": [
    "We can verify the same location in the text is now clean as follows. We won't worry about the irregular spaces since we'll later split the text into sentences and tokenize it anyway."
   ]
  },
  {
   "cell_type": "code",
   "execution_count": 8,
   "metadata": {
    "collapsed": false,
    "deletable": true,
    "editable": true
   },
   "outputs": [
    {
     "data": {
      "text/plain": [
       "\"hat the baby does.\\n Hyowon Gweon: See this?  Did you see that?  Cool. See this one?  Wow.\\nLaura Schulz: Told you. \\n HG: See this one?  Hey Clara, this one's for you. You \""
      ]
     },
     "execution_count": 8,
     "metadata": {},
     "output_type": "execute_result"
    }
   ],
   "source": [
    "i = input_text_noparens.find(\"Hyowon Gweon: See this?\")\n",
    "input_text_noparens[i-20:i+150]"
   ]
  },
  {
   "cell_type": "markdown",
   "metadata": {
    "deletable": true,
    "editable": true
   },
   "source": [
    "Now, let's attempt to remove speakers' names that occur at the beginning of a line, by deleting pieces of the form \"`<up to 20 characters>:`\", as shown in this example. Of course, this is an imperfect heuristic. "
   ]
  },
  {
   "cell_type": "code",
   "execution_count": 9,
   "metadata": {
    "collapsed": false,
    "deletable": true,
    "editable": true
   },
   "outputs": [
    {
     "data": {
      "text/plain": [
       "[\"Here are two reasons companies fail: they only do more of the same, or they only do what's new\",\n",
       " 'To me the real, real solution to quality growth is figuring out the balance between two activities: exploration and exploitation',\n",
       " ' Both are necessary, but it can be too much of a good thing',\n",
       " 'Consider Facit',\n",
       " \" I'm actually old enough to remember them\"]"
      ]
     },
     "execution_count": 9,
     "metadata": {},
     "output_type": "execute_result"
    }
   ],
   "source": [
    "sentences_strings_ted = []\n",
    "for line in input_text_noparens.split('\\n'):\n",
    "    m = re.match(r'^(?:(?P<precolon>[^:]{,20}):)?(?P<postcolon>.*)$', line)\n",
    "    sentences_strings_ted.extend(sent for sent in m.groupdict()['postcolon'].split('.') if sent)\n",
    "\n",
    "# Uncomment if you need to save some RAM: these strings are about 50MB.\n",
    "del input_text, input_text_noparens\n",
    "\n",
    "# Let's view the first few:\n",
    "sentences_strings_ted[:5]"
   ]
  },
  {
   "cell_type": "markdown",
   "metadata": {
    "deletable": true,
    "editable": true
   },
   "source": [
    "Now that we have sentences, we're ready to tokenize each of them into words. This tokenization is imperfect, of course. For instance, how many tokens is \"can't\", and where/how do we split it? We'll take the simplest naive approach of splitting on spaces. Before splitting, we remove non-alphanumeric characters, such as punctuation. You may want to consider the following question: why do we replace these characters with spaces rather than deleting them? Think of a case where this yields a different answer."
   ]
  },
  {
   "cell_type": "code",
   "execution_count": 10,
   "metadata": {
    "collapsed": false,
    "deletable": true,
    "editable": true
   },
   "outputs": [],
   "source": [
    "sentences_ted = []\n",
    "for sent_str in sentences_strings_ted:\n",
    "    tokens = re.sub(r\"[^a-z0-9]+\", \" \", sent_str.lower()).split()\n",
    "    sentences_ted.append(tokens)"
   ]
  },
  {
   "cell_type": "markdown",
   "metadata": {
    "deletable": true,
    "editable": true
   },
   "source": [
    "Two sample processed sentences:"
   ]
  },
  {
   "cell_type": "code",
   "execution_count": 11,
   "metadata": {
    "collapsed": false,
    "deletable": true,
    "editable": true
   },
   "outputs": [
    {
     "data": {
      "text/plain": [
       "266694"
      ]
     },
     "execution_count": 11,
     "metadata": {},
     "output_type": "execute_result"
    }
   ],
   "source": [
    "len(sentences_ted)"
   ]
  },
  {
   "cell_type": "code",
   "execution_count": 12,
   "metadata": {
    "collapsed": false,
    "deletable": true,
    "editable": true
   },
   "outputs": [
    {
     "name": "stdout",
     "output_type": "stream",
     "text": [
      "['here', 'are', 'two', 'reasons', 'companies', 'fail', 'they', 'only', 'do', 'more', 'of', 'the', 'same', 'or', 'they', 'only', 'do', 'what', 's', 'new']\n",
      "['to', 'me', 'the', 'real', 'real', 'solution', 'to', 'quality', 'growth', 'is', 'figuring', 'out', 'the', 'balance', 'between', 'two', 'activities', 'exploration', 'and', 'exploitation']\n"
     ]
    }
   ],
   "source": [
    "print(sentences_ted[0])\n",
    "print(sentences_ted[1])"
   ]
  },
  {
   "cell_type": "markdown",
   "metadata": {
    "deletable": true,
    "editable": true
   },
   "source": [
    "### Part 2: Word Frequencies"
   ]
  },
  {
   "cell_type": "markdown",
   "metadata": {
    "deletable": true,
    "editable": true
   },
   "source": [
    "If you store the counts of the top 1000 words in a list called `counts_ted_top1000`, the code below will plot the histogram requested in the writeup."
   ]
  },
  {
   "cell_type": "code",
   "execution_count": 13,
   "metadata": {
    "collapsed": false,
    "deletable": true,
    "editable": true
   },
   "outputs": [],
   "source": [
    "cnt = Counter()\n",
    "for sentence in sentences_ted:\n",
    "    for word in sentence:\n",
    "        cnt[word] += 1\n",
    "        \n",
    "counts_ted_top1000 = []\n",
    "for common_word in cnt.most_common(1000):\n",
    "    counts_ted_top1000.append(common_word[1])"
   ]
  },
  {
   "cell_type": "markdown",
   "metadata": {
    "deletable": true,
    "editable": true
   },
   "source": [
    "Plot distribution of top-1000 words"
   ]
  },
  {
   "cell_type": "code",
   "execution_count": 14,
   "metadata": {
    "collapsed": false,
    "deletable": true,
    "editable": true
   },
   "outputs": [
    {
     "data": {
      "text/html": [
       "\n",
       "\n",
       "    <div class=\"bk-root\">\n",
       "        <div class=\"bk-plotdiv\" id=\"6b701edc-97bf-46ea-a2e4-3b597032426d\"></div>\n",
       "    </div>\n",
       "<script type=\"text/javascript\">\n",
       "  \n",
       "  (function(global) {\n",
       "    function now() {\n",
       "      return new Date();\n",
       "    }\n",
       "  \n",
       "    var force = false;\n",
       "  \n",
       "    if (typeof (window._bokeh_onload_callbacks) === \"undefined\" || force === true) {\n",
       "      window._bokeh_onload_callbacks = [];\n",
       "      window._bokeh_is_loading = undefined;\n",
       "    }\n",
       "  \n",
       "  \n",
       "    \n",
       "    if (typeof (window._bokeh_timeout) === \"undefined\" || force === true) {\n",
       "      window._bokeh_timeout = Date.now() + 0;\n",
       "      window._bokeh_failed_load = false;\n",
       "    }\n",
       "  \n",
       "    var NB_LOAD_WARNING = {'data': {'text/html':\n",
       "       \"<div style='background-color: #fdd'>\\n\"+\n",
       "       \"<p>\\n\"+\n",
       "       \"BokehJS does not appear to have successfully loaded. If loading BokehJS from CDN, this \\n\"+\n",
       "       \"may be due to a slow or bad network connection. Possible fixes:\\n\"+\n",
       "       \"</p>\\n\"+\n",
       "       \"<ul>\\n\"+\n",
       "       \"<li>re-rerun `output_notebook()` to attempt to load from CDN again, or</li>\\n\"+\n",
       "       \"<li>use INLINE resources instead, as so:</li>\\n\"+\n",
       "       \"</ul>\\n\"+\n",
       "       \"<code>\\n\"+\n",
       "       \"from bokeh.resources import INLINE\\n\"+\n",
       "       \"output_notebook(resources=INLINE)\\n\"+\n",
       "       \"</code>\\n\"+\n",
       "       \"</div>\"}};\n",
       "  \n",
       "    function display_loaded() {\n",
       "      if (window.Bokeh !== undefined) {\n",
       "        document.getElementById(\"6b701edc-97bf-46ea-a2e4-3b597032426d\").textContent = \"BokehJS successfully loaded.\";\n",
       "      } else if (Date.now() < window._bokeh_timeout) {\n",
       "        setTimeout(display_loaded, 100)\n",
       "      }\n",
       "    }\n",
       "  \n",
       "    function run_callbacks() {\n",
       "      window._bokeh_onload_callbacks.forEach(function(callback) { callback() });\n",
       "      delete window._bokeh_onload_callbacks\n",
       "      console.info(\"Bokeh: all callbacks have finished\");\n",
       "    }\n",
       "  \n",
       "    function load_libs(js_urls, callback) {\n",
       "      window._bokeh_onload_callbacks.push(callback);\n",
       "      if (window._bokeh_is_loading > 0) {\n",
       "        console.log(\"Bokeh: BokehJS is being loaded, scheduling callback at\", now());\n",
       "        return null;\n",
       "      }\n",
       "      if (js_urls == null || js_urls.length === 0) {\n",
       "        run_callbacks();\n",
       "        return null;\n",
       "      }\n",
       "      console.log(\"Bokeh: BokehJS not loaded, scheduling load and callback at\", now());\n",
       "      window._bokeh_is_loading = js_urls.length;\n",
       "      for (var i = 0; i < js_urls.length; i++) {\n",
       "        var url = js_urls[i];\n",
       "        var s = document.createElement('script');\n",
       "        s.src = url;\n",
       "        s.async = false;\n",
       "        s.onreadystatechange = s.onload = function() {\n",
       "          window._bokeh_is_loading--;\n",
       "          if (window._bokeh_is_loading === 0) {\n",
       "            console.log(\"Bokeh: all BokehJS libraries loaded\");\n",
       "            run_callbacks()\n",
       "          }\n",
       "        };\n",
       "        s.onerror = function() {\n",
       "          console.warn(\"failed to load library \" + url);\n",
       "        };\n",
       "        console.log(\"Bokeh: injecting script tag for BokehJS library: \", url);\n",
       "        document.getElementsByTagName(\"head\")[0].appendChild(s);\n",
       "      }\n",
       "    };var element = document.getElementById(\"6b701edc-97bf-46ea-a2e4-3b597032426d\");\n",
       "    if (element == null) {\n",
       "      console.log(\"Bokeh: ERROR: autoload.js configured with elementid '6b701edc-97bf-46ea-a2e4-3b597032426d' but no matching script tag was found. \")\n",
       "      return false;\n",
       "    }\n",
       "  \n",
       "    var js_urls = [];\n",
       "  \n",
       "    var inline_js = [\n",
       "      function(Bokeh) {\n",
       "        (function() {\n",
       "          var fn = function() {\n",
       "            var docs_json = {\"a7998dc4-a137-4efb-a2fa-be61e5d8c3b6\":{\"roots\":{\"references\":[{\"attributes\":{\"formatter\":{\"id\":\"831a038e-902e-4a06-a5a6-1a282c8b4a00\",\"type\":\"BasicTickFormatter\"},\"plot\":{\"id\":\"50222fab-8200-457f-aa27-7b17003e7697\",\"subtype\":\"Figure\",\"type\":\"Plot\"},\"ticker\":{\"id\":\"01fb4c04-d10a-4326-b077-89205578dcaf\",\"type\":\"BasicTicker\"}},\"id\":\"10962d7a-f102-4ada-a2c8-a3bc01b4ddbc\",\"type\":\"LinearAxis\"},{\"attributes\":{\"data_source\":{\"id\":\"60bed624-5dd6-4218-a363-4c62754c914b\",\"type\":\"ColumnDataSource\"},\"glyph\":{\"id\":\"6b1480bc-5788-48e1-9904-a47e856ea603\",\"type\":\"Quad\"},\"hover_glyph\":null,\"nonselection_glyph\":{\"id\":\"2a30ccfe-86c1-4d98-a46b-4c7340311040\",\"type\":\"Quad\"},\"selection_glyph\":null},\"id\":\"291f37f4-ed9b-4b5c-a661-155b0056d8aa\",\"type\":\"GlyphRenderer\"},{\"attributes\":{},\"id\":\"dde1c806-1bff-41d3-8bb0-c89317dcdc81\",\"type\":\"ToolEvents\"},{\"attributes\":{\"callback\":null},\"id\":\"fb199a7a-2daa-45dd-bd58-2fbab296d18d\",\"type\":\"DataRange1d\"},{\"attributes\":{},\"id\":\"58bd76ef-da5d-45ec-808f-0ae198bc6ef1\",\"type\":\"BasicTickFormatter\"},{\"attributes\":{\"plot\":{\"id\":\"50222fab-8200-457f-aa27-7b17003e7697\",\"subtype\":\"Figure\",\"type\":\"Plot\"}},\"id\":\"ff4bf24b-99c8-47f4-9258-c3ae31a28887\",\"type\":\"SaveTool\"},{\"attributes\":{\"formatter\":{\"id\":\"58bd76ef-da5d-45ec-808f-0ae198bc6ef1\",\"type\":\"BasicTickFormatter\"},\"plot\":{\"id\":\"50222fab-8200-457f-aa27-7b17003e7697\",\"subtype\":\"Figure\",\"type\":\"Plot\"},\"ticker\":{\"id\":\"dc0c812b-2d23-404d-911c-4193589cc33c\",\"type\":\"BasicTicker\"}},\"id\":\"ca6a56b9-73ce-4fb9-87d8-2389d3eb5df1\",\"type\":\"LinearAxis\"},{\"attributes\":{\"bottom\":{\"value\":0},\"fill_color\":{\"value\":\"#1f77b4\"},\"left\":{\"field\":\"left\"},\"line_color\":{\"value\":\"#555555\"},\"right\":{\"field\":\"right\"},\"top\":{\"field\":\"top\"}},\"id\":\"6b1480bc-5788-48e1-9904-a47e856ea603\",\"type\":\"Quad\"},{\"attributes\":{\"callback\":null,\"column_names\":[\"top\",\"right\",\"left\"],\"data\":{\"left\":{\"__ndarray__\":\"AAAAAABAeUB7FK5H4VqjQHsUrkfhxrFAuB6F61HguUB7FK5H4fzAQJqZmZmZCcVAuB6F61EWyUDXo3A9CiPNQHsUrkfhl9BACtejcD2e0kCamZmZmaTUQClcj8L1qtZAuB6F61Gx2EBI4XoUrrfaQNejcD0KvtxAZ2ZmZmbE3kB7FK5HYWXgQMP1KFyPaOFACtejcL1r4kBSuB6F627jQJqZmZkZcuRA4XoUrkd15UApXI/CdXjmQHE9Cteje+dAuB6F69F+6EAAAAAAAILpQEjhehQuhepAkML1KFyI60DXo3A9iovsQB+F61G4ju1AZ2ZmZuaR7kCuR+F6FJXvQHsUrkchTPBAH4XrUbjN8EDD9ShcT0/xQGdmZmbm0PFACtejcH1S8kCuR+F6FNTyQFK4HoWrVfNA9ihcj0LX80CamZmZ2Vj0QD4K16Nw2vRA4XoUrgdc9UCF61G4nt31QClcj8I1X/ZAzczMzMzg9kBxPQrXY2L3QBWuR+H64/dAuB6F65Fl+EBcj8L1KOf4QAAAAADAaPlApHA9Clfq+UBI4XoU7mv6QOxRuB6F7fpAkML1KBxv+0AzMzMzs/D7QNejcD1KcvxAexSuR+Hz/EAfhetReHX9QMP1KFwP9/1AZ2ZmZqZ4/kAK16NwPfr+QK5H4XrUe/9AUrgehWv9/0B7FK5HgT8AQc3MzMxMgABBH4XrURjBAEFxPQrX4wEBQcP1KFyvQgFBFa5H4XqDAUFnZmZmRsQBQbgehesRBQJBCtejcN1FAkFcj8L1qIYCQa5H4Xp0xwJBAAAAAEAIA0FSuB6FC0kDQaRwPQrXiQNB9ihcj6LKA0FI4XoUbgsEQZqZmZk5TARB7FG4HgWNBEE+Ctej0M0EQZDC9SicDgVB4XoUrmdPBUEzMzMzM5AFQYXrUbj+0AVB16NwPcoRBkEpXI/ClVIGQXsUrkdhkwZBzczMzCzUBkEfhetR+BQHQXE9CtfDVQdBw/UoXI+WB0EVrkfhWtcHQWdmZmYmGAhBuB6F6/FYCEEK16NwvZkIQVyPwvWI2ghBrkfhelQbCUE=\",\"dtype\":\"float64\",\"shape\":[100]},\"right\":{\"__ndarray__\":\"exSuR+Fao0B7FK5H4caxQLgehetR4LlAexSuR+H8wECamZmZmQnFQLgehetRFslA16NwPQojzUB7FK5H4ZfQQArXo3A9ntJAmpmZmZmk1EApXI/C9arWQLgehetRsdhASOF6FK632kDXo3A9Cr7cQGdmZmZmxN5AexSuR2Fl4EDD9Shcj2jhQArXo3C9a+JAUrgehetu40CamZmZGXLkQOF6FK5HdeVAKVyPwnV45kBxPQrXo3vnQLgehevRfuhAAAAAAACC6UBI4XoULoXqQJDC9ShciOtA16NwPYqL7EAfhetRuI7tQGdmZmbmke5ArkfhehSV70B7FK5HIUzwQB+F61G4zfBAw/UoXE9P8UBnZmZm5tDxQArXo3B9UvJArkfhehTU8kBSuB6Fq1XzQPYoXI9C1/NAmpmZmdlY9EA+CtejcNr0QOF6FK4HXPVAhetRuJ7d9UApXI/CNV/2QM3MzMzM4PZAcT0K12Ni90AVrkfh+uP3QLgeheuRZfhAXI/C9Sjn+EAAAAAAwGj5QKRwPQpX6vlASOF6FO5r+kDsUbgehe36QJDC9Sgcb/tAMzMzM7Pw+0DXo3A9SnL8QHsUrkfh8/xAH4XrUXh1/UDD9ShcD/f9QGdmZmameP5ACtejcD36/kCuR+F61Hv/QFK4HoVr/f9AexSuR4E/AEHNzMzMTIAAQR+F61EYwQBBcT0K1+MBAUHD9Shcr0IBQRWuR+F6gwFBZ2ZmZkbEAUG4HoXrEQUCQQrXo3DdRQJBXI/C9aiGAkGuR+F6dMcCQQAAAABACANBUrgehQtJA0GkcD0K14kDQfYoXI+iygNBSOF6FG4LBEGamZmZOUwEQexRuB4FjQRBPgrXo9DNBEGQwvUonA4FQeF6FK5nTwVBMzMzMzOQBUGF61G4/tAFQdejcD3KEQZBKVyPwpVSBkF7FK5HYZMGQc3MzMws1AZBH4XrUfgUB0FxPQrXw1UHQcP1KFyPlgdBFa5H4VrXB0FnZmZmJhgIQbgehevxWAhBCtejcL2ZCEFcj8L1iNoIQa5H4XpUGwlBAAAAACBcCUE=\",\"dtype\":\"float64\",\"shape\":[100]},\"top\":{\"__ndarray__\":\"50H1zNSBOT/ypb1tgHIBPwsriUb5Uew+zuTFiLI04j78kGUPxTHhPh40R25oQNY+zuTFiLI00j4pPQWW1y7APsTbB2FDRsg+JT0FltcuwD4tPQWW1y6wPi09BZbXLrA+JT0FltcuwD4tPQWW1y6gPiU9BZbXLrA+LT0FltcuoD4AAAAAAAAAADU9BZbXLqA+AAAAAAAAAAAAAAAAAAAAAAAAAAAAAAAAAAAAAAAAAAAAAAAAAAAAADU9BZbXLqA+AAAAAAAAAAAAAAAAAAAAAAAAAAAAAAAANT0FltcuoD4AAAAAAAAAAAAAAAAAAAAANT0FltcuoD4AAAAAAAAAACU9BZbXLqA+AAAAAAAAAAAlPQWW1y6gPkU9BZbXLqA+AAAAAAAAAAAlPQWW1y6gPgAAAAAAAAAAJT0FltcuoD4AAAAAAAAAAAAAAAAAAAAAAAAAAAAAAAAAAAAAAAAAAAAAAAAAAAAAJT0FltcuoD4AAAAAAAAAAAAAAAAAAAAAAAAAAAAAAAAAAAAAAAAAACU9BZbXLqA+AAAAAAAAAAAAAAAAAAAAAAAAAAAAAAAAAAAAAAAAAAAlPQWW1y6gPgAAAAAAAAAAAAAAAAAAAAAAAAAAAAAAAAAAAAAAAAAART0FltcuoD4AAAAAAAAAAAAAAAAAAAAAAAAAAAAAAAAAAAAAAAAAAAAAAAAAAAAAAAAAAAAAAAAAAAAAAAAAAAAAAAAAAAAAAAAAAAAAAAAAAAAAAAAAACU9BZbXLqA+AAAAAAAAAAAAAAAAAAAAAAAAAAAAAAAAAAAAAAAAAAAAAAAAAAAAAAAAAAAAAAAAAAAAAAAAAAAAAAAAAAAAAAAAAAAAAAAAAAAAAAAAAAAAAAAAAAAAAAAAAAAAAAAAAAAAAAAAAAAAAAAAAAAAAAAAAAAAAAAAAAAAAAAAAAAAAAAAAAAAAAAAAAAAAAAAAAAAAAAAAAAAAAAAAAAAAAAAAAAAAAAAAAAAAAAAAAAAAAAAAAAAAAAAAAAAAAAAAAAAAAAAAAAAAAAAAAAAAAAAAAAAAAAAJT0FltcuoD4=\",\"dtype\":\"float64\",\"shape\":[100]}}},\"id\":\"60bed624-5dd6-4218-a363-4c62754c914b\",\"type\":\"ColumnDataSource\"},{\"attributes\":{\"plot\":{\"id\":\"50222fab-8200-457f-aa27-7b17003e7697\",\"subtype\":\"Figure\",\"type\":\"Plot\"}},\"id\":\"b0cf0d85-6c29-411b-a74f-6e204c8ada69\",\"type\":\"WheelZoomTool\"},{\"attributes\":{\"active_drag\":\"auto\",\"active_scroll\":\"auto\",\"active_tap\":\"auto\",\"tools\":[{\"id\":\"1eaa9757-d771-42d5-9fae-d664cdd37582\",\"type\":\"PanTool\"},{\"id\":\"b0cf0d85-6c29-411b-a74f-6e204c8ada69\",\"type\":\"WheelZoomTool\"},{\"id\":\"ac4db246-39e9-4bde-8699-8b64f7f60651\",\"type\":\"ResetTool\"},{\"id\":\"ff4bf24b-99c8-47f4-9258-c3ae31a28887\",\"type\":\"SaveTool\"}]},\"id\":\"b3406e15-82be-441a-b09a-cc8a4001f57e\",\"type\":\"Toolbar\"},{\"attributes\":{\"bottom\":{\"value\":0},\"fill_alpha\":{\"value\":0.1},\"fill_color\":{\"value\":\"#1f77b4\"},\"left\":{\"field\":\"left\"},\"line_alpha\":{\"value\":0.1},\"line_color\":{\"value\":\"#1f77b4\"},\"right\":{\"field\":\"right\"},\"top\":{\"field\":\"top\"}},\"id\":\"2a30ccfe-86c1-4d98-a46b-4c7340311040\",\"type\":\"Quad\"},{\"attributes\":{\"below\":[{\"id\":\"10962d7a-f102-4ada-a2c8-a3bc01b4ddbc\",\"type\":\"LinearAxis\"}],\"left\":[{\"id\":\"ca6a56b9-73ce-4fb9-87d8-2389d3eb5df1\",\"type\":\"LinearAxis\"}],\"renderers\":[{\"id\":\"10962d7a-f102-4ada-a2c8-a3bc01b4ddbc\",\"type\":\"LinearAxis\"},{\"id\":\"c911fa2a-b310-497e-9f10-eb2047d6a74c\",\"type\":\"Grid\"},{\"id\":\"ca6a56b9-73ce-4fb9-87d8-2389d3eb5df1\",\"type\":\"LinearAxis\"},{\"id\":\"0f762600-92e4-4bd5-972e-2b3682c23dc9\",\"type\":\"Grid\"},{\"id\":\"291f37f4-ed9b-4b5c-a661-155b0056d8aa\",\"type\":\"GlyphRenderer\"}],\"title\":{\"id\":\"8f9863bf-4f3f-4ec8-aa94-af5d931db34e\",\"type\":\"Title\"},\"tool_events\":{\"id\":\"dde1c806-1bff-41d3-8bb0-c89317dcdc81\",\"type\":\"ToolEvents\"},\"toolbar\":{\"id\":\"b3406e15-82be-441a-b09a-cc8a4001f57e\",\"type\":\"Toolbar\"},\"toolbar_location\":\"above\",\"x_range\":{\"id\":\"fb199a7a-2daa-45dd-bd58-2fbab296d18d\",\"type\":\"DataRange1d\"},\"y_range\":{\"id\":\"efc7c118-8cf2-450f-bea9-439554b15027\",\"type\":\"DataRange1d\"}},\"id\":\"50222fab-8200-457f-aa27-7b17003e7697\",\"subtype\":\"Figure\",\"type\":\"Plot\"},{\"attributes\":{\"plot\":{\"id\":\"50222fab-8200-457f-aa27-7b17003e7697\",\"subtype\":\"Figure\",\"type\":\"Plot\"},\"ticker\":{\"id\":\"01fb4c04-d10a-4326-b077-89205578dcaf\",\"type\":\"BasicTicker\"}},\"id\":\"c911fa2a-b310-497e-9f10-eb2047d6a74c\",\"type\":\"Grid\"},{\"attributes\":{\"dimension\":1,\"plot\":{\"id\":\"50222fab-8200-457f-aa27-7b17003e7697\",\"subtype\":\"Figure\",\"type\":\"Plot\"},\"ticker\":{\"id\":\"dc0c812b-2d23-404d-911c-4193589cc33c\",\"type\":\"BasicTicker\"}},\"id\":\"0f762600-92e4-4bd5-972e-2b3682c23dc9\",\"type\":\"Grid\"},{\"attributes\":{\"callback\":null},\"id\":\"efc7c118-8cf2-450f-bea9-439554b15027\",\"type\":\"DataRange1d\"},{\"attributes\":{\"plot\":null,\"text\":\"Top-1000 words distribution\"},\"id\":\"8f9863bf-4f3f-4ec8-aa94-af5d931db34e\",\"type\":\"Title\"},{\"attributes\":{\"plot\":{\"id\":\"50222fab-8200-457f-aa27-7b17003e7697\",\"subtype\":\"Figure\",\"type\":\"Plot\"}},\"id\":\"ac4db246-39e9-4bde-8699-8b64f7f60651\",\"type\":\"ResetTool\"},{\"attributes\":{},\"id\":\"dc0c812b-2d23-404d-911c-4193589cc33c\",\"type\":\"BasicTicker\"},{\"attributes\":{},\"id\":\"01fb4c04-d10a-4326-b077-89205578dcaf\",\"type\":\"BasicTicker\"},{\"attributes\":{\"plot\":{\"id\":\"50222fab-8200-457f-aa27-7b17003e7697\",\"subtype\":\"Figure\",\"type\":\"Plot\"}},\"id\":\"1eaa9757-d771-42d5-9fae-d664cdd37582\",\"type\":\"PanTool\"},{\"attributes\":{},\"id\":\"831a038e-902e-4a06-a5a6-1a282c8b4a00\",\"type\":\"BasicTickFormatter\"}],\"root_ids\":[\"50222fab-8200-457f-aa27-7b17003e7697\"]},\"title\":\"Bokeh Application\",\"version\":\"0.12.4\"}};\n",
       "            var render_items = [{\"docid\":\"a7998dc4-a137-4efb-a2fa-be61e5d8c3b6\",\"elementid\":\"6b701edc-97bf-46ea-a2e4-3b597032426d\",\"modelid\":\"50222fab-8200-457f-aa27-7b17003e7697\"}];\n",
       "            \n",
       "            Bokeh.embed.embed_items(docs_json, render_items);\n",
       "          };\n",
       "          if (document.readyState != \"loading\") fn();\n",
       "          else document.addEventListener(\"DOMContentLoaded\", fn);\n",
       "        })();\n",
       "      },\n",
       "      function(Bokeh) {\n",
       "      }\n",
       "    ];\n",
       "  \n",
       "    function run_inline_js() {\n",
       "      \n",
       "      if ((window.Bokeh !== undefined) || (force === true)) {\n",
       "        for (var i = 0; i < inline_js.length; i++) {\n",
       "          inline_js[i](window.Bokeh);\n",
       "        }if (force === true) {\n",
       "          display_loaded();\n",
       "        }} else if (Date.now() < window._bokeh_timeout) {\n",
       "        setTimeout(run_inline_js, 100);\n",
       "      } else if (!window._bokeh_failed_load) {\n",
       "        console.log(\"Bokeh: BokehJS failed to load within specified timeout.\");\n",
       "        window._bokeh_failed_load = true;\n",
       "      } else if (force !== true) {\n",
       "        var cell = $(document.getElementById(\"6b701edc-97bf-46ea-a2e4-3b597032426d\")).parents('.cell').data().cell;\n",
       "        cell.output_area.append_execute_result(NB_LOAD_WARNING)\n",
       "      }\n",
       "  \n",
       "    }\n",
       "  \n",
       "    if (window._bokeh_is_loading === 0) {\n",
       "      console.log(\"Bokeh: BokehJS loaded, going straight to plotting\");\n",
       "      run_inline_js();\n",
       "    } else {\n",
       "      load_libs(js_urls, function() {\n",
       "        console.log(\"Bokeh: BokehJS plotting callback run at\", now());\n",
       "        run_inline_js();\n",
       "      });\n",
       "    }\n",
       "  }(this));\n",
       "</script>"
      ]
     },
     "metadata": {},
     "output_type": "display_data"
    }
   ],
   "source": [
    "hist, edges = np.histogram(counts_ted_top1000, density=True, bins=100, normed=True)\n",
    "\n",
    "p = figure(tools=\"pan,wheel_zoom,reset,save\",\n",
    "           toolbar_location=\"above\",\n",
    "           title=\"Top-1000 words distribution\")\n",
    "p.quad(top=hist, bottom=0, left=edges[:-1], right=edges[1:], line_color=\"#555555\")\n",
    "show(p)"
   ]
  },
  {
   "cell_type": "markdown",
   "metadata": {
    "deletable": true,
    "editable": true
   },
   "source": [
    "### Part 3: Train Word2Vec"
   ]
  },
  {
   "cell_type": "code",
   "execution_count": 15,
   "metadata": {
    "collapsed": true,
    "deletable": true,
    "editable": true
   },
   "outputs": [],
   "source": [
    "model_ted = Word2Vec(sentences_ted, min_count=10)"
   ]
  },
  {
   "cell_type": "markdown",
   "metadata": {
    "deletable": true,
    "editable": true
   },
   "source": [
    "### Part 4: Ted Learnt Representations"
   ]
  },
  {
   "cell_type": "markdown",
   "metadata": {
    "deletable": true,
    "editable": true
   },
   "source": [
    "Finding similar words: (see gensim docs for more functionality of `most_similar`)"
   ]
  },
  {
   "cell_type": "code",
   "execution_count": 16,
   "metadata": {
    "collapsed": false,
    "deletable": true,
    "editable": true
   },
   "outputs": [
    {
     "data": {
      "text/plain": [
       "[('woman', 0.8359224200248718),\n",
       " ('guy', 0.8224167227745056),\n",
       " ('lady', 0.7852599024772644),\n",
       " ('boy', 0.7541414499282837),\n",
       " ('girl', 0.7390031814575195),\n",
       " ('gentleman', 0.7352846264839172),\n",
       " ('soldier', 0.7309067845344543),\n",
       " ('kid', 0.698061466217041),\n",
       " ('poet', 0.6628059148788452),\n",
       " ('john', 0.6622768044471741)]"
      ]
     },
     "execution_count": 16,
     "metadata": {},
     "output_type": "execute_result"
    }
   ],
   "source": [
    "model_ted.most_similar(\"man\")"
   ]
  },
  {
   "cell_type": "code",
   "execution_count": 17,
   "metadata": {
    "collapsed": false,
    "deletable": true,
    "editable": true
   },
   "outputs": [
    {
     "data": {
      "text/plain": [
       "[('girl', 0.8370451331138611),\n",
       " ('man', 0.8359224200248718),\n",
       " ('lady', 0.7914308905601501),\n",
       " ('boy', 0.7843156456947327),\n",
       " ('child', 0.7535058259963989),\n",
       " ('soldier', 0.7467571496963501),\n",
       " ('nurse', 0.728182315826416),\n",
       " ('kid', 0.7145192623138428),\n",
       " ('gentleman', 0.7079211473464966),\n",
       " ('doctor', 0.6912469863891602)]"
      ]
     },
     "execution_count": 17,
     "metadata": {},
     "output_type": "execute_result"
    }
   ],
   "source": [
    "model_ted.most_similar(\"woman\")"
   ]
  },
  {
   "cell_type": "code",
   "execution_count": 18,
   "metadata": {
    "collapsed": false,
    "deletable": true,
    "editable": true
   },
   "outputs": [
    {
     "data": {
      "text/plain": [
       "[('legacy', 0.6925253868103027),\n",
       " ('client', 0.6840232014656067),\n",
       " ('passion', 0.6326696872711182),\n",
       " ('son', 0.6255491375923157),\n",
       " ('faith', 0.6254357695579529),\n",
       " ('profession', 0.621522068977356),\n",
       " ('grandmother', 0.6143438220024109),\n",
       " ('father', 0.597388744354248),\n",
       " ('promise', 0.5972912311553955),\n",
       " ('daughter', 0.5854037404060364)]"
      ]
     },
     "execution_count": 18,
     "metadata": {},
     "output_type": "execute_result"
    }
   ],
   "source": [
    "model_ted.most_similar(\"dream\")"
   ]
  },
  {
   "cell_type": "code",
   "execution_count": 19,
   "metadata": {
    "collapsed": false,
    "deletable": true,
    "editable": true
   },
   "outputs": [
    {
     "data": {
      "text/plain": [
       "[('equality', 0.6786928772926331),\n",
       " ('illness', 0.67664635181427),\n",
       " ('depression', 0.649956226348877),\n",
       " ('likelihood', 0.6346561312675476),\n",
       " ('condition', 0.6305301189422607),\n",
       " ('faith', 0.6272737979888916),\n",
       " ('religion', 0.6228148937225342),\n",
       " ('penalty', 0.6192631721496582),\n",
       " ('customer', 0.6182265281677246),\n",
       " ('status', 0.6177093386650085)]"
      ]
     },
     "execution_count": 19,
     "metadata": {},
     "output_type": "execute_result"
    }
   ],
   "source": [
    "model_ted.most_similar(\"marriage\")"
   ]
  },
  {
   "cell_type": "code",
   "execution_count": 20,
   "metadata": {
    "collapsed": false,
    "deletable": true,
    "editable": true
   },
   "outputs": [
    {
     "data": {
      "text/plain": [
       "[('tool', 0.704346239566803),\n",
       " ('design', 0.6995739340782166),\n",
       " ('technologies', 0.6903078556060791),\n",
       " ('knowledge', 0.6835100054740906),\n",
       " ('innovation', 0.6754068732261658),\n",
       " ('software', 0.6695283651351929),\n",
       " ('method', 0.6621416211128235),\n",
       " ('tools', 0.6563212275505066),\n",
       " ('digital', 0.649803638458252),\n",
       " ('biology', 0.6477077007293701)]"
      ]
     },
     "execution_count": 20,
     "metadata": {},
     "output_type": "execute_result"
    }
   ],
   "source": [
    "model_ted.most_similar(\"technology\")"
   ]
  },
  {
   "cell_type": "code",
   "execution_count": 21,
   "metadata": {
    "collapsed": false,
    "deletable": true,
    "editable": true
   },
   "outputs": [
    {
     "data": {
      "text/plain": [
       "[('sciences', 0.7525447607040405),\n",
       " ('engineering', 0.748826265335083),\n",
       " ('educational', 0.7400134801864624),\n",
       " ('humanities', 0.7197060585021973),\n",
       " ('computing', 0.715947151184082),\n",
       " ('communications', 0.7136222124099731),\n",
       " ('exploration', 0.7092671990394592),\n",
       " ('strategic', 0.7015290260314941),\n",
       " ('organizing', 0.6889089941978455),\n",
       " ('telecommunications', 0.683088481426239)]"
      ]
     },
     "execution_count": 21,
     "metadata": {},
     "output_type": "execute_result"
    }
   ],
   "source": [
    "model_ted.most_similar(\"entertainment\")"
   ]
  },
  {
   "cell_type": "code",
   "execution_count": 22,
   "metadata": {
    "collapsed": false,
    "deletable": true,
    "editable": true
   },
   "outputs": [
    {
     "data": {
      "text/plain": [
       "[('technology', 0.6995739340782166),\n",
       " ('biology', 0.696924090385437),\n",
       " ('engineering', 0.6926122903823853),\n",
       " ('model', 0.6853285431861877),\n",
       " ('mathematics', 0.6803268790245056),\n",
       " ('mathematical', 0.6735076308250427),\n",
       " ('science', 0.6733931303024292),\n",
       " ('architecture', 0.672319233417511),\n",
       " ('tool', 0.6662320494651794),\n",
       " ('intelligence', 0.6210753321647644)]"
      ]
     },
     "execution_count": 22,
     "metadata": {},
     "output_type": "execute_result"
    }
   ],
   "source": [
    "model_ted.most_similar(\"design\")"
   ]
  },
  {
   "cell_type": "code",
   "execution_count": 23,
   "metadata": {
    "collapsed": false,
    "deletable": true,
    "editable": true
   },
   "outputs": [
    {
     "name": "stdout",
     "output_type": "stream",
     "text": [
      "[('queen', 0.9333152174949646), ('mary', 0.9283277988433838), ('president', 0.9175340533256531), ('luther', 0.9161136150360107), ('named', 0.9057334661483765), ('james', 0.9025154113769531), ('edward', 0.9017987847328186), ('robert', 0.8967223763465881), ('german', 0.8920257687568665), ('french', 0.8916367292404175)]\n",
      "[('memory', 1.318468451499939), ('biology', 1.2794066667556763), ('3d', 1.2191344499588013), ('physical', 1.2084577083587646), ('testing', 1.20833158493042), ('knowledge', 1.1944022178649902), ('intelligence', 1.1899983882904053), ('biological', 1.1796506643295288), ('visual', 1.1779025793075562), ('brain', 1.1743439435958862)]\n",
      "[('experience', 0.6385869979858398), ('happiness', 0.6376583576202393), ('consciousness', 0.6104937195777893), ('joy', 0.6081647872924805), ('humanity', 0.6064414978027344), ('sense', 0.6018146276473999), ('desire', 0.5992480516433716), ('memory', 0.5989620089530945), ('existence', 0.5951810479164124), ('purpose', 0.5949209928512573)]\n",
      "[('soviet', 0.7211437821388245), ('vietnam', 0.7200625538825989), ('russia', 0.7137231826782227)]\n"
     ]
    }
   ],
   "source": [
    "print(model_ted.most_similar_cosmul(positive=['woman', 'king'], negative=['man']))\n",
    "print(model_ted.most_similar_cosmul(positive=['computer', 'mind'], negative=['man']))\n",
    "print(model_ted.most_similar_cosmul(positive=['life','meaning']))\n",
    "print(model_ted.most_similar_cosmul(positive=['war', 'usa'])[:3])"
   ]
  },
  {
   "cell_type": "markdown",
   "metadata": {
    "deletable": true,
    "editable": true
   },
   "source": [
    "#### t-SNE visualization\n",
    "To use the t-SNE code below, first put a list of the top 1000 words (as strings) into a variable `words_top_ted`. The following code gets the corresponding vectors from the model, assuming it's called `model_ted`:"
   ]
  },
  {
   "cell_type": "code",
   "execution_count": 24,
   "metadata": {
    "collapsed": false,
    "deletable": true,
    "editable": true
   },
   "outputs": [],
   "source": [
    "words_top_ted = []\n",
    "for common_word in cnt.most_common(1000):\n",
    "    words_top_ted.append(common_word[0])\n",
    "\n",
    "# This assumes words_top_ted is a list of strings, the top 1000 words\n",
    "words_top_vec_ted = model_ted[words_top_ted]"
   ]
  },
  {
   "cell_type": "code",
   "execution_count": 25,
   "metadata": {
    "collapsed": false,
    "deletable": true,
    "editable": true
   },
   "outputs": [],
   "source": [
    "tsne = TSNE(n_components=2, random_state=0)\n",
    "words_top_ted_tsne = tsne.fit_transform(words_top_vec_ted)"
   ]
  },
  {
   "cell_type": "code",
   "execution_count": 26,
   "metadata": {
    "collapsed": false,
    "deletable": true,
    "editable": true,
    "scrolled": true
   },
   "outputs": [
    {
     "data": {
      "text/html": [
       "\n",
       "\n",
       "    <div class=\"bk-root\">\n",
       "        <div class=\"bk-plotdiv\" id=\"9fdb8e95-e058-42ee-987f-97cfb41c26a3\"></div>\n",
       "    </div>\n",
       "<script type=\"text/javascript\">\n",
       "  \n",
       "  (function(global) {\n",
       "    function now() {\n",
       "      return new Date();\n",
       "    }\n",
       "  \n",
       "    var force = false;\n",
       "  \n",
       "    if (typeof (window._bokeh_onload_callbacks) === \"undefined\" || force === true) {\n",
       "      window._bokeh_onload_callbacks = [];\n",
       "      window._bokeh_is_loading = undefined;\n",
       "    }\n",
       "  \n",
       "  \n",
       "    \n",
       "    if (typeof (window._bokeh_timeout) === \"undefined\" || force === true) {\n",
       "      window._bokeh_timeout = Date.now() + 0;\n",
       "      window._bokeh_failed_load = false;\n",
       "    }\n",
       "  \n",
       "    var NB_LOAD_WARNING = {'data': {'text/html':\n",
       "       \"<div style='background-color: #fdd'>\\n\"+\n",
       "       \"<p>\\n\"+\n",
       "       \"BokehJS does not appear to have successfully loaded. If loading BokehJS from CDN, this \\n\"+\n",
       "       \"may be due to a slow or bad network connection. Possible fixes:\\n\"+\n",
       "       \"</p>\\n\"+\n",
       "       \"<ul>\\n\"+\n",
       "       \"<li>re-rerun `output_notebook()` to attempt to load from CDN again, or</li>\\n\"+\n",
       "       \"<li>use INLINE resources instead, as so:</li>\\n\"+\n",
       "       \"</ul>\\n\"+\n",
       "       \"<code>\\n\"+\n",
       "       \"from bokeh.resources import INLINE\\n\"+\n",
       "       \"output_notebook(resources=INLINE)\\n\"+\n",
       "       \"</code>\\n\"+\n",
       "       \"</div>\"}};\n",
       "  \n",
       "    function display_loaded() {\n",
       "      if (window.Bokeh !== undefined) {\n",
       "        document.getElementById(\"9fdb8e95-e058-42ee-987f-97cfb41c26a3\").textContent = \"BokehJS successfully loaded.\";\n",
       "      } else if (Date.now() < window._bokeh_timeout) {\n",
       "        setTimeout(display_loaded, 100)\n",
       "      }\n",
       "    }\n",
       "  \n",
       "    function run_callbacks() {\n",
       "      window._bokeh_onload_callbacks.forEach(function(callback) { callback() });\n",
       "      delete window._bokeh_onload_callbacks\n",
       "      console.info(\"Bokeh: all callbacks have finished\");\n",
       "    }\n",
       "  \n",
       "    function load_libs(js_urls, callback) {\n",
       "      window._bokeh_onload_callbacks.push(callback);\n",
       "      if (window._bokeh_is_loading > 0) {\n",
       "        console.log(\"Bokeh: BokehJS is being loaded, scheduling callback at\", now());\n",
       "        return null;\n",
       "      }\n",
       "      if (js_urls == null || js_urls.length === 0) {\n",
       "        run_callbacks();\n",
       "        return null;\n",
       "      }\n",
       "      console.log(\"Bokeh: BokehJS not loaded, scheduling load and callback at\", now());\n",
       "      window._bokeh_is_loading = js_urls.length;\n",
       "      for (var i = 0; i < js_urls.length; i++) {\n",
       "        var url = js_urls[i];\n",
       "        var s = document.createElement('script');\n",
       "        s.src = url;\n",
       "        s.async = false;\n",
       "        s.onreadystatechange = s.onload = function() {\n",
       "          window._bokeh_is_loading--;\n",
       "          if (window._bokeh_is_loading === 0) {\n",
       "            console.log(\"Bokeh: all BokehJS libraries loaded\");\n",
       "            run_callbacks()\n",
       "          }\n",
       "        };\n",
       "        s.onerror = function() {\n",
       "          console.warn(\"failed to load library \" + url);\n",
       "        };\n",
       "        console.log(\"Bokeh: injecting script tag for BokehJS library: \", url);\n",
       "        document.getElementsByTagName(\"head\")[0].appendChild(s);\n",
       "      }\n",
       "    };var element = document.getElementById(\"9fdb8e95-e058-42ee-987f-97cfb41c26a3\");\n",
       "    if (element == null) {\n",
       "      console.log(\"Bokeh: ERROR: autoload.js configured with elementid '9fdb8e95-e058-42ee-987f-97cfb41c26a3' but no matching script tag was found. \")\n",
       "      return false;\n",
       "    }\n",
       "  \n",
       "    var js_urls = [];\n",
       "  \n",
       "    var inline_js = [\n",
       "      function(Bokeh) {\n",
       "        (function() {\n",
       "          var fn = function() {\n",
       "            var docs_json = {\"d5538c04-f2b1-4b0d-9b37-38eea1c4942e\":{\"roots\":{\"references\":[{\"attributes\":{\"callback\":null},\"id\":\"bc678d0d-a605-4eb4-8169-f001accf2803\",\"type\":\"DataRange1d\"},{\"attributes\":{\"plot\":{\"id\":\"a936597b-d66d-49e1-a8fb-57d183296467\",\"subtype\":\"Figure\",\"type\":\"Plot\"},\"ticker\":{\"id\":\"dcf62aa5-b2ca-4ae2-a847-5d5703d6927f\",\"type\":\"BasicTicker\"}},\"id\":\"06d03156-f4cb-48b5-9e5c-0fdd29358a92\",\"type\":\"Grid\"},{\"attributes\":{\"fill_color\":{\"value\":\"#1f77b4\"},\"line_color\":{\"value\":\"#1f77b4\"},\"size\":{\"units\":\"screen\",\"value\":8},\"x\":{\"field\":\"x1\"},\"y\":{\"field\":\"x2\"}},\"id\":\"bb003f5d-e72d-46f0-9f37-bbe0ef1f442f\",\"type\":\"Circle\"},{\"attributes\":{\"plot\":{\"id\":\"a936597b-d66d-49e1-a8fb-57d183296467\",\"subtype\":\"Figure\",\"type\":\"Plot\"}},\"id\":\"8ab1fbf6-d4fc-4e18-8842-6e9648644590\",\"type\":\"ResetTool\"},{\"attributes\":{\"fill_alpha\":{\"value\":0.1},\"fill_color\":{\"value\":\"#1f77b4\"},\"line_alpha\":{\"value\":0.1},\"line_color\":{\"value\":\"#1f77b4\"},\"size\":{\"units\":\"screen\",\"value\":8},\"x\":{\"field\":\"x1\"},\"y\":{\"field\":\"x2\"}},\"id\":\"44a0fff9-f79a-4803-988b-9bf918489de6\",\"type\":\"Circle\"},{\"attributes\":{},\"id\":\"dcf62aa5-b2ca-4ae2-a847-5d5703d6927f\",\"type\":\"BasicTicker\"},{\"attributes\":{\"dimension\":1,\"plot\":{\"id\":\"a936597b-d66d-49e1-a8fb-57d183296467\",\"subtype\":\"Figure\",\"type\":\"Plot\"},\"ticker\":{\"id\":\"1c69adc9-35d3-473d-a764-23fea05264e4\",\"type\":\"BasicTicker\"}},\"id\":\"e525e220-055c-44e1-8a09-9388e37e0c31\",\"type\":\"Grid\"},{\"attributes\":{},\"id\":\"d11aa182-ddcc-40f6-ba18-7b70a0b7f3e6\",\"type\":\"BasicTickFormatter\"},{\"attributes\":{\"callback\":null,\"column_names\":[\"x1\",\"names\",\"x2\"],\"data\":{\"names\":[\"the\",\"and\",\"to\",\"of\",\"a\",\"that\",\"i\",\"in\",\"it\",\"you\",\"we\",\"is\",\"s\",\"this\",\"so\",\"they\",\"was\",\"for\",\"are\",\"have\",\"but\",\"what\",\"on\",\"with\",\"can\",\"t\",\"about\",\"there\",\"be\",\"as\",\"at\",\"all\",\"not\",\"do\",\"my\",\"one\",\"re\",\"people\",\"like\",\"if\",\"from\",\"now\",\"our\",\"he\",\"an\",\"just\",\"these\",\"or\",\"when\",\"because\",\"very\",\"me\",\"out\",\"by\",\"them\",\"how\",\"know\",\"up\",\"going\",\"had\",\"more\",\"think\",\"who\",\"were\",\"see\",\"your\",\"their\",\"which\",\"would\",\"here\",\"really\",\"get\",\"ve\",\"then\",\"m\",\"world\",\"us\",\"time\",\"some\",\"has\",\"don\",\"actually\",\"into\",\"way\",\"where\",\"will\",\"years\",\"things\",\"other\",\"no\",\"could\",\"go\",\"well\",\"want\",\"been\",\"make\",\"right\",\"she\",\"said\",\"something\",\"those\",\"first\",\"two\",\"than\",\"much\",\"also\",\"look\",\"new\",\"thing\",\"little\",\"got\",\"back\",\"over\",\"most\",\"say\",\"even\",\"his\",\"life\",\"only\",\"work\",\"many\",\"take\",\"need\",\"did\",\"lot\",\"kind\",\"why\",\"good\",\"around\",\"every\",\"different\",\"down\",\"ll\",\"let\",\"her\",\"through\",\"same\",\"being\",\"come\",\"d\",\"day\",\"year\",\"three\",\"use\",\"doing\",\"put\",\"called\",\"any\",\"today\",\"percent\",\"made\",\"after\",\"thank\",\"tell\",\"great\",\"human\",\"find\",\"didn\",\"fact\",\"talk\",\"change\",\"started\",\"another\",\"idea\",\"big\",\"last\",\"own\",\"before\",\"its\",\"never\",\"should\",\"better\",\"give\",\"thought\",\"went\",\"might\",\"important\",\"000\",\"again\",\"able\",\"together\",\"still\",\"problem\",\"off\",\"next\",\"part\",\"course\",\"system\",\"him\",\"does\",\"each\",\"start\",\"show\",\"long\",\"ago\",\"story\",\"came\",\"brain\",\"few\",\"bit\",\"between\",\"used\",\"place\",\"technology\",\"women\",\"too\",\"old\",\"mean\",\"data\",\"water\",\"looking\",\"question\",\"maybe\",\"found\",\"love\",\"doesn\",\"end\",\"example\",\"10\",\"done\",\"point\",\"four\",\"real\",\"wanted\",\"ever\",\"understand\",\"school\",\"sort\",\"live\",\"call\",\"whole\",\"always\",\"children\",\"trying\",\"may\",\"person\",\"away\",\"believe\",\"feel\",\"try\",\"million\",\"working\",\"help\",\"everything\",\"five\",\"country\",\"thinking\",\"second\",\"using\",\"information\",\"money\",\"means\",\"took\",\"power\",\"times\",\"high\",\"space\",\"number\",\"kids\",\"home\",\"become\",\"create\",\"small\",\"design\",\"making\",\"best\",\"left\",\"getting\",\"future\",\"enough\",\"man\",\"quite\",\"city\",\"without\",\"sense\",\"happened\",\"comes\",\"social\",\"probably\",\"light\",\"less\",\"energy\",\"talking\",\"am\",\"building\",\"science\",\"food\",\"body\",\"told\",\"interesting\",\"half\",\"ask\",\"pretty\",\"play\",\"hard\",\"anything\",\"lives\",\"countries\",\"such\",\"coming\",\"family\",\"stuff\",\"dollars\",\"moment\",\"earth\",\"20\",\"imagine\",\"across\",\"side\",\"saw\",\"while\",\"happen\",\"okay\",\"once\",\"build\",\"having\",\"men\",\"later\",\"experience\",\"asked\",\"makes\",\"living\",\"seen\",\"says\",\"room\",\"hand\",\"simple\",\"health\",\"ways\",\"else\",\"case\",\"almost\",\"yet\",\"young\",\"days\",\"nothing\",\"bad\",\"care\",\"happens\",\"goes\",\"move\",\"states\",\"reason\",\"computer\",\"open\",\"learn\",\"africa\",\"process\",\"inside\",\"someone\",\"six\",\"far\",\"mind\",\"project\",\"remember\",\"single\",\"picture\",\"both\",\"whether\",\"problems\",\"community\",\"saying\",\"basically\",\"already\",\"within\",\"looked\",\"myself\",\"billion\",\"often\",\"possible\",\"business\",\"planet\",\"global\",\"everybody\",\"top\",\"sure\",\"public\",\"set\",\"wrong\",\"book\",\"car\",\"keep\",\"answer\",\"yes\",\"oh\",\"hope\",\"sometimes\",\"true\",\"history\",\"war\",\"guy\",\"child\",\"instead\",\"months\",\"ideas\",\"looks\",\"matter\",\"government\",\"amazing\",\"united\",\"since\",\"bring\",\"age\",\"cells\",\"job\",\"heard\",\"until\",\"face\",\"wasn\",\"100\",\"read\",\"control\",\"isn\",\"research\",\"30\",\"words\",\"u\",\"group\",\"under\",\"self\",\"somebody\",\"built\",\"state\",\"woman\",\"turn\",\"friends\",\"beautiful\",\"line\",\"knew\",\"couple\",\"order\",\"form\",\"yeah\",\"internet\",\"middle\",\"music\",\"piece\",\"nature\",\"head\",\"though\",\"stop\",\"everyone\",\"50\",\"places\",\"video\",\"learned\",\"language\",\"run\",\"night\",\"decided\",\"study\",\"word\",\"cancer\",\"works\",\"taking\",\"became\",\"exactly\",\"species\",\"society\",\"completely\",\"education\",\"against\",\"stories\",\"large\",\"share\",\"level\",\"heart\",\"america\",\"model\",\"questions\",\"gets\",\"mother\",\"god\",\"company\",\"turns\",\"ourselves\",\"happening\",\"art\",\"hear\",\"themselves\",\"must\",\"itself\",\"kinds\",\"rather\",\"students\",\"name\",\"hours\",\"disease\",\"front\",\"house\",\"couldn\",\"huge\",\"created\",\"universe\",\"ok\",\"animals\",\"american\",\"environment\",\"worked\",\"minutes\",\"ones\",\"black\",\"1\",\"perhaps\",\"past\",\"third\",\"along\",\"finally\",\"others\",\"sound\",\"early\",\"game\",\"thousands\",\"century\",\"based\",\"least\",\"per\",\"ted\",\"lots\",\"figure\",\"free\",\"particular\",\"guys\",\"happy\",\"news\",\"learning\",\"entire\",\"won\",\"gave\",\"machine\",\"india\",\"during\",\"systems\",\"air\",\"difference\",\"outside\",\"natural\",\"taken\",\"seven\",\"given\",\"changed\",\"leave\",\"cell\",\"15\",\"close\",\"behind\",\"cities\",\"full\",\"scale\",\"difficult\",\"china\",\"takes\",\"companies\",\"area\",\"yourself\",\"reality\",\"seeing\",\"easy\",\"turned\",\"cost\",\"eyes\",\"moving\",\"team\",\"population\",\"culture\",\"york\",\"hands\",\"began\",\"whatever\",\"terms\",\"needs\",\"image\",\"simply\",\"needed\",\"beginning\",\"father\",\"local\",\"realized\",\"media\",\"death\",\"parents\",\"walk\",\"view\",\"white\",\"market\",\"parts\",\"ocean\",\"economic\",\"eight\",\"powerful\",\"week\",\"known\",\"size\",\"felt\",\"humans\",\"certain\",\"spend\",\"longer\",\"phone\",\"wonderful\",\"cannot\",\"common\",\"grow\",\"tried\",\"center\",\"fish\",\"land\",\"oil\",\"interested\",\"political\",\"deal\",\"red\",\"gone\",\"amount\",\"weeks\",\"spent\",\"opportunity\",\"lost\",\"paper\",\"national\",\"quickly\",\"blue\",\"step\",\"poor\",\"green\",\"buy\",\"growth\",\"wouldn\",\"either\",\"patients\",\"sitting\",\"ability\",\"changes\",\"write\",\"challenge\",\"south\",\"low\",\"growing\",\"friend\",\"field\",\"2\",\"shows\",\"rest\",\"born\",\"climate\",\"40\",\"test\",\"street\",\"incredible\",\"surface\",\"average\",\"physical\",\"pay\",\"value\",\"morning\",\"program\",\"scientists\",\"behavior\",\"met\",\"feeling\",\"hundreds\",\"girl\",\"economy\",\"dna\",\"complex\",\"access\",\"risk\",\"animal\",\"structure\",\"feet\",\"attention\",\"areas\",\"anyone\",\"deep\",\"watch\",\"short\",\"absolutely\",\"speak\",\"brought\",\"bottom\",\"die\",\"audience\",\"numbers\",\"stage\",\"realize\",\"images\",\"law\",\"wrote\",\"understanding\",\"knowledge\",\"literally\",\"books\",\"movement\",\"ground\",\"giving\",\"eat\",\"force\",\"seems\",\"alone\",\"telling\",\"hold\",\"starting\",\"nice\",\"sea\",\"forward\",\"developed\",\"kid\",\"individual\",\"millions\",\"support\",\"tools\",\"running\",\"miles\",\"online\",\"result\",\"act\",\"medical\",\"technologies\",\"north\",\"lab\",\"development\",\"blood\",\"fear\",\"nobody\",\"map\",\"personal\",\"voice\",\"issue\",\"material\",\"key\",\"recently\",\"12\",\"theory\",\"cut\",\"cars\",\"sun\",\"fast\",\"changing\",\"playing\",\"clear\",\"especially\",\"soon\",\"girls\",\"patient\",\"choice\",\"fly\",\"creating\",\"europe\",\"relationship\",\"talked\",\"normal\",\"discovered\",\"gives\",\"generation\",\"dark\",\"showed\",\"type\",\"asking\",\"industry\",\"seem\",\"chance\",\"rate\",\"issues\",\"color\",\"designed\",\"hour\",\"fun\",\"several\",\"computers\",\"innovation\",\"university\",\"class\",\"tiny\",\"english\",\"allow\",\"save\",\"focus\",\"developing\",\"solve\",\"digital\",\"film\",\"network\",\"special\",\"wall\",\"baby\",\"situation\",\"solution\",\"reasons\",\"knows\",\"box\",\"stand\",\"dead\",\"meet\",\"begin\",\"haven\",\"anybody\",\"impact\",\"term\",\"beyond\",\"pictures\",\"please\",\"produce\",\"ice\",\"shape\",\"non\",\"cool\",\"robot\",\"resources\",\"stay\",\"groups\",\"likely\",\"available\",\"major\",\"rights\",\"truth\",\"cause\",\"experiment\",\"obviously\",\"evidence\",\"writing\",\"modern\",\"drug\",\"becomes\",\"incredibly\",\"bigger\",\"aren\",\"guess\",\"nine\",\"product\",\"drugs\",\"lived\",\"involved\",\"perfect\",\"google\",\"month\",\"effect\",\"putting\",\"similar\",\"eye\",\"pick\",\"message\",\"web\",\"quality\",\"violence\",\"security\",\"evolution\",\"office\",\"indeed\",\"basic\",\"solar\",\"general\",\"towards\",\"present\",\"drive\",\"worth\",\"send\",\"listen\",\"revolution\",\"hundred\",\"explain\",\"certainly\",\"died\",\"ready\",\"teach\",\"journey\",\"25\",\"hit\",\"walking\",\"led\",\"international\",\"approach\",\"200\",\"games\",\"scientific\",\"communities\",\"potential\",\"chinese\",\"crazy\",\"60\",\"device\",\"camera\",\"source\",\"sex\",\"rules\",\"carbon\",\"sounds\",\"boy\",\"reach\",\"starts\",\"west\",\"examples\",\"3\",\"software\",\"success\",\"measure\",\"particularly\",\"totally\",\"suddenly\",\"action\",\"college\",\"higher\",\"code\",\"eventually\",\"democracy\",\"sit\",\"minute\",\"among\",\"largest\",\"hospital\",\"showing\",\"notice\",\"period\",\"mass\",\"develop\",\"onto\",\"dream\",\"add\",\"memory\",\"plants\",\"break\",\"favorite\",\"everywhere\",\"zero\",\"11\",\"response\",\"schools\",\"moved\",\"speed\",\"wants\",\"individuals\",\"wait\",\"extremely\",\"table\",\"movie\",\"anyway\",\"trust\",\"medicine\",\"follow\",\"biggest\",\"plant\",\"watching\",\"organization\",\"road\",\"creative\",\"worse\",\"choose\",\"lead\",\"500\",\"results\",\"exciting\",\"materials\",\"grew\",\"jobs\",\"poverty\",\"positive\",\"east\",\"plan\",\"safe\",\"fall\",\"strong\",\"essentially\",\"object\",\"door\",\"vision\",\"son\",\"continue\",\"further\",\"happiness\",\"student\",\"doctor\",\"named\",\"objects\",\"including\",\"role\",\"extraordinary\",\"standing\",\"usually\",\"african\",\"skin\",\"projects\",\"conversation\",\"leaders\",\"allowed\",\"models\",\"supposed\",\"interest\",\"faster\",\"police\",\"fight\",\"families\",\"tree\",\"connected\",\"screen\",\"5\",\"cases\",\"goal\",\"somewhere\",\"shown\",\"finding\",\"buildings\"],\"x1\":{\"__ndarray__\":\"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\",\"dtype\":\"float64\",\"shape\":[1000]},\"x2\":{\"__ndarray__\":\"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\",\"dtype\":\"float64\",\"shape\":[1000]}}},\"id\":\"9bf30a2c-d4a6-49a5-8905-4d72cea5f59a\",\"type\":\"ColumnDataSource\"},{\"attributes\":{\"plot\":{\"id\":\"a936597b-d66d-49e1-a8fb-57d183296467\",\"subtype\":\"Figure\",\"type\":\"Plot\"}},\"id\":\"be194205-ccd7-4dcf-a3bf-dea9088f7bc4\",\"type\":\"PanTool\"},{\"attributes\":{\"data_source\":{\"id\":\"9bf30a2c-d4a6-49a5-8905-4d72cea5f59a\",\"type\":\"ColumnDataSource\"},\"glyph\":{\"id\":\"bb003f5d-e72d-46f0-9f37-bbe0ef1f442f\",\"type\":\"Circle\"},\"hover_glyph\":null,\"nonselection_glyph\":{\"id\":\"44a0fff9-f79a-4803-988b-9bf918489de6\",\"type\":\"Circle\"},\"selection_glyph\":null},\"id\":\"6d62168b-c610-4cfe-8cc1-7445094723b4\",\"type\":\"GlyphRenderer\"},{\"attributes\":{\"formatter\":{\"id\":\"d11aa182-ddcc-40f6-ba18-7b70a0b7f3e6\",\"type\":\"BasicTickFormatter\"},\"plot\":{\"id\":\"a936597b-d66d-49e1-a8fb-57d183296467\",\"subtype\":\"Figure\",\"type\":\"Plot\"},\"ticker\":{\"id\":\"dcf62aa5-b2ca-4ae2-a847-5d5703d6927f\",\"type\":\"BasicTicker\"}},\"id\":\"96e89de2-6ecf-4151-a932-f4b85e395ea3\",\"type\":\"LinearAxis\"},{\"attributes\":{\"formatter\":{\"id\":\"633ac5a9-5770-4cc7-88dc-2462c759f803\",\"type\":\"BasicTickFormatter\"},\"plot\":{\"id\":\"a936597b-d66d-49e1-a8fb-57d183296467\",\"subtype\":\"Figure\",\"type\":\"Plot\"},\"ticker\":{\"id\":\"1c69adc9-35d3-473d-a764-23fea05264e4\",\"type\":\"BasicTicker\"}},\"id\":\"99b8976d-baba-4455-962c-96ca84cc6083\",\"type\":\"LinearAxis\"},{\"attributes\":{},\"id\":\"633ac5a9-5770-4cc7-88dc-2462c759f803\",\"type\":\"BasicTickFormatter\"},{\"attributes\":{\"plot\":{\"id\":\"a936597b-d66d-49e1-a8fb-57d183296467\",\"subtype\":\"Figure\",\"type\":\"Plot\"},\"source\":{\"id\":\"9bf30a2c-d4a6-49a5-8905-4d72cea5f59a\",\"type\":\"ColumnDataSource\"},\"text\":{\"field\":\"names\"},\"text_align\":\"center\",\"text_color\":{\"value\":\"#555555\"},\"text_font_size\":{\"value\":\"8pt\"},\"x\":{\"field\":\"x1\"},\"y\":{\"field\":\"x2\"},\"y_offset\":{\"value\":6}},\"id\":\"f53cfa91-ff21-41f4-83af-5694ff463e2f\",\"type\":\"LabelSet\"},{\"attributes\":{\"below\":[{\"id\":\"96e89de2-6ecf-4151-a932-f4b85e395ea3\",\"type\":\"LinearAxis\"}],\"left\":[{\"id\":\"99b8976d-baba-4455-962c-96ca84cc6083\",\"type\":\"LinearAxis\"}],\"renderers\":[{\"id\":\"96e89de2-6ecf-4151-a932-f4b85e395ea3\",\"type\":\"LinearAxis\"},{\"id\":\"06d03156-f4cb-48b5-9e5c-0fdd29358a92\",\"type\":\"Grid\"},{\"id\":\"99b8976d-baba-4455-962c-96ca84cc6083\",\"type\":\"LinearAxis\"},{\"id\":\"e525e220-055c-44e1-8a09-9388e37e0c31\",\"type\":\"Grid\"},{\"id\":\"6d62168b-c610-4cfe-8cc1-7445094723b4\",\"type\":\"GlyphRenderer\"},{\"id\":\"f53cfa91-ff21-41f4-83af-5694ff463e2f\",\"type\":\"LabelSet\"}],\"title\":{\"id\":\"ed2b86b5-258d-452a-906c-99b67f698a44\",\"type\":\"Title\"},\"tool_events\":{\"id\":\"8c0a6d82-1486-4ab7-ac47-9d9b5e0beb83\",\"type\":\"ToolEvents\"},\"toolbar\":{\"id\":\"516f0088-c354-4941-9a75-1d999d6f3efa\",\"type\":\"Toolbar\"},\"toolbar_location\":\"above\",\"x_range\":{\"id\":\"87589e14-aa23-4919-880b-0a72704e35ae\",\"type\":\"DataRange1d\"},\"y_range\":{\"id\":\"bc678d0d-a605-4eb4-8169-f001accf2803\",\"type\":\"DataRange1d\"}},\"id\":\"a936597b-d66d-49e1-a8fb-57d183296467\",\"subtype\":\"Figure\",\"type\":\"Plot\"},{\"attributes\":{\"plot\":{\"id\":\"a936597b-d66d-49e1-a8fb-57d183296467\",\"subtype\":\"Figure\",\"type\":\"Plot\"}},\"id\":\"278c78f3-7dc4-4901-8c4f-fd91daec9616\",\"type\":\"WheelZoomTool\"},{\"attributes\":{\"plot\":null,\"text\":\"word2vec T-SNE for most common words\"},\"id\":\"ed2b86b5-258d-452a-906c-99b67f698a44\",\"type\":\"Title\"},{\"attributes\":{\"callback\":null},\"id\":\"87589e14-aa23-4919-880b-0a72704e35ae\",\"type\":\"DataRange1d\"},{\"attributes\":{\"plot\":{\"id\":\"a936597b-d66d-49e1-a8fb-57d183296467\",\"subtype\":\"Figure\",\"type\":\"Plot\"}},\"id\":\"1ca7e81d-a55c-4099-8031-478110265bd4\",\"type\":\"SaveTool\"},{\"attributes\":{},\"id\":\"1c69adc9-35d3-473d-a764-23fea05264e4\",\"type\":\"BasicTicker\"},{\"attributes\":{},\"id\":\"8c0a6d82-1486-4ab7-ac47-9d9b5e0beb83\",\"type\":\"ToolEvents\"},{\"attributes\":{\"active_drag\":\"auto\",\"active_scroll\":\"auto\",\"active_tap\":\"auto\",\"tools\":[{\"id\":\"be194205-ccd7-4dcf-a3bf-dea9088f7bc4\",\"type\":\"PanTool\"},{\"id\":\"278c78f3-7dc4-4901-8c4f-fd91daec9616\",\"type\":\"WheelZoomTool\"},{\"id\":\"8ab1fbf6-d4fc-4e18-8842-6e9648644590\",\"type\":\"ResetTool\"},{\"id\":\"1ca7e81d-a55c-4099-8031-478110265bd4\",\"type\":\"SaveTool\"}]},\"id\":\"516f0088-c354-4941-9a75-1d999d6f3efa\",\"type\":\"Toolbar\"}],\"root_ids\":[\"a936597b-d66d-49e1-a8fb-57d183296467\"]},\"title\":\"Bokeh Application\",\"version\":\"0.12.4\"}};\n",
       "            var render_items = [{\"docid\":\"d5538c04-f2b1-4b0d-9b37-38eea1c4942e\",\"elementid\":\"9fdb8e95-e058-42ee-987f-97cfb41c26a3\",\"modelid\":\"a936597b-d66d-49e1-a8fb-57d183296467\"}];\n",
       "            \n",
       "            Bokeh.embed.embed_items(docs_json, render_items);\n",
       "          };\n",
       "          if (document.readyState != \"loading\") fn();\n",
       "          else document.addEventListener(\"DOMContentLoaded\", fn);\n",
       "        })();\n",
       "      },\n",
       "      function(Bokeh) {\n",
       "      }\n",
       "    ];\n",
       "  \n",
       "    function run_inline_js() {\n",
       "      \n",
       "      if ((window.Bokeh !== undefined) || (force === true)) {\n",
       "        for (var i = 0; i < inline_js.length; i++) {\n",
       "          inline_js[i](window.Bokeh);\n",
       "        }if (force === true) {\n",
       "          display_loaded();\n",
       "        }} else if (Date.now() < window._bokeh_timeout) {\n",
       "        setTimeout(run_inline_js, 100);\n",
       "      } else if (!window._bokeh_failed_load) {\n",
       "        console.log(\"Bokeh: BokehJS failed to load within specified timeout.\");\n",
       "        window._bokeh_failed_load = true;\n",
       "      } else if (force !== true) {\n",
       "        var cell = $(document.getElementById(\"9fdb8e95-e058-42ee-987f-97cfb41c26a3\")).parents('.cell').data().cell;\n",
       "        cell.output_area.append_execute_result(NB_LOAD_WARNING)\n",
       "      }\n",
       "  \n",
       "    }\n",
       "  \n",
       "    if (window._bokeh_is_loading === 0) {\n",
       "      console.log(\"Bokeh: BokehJS loaded, going straight to plotting\");\n",
       "      run_inline_js();\n",
       "    } else {\n",
       "      load_libs(js_urls, function() {\n",
       "        console.log(\"Bokeh: BokehJS plotting callback run at\", now());\n",
       "        run_inline_js();\n",
       "      });\n",
       "    }\n",
       "  }(this));\n",
       "</script>"
      ]
     },
     "metadata": {},
     "output_type": "display_data"
    }
   ],
   "source": [
    "p = figure(tools=\"pan,wheel_zoom,reset,save\",\n",
    "           toolbar_location=\"above\",\n",
    "           title=\"word2vec T-SNE for most common words\")\n",
    "\n",
    "source = ColumnDataSource(data=dict(x1=words_top_ted_tsne[:,0],\n",
    "                                    x2=words_top_ted_tsne[:,1],\n",
    "                                    names=words_top_ted))\n",
    "\n",
    "p.scatter(x=\"x1\", y=\"x2\", size=8, source=source)\n",
    "\n",
    "labels = LabelSet(x=\"x1\", y=\"x2\", text=\"names\", y_offset=6,\n",
    "                  text_font_size=\"8pt\", text_color=\"#555555\",\n",
    "                  source=source, text_align='center')\n",
    "p.add_layout(labels)\n",
    "\n",
    "show(p)"
   ]
  },
  {
   "cell_type": "markdown",
   "metadata": {
    "deletable": true,
    "editable": true
   },
   "source": [
    "### Extra: Literatura"
   ]
  },
  {
   "cell_type": "code",
   "execution_count": 27,
   "metadata": {
    "collapsed": false,
    "deletable": true,
    "editable": true
   },
   "outputs": [
    {
     "data": {
      "text/plain": [
       "['\\x0c1\\n\\nnao se sabe se kublai khan acredita em tudo o que diz marco polo quando este lhe\\ndescreve as cidades visitadas em suas missoes diplomaticas, mas o imperador dos\\ntartaros certamente continua a ouvir o jovem veneziano com maior curiosidade e\\natencao do que a qualquer outro de seus enviados ou exploradores',\n",
       " ' existe um momento\\nna vida dos imperadores que se segue ao orgulho pela imensa amplitude dos territorios\\nque conquistamos, a melancolia e ao alivio de saber que em breve desistiremos de\\nconhece-los e compreende-los, uma sensacao de vazio que surge ao calar da noite com\\no odor dos elefantes apos a chuva e das cinzas de sandalo que se resfriam nos braseiros,\\numa vertigem que faz estremecer os rios e as montanhas historiadas nos fulvos dorsos\\ndos planisferios, enrolando um depois do outro os despachos que anunciam o\\naniquilamento dos ultimos exercitos inimigos de derrota em derrota, e abrindo o lacre\\ndos sinetes de reis dos quais nunca se ouviu falar e que imploram a protecao das nossas\\narmadas avancadas em troca de impostos anuais de metais preciosos, peles curtidas e\\ncascos de tartarugas: e o desesperado momento em que se descobre que este imperio,\\nque nos parecia a soma de todas as maravilhas, e um esfacelo sem fim e sem forma, que\\na sua corrupcao e gangrenosa demais para ser remediada pelo nosso cetro, que o\\ntriunfo sobre os soberanos adversarios nos fez herdeiros de suas prolongadas ruinas',\n",
       " '\\nsomente nos relatorios de marco polo, kublai khan conseguia discernir, atraves das\\nmuralhas e das torres destinadas a desmoronar, a filigrana de um desenho tao fino a\\nponto de evitar as mordidas dos cupins']"
      ]
     },
     "execution_count": 27,
     "metadata": {},
     "output_type": "execute_result"
    }
   ],
   "source": [
    "with open('/home/matheus/Documents/data/copilados', 'r') as in_f:\n",
    "    liter_text = in_f.read().replace('!','.').replace('?','.').lower().split('.')\n",
    "\n",
    "liter_text[:3]"
   ]
  },
  {
   "cell_type": "code",
   "execution_count": 28,
   "metadata": {
    "collapsed": false,
    "deletable": true,
    "editable": true
   },
   "outputs": [
    {
     "data": {
      "text/plain": [
       "[['nao',\n",
       "  'se',\n",
       "  'sabe',\n",
       "  'se',\n",
       "  'kublai',\n",
       "  'khan',\n",
       "  'acredita',\n",
       "  'em',\n",
       "  'tudo',\n",
       "  'o',\n",
       "  'que',\n",
       "  'diz',\n",
       "  'marco',\n",
       "  'polo',\n",
       "  'quando',\n",
       "  'este',\n",
       "  'lhe',\n",
       "  'descreve',\n",
       "  'as',\n",
       "  'cidades',\n",
       "  'visitadas',\n",
       "  'em',\n",
       "  'suas',\n",
       "  'missoes',\n",
       "  'diplomaticas',\n",
       "  'mas',\n",
       "  'o',\n",
       "  'imperador',\n",
       "  'dos',\n",
       "  'tartaros',\n",
       "  'certamente',\n",
       "  'continua',\n",
       "  'a',\n",
       "  'ouvir',\n",
       "  'o',\n",
       "  'jovem',\n",
       "  'veneziano',\n",
       "  'com',\n",
       "  'maior',\n",
       "  'curiosidade',\n",
       "  'e',\n",
       "  'atencao',\n",
       "  'do',\n",
       "  'que',\n",
       "  'a',\n",
       "  'qualquer',\n",
       "  'outro',\n",
       "  'de',\n",
       "  'seus',\n",
       "  'enviados',\n",
       "  'ou',\n",
       "  'exploradores'],\n",
       " ['existe',\n",
       "  'um',\n",
       "  'momento',\n",
       "  'na',\n",
       "  'vida',\n",
       "  'dos',\n",
       "  'imperadores',\n",
       "  'que',\n",
       "  'se',\n",
       "  'segue',\n",
       "  'ao',\n",
       "  'orgulho',\n",
       "  'pela',\n",
       "  'imensa',\n",
       "  'amplitude',\n",
       "  'dos',\n",
       "  'territorios',\n",
       "  'que',\n",
       "  'conquistamos',\n",
       "  'a',\n",
       "  'melancolia',\n",
       "  'e',\n",
       "  'ao',\n",
       "  'alivio',\n",
       "  'de',\n",
       "  'saber',\n",
       "  'que',\n",
       "  'em',\n",
       "  'breve',\n",
       "  'desistiremos',\n",
       "  'de',\n",
       "  'conhece',\n",
       "  'los',\n",
       "  'e',\n",
       "  'compreende',\n",
       "  'los',\n",
       "  'uma',\n",
       "  'sensacao',\n",
       "  'de',\n",
       "  'vazio',\n",
       "  'que',\n",
       "  'surge',\n",
       "  'ao',\n",
       "  'calar',\n",
       "  'da',\n",
       "  'noite',\n",
       "  'com',\n",
       "  'o',\n",
       "  'odor',\n",
       "  'dos',\n",
       "  'elefantes',\n",
       "  'apos',\n",
       "  'a',\n",
       "  'chuva',\n",
       "  'e',\n",
       "  'das',\n",
       "  'cinzas',\n",
       "  'de',\n",
       "  'sandalo',\n",
       "  'que',\n",
       "  'se',\n",
       "  'resfriam',\n",
       "  'nos',\n",
       "  'braseiros',\n",
       "  'uma',\n",
       "  'vertigem',\n",
       "  'que',\n",
       "  'faz',\n",
       "  'estremecer',\n",
       "  'os',\n",
       "  'rios',\n",
       "  'e',\n",
       "  'as',\n",
       "  'montanhas',\n",
       "  'historiadas',\n",
       "  'nos',\n",
       "  'fulvos',\n",
       "  'dorsos',\n",
       "  'dos',\n",
       "  'planisferios',\n",
       "  'enrolando',\n",
       "  'um',\n",
       "  'depois',\n",
       "  'do',\n",
       "  'outro',\n",
       "  'os',\n",
       "  'despachos',\n",
       "  'que',\n",
       "  'anunciam',\n",
       "  'o',\n",
       "  'aniquilamento',\n",
       "  'dos',\n",
       "  'ultimos',\n",
       "  'exercitos',\n",
       "  'inimigos',\n",
       "  'de',\n",
       "  'derrota',\n",
       "  'em',\n",
       "  'derrota',\n",
       "  'e',\n",
       "  'abrindo',\n",
       "  'o',\n",
       "  'lacre',\n",
       "  'dos',\n",
       "  'sinetes',\n",
       "  'de',\n",
       "  'reis',\n",
       "  'dos',\n",
       "  'quais',\n",
       "  'nunca',\n",
       "  'se',\n",
       "  'ouviu',\n",
       "  'falar',\n",
       "  'e',\n",
       "  'que',\n",
       "  'imploram',\n",
       "  'a',\n",
       "  'protecao',\n",
       "  'das',\n",
       "  'nossas',\n",
       "  'armadas',\n",
       "  'avancadas',\n",
       "  'em',\n",
       "  'troca',\n",
       "  'de',\n",
       "  'impostos',\n",
       "  'anuais',\n",
       "  'de',\n",
       "  'metais',\n",
       "  'preciosos',\n",
       "  'peles',\n",
       "  'curtidas',\n",
       "  'e',\n",
       "  'cascos',\n",
       "  'de',\n",
       "  'tartarugas',\n",
       "  'e',\n",
       "  'o',\n",
       "  'desesperado',\n",
       "  'momento',\n",
       "  'em',\n",
       "  'que',\n",
       "  'se',\n",
       "  'descobre',\n",
       "  'que',\n",
       "  'este',\n",
       "  'imperio',\n",
       "  'que',\n",
       "  'nos',\n",
       "  'parecia',\n",
       "  'a',\n",
       "  'soma',\n",
       "  'de',\n",
       "  'todas',\n",
       "  'as',\n",
       "  'maravilhas',\n",
       "  'e',\n",
       "  'um',\n",
       "  'esfacelo',\n",
       "  'sem',\n",
       "  'fim',\n",
       "  'e',\n",
       "  'sem',\n",
       "  'forma',\n",
       "  'que',\n",
       "  'a',\n",
       "  'sua',\n",
       "  'corrupcao',\n",
       "  'e',\n",
       "  'gangrenosa',\n",
       "  'demais',\n",
       "  'para',\n",
       "  'ser',\n",
       "  'remediada',\n",
       "  'pelo',\n",
       "  'nosso',\n",
       "  'cetro',\n",
       "  'que',\n",
       "  'o',\n",
       "  'triunfo',\n",
       "  'sobre',\n",
       "  'os',\n",
       "  'soberanos',\n",
       "  'adversarios',\n",
       "  'nos',\n",
       "  'fez',\n",
       "  'herdeiros',\n",
       "  'de',\n",
       "  'suas',\n",
       "  'prolongadas',\n",
       "  'ruinas']]"
      ]
     },
     "execution_count": 28,
     "metadata": {},
     "output_type": "execute_result"
    }
   ],
   "source": [
    "for s_i in range(len(liter_text)):\n",
    "    liter_text[s_i] = re.sub(\"[^a-z]\", \" \", liter_text[s_i]).split()\n",
    "\n",
    "liter_text[:2]"
   ]
  },
  {
   "cell_type": "code",
   "execution_count": 29,
   "metadata": {
    "collapsed": false,
    "deletable": true,
    "editable": true
   },
   "outputs": [
    {
     "name": "stdout",
     "output_type": "stream",
     "text": [
      "296415\n"
     ]
    }
   ],
   "source": [
    "shuffle(liter_text)\n",
    "print(len(liter_text))"
   ]
  },
  {
   "cell_type": "code",
   "execution_count": 30,
   "metadata": {
    "collapsed": true,
    "deletable": true,
    "editable": true
   },
   "outputs": [],
   "source": [
    "model_liter = Word2Vec(liter_text, min_count=5)"
   ]
  },
  {
   "cell_type": "code",
   "execution_count": 31,
   "metadata": {
    "collapsed": false,
    "deletable": true,
    "editable": true
   },
   "outputs": [
    {
     "data": {
      "text/plain": [
       "[('animal', 0.754645824432373),\n",
       " ('rapaz', 0.7056355476379395),\n",
       " ('ladrao', 0.6170637011528015),\n",
       " ('individuo', 0.6123188734054565),\n",
       " ('pintor', 0.6094642877578735),\n",
       " ('fantasma', 0.6024704575538635),\n",
       " ('imbecil', 0.6024476885795593),\n",
       " ('idiota', 0.6012296080589294),\n",
       " ('sujeito', 0.5954297780990601),\n",
       " ('menino', 0.5878980159759521)]"
      ]
     },
     "execution_count": 31,
     "metadata": {},
     "output_type": "execute_result"
    }
   ],
   "source": [
    "model_liter.most_similar(\"homem\")"
   ]
  },
  {
   "cell_type": "code",
   "execution_count": 32,
   "metadata": {
    "collapsed": false,
    "deletable": true,
    "editable": true
   },
   "outputs": [
    {
     "data": {
      "text/plain": [
       "[('moca', 0.759548008441925),\n",
       " ('crianca', 0.7408807873725891),\n",
       " ('menina', 0.7214410305023193),\n",
       " ('filha', 0.6986643075942993),\n",
       " ('rapariga', 0.665507972240448),\n",
       " ('mae', 0.6556188464164734),\n",
       " ('criada', 0.6460382342338562),\n",
       " ('esposa', 0.644051730632782),\n",
       " ('pessoa', 0.6338177919387817),\n",
       " ('irma', 0.6279371380805969)]"
      ]
     },
     "execution_count": 32,
     "metadata": {},
     "output_type": "execute_result"
    }
   ],
   "source": [
    "model_liter.most_similar(\"mulher\")"
   ]
  },
  {
   "cell_type": "code",
   "execution_count": 33,
   "metadata": {
    "collapsed": false,
    "deletable": true,
    "editable": true
   },
   "outputs": [
    {
     "data": {
      "text/plain": [
       "[('pecado', 0.4885657727718353),\n",
       " ('erro', 0.48810288310050964),\n",
       " ('castigo', 0.4646143317222595),\n",
       " ('absurdo', 0.46187689900398254),\n",
       " ('problema', 0.45942601561546326),\n",
       " ('disparate', 0.4564584195613861),\n",
       " ('individuo', 0.4551647901535034),\n",
       " ('fenomeno', 0.45493271946907043),\n",
       " ('sancao', 0.44988563656806946),\n",
       " ('pleito', 0.44754618406295776)]"
      ]
     },
     "execution_count": 33,
     "metadata": {},
     "output_type": "execute_result"
    }
   ],
   "source": [
    "model_liter.most_similar(\"crime\")"
   ]
  },
  {
   "cell_type": "code",
   "execution_count": 34,
   "metadata": {
    "collapsed": false,
    "deletable": true,
    "editable": true
   },
   "outputs": [
    {
     "data": {
      "text/plain": [
       "[('pensamento', 0.7407381534576416),\n",
       " ('delirio', 0.7086445093154907),\n",
       " ('ato', 0.6971638798713684),\n",
       " ('sono', 0.6870999932289124),\n",
       " ('casamento', 0.6839599013328552),\n",
       " ('destino', 0.6808556914329529),\n",
       " ('pesadelo', 0.6767008900642395),\n",
       " ('presente', 0.670269787311554),\n",
       " ('sentido', 0.6659073233604431),\n",
       " ('periodo', 0.6622503995895386)]"
      ]
     },
     "execution_count": 34,
     "metadata": {},
     "output_type": "execute_result"
    }
   ],
   "source": [
    "model_liter.most_similar(\"sonho\")"
   ]
  },
  {
   "cell_type": "code",
   "execution_count": 35,
   "metadata": {
    "collapsed": false,
    "deletable": true,
    "editable": true
   },
   "outputs": [
    {
     "data": {
      "text/plain": [
       "[('odio', 0.7591749429702759),\n",
       " ('temor', 0.7312495708465576),\n",
       " ('sofrimento', 0.7309755682945251),\n",
       " ('orgulho', 0.7150030136108398),\n",
       " ('coracao', 0.714794933795929),\n",
       " ('sentimento', 0.7056339979171753),\n",
       " ('destino', 0.6970595717430115),\n",
       " ('espirito', 0.6963846683502197),\n",
       " ('ciume', 0.6785852909088135),\n",
       " ('desejo', 0.6772885322570801)]"
      ]
     },
     "execution_count": 35,
     "metadata": {},
     "output_type": "execute_result"
    }
   ],
   "source": [
    "model_liter.most_similar(\"amor\")"
   ]
  },
  {
   "cell_type": "code",
   "execution_count": 36,
   "metadata": {
    "collapsed": false,
    "deletable": true,
    "editable": true
   },
   "outputs": [
    {
     "data": {
      "text/plain": [
       "[('cegueira', 0.6672433018684387),\n",
       " ('vida', 0.6591309309005737),\n",
       " ('doenca', 0.6564456224441528),\n",
       " ('existencia', 0.6374093890190125),\n",
       " ('culpa', 0.6369156241416931),\n",
       " ('desgraca', 0.6241648197174072),\n",
       " ('velhice', 0.621222734451294),\n",
       " ('salvacao', 0.6192787885665894),\n",
       " ('noticia', 0.6157522797584534),\n",
       " ('loucura', 0.6151165962219238)]"
      ]
     },
     "execution_count": 36,
     "metadata": {},
     "output_type": "execute_result"
    }
   ],
   "source": [
    "model_liter.most_similar(\"morte\")"
   ]
  },
  {
   "cell_type": "code",
   "execution_count": 37,
   "metadata": {
    "collapsed": false,
    "deletable": true,
    "editable": true
   },
   "outputs": [
    {
     "name": "stdout",
     "output_type": "stream",
     "text": [
      "[('napoleao', 0.9915168285369873), ('julho', 0.9496642351150513), ('paris', 0.9333292841911316), ('luis', 0.922232449054718), ('waterloo', 0.9205167293548584), ('angouleme', 0.9121435880661011), ('marco', 0.9099788069725037), ('marques', 0.8990285992622375), ('espanha', 0.8983132839202881), ('guerra', 0.8972076177597046)] \n",
      "\n",
      "[('quarto', 1.5034515857696533), ('jeito', 1.494570255279541), ('carro', 1.487213134765625), ('cego', 1.4491883516311646), ('comenos', 1.4336888790130615), ('menino', 1.425858497619629), ('sitio', 1.4253324270248413), ('rapaz', 1.423872709274292), ('hotel', 1.419245958328247), ('burro', 1.418635606765747)] \n",
      "\n",
      "[('espanha', 0.6176315546035767), ('familia', 0.6147134900093079), ('inglaterra', 0.6140139102935791), ('execucao', 0.6139072179794312), ('gloria', 0.6132325530052185), ('morte', 0.6042563915252686), ('ordem', 0.6017161011695862), ('humanidade', 0.5998936891555786), ('revolucao', 0.5978935956954956), ('salvacao', 0.5976195931434631)] \n",
      "\n",
      "[('usava', 1.7242372035980225), ('parecia', 1.7073800563812256), ('vestia', 1.666383981704712), ('amarelo', 1.6452287435531616), ('ruido', 1.603880524635315), ('imovel', 1.5875542163848877), ('vestido', 1.5851564407348633), ('preto', 1.568204402923584), ('palido', 1.5614228248596191), ('desconhecido', 1.5418531894683838)] \n",
      "\n",
      "[('vaso', 0.8035171031951904), ('forro', 0.7911496162414551), ('deposito', 0.7906054258346558), ('barril', 0.7833913564682007), ('fosso', 0.7829629182815552), ('gramado', 0.7793937921524048), ('tabuleiro', 0.7769700288772583), ('tapete', 0.7757992148399353), ('arco', 0.7715715169906616), ('braseiro', 0.7697038650512695)] \n",
      "\n"
     ]
    }
   ],
   "source": [
    "print(model_liter.most_similar_cosmul(positive=['roma', 'franca'], negative=['italia']), '\\n')\n",
    "print(model_liter.most_similar_cosmul(positive=['barco'], negative=['navegar']), '\\n')\n",
    "print(model_liter.most_similar_cosmul(positive=['guerra', 'paz']), '\\n')\n",
    "print(model_liter.most_similar_cosmul(positive=['homem'], negative=['deus']), '\\n')\n",
    "print(model_liter.most_similar_cosmul(positive=['labirinto', 'xadrez']), '\\n')"
   ]
  },
  {
   "cell_type": "code",
   "execution_count": 38,
   "metadata": {
    "collapsed": true,
    "deletable": true,
    "editable": true
   },
   "outputs": [],
   "source": [
    "cnt = Counter()\n",
    "for sentence in liter_text:\n",
    "    for word in sentence:\n",
    "        cnt[word] += 1\n",
    "        \n",
    "counts_liter_top1000 = []\n",
    "for common_word in cnt.most_common(1000):\n",
    "    counts_liter_top1000.append(common_word[0])\n",
    "    \n",
    "words_top_vec_liter = model_liter[counts_liter_top1000]"
   ]
  },
  {
   "cell_type": "code",
   "execution_count": 39,
   "metadata": {
    "collapsed": false,
    "deletable": true,
    "editable": true
   },
   "outputs": [],
   "source": [
    "tsne = TSNE(n_components=2, random_state=0)\n",
    "words_top_liter_tsne = tsne.fit_transform(words_top_vec_liter)"
   ]
  },
  {
   "cell_type": "code",
   "execution_count": 40,
   "metadata": {
    "collapsed": false,
    "deletable": true,
    "editable": true
   },
   "outputs": [
    {
     "data": {
      "text/html": [
       "\n",
       "\n",
       "    <div class=\"bk-root\">\n",
       "        <div class=\"bk-plotdiv\" id=\"c0c035b0-d49e-48ab-b2a5-cf630f2928b6\"></div>\n",
       "    </div>\n",
       "<script type=\"text/javascript\">\n",
       "  \n",
       "  (function(global) {\n",
       "    function now() {\n",
       "      return new Date();\n",
       "    }\n",
       "  \n",
       "    var force = false;\n",
       "  \n",
       "    if (typeof (window._bokeh_onload_callbacks) === \"undefined\" || force === true) {\n",
       "      window._bokeh_onload_callbacks = [];\n",
       "      window._bokeh_is_loading = undefined;\n",
       "    }\n",
       "  \n",
       "  \n",
       "    \n",
       "    if (typeof (window._bokeh_timeout) === \"undefined\" || force === true) {\n",
       "      window._bokeh_timeout = Date.now() + 0;\n",
       "      window._bokeh_failed_load = false;\n",
       "    }\n",
       "  \n",
       "    var NB_LOAD_WARNING = {'data': {'text/html':\n",
       "       \"<div style='background-color: #fdd'>\\n\"+\n",
       "       \"<p>\\n\"+\n",
       "       \"BokehJS does not appear to have successfully loaded. If loading BokehJS from CDN, this \\n\"+\n",
       "       \"may be due to a slow or bad network connection. Possible fixes:\\n\"+\n",
       "       \"</p>\\n\"+\n",
       "       \"<ul>\\n\"+\n",
       "       \"<li>re-rerun `output_notebook()` to attempt to load from CDN again, or</li>\\n\"+\n",
       "       \"<li>use INLINE resources instead, as so:</li>\\n\"+\n",
       "       \"</ul>\\n\"+\n",
       "       \"<code>\\n\"+\n",
       "       \"from bokeh.resources import INLINE\\n\"+\n",
       "       \"output_notebook(resources=INLINE)\\n\"+\n",
       "       \"</code>\\n\"+\n",
       "       \"</div>\"}};\n",
       "  \n",
       "    function display_loaded() {\n",
       "      if (window.Bokeh !== undefined) {\n",
       "        document.getElementById(\"c0c035b0-d49e-48ab-b2a5-cf630f2928b6\").textContent = \"BokehJS successfully loaded.\";\n",
       "      } else if (Date.now() < window._bokeh_timeout) {\n",
       "        setTimeout(display_loaded, 100)\n",
       "      }\n",
       "    }\n",
       "  \n",
       "    function run_callbacks() {\n",
       "      window._bokeh_onload_callbacks.forEach(function(callback) { callback() });\n",
       "      delete window._bokeh_onload_callbacks\n",
       "      console.info(\"Bokeh: all callbacks have finished\");\n",
       "    }\n",
       "  \n",
       "    function load_libs(js_urls, callback) {\n",
       "      window._bokeh_onload_callbacks.push(callback);\n",
       "      if (window._bokeh_is_loading > 0) {\n",
       "        console.log(\"Bokeh: BokehJS is being loaded, scheduling callback at\", now());\n",
       "        return null;\n",
       "      }\n",
       "      if (js_urls == null || js_urls.length === 0) {\n",
       "        run_callbacks();\n",
       "        return null;\n",
       "      }\n",
       "      console.log(\"Bokeh: BokehJS not loaded, scheduling load and callback at\", now());\n",
       "      window._bokeh_is_loading = js_urls.length;\n",
       "      for (var i = 0; i < js_urls.length; i++) {\n",
       "        var url = js_urls[i];\n",
       "        var s = document.createElement('script');\n",
       "        s.src = url;\n",
       "        s.async = false;\n",
       "        s.onreadystatechange = s.onload = function() {\n",
       "          window._bokeh_is_loading--;\n",
       "          if (window._bokeh_is_loading === 0) {\n",
       "            console.log(\"Bokeh: all BokehJS libraries loaded\");\n",
       "            run_callbacks()\n",
       "          }\n",
       "        };\n",
       "        s.onerror = function() {\n",
       "          console.warn(\"failed to load library \" + url);\n",
       "        };\n",
       "        console.log(\"Bokeh: injecting script tag for BokehJS library: \", url);\n",
       "        document.getElementsByTagName(\"head\")[0].appendChild(s);\n",
       "      }\n",
       "    };var element = document.getElementById(\"c0c035b0-d49e-48ab-b2a5-cf630f2928b6\");\n",
       "    if (element == null) {\n",
       "      console.log(\"Bokeh: ERROR: autoload.js configured with elementid 'c0c035b0-d49e-48ab-b2a5-cf630f2928b6' but no matching script tag was found. \")\n",
       "      return false;\n",
       "    }\n",
       "  \n",
       "    var js_urls = [];\n",
       "  \n",
       "    var inline_js = [\n",
       "      function(Bokeh) {\n",
       "        (function() {\n",
       "          var fn = function() {\n",
       "            var docs_json = {\"c9c58063-5df9-4178-8556-451d0a8838b3\":{\"roots\":{\"references\":[{\"attributes\":{},\"id\":\"598e4659-1431-4198-b708-e494df8a6a1e\",\"type\":\"ToolEvents\"},{\"attributes\":{\"plot\":{\"id\":\"3bd1e1c7-2e1e-41ed-a040-35b3553e6819\",\"subtype\":\"Figure\",\"type\":\"Plot\"}},\"id\":\"206a5d3a-9286-4701-a5ce-b6501ea704d1\",\"type\":\"WheelZoomTool\"},{\"attributes\":{\"plot\":{\"id\":\"3bd1e1c7-2e1e-41ed-a040-35b3553e6819\",\"subtype\":\"Figure\",\"type\":\"Plot\"}},\"id\":\"5122a0e8-7a77-42ff-a381-ff7ef9b0c36e\",\"type\":\"PanTool\"},{\"attributes\":{},\"id\":\"77a53046-f9c4-4af4-892a-d223c7e95924\",\"type\":\"BasicTicker\"},{\"attributes\":{},\"id\":\"e5cb2073-18bd-49aa-b42d-6cff918e0596\",\"type\":\"BasicTickFormatter\"},{\"attributes\":{\"dimension\":1,\"plot\":{\"id\":\"3bd1e1c7-2e1e-41ed-a040-35b3553e6819\",\"subtype\":\"Figure\",\"type\":\"Plot\"},\"ticker\":{\"id\":\"77a53046-f9c4-4af4-892a-d223c7e95924\",\"type\":\"BasicTicker\"}},\"id\":\"ab7d96af-d198-4f11-bc2c-595ba94f8dbb\",\"type\":\"Grid\"},{\"attributes\":{\"plot\":{\"id\":\"3bd1e1c7-2e1e-41ed-a040-35b3553e6819\",\"subtype\":\"Figure\",\"type\":\"Plot\"},\"source\":{\"id\":\"5f2518c7-afab-4a26-a3a9-c8bcda73d4f4\",\"type\":\"ColumnDataSource\"},\"text\":{\"field\":\"names\"},\"text_align\":\"center\",\"text_color\":{\"value\":\"#555555\"},\"text_font_size\":{\"value\":\"8pt\"},\"x\":{\"field\":\"x1\"},\"y\":{\"field\":\"x2\"},\"y_offset\":{\"value\":6}},\"id\":\"e1015c46-a804-40f3-bc3e-325b64545627\",\"type\":\"LabelSet\"},{\"attributes\":{\"plot\":{\"id\":\"3bd1e1c7-2e1e-41ed-a040-35b3553e6819\",\"subtype\":\"Figure\",\"type\":\"Plot\"}},\"id\":\"04541f24-53d2-43fc-ae96-b4aba5557324\",\"type\":\"SaveTool\"},{\"attributes\":{\"fill_color\":{\"value\":\"#1f77b4\"},\"line_color\":{\"value\":\"#1f77b4\"},\"size\":{\"units\":\"screen\",\"value\":8},\"x\":{\"field\":\"x1\"},\"y\":{\"field\":\"x2\"}},\"id\":\"cf211e92-527b-476c-9138-fa63283f85b3\",\"type\":\"Circle\"},{\"attributes\":{\"active_drag\":\"auto\",\"active_scroll\":\"auto\",\"active_tap\":\"auto\",\"tools\":[{\"id\":\"5122a0e8-7a77-42ff-a381-ff7ef9b0c36e\",\"type\":\"PanTool\"},{\"id\":\"206a5d3a-9286-4701-a5ce-b6501ea704d1\",\"type\":\"WheelZoomTool\"},{\"id\":\"0cc5dad3-ed29-4d29-a15d-9ce41b0c73fc\",\"type\":\"ResetTool\"},{\"id\":\"04541f24-53d2-43fc-ae96-b4aba5557324\",\"type\":\"SaveTool\"}]},\"id\":\"c3deb090-3230-4aa5-b94c-5080915b845f\",\"type\":\"Toolbar\"},{\"attributes\":{\"below\":[{\"id\":\"18a26270-cee3-4c29-9a1d-1714359e52dd\",\"type\":\"LinearAxis\"}],\"left\":[{\"id\":\"09d2993b-71c4-4999-9f06-b266105654fe\",\"type\":\"LinearAxis\"}],\"renderers\":[{\"id\":\"18a26270-cee3-4c29-9a1d-1714359e52dd\",\"type\":\"LinearAxis\"},{\"id\":\"4051b43c-82e2-49e3-9800-540d292f6ba5\",\"type\":\"Grid\"},{\"id\":\"09d2993b-71c4-4999-9f06-b266105654fe\",\"type\":\"LinearAxis\"},{\"id\":\"ab7d96af-d198-4f11-bc2c-595ba94f8dbb\",\"type\":\"Grid\"},{\"id\":\"8c773a60-ac53-40b7-8f66-9c73b85db7d0\",\"type\":\"GlyphRenderer\"},{\"id\":\"e1015c46-a804-40f3-bc3e-325b64545627\",\"type\":\"LabelSet\"}],\"title\":{\"id\":\"ecb03048-8c2a-4c8d-bdb7-21d21d78d863\",\"type\":\"Title\"},\"tool_events\":{\"id\":\"598e4659-1431-4198-b708-e494df8a6a1e\",\"type\":\"ToolEvents\"},\"toolbar\":{\"id\":\"c3deb090-3230-4aa5-b94c-5080915b845f\",\"type\":\"Toolbar\"},\"toolbar_location\":\"above\",\"x_range\":{\"id\":\"c0b89a6d-4172-4e50-8ff9-6af137bc5326\",\"type\":\"DataRange1d\"},\"y_range\":{\"id\":\"5853198c-424b-423d-8d92-964ce44d9a92\",\"type\":\"DataRange1d\"}},\"id\":\"3bd1e1c7-2e1e-41ed-a040-35b3553e6819\",\"subtype\":\"Figure\",\"type\":\"Plot\"},{\"attributes\":{\"plot\":{\"id\":\"3bd1e1c7-2e1e-41ed-a040-35b3553e6819\",\"subtype\":\"Figure\",\"type\":\"Plot\"},\"ticker\":{\"id\":\"6bff7022-baa7-411b-9671-19e8295b508b\",\"type\":\"BasicTicker\"}},\"id\":\"4051b43c-82e2-49e3-9800-540d292f6ba5\",\"type\":\"Grid\"},{\"attributes\":{\"plot\":{\"id\":\"3bd1e1c7-2e1e-41ed-a040-35b3553e6819\",\"subtype\":\"Figure\",\"type\":\"Plot\"}},\"id\":\"0cc5dad3-ed29-4d29-a15d-9ce41b0c73fc\",\"type\":\"ResetTool\"},{\"attributes\":{},\"id\":\"6bff7022-baa7-411b-9671-19e8295b508b\",\"type\":\"BasicTicker\"},{\"attributes\":{},\"id\":\"7a314e4b-228f-4616-bcbb-499643ae0bfe\",\"type\":\"BasicTickFormatter\"},{\"attributes\":{\"callback\":null,\"column_names\":[\"x1\",\"names\",\"x2\"],\"data\":{\"names\":[\"a\",\"de\",\"e\",\"que\",\"o\",\"se\",\"nao\",\"um\",\"do\",\"com\",\"para\",\"os\",\"da\",\"em\",\"uma\",\"as\",\"por\",\"como\",\"no\",\"mas\",\"me\",\"na\",\"mais\",\"lhe\",\"ele\",\"ao\",\"eu\",\"era\",\"sua\",\"disse\",\"dos\",\"seu\",\"nos\",\"ela\",\"ou\",\"quando\",\"esta\",\"das\",\"sem\",\"ja\",\"muito\",\"foi\",\"estava\",\"depois\",\"tinha\",\"ser\",\"meu\",\"mesmo\",\"ainda\",\"isso\",\"la\",\"bem\",\"nem\",\"tudo\",\"voce\",\"so\",\"ate\",\"seus\",\"tao\",\"quem\",\"assim\",\"minha\",\"todos\",\"tambem\",\"porque\",\"pelo\",\"agora\",\"homem\",\"senhor\",\"onde\",\"casa\",\"sobre\",\"havia\",\"pela\",\"tempo\",\"entao\",\"vez\",\"ter\",\"nada\",\"tem\",\"ha\",\"coisa\",\"dizer\",\"olhos\",\"outro\",\"fazer\",\"lo\",\"dois\",\"d\",\"vida\",\"dia\",\"suas\",\"sao\",\"mulher\",\"sempre\",\"aqui\",\"ver\",\"te\",\"aos\",\"entre\",\"pouco\",\"pode\",\"nas\",\"outra\",\"esse\",\"eles\",\"toda\",\"essa\",\"noite\",\"mim\",\"deus\",\"grande\",\"num\",\"nunca\",\"pois\",\"cabeca\",\"mao\",\"todo\",\"porta\",\"antes\",\"lado\",\"sim\",\"este\",\"vai\",\"respondeu\",\"anos\",\"menos\",\"mundo\",\"todas\",\"tanto\",\"ali\",\"duas\",\"fosse\",\"outros\",\"enquanto\",\"talvez\",\"tres\",\"cada\",\"vezes\",\"perguntou\",\"dele\",\"pai\",\"aquele\",\"qual\",\"alguma\",\"coisas\",\"qualquer\",\"voz\",\"fora\",\"verdade\",\"apenas\",\"numa\",\"podia\",\"lugar\",\"eram\",\"melhor\",\"primeiro\",\"ninguem\",\"palavras\",\"momento\",\"fez\",\"si\",\"sr\",\"dar\",\"quase\",\"ia\",\"maos\",\"tinham\",\"isto\",\"dias\",\"meio\",\"mae\",\"quanto\",\"sabe\",\"mal\",\"homens\",\"aquela\",\"tenho\",\"parte\",\"logo\",\"embora\",\"seria\",\"morte\",\"bom\",\"saber\",\"sei\",\"amor\",\"estavam\",\"quarto\",\"estou\",\"algum\",\"nome\",\"quer\",\"tivesse\",\"sido\",\"lhes\",\"rosto\",\"falar\",\"diz\",\"olhar\",\"ir\",\"tal\",\"parecia\",\"mesma\",\"primeira\",\"dela\",\"velho\",\"diante\",\"sou\",\"pessoas\",\"seja\",\"fim\",\"cidade\",\"meus\",\"viu\",\"contra\",\"ai\",\"modo\",\"alguns\",\"quixote\",\"estar\",\"filho\",\"tu\",\"maneira\",\"terra\",\"dentro\",\"deu\",\"vou\",\"novo\",\"sancho\",\"dizia\",\"hora\",\"outras\",\"gente\",\"ficou\",\"palavra\",\"durante\",\"proprio\",\"caso\",\"cima\",\"sera\",\"sabia\",\"corpo\",\"queria\",\"historia\",\"coracao\",\"luz\",\"livro\",\"alguem\",\"parece\",\"quatro\",\"teria\",\"pelos\",\"desde\",\"senhora\",\"disso\",\"artagnan\",\"preciso\",\"uns\",\"pessoa\",\"segundo\",\"poderia\",\"mulheres\",\"nosso\",\"pe\",\"volta\",\"agua\",\"estao\",\"deve\",\"tarde\",\"rua\",\"sob\",\"luciano\",\"caminho\",\"certo\",\"foram\",\"faz\",\"alem\",\"mesa\",\"horas\",\"boa\",\"hoje\",\"atras\",\"ideia\",\"alma\",\"deles\",\"nossa\",\"exclamou\",\"frente\",\"ve\",\"ar\",\"estas\",\"fazia\",\"ficar\",\"carta\",\"nenhum\",\"mil\",\"sala\",\"pelas\",\"ka\",\"medo\",\"levine\",\"vamos\",\"marido\",\"propria\",\"teve\",\"manha\",\"instante\",\"possivel\",\"ponto\",\"claro\",\"voltou\",\"feito\",\"pensar\",\"ceu\",\"pobre\",\"boca\",\"jovem\",\"devia\",\"sentia\",\"silencio\",\"comecou\",\"chao\",\"porem\",\"razao\",\"quero\",\"vos\",\"ora\",\"forma\",\"pes\",\"pos\",\"pensou\",\"aquilo\",\"nenhuma\",\"repente\",\"poder\",\"cama\",\"rei\",\"causa\",\"sair\",\"ah\",\"ana\",\"cinco\",\"essas\",\"conta\",\"maior\",\"muitas\",\"esses\",\"vontade\",\"naquele\",\"deixar\",\"algumas\",\"passar\",\"maria\",\"vi\",\"desse\",\"vem\",\"dinheiro\",\"trabalho\",\"vossa\",\"amigo\",\"nesse\",\"posso\",\"longe\",\"sol\",\"vista\",\"veio\",\"senao\",\"chegou\",\"elas\",\"duvida\",\"papel\",\"livros\",\"visto\",\"aqueles\",\"medico\",\"grandes\",\"digo\",\"estado\",\"alto\",\"cavalo\",\"fundo\",\"sra\",\"vao\",\"forca\",\"chegar\",\"algo\",\"neste\",\"fato\",\"janela\",\"respeito\",\"olhou\",\"jesus\",\"passou\",\"saiu\",\"simples\",\"apesar\",\"encontrar\",\"tenha\",\"minhas\",\"deixou\",\"certeza\",\"muitos\",\"irmao\",\"via\",\"los\",\"andar\",\"continuou\",\"ouvir\",\"ordem\",\"entrar\",\"tornou\",\"levantou\",\"voces\",\"quais\",\"perto\",\"espirito\",\"vinte\",\"junto\",\"desta\",\"tras\",\"filha\",\"bloom\",\"sangue\",\"dava\",\"olhando\",\"dez\",\"certa\",\"entrou\",\"especie\",\"dizendo\",\"seguinte\",\"pequeno\",\"reis\",\"unica\",\"espera\",\"dessa\",\"comigo\",\"sendo\",\"paris\",\"pena\",\"estivesse\",\"mar\",\"capitulo\",\"voltar\",\"portanto\",\"passado\",\"amigos\",\"tua\",\"mestre\",\"baixo\",\"velha\",\"estes\",\"haviam\",\"consigo\",\"bastante\",\"contrario\",\"atencao\",\"oh\",\"vronski\",\"filhos\",\"bracos\",\"cara\",\"fazendo\",\"crianca\",\"ultima\",\"meia\",\"imediatamente\",\"familia\",\"seis\",\"naquela\",\"ouviu\",\"feliz\",\"athos\",\"dito\",\"sentiu\",\"morto\",\"entanto\",\"pais\",\"nova\",\"fui\",\"marius\",\"gritou\",\"direito\",\"deste\",\"sorriso\",\"jose\",\"passo\",\"quis\",\"tendo\",\"viver\",\"teu\",\"passos\",\"kitty\",\"capaz\",\"crime\",\"umas\",\"daquele\",\"rapaz\",\"braco\",\"ultimo\",\"tom\",\"pensava\",\"vinha\",\"merce\",\"enfim\",\"contar\",\"realmente\",\"jean\",\"pudesse\",\"sinal\",\"guarda\",\"vir\",\"ano\",\"morrer\",\"doutor\",\"cair\",\"ler\",\"guilherme\",\"debaixo\",\"escada\",\"finalmente\",\"irma\",\"favor\",\"alice\",\"cavaleiro\",\"nossos\",\"abriu\",\"atraves\",\"acrescentou\",\"unico\",\"amanha\",\"afinal\",\"lagrimas\",\"sentido\",\"expressao\",\"falta\",\"temos\",\"nele\",\"diga\",\"guerra\",\"exemplo\",\"negro\",\"pareceu\",\"muita\",\"criancas\",\"rainha\",\"ricardo\",\"fogo\",\"resposta\",\"i\",\"azul\",\"pequena\",\"levar\",\"memoria\",\"conversa\",\"daquela\",\"desejo\",\"carro\",\"dormir\",\"triste\",\"alegria\",\"sombra\",\"encontro\",\"jantar\",\"estranho\",\"tio\",\"vendo\",\"ouro\",\"pergunta\",\"chama\",\"felicidade\",\"deixa\",\"pedra\",\"costas\",\"las\",\"diabo\",\"segunda\",\"bela\",\"situacao\",\"acaso\",\"chapeu\",\"faca\",\"ambos\",\"tempos\",\"cavalos\",\"podem\",\"maximo\",\"cor\",\"haver\",\"branco\",\"aquelas\",\"gosto\",\"altura\",\"sequer\",\"pensamento\",\"ca\",\"nessa\",\"estamos\",\"idade\",\"alias\",\"sentir\",\"raskolhnikov\",\"francos\",\"numero\",\"tomar\",\"igreja\",\"obra\",\"demais\",\"paz\",\"jardim\",\"fica\",\"prazer\",\"avo\",\"castigo\",\"campo\",\"longo\",\"poeta\",\"sentado\",\"daqui\",\"alta\",\"ouvi\",\"resto\",\"pedir\",\"escrever\",\"falava\",\"geral\",\"natureza\",\"depressa\",\"epoca\",\"valjean\",\"padre\",\"principio\",\"ti\",\"meses\",\"ouvido\",\"labios\",\"peito\",\"povo\",\"acabou\",\"milady\",\"pra\",\"frio\",\"va\",\"minutos\",\"cabelos\",\"stephen\",\"destino\",\"tanta\",\"sorte\",\"eis\",\"jamais\",\"forte\",\"vejo\",\"sobretudo\",\"comer\",\"vento\",\"perder\",\"encontrou\",\"partir\",\"gesto\",\"rio\",\"efeito\",\"pegou\",\"sonho\",\"dor\",\"for\",\"cosette\",\"canto\",\"novamente\",\"terrivel\",\"esperar\",\"direcao\",\"impossivel\",\"passava\",\"jornal\",\"natural\",\"pior\",\"sete\",\"viagem\",\"ontem\",\"esperava\",\"rue\",\"houve\",\"dedos\",\"lingua\",\"iria\",\"replicou\",\"assunto\",\"creio\",\"imagem\",\"es\",\"direita\",\"vestido\",\"amo\",\"flores\",\"futuro\",\"levou\",\"cardeal\",\"tantas\",\"cuja\",\"cao\",\"completamente\",\"tera\",\"presenca\",\"policia\",\"nela\",\"dado\",\"fossem\",\"dessas\",\"afonso\",\"cheio\",\"dando\",\"contudo\",\"delas\",\"tantos\",\"aconteceu\",\"hotel\",\"casas\",\"tertuliano\",\"nesta\",\"falou\",\"senhores\",\"pao\",\"perguntar\",\"tirar\",\"desses\",\"pernas\",\"margarida\",\"interior\",\"cozinha\",\"encontra\",\"vinho\",\"simplesmente\",\"movimento\",\"ruas\",\"dificil\",\"olha\",\"iam\",\"questao\",\"sociedade\",\"ocasiao\",\"neve\",\"poucos\",\"ariza\",\"parede\",\"procura\",\"tive\",\"chamar\",\"esquerda\",\"ideias\",\"leva\",\"estrada\",\"figura\",\"pensamentos\",\"somente\",\"beleza\",\"vira\",\"passa\",\"falando\",\"tornar\",\"continuava\",\"existe\",\"entender\",\"espelho\",\"esperanca\",\"dizem\",\"opiniao\",\"caro\",\"s\",\"abrir\",\"gracas\",\"janelas\",\"olhava\",\"franca\",\"sozinho\",\"mortos\",\"apos\",\"trata\",\"cuidado\",\"nossas\",\"livre\",\"oito\",\"parou\",\"tirou\",\"vindo\",\"pediu\",\"cego\",\"necessidade\",\"chuva\",\"ma\",\"impressao\",\"facil\",\"deveria\",\"ficava\",\"belo\",\"porthos\",\"consciencia\",\"musica\",\"acho\",\"florentino\",\"mau\",\"cheiro\",\"pedro\",\"cafe\",\"professor\",\"carne\",\"fazem\",\"posto\",\"fala\",\"david\",\"precisamente\",\"matar\",\"tomou\",\"velhos\",\"autor\",\"trinta\",\"companhia\",\"honra\",\"dentes\",\"conseguiu\",\"podiam\",\"comum\",\"ouvia\",\"cartas\",\"naturalmente\",\"costume\",\"querer\",\"fiz\",\"presente\",\"arvores\",\"possa\",\"duque\",\"acima\",\"entrada\",\"fe\",\"tais\",\"forcas\",\"pescoco\",\"conhece\",\"roupa\",\"tomas\",\"nisso\",\"motivo\",\"parar\",\"cujo\",\"patio\",\"somos\",\"apareceu\",\"mandou\",\"vivo\",\"rapidamente\",\"tens\",\"bolso\",\"nota\",\"escola\",\"teatro\",\"seguida\",\"pek\",\"espada\",\"saia\",\"menor\",\"rir\",\"menina\",\"necessario\",\"conhecia\",\"doente\",\"espaco\",\"proposito\",\"jovens\",\"acordo\",\"soldados\",\"frances\",\"juntos\",\"levantar\",\"chorar\",\"responder\",\"verdadeiro\",\"visita\",\"pareciam\",\"menino\",\"aramis\",\"morreu\",\"escuro\",\"sentou\",\"compreender\",\"dai\",\"sentimento\",\"encontrava\",\"leve\",\"pensando\",\"cheia\",\"daza\",\"folhas\",\"pele\",\"baixa\",\"lua\",\"vale\",\"seguir\",\"moca\",\"cadeira\",\"deixando\",\"portas\",\"culpa\",\"gato\",\"branca\",\"diferente\",\"igual\",\"provavelmente\",\"basta\",\"semelhante\",\"kadife\",\"segredo\",\"devo\",\"servico\",\"tereza\",\"tipo\",\"seculo\",\"razoes\",\"mostrar\",\"mente\",\"cedo\",\"lembrar\",\"governo\",\"tivessem\",\"obrigado\",\"cha\",\"procurar\",\"jeito\",\"daqueles\",\"acabava\",\"fizeram\",\"perdido\",\"caiu\",\"correr\",\"proprios\",\"contas\",\"casamento\",\"ferro\",\"le\",\"thenardier\",\"venha\",\"pensei\",\"continuar\",\"relogio\",\"certamente\",\"escrito\",\"rapariga\",\"realidade\",\"sono\",\"boas\",\"imaginar\",\"importancia\",\"cinquenta\",\"olho\",\"ultimos\",\"bons\",\"deixe\",\"ponta\",\"ombros\",\"veja\",\"roupas\",\"lugares\",\"prova\",\"quiser\",\"animal\",\"antigo\",\"quarenta\",\"paginas\",\"faze\",\"conhecer\",\"chega\",\"contou\",\"final\",\"dilsey\",\"distancia\",\"grupo\",\"olhe\",\"parecer\",\"soube\",\"banco\",\"breve\",\"problema\",\"correndo\",\"ficaram\",\"fizera\",\"entretanto\",\"nomes\",\"nariz\",\"metade\",\"batalha\",\"achava\",\"observou\",\"vergonha\",\"noites\",\"chamava\",\"aproximou\",\"cem\",\"criado\",\"sorriu\"],\"x1\":{\"__ndarray__\":\"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\",\"dtype\":\"float64\",\"shape\":[1000]},\"x2\":{\"__ndarray__\":\"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\",\"dtype\":\"float64\",\"shape\":[1000]}}},\"id\":\"5f2518c7-afab-4a26-a3a9-c8bcda73d4f4\",\"type\":\"ColumnDataSource\"},{\"attributes\":{\"callback\":null},\"id\":\"c0b89a6d-4172-4e50-8ff9-6af137bc5326\",\"type\":\"DataRange1d\"},{\"attributes\":{\"data_source\":{\"id\":\"5f2518c7-afab-4a26-a3a9-c8bcda73d4f4\",\"type\":\"ColumnDataSource\"},\"glyph\":{\"id\":\"cf211e92-527b-476c-9138-fa63283f85b3\",\"type\":\"Circle\"},\"hover_glyph\":null,\"nonselection_glyph\":{\"id\":\"3e6929b0-c393-4031-86cd-bfe13daf2739\",\"type\":\"Circle\"},\"selection_glyph\":null},\"id\":\"8c773a60-ac53-40b7-8f66-9c73b85db7d0\",\"type\":\"GlyphRenderer\"},{\"attributes\":{\"formatter\":{\"id\":\"7a314e4b-228f-4616-bcbb-499643ae0bfe\",\"type\":\"BasicTickFormatter\"},\"plot\":{\"id\":\"3bd1e1c7-2e1e-41ed-a040-35b3553e6819\",\"subtype\":\"Figure\",\"type\":\"Plot\"},\"ticker\":{\"id\":\"6bff7022-baa7-411b-9671-19e8295b508b\",\"type\":\"BasicTicker\"}},\"id\":\"18a26270-cee3-4c29-9a1d-1714359e52dd\",\"type\":\"LinearAxis\"},{\"attributes\":{\"callback\":null},\"id\":\"5853198c-424b-423d-8d92-964ce44d9a92\",\"type\":\"DataRange1d\"},{\"attributes\":{\"fill_alpha\":{\"value\":0.1},\"fill_color\":{\"value\":\"#1f77b4\"},\"line_alpha\":{\"value\":0.1},\"line_color\":{\"value\":\"#1f77b4\"},\"size\":{\"units\":\"screen\",\"value\":8},\"x\":{\"field\":\"x1\"},\"y\":{\"field\":\"x2\"}},\"id\":\"3e6929b0-c393-4031-86cd-bfe13daf2739\",\"type\":\"Circle\"},{\"attributes\":{\"formatter\":{\"id\":\"e5cb2073-18bd-49aa-b42d-6cff918e0596\",\"type\":\"BasicTickFormatter\"},\"plot\":{\"id\":\"3bd1e1c7-2e1e-41ed-a040-35b3553e6819\",\"subtype\":\"Figure\",\"type\":\"Plot\"},\"ticker\":{\"id\":\"77a53046-f9c4-4af4-892a-d223c7e95924\",\"type\":\"BasicTicker\"}},\"id\":\"09d2993b-71c4-4999-9f06-b266105654fe\",\"type\":\"LinearAxis\"},{\"attributes\":{\"plot\":null,\"text\":\"word2vec T-SNE for most common words\"},\"id\":\"ecb03048-8c2a-4c8d-bdb7-21d21d78d863\",\"type\":\"Title\"}],\"root_ids\":[\"3bd1e1c7-2e1e-41ed-a040-35b3553e6819\"]},\"title\":\"Bokeh Application\",\"version\":\"0.12.4\"}};\n",
       "            var render_items = [{\"docid\":\"c9c58063-5df9-4178-8556-451d0a8838b3\",\"elementid\":\"c0c035b0-d49e-48ab-b2a5-cf630f2928b6\",\"modelid\":\"3bd1e1c7-2e1e-41ed-a040-35b3553e6819\"}];\n",
       "            \n",
       "            Bokeh.embed.embed_items(docs_json, render_items);\n",
       "          };\n",
       "          if (document.readyState != \"loading\") fn();\n",
       "          else document.addEventListener(\"DOMContentLoaded\", fn);\n",
       "        })();\n",
       "      },\n",
       "      function(Bokeh) {\n",
       "      }\n",
       "    ];\n",
       "  \n",
       "    function run_inline_js() {\n",
       "      \n",
       "      if ((window.Bokeh !== undefined) || (force === true)) {\n",
       "        for (var i = 0; i < inline_js.length; i++) {\n",
       "          inline_js[i](window.Bokeh);\n",
       "        }if (force === true) {\n",
       "          display_loaded();\n",
       "        }} else if (Date.now() < window._bokeh_timeout) {\n",
       "        setTimeout(run_inline_js, 100);\n",
       "      } else if (!window._bokeh_failed_load) {\n",
       "        console.log(\"Bokeh: BokehJS failed to load within specified timeout.\");\n",
       "        window._bokeh_failed_load = true;\n",
       "      } else if (force !== true) {\n",
       "        var cell = $(document.getElementById(\"c0c035b0-d49e-48ab-b2a5-cf630f2928b6\")).parents('.cell').data().cell;\n",
       "        cell.output_area.append_execute_result(NB_LOAD_WARNING)\n",
       "      }\n",
       "  \n",
       "    }\n",
       "  \n",
       "    if (window._bokeh_is_loading === 0) {\n",
       "      console.log(\"Bokeh: BokehJS loaded, going straight to plotting\");\n",
       "      run_inline_js();\n",
       "    } else {\n",
       "      load_libs(js_urls, function() {\n",
       "        console.log(\"Bokeh: BokehJS plotting callback run at\", now());\n",
       "        run_inline_js();\n",
       "      });\n",
       "    }\n",
       "  }(this));\n",
       "</script>"
      ]
     },
     "metadata": {},
     "output_type": "display_data"
    }
   ],
   "source": [
    "p = figure(tools=\"pan,wheel_zoom,reset,save\",\n",
    "           toolbar_location=\"above\",\n",
    "           title=\"word2vec T-SNE for most common words\")\n",
    "\n",
    "source = ColumnDataSource(data=dict(x1=words_top_liter_tsne[:,0],\n",
    "                                    x2=words_top_liter_tsne[:,1],\n",
    "                                    names=counts_liter_top1000))\n",
    "\n",
    "p.scatter(x=\"x1\", y=\"x2\", size=8, source=source)\n",
    "\n",
    "labels = LabelSet(x=\"x1\", y=\"x2\", text=\"names\", y_offset=6,\n",
    "                  text_font_size=\"8pt\", text_color=\"#555555\",\n",
    "                  source=source, text_align='center')\n",
    "p.add_layout(labels)\n",
    "\n",
    "show(p)"
   ]
  },
  {
   "cell_type": "markdown",
   "metadata": {
    "deletable": true,
    "editable": true
   },
   "source": [
    "### Part 5: Wiki Learnt Representations"
   ]
  },
  {
   "cell_type": "markdown",
   "metadata": {
    "deletable": true,
    "editable": true
   },
   "source": [
    "Download dataset"
   ]
  },
  {
   "cell_type": "code",
   "execution_count": 41,
   "metadata": {
    "collapsed": true,
    "deletable": true,
    "editable": true
   },
   "outputs": [],
   "source": [
    "if not os.path.isfile('wikitext-103-raw-v1.zip'):\n",
    "    urllib.request.urlretrieve(\"https://s3.amazonaws.com/research.metamind.io/wikitext/wikitext-103-raw-v1.zip\", filename=\"wikitext-103-raw-v1.zip\")"
   ]
  },
  {
   "cell_type": "code",
   "execution_count": 42,
   "metadata": {
    "collapsed": false,
    "deletable": true,
    "editable": true
   },
   "outputs": [],
   "source": [
    "with zipfile.ZipFile('wikitext-103-raw-v1.zip', 'r') as z:\n",
    "    input_text = str(z.open('wikitext-103-raw/wiki.train.raw', 'r').read(), encoding='utf-8') # Thanks Robert Bastian"
   ]
  },
  {
   "cell_type": "markdown",
   "metadata": {
    "deletable": true,
    "editable": true
   },
   "source": [
    "Preprocess sentences (note that it's important to remove small sentences for performance)"
   ]
  },
  {
   "cell_type": "code",
   "execution_count": 43,
   "metadata": {
    "collapsed": false,
    "deletable": true,
    "editable": true
   },
   "outputs": [],
   "source": [
    "sentences_wiki = []\n",
    "for line in input_text.split('\\n'):\n",
    "    s = [x for x in line.split('.') if x and len(x.split()) >= 5]\n",
    "    sentences_wiki.extend(s)\n",
    "\n",
    "for s_i in range(len(sentences_wiki)):\n",
    "    sentences_wiki[s_i] = re.sub(\"[^a-z]\", \" \", sentences_wiki[s_i].lower())\n",
    "    sentences_wiki[s_i] = re.sub(r'\\([^)]*\\)', '', sentences_wiki[s_i]).split()\n",
    "    \n",
    "del input_text "
   ]
  },
  {
   "cell_type": "code",
   "execution_count": 44,
   "metadata": {
    "collapsed": false,
    "deletable": true,
    "editable": true
   },
   "outputs": [
    {
     "name": "stdout",
     "output_type": "stream",
     "text": [
      "4267112\n"
     ]
    }
   ],
   "source": [
    "shuffle(sentences_wiki)\n",
    "print(len(sentences_wiki))\n",
    "\n",
    "# sample 1/5 of the data\n",
    "# sentences_wiki = sentences_wiki[:int(len(sentences_wiki)/5)]\n",
    "# print(len(sentences_wiki))"
   ]
  },
  {
   "cell_type": "markdown",
   "metadata": {
    "deletable": true,
    "editable": true
   },
   "source": [
    "Now, repeat all the same steps that you performed above. You should be able to reuse essentially all the code."
   ]
  },
  {
   "cell_type": "code",
   "execution_count": 45,
   "metadata": {
    "collapsed": false,
    "deletable": true,
    "editable": true
   },
   "outputs": [],
   "source": [
    "cnt = Counter()\n",
    "for sentence in sentences_wiki:\n",
    "    for word in sentence:\n",
    "        cnt[word] += 1\n",
    "        \n",
    "counts_wiki_top1000 = []\n",
    "for common_word in cnt.most_common(1000):\n",
    "    counts_wiki_top1000.append(common_word[1])"
   ]
  },
  {
   "cell_type": "code",
   "execution_count": 46,
   "metadata": {
    "collapsed": false,
    "deletable": true,
    "editable": true
   },
   "outputs": [
    {
     "data": {
      "text/html": [
       "\n",
       "\n",
       "    <div class=\"bk-root\">\n",
       "        <div class=\"bk-plotdiv\" id=\"401e591e-581b-4019-bf7c-76d94fccac39\"></div>\n",
       "    </div>\n",
       "<script type=\"text/javascript\">\n",
       "  \n",
       "  (function(global) {\n",
       "    function now() {\n",
       "      return new Date();\n",
       "    }\n",
       "  \n",
       "    var force = false;\n",
       "  \n",
       "    if (typeof (window._bokeh_onload_callbacks) === \"undefined\" || force === true) {\n",
       "      window._bokeh_onload_callbacks = [];\n",
       "      window._bokeh_is_loading = undefined;\n",
       "    }\n",
       "  \n",
       "  \n",
       "    \n",
       "    if (typeof (window._bokeh_timeout) === \"undefined\" || force === true) {\n",
       "      window._bokeh_timeout = Date.now() + 0;\n",
       "      window._bokeh_failed_load = false;\n",
       "    }\n",
       "  \n",
       "    var NB_LOAD_WARNING = {'data': {'text/html':\n",
       "       \"<div style='background-color: #fdd'>\\n\"+\n",
       "       \"<p>\\n\"+\n",
       "       \"BokehJS does not appear to have successfully loaded. If loading BokehJS from CDN, this \\n\"+\n",
       "       \"may be due to a slow or bad network connection. Possible fixes:\\n\"+\n",
       "       \"</p>\\n\"+\n",
       "       \"<ul>\\n\"+\n",
       "       \"<li>re-rerun `output_notebook()` to attempt to load from CDN again, or</li>\\n\"+\n",
       "       \"<li>use INLINE resources instead, as so:</li>\\n\"+\n",
       "       \"</ul>\\n\"+\n",
       "       \"<code>\\n\"+\n",
       "       \"from bokeh.resources import INLINE\\n\"+\n",
       "       \"output_notebook(resources=INLINE)\\n\"+\n",
       "       \"</code>\\n\"+\n",
       "       \"</div>\"}};\n",
       "  \n",
       "    function display_loaded() {\n",
       "      if (window.Bokeh !== undefined) {\n",
       "        document.getElementById(\"401e591e-581b-4019-bf7c-76d94fccac39\").textContent = \"BokehJS successfully loaded.\";\n",
       "      } else if (Date.now() < window._bokeh_timeout) {\n",
       "        setTimeout(display_loaded, 100)\n",
       "      }\n",
       "    }\n",
       "  \n",
       "    function run_callbacks() {\n",
       "      window._bokeh_onload_callbacks.forEach(function(callback) { callback() });\n",
       "      delete window._bokeh_onload_callbacks\n",
       "      console.info(\"Bokeh: all callbacks have finished\");\n",
       "    }\n",
       "  \n",
       "    function load_libs(js_urls, callback) {\n",
       "      window._bokeh_onload_callbacks.push(callback);\n",
       "      if (window._bokeh_is_loading > 0) {\n",
       "        console.log(\"Bokeh: BokehJS is being loaded, scheduling callback at\", now());\n",
       "        return null;\n",
       "      }\n",
       "      if (js_urls == null || js_urls.length === 0) {\n",
       "        run_callbacks();\n",
       "        return null;\n",
       "      }\n",
       "      console.log(\"Bokeh: BokehJS not loaded, scheduling load and callback at\", now());\n",
       "      window._bokeh_is_loading = js_urls.length;\n",
       "      for (var i = 0; i < js_urls.length; i++) {\n",
       "        var url = js_urls[i];\n",
       "        var s = document.createElement('script');\n",
       "        s.src = url;\n",
       "        s.async = false;\n",
       "        s.onreadystatechange = s.onload = function() {\n",
       "          window._bokeh_is_loading--;\n",
       "          if (window._bokeh_is_loading === 0) {\n",
       "            console.log(\"Bokeh: all BokehJS libraries loaded\");\n",
       "            run_callbacks()\n",
       "          }\n",
       "        };\n",
       "        s.onerror = function() {\n",
       "          console.warn(\"failed to load library \" + url);\n",
       "        };\n",
       "        console.log(\"Bokeh: injecting script tag for BokehJS library: \", url);\n",
       "        document.getElementsByTagName(\"head\")[0].appendChild(s);\n",
       "      }\n",
       "    };var element = document.getElementById(\"401e591e-581b-4019-bf7c-76d94fccac39\");\n",
       "    if (element == null) {\n",
       "      console.log(\"Bokeh: ERROR: autoload.js configured with elementid '401e591e-581b-4019-bf7c-76d94fccac39' but no matching script tag was found. \")\n",
       "      return false;\n",
       "    }\n",
       "  \n",
       "    var js_urls = [];\n",
       "  \n",
       "    var inline_js = [\n",
       "      function(Bokeh) {\n",
       "        (function() {\n",
       "          var fn = function() {\n",
       "            var docs_json = {\"18448028-946a-411e-8e3a-ffa2cccd4e4f\":{\"roots\":{\"references\":[{\"attributes\":{},\"id\":\"9d0ad545-abcb-4bde-b6ed-a7b1b7f5c383\",\"type\":\"BasicTicker\"},{\"attributes\":{\"active_drag\":\"auto\",\"active_scroll\":\"auto\",\"active_tap\":\"auto\",\"tools\":[{\"id\":\"e06e5d36-cf60-49f6-903b-eb2c153ee3e9\",\"type\":\"PanTool\"},{\"id\":\"2fbb3f2b-1cc3-4bc5-86cd-3d77a6c3fb69\",\"type\":\"WheelZoomTool\"},{\"id\":\"dd4a487a-9967-4ead-898a-5483ee7d7e41\",\"type\":\"ResetTool\"},{\"id\":\"daba13a0-1d21-4eee-acf8-b87101e2e714\",\"type\":\"SaveTool\"}]},\"id\":\"734a1595-c941-4cca-af1d-89222d923058\",\"type\":\"Toolbar\"},{\"attributes\":{\"callback\":null},\"id\":\"a0d1d9ea-ba7e-4fd5-9e41-436e3b8655b0\",\"type\":\"DataRange1d\"},{\"attributes\":{\"plot\":{\"id\":\"f173081b-2042-4160-9a77-44461e0d5367\",\"subtype\":\"Figure\",\"type\":\"Plot\"}},\"id\":\"e06e5d36-cf60-49f6-903b-eb2c153ee3e9\",\"type\":\"PanTool\"},{\"attributes\":{\"plot\":{\"id\":\"f173081b-2042-4160-9a77-44461e0d5367\",\"subtype\":\"Figure\",\"type\":\"Plot\"}},\"id\":\"2fbb3f2b-1cc3-4bc5-86cd-3d77a6c3fb69\",\"type\":\"WheelZoomTool\"},{\"attributes\":{\"bottom\":{\"value\":0},\"fill_alpha\":{\"value\":0.1},\"fill_color\":{\"value\":\"#1f77b4\"},\"left\":{\"field\":\"left\"},\"line_alpha\":{\"value\":0.1},\"line_color\":{\"value\":\"#1f77b4\"},\"right\":{\"field\":\"right\"},\"top\":{\"field\":\"top\"}},\"id\":\"cfddf6ee-1a02-47fa-a99a-d88c533923f0\",\"type\":\"Quad\"},{\"attributes\":{\"plot\":{\"id\":\"f173081b-2042-4160-9a77-44461e0d5367\",\"subtype\":\"Figure\",\"type\":\"Plot\"}},\"id\":\"daba13a0-1d21-4eee-acf8-b87101e2e714\",\"type\":\"SaveTool\"},{\"attributes\":{\"formatter\":{\"id\":\"5cec5d70-d0c1-414b-ae0b-de78c583523a\",\"type\":\"BasicTickFormatter\"},\"plot\":{\"id\":\"f173081b-2042-4160-9a77-44461e0d5367\",\"subtype\":\"Figure\",\"type\":\"Plot\"},\"ticker\":{\"id\":\"9d0ad545-abcb-4bde-b6ed-a7b1b7f5c383\",\"type\":\"BasicTicker\"}},\"id\":\"2088e53c-5114-4d5f-b12c-3bac00e19540\",\"type\":\"LinearAxis\"},{\"attributes\":{\"bottom\":{\"value\":0},\"fill_color\":{\"value\":\"#1f77b4\"},\"left\":{\"field\":\"left\"},\"line_color\":{\"value\":\"#555555\"},\"right\":{\"field\":\"right\"},\"top\":{\"field\":\"top\"}},\"id\":\"8fe2c82c-deee-4fb0-a834-14cd413faa70\",\"type\":\"Quad\"},{\"attributes\":{\"callback\":null,\"column_names\":[\"top\",\"right\",\"left\"],\"data\":{\"left\":{\"__ndarray__\":\"AAAAAICFwkBcj8L1/P3xQFyPwvWk1QBBCtejcEusCEFcj8L1eEEQQTMzMzPMLBRBCtejcB8YGEHhehSucgMcQbgehevF7h9BSOF6lAztIUEzMzMztuIjQR6F69Ff2CVBCtejcAnOJ0H2KFwPs8MpQeF6FK5cuStBzMzMTAavLUG4HoXrr6QvQVK4HsUszTBBSOF6lAHIMUE9Ctdj1sIyQTMzMzOrvTNBKVyPAoC4NEEehevRVLM1QRSuR6EprjZBCtejcP6oN0EAAABA06M4QfYoXA+onjlB61G43nyZOkHhehSuUZQ7QdejcH0mjzxBzMzMTPuJPUHC9Sgc0IQ+Qbgeheukfz9B16Nw3Tw9QEFSuB5Fp7pAQc3MzKwROEFBSOF6FHy1QUHC9Sh85jJCQT0K1+NQsEJBuB6FS7stQ0EzMzOzJatDQa5H4RqQKERBKVyPgvqlREGkcD3qZCNFQR6F61HPoEVBmZmZuTkeRkEUrkchpJtGQY/C9YgOGUdBCtej8HiWR0GF61FY4xNIQQAAAMBNkUhBexSuJ7gOSUH2KFyPIoxJQXA9CveMCUpB61G4XveGSkFmZmbGYQRLQeF6FC7MgUtBXI/ClTb/S0HXo3D9oHxMQVK4HmUL+kxBzMzMzHV3TUFH4Xo04PRNQcL1KJxKck5BPQrXA7XvTkG4HoVrH21PQTMzM9OJ6k9B16NwHfozUEEUrkdRr3JQQVK4HoVksVBBj8L1uBnwUEHNzMzszi5RQQrXoyCEbVFBSOF6VDmsUUGF61GI7upRQcL1KLyjKVJBAAAA8FhoUkE9CtcjDqdSQXsUrlfD5VJBuB6Fi3gkU0H2KFy/LWNTQTMzM/PioVNBcD0KJ5jgU0GuR+FaTR9UQetRuI4CXlRBKVyPwrecVEFmZmb2bNtUQaRwPSoiGlVB4XoUXtdYVUEeheuRjJdVQVyPwsVB1lVBmZmZ+fYUVkHXo3AtrFNWQRSuR2FhklZBUrgelRbRVkGPwvXIyw9XQc3MzPyATldBCtejMDaNV0FH4Xpk68tXQYXrUZigClhBwvUozFVJWEE=\",\"dtype\":\"float64\",\"shape\":[100]},\"right\":{\"__ndarray__\":\"XI/C9fz98UBcj8L1pNUAQQrXo3BLrAhBXI/C9XhBEEEzMzMzzCwUQQrXo3AfGBhB4XoUrnIDHEG4HoXrxe4fQUjhepQM7SFBMzMzM7biI0EehevRX9glQQrXo3AJzidB9ihcD7PDKUHhehSuXLkrQczMzEwGry1BuB6F66+kL0FSuB7FLM0wQUjhepQByDFBPQrXY9bCMkEzMzMzq70zQSlcjwKAuDRBHoXr0VSzNUEUrkehKa42QQrXo3D+qDdBAAAAQNOjOEH2KFwPqJ45QetRuN58mTpB4XoUrlGUO0HXo3B9Jo88QczMzEz7iT1BwvUoHNCEPkG4HoXrpH8/QdejcN08PUBBUrgeRae6QEHNzMysEThBQUjhehR8tUFBwvUofOYyQkE9CtfjULBCQbgehUu7LUNBMzMzsyWrQ0GuR+EakChEQSlcj4L6pURBpHA96mQjRUEehetRz6BFQZmZmbk5HkZBFK5HIaSbRkGPwvWIDhlHQQrXo/B4lkdBhetRWOMTSEEAAADATZFIQXsUrie4DklB9ihcjyKMSUFwPQr3jAlKQetRuF73hkpBZmZmxmEES0HhehQuzIFLQVyPwpU2/0tB16Nw/aB8TEFSuB5lC/pMQczMzMx1d01BR+F6NOD0TUHC9SicSnJOQT0K1wO1705BuB6Fax9tT0EzMzPTiepPQdejcB36M1BBFK5HUa9yUEFSuB6FZLFQQY/C9bgZ8FBBzczM7M4uUUEK16MghG1RQUjhelQ5rFFBhetRiO7qUUHC9Si8oylSQQAAAPBYaFJBPQrXIw6nUkF7FK5Xw+VSQbgehYt4JFNB9ihcvy1jU0EzMzPz4qFTQXA9CieY4FNBrkfhWk0fVEHrUbiOAl5UQSlcj8K3nFRBZmZm9mzbVEGkcD0qIhpVQeF6FF7XWFVBHoXrkYyXVUFcj8LFQdZVQZmZmfn2FFZB16NwLaxTVkEUrkdhYZJWQVK4HpUW0VZBj8L1yMsPV0HNzMz8gE5XQQrXozA2jVdBR+F6ZOvLV0GF61GYoApYQcL1KMxVSVhBAAAAAAuIWEE=\",\"dtype\":\"float64\",\"shape\":[100]},\"top\":{\"__ndarray__\":\"z4GF5pQD7j4ETpQo08+iPgTwSrK7uJA+BazdnurmdD4GaHCLGRVpPgTwSrK7uFA+BmhwixkVaT4GaHCLGRVpPgAAAAAAAAAACPBKsru4YD4I8Eqyu7hgPgDwSrK7uGA+APBKsru4UD4AAAAAAAAAAAAAAAAAAAAAAAAAAAAAAAAA8Eqyu7hQPgAAAAAAAAAAAAAAAAAAAAAAAAAAAAAAAAAAAAAAAAAAAAAAAAAAAAAAAAAAAAAAAAAAAAAAAAAAAAAAAAAAAAAAAAAAAAAAAAAAAAAAAAAAAPBKsru4UD4AAAAAAAAAAAAAAAAAAAAAAPBKsru4UD4AAAAAAAAAAAAAAAAAAAAAAPBKsru4UD4AAAAAAAAAAAAAAAAAAAAAAAAAAAAAAAAAAAAAAAAAAADwSrK7uFA+AAAAAAAAAAAAAAAAAAAAAAAAAAAAAAAAAPBKsru4UD4AAAAAAAAAAAAAAAAAAAAAAAAAAAAAAAAAAAAAAAAAAAAAAAAAAAAAAAAAAAAAAAAAAAAAAAAAAAAAAAAAAAAAAAAAAAAAAAAAAAAAAAAAAAAAAAAAAAAAAAAAAAAAAAAAAAAAAAAAAAAAAAAAAAAAAAAAAAAAAAAAAAAAAAAAAAAAAAAAAAAAAAAAAAAAAAAAAAAAAAAAAAAAAAAAAAAAAAAAAAAAAAAAAAAAAAAAAAAAAAAAAAAAAAAAAAAAAAAAAAAAAAAAAAAAAAAAAAAAAAAAAAAAAAAAAAAAAAAAAAAAAAAAAAAAAAAAAAAAAAAAAAAAAAAAAAAAAAAAAAAAAAAAAAAAAAAAAAAAAAAAAAAAAAAAAAAAAAAAAAAAAAAAAAAAAAAAAAAAAAAAAAAAAAAAAAAAAAAAAAAAAAAAAAAAAAAAAAAAAAAAAAAAAAAAAAAAAAAAAAAAAAAAAAAAAAAAAAAAAAAAAAAAAAAAAAAAAAAAAAAAAAAAAAAAAAAAAAAAAAAAAAAAAAAAAAAAAAAAAAAAAAAAAAAAAAAAAAAAAAAAAAAAAAAAAAAAAAAAAAAAAAAAAAAAAAAAAAAA3e9Ksru4UD4=\",\"dtype\":\"float64\",\"shape\":[100]}}},\"id\":\"290b4aab-8a04-4e9d-8b27-7b1319ccfb30\",\"type\":\"ColumnDataSource\"},{\"attributes\":{},\"id\":\"67fb315b-4481-44bb-8fd4-b9da030120b2\",\"type\":\"BasicTickFormatter\"},{\"attributes\":{\"callback\":null},\"id\":\"94f019dd-8cb9-4f50-8910-f85922439499\",\"type\":\"DataRange1d\"},{\"attributes\":{},\"id\":\"317d299b-4b8f-4caf-bfd6-de0a02d5fd10\",\"type\":\"ToolEvents\"},{\"attributes\":{\"data_source\":{\"id\":\"290b4aab-8a04-4e9d-8b27-7b1319ccfb30\",\"type\":\"ColumnDataSource\"},\"glyph\":{\"id\":\"8fe2c82c-deee-4fb0-a834-14cd413faa70\",\"type\":\"Quad\"},\"hover_glyph\":null,\"nonselection_glyph\":{\"id\":\"cfddf6ee-1a02-47fa-a99a-d88c533923f0\",\"type\":\"Quad\"},\"selection_glyph\":null},\"id\":\"9922f40b-80ed-4516-8bc6-e3e1def77577\",\"type\":\"GlyphRenderer\"},{\"attributes\":{\"below\":[{\"id\":\"2088e53c-5114-4d5f-b12c-3bac00e19540\",\"type\":\"LinearAxis\"}],\"left\":[{\"id\":\"724397ac-a659-4d0d-93d1-96899dfb9524\",\"type\":\"LinearAxis\"}],\"renderers\":[{\"id\":\"2088e53c-5114-4d5f-b12c-3bac00e19540\",\"type\":\"LinearAxis\"},{\"id\":\"beb11123-4a07-49a3-b263-c6cdc4fd2481\",\"type\":\"Grid\"},{\"id\":\"724397ac-a659-4d0d-93d1-96899dfb9524\",\"type\":\"LinearAxis\"},{\"id\":\"29f34a83-d260-4685-a9cd-fd4e08301f7f\",\"type\":\"Grid\"},{\"id\":\"9922f40b-80ed-4516-8bc6-e3e1def77577\",\"type\":\"GlyphRenderer\"}],\"title\":{\"id\":\"5b96c2a0-5af5-4ef9-a286-813e942f7aeb\",\"type\":\"Title\"},\"tool_events\":{\"id\":\"317d299b-4b8f-4caf-bfd6-de0a02d5fd10\",\"type\":\"ToolEvents\"},\"toolbar\":{\"id\":\"734a1595-c941-4cca-af1d-89222d923058\",\"type\":\"Toolbar\"},\"toolbar_location\":\"above\",\"x_range\":{\"id\":\"a0d1d9ea-ba7e-4fd5-9e41-436e3b8655b0\",\"type\":\"DataRange1d\"},\"y_range\":{\"id\":\"94f019dd-8cb9-4f50-8910-f85922439499\",\"type\":\"DataRange1d\"}},\"id\":\"f173081b-2042-4160-9a77-44461e0d5367\",\"subtype\":\"Figure\",\"type\":\"Plot\"},{\"attributes\":{},\"id\":\"5cec5d70-d0c1-414b-ae0b-de78c583523a\",\"type\":\"BasicTickFormatter\"},{\"attributes\":{\"plot\":{\"id\":\"f173081b-2042-4160-9a77-44461e0d5367\",\"subtype\":\"Figure\",\"type\":\"Plot\"},\"ticker\":{\"id\":\"9d0ad545-abcb-4bde-b6ed-a7b1b7f5c383\",\"type\":\"BasicTicker\"}},\"id\":\"beb11123-4a07-49a3-b263-c6cdc4fd2481\",\"type\":\"Grid\"},{\"attributes\":{\"plot\":null,\"text\":\"Top-1000 words distribution\"},\"id\":\"5b96c2a0-5af5-4ef9-a286-813e942f7aeb\",\"type\":\"Title\"},{\"attributes\":{\"formatter\":{\"id\":\"67fb315b-4481-44bb-8fd4-b9da030120b2\",\"type\":\"BasicTickFormatter\"},\"plot\":{\"id\":\"f173081b-2042-4160-9a77-44461e0d5367\",\"subtype\":\"Figure\",\"type\":\"Plot\"},\"ticker\":{\"id\":\"eedbcc88-3677-45a3-8409-8295075eb5be\",\"type\":\"BasicTicker\"}},\"id\":\"724397ac-a659-4d0d-93d1-96899dfb9524\",\"type\":\"LinearAxis\"},{\"attributes\":{\"plot\":{\"id\":\"f173081b-2042-4160-9a77-44461e0d5367\",\"subtype\":\"Figure\",\"type\":\"Plot\"}},\"id\":\"dd4a487a-9967-4ead-898a-5483ee7d7e41\",\"type\":\"ResetTool\"},{\"attributes\":{\"dimension\":1,\"plot\":{\"id\":\"f173081b-2042-4160-9a77-44461e0d5367\",\"subtype\":\"Figure\",\"type\":\"Plot\"},\"ticker\":{\"id\":\"eedbcc88-3677-45a3-8409-8295075eb5be\",\"type\":\"BasicTicker\"}},\"id\":\"29f34a83-d260-4685-a9cd-fd4e08301f7f\",\"type\":\"Grid\"},{\"attributes\":{},\"id\":\"eedbcc88-3677-45a3-8409-8295075eb5be\",\"type\":\"BasicTicker\"}],\"root_ids\":[\"f173081b-2042-4160-9a77-44461e0d5367\"]},\"title\":\"Bokeh Application\",\"version\":\"0.12.4\"}};\n",
       "            var render_items = [{\"docid\":\"18448028-946a-411e-8e3a-ffa2cccd4e4f\",\"elementid\":\"401e591e-581b-4019-bf7c-76d94fccac39\",\"modelid\":\"f173081b-2042-4160-9a77-44461e0d5367\"}];\n",
       "            \n",
       "            Bokeh.embed.embed_items(docs_json, render_items);\n",
       "          };\n",
       "          if (document.readyState != \"loading\") fn();\n",
       "          else document.addEventListener(\"DOMContentLoaded\", fn);\n",
       "        })();\n",
       "      },\n",
       "      function(Bokeh) {\n",
       "      }\n",
       "    ];\n",
       "  \n",
       "    function run_inline_js() {\n",
       "      \n",
       "      if ((window.Bokeh !== undefined) || (force === true)) {\n",
       "        for (var i = 0; i < inline_js.length; i++) {\n",
       "          inline_js[i](window.Bokeh);\n",
       "        }if (force === true) {\n",
       "          display_loaded();\n",
       "        }} else if (Date.now() < window._bokeh_timeout) {\n",
       "        setTimeout(run_inline_js, 100);\n",
       "      } else if (!window._bokeh_failed_load) {\n",
       "        console.log(\"Bokeh: BokehJS failed to load within specified timeout.\");\n",
       "        window._bokeh_failed_load = true;\n",
       "      } else if (force !== true) {\n",
       "        var cell = $(document.getElementById(\"401e591e-581b-4019-bf7c-76d94fccac39\")).parents('.cell').data().cell;\n",
       "        cell.output_area.append_execute_result(NB_LOAD_WARNING)\n",
       "      }\n",
       "  \n",
       "    }\n",
       "  \n",
       "    if (window._bokeh_is_loading === 0) {\n",
       "      console.log(\"Bokeh: BokehJS loaded, going straight to plotting\");\n",
       "      run_inline_js();\n",
       "    } else {\n",
       "      load_libs(js_urls, function() {\n",
       "        console.log(\"Bokeh: BokehJS plotting callback run at\", now());\n",
       "        run_inline_js();\n",
       "      });\n",
       "    }\n",
       "  }(this));\n",
       "</script>"
      ]
     },
     "metadata": {},
     "output_type": "display_data"
    }
   ],
   "source": [
    "hist, edges = np.histogram(counts_wiki_top1000, density=True, bins=100, normed=True)\n",
    "\n",
    "p = figure(tools=\"pan,wheel_zoom,reset,save\",\n",
    "           toolbar_location=\"above\",\n",
    "           title=\"Top-1000 words distribution\")\n",
    "p.quad(top=hist, bottom=0, left=edges[:-1], right=edges[1:], line_color=\"#555555\")\n",
    "show(p)"
   ]
  },
  {
   "cell_type": "code",
   "execution_count": 47,
   "metadata": {
    "collapsed": true,
    "deletable": true,
    "editable": true
   },
   "outputs": [],
   "source": [
    "model_wiki = Word2Vec(sentences_wiki, min_count=10)"
   ]
  },
  {
   "cell_type": "code",
   "execution_count": 48,
   "metadata": {
    "collapsed": false,
    "deletable": true,
    "editable": true
   },
   "outputs": [
    {
     "data": {
      "text/plain": [
       "[('woman', 0.7665807008743286),\n",
       " ('person', 0.6645464301109314),\n",
       " ('girl', 0.6578167080879211),\n",
       " ('boy', 0.605709433555603),\n",
       " ('dog', 0.5946558117866516),\n",
       " ('soldier', 0.5913508534431458),\n",
       " ('creature', 0.5912767648696899),\n",
       " ('gambler', 0.5849231481552124),\n",
       " ('lad', 0.5789147019386292),\n",
       " ('someone', 0.5649397969245911)]"
      ]
     },
     "execution_count": 48,
     "metadata": {},
     "output_type": "execute_result"
    }
   ],
   "source": [
    "model_wiki.most_similar(\"man\")"
   ]
  },
  {
   "cell_type": "code",
   "execution_count": 49,
   "metadata": {
    "collapsed": false,
    "deletable": true,
    "editable": true
   },
   "outputs": [
    {
     "data": {
      "text/plain": [
       "[('girl', 0.7951010465621948),\n",
       " ('man', 0.7665807008743286),\n",
       " ('child', 0.7453534603118896),\n",
       " ('prostitute', 0.7446708083152771),\n",
       " ('person', 0.7084254026412964),\n",
       " ('teenager', 0.6845573782920837),\n",
       " ('lover', 0.6782108545303345),\n",
       " ('heroine', 0.6554056406021118),\n",
       " ('pimp', 0.6544957160949707),\n",
       " ('maid', 0.6533594727516174)]"
      ]
     },
     "execution_count": 49,
     "metadata": {},
     "output_type": "execute_result"
    }
   ],
   "source": [
    "model_wiki.most_similar(\"woman\")"
   ]
  },
  {
   "cell_type": "code",
   "execution_count": 50,
   "metadata": {
    "collapsed": false,
    "editable": true
   },
   "outputs": [
    {
     "data": {
      "text/plain": [
       "[('divorce', 0.7652644515037537),\n",
       " ('betrothal', 0.7138632535934448),\n",
       " ('marriages', 0.7124296426773071),\n",
       " ('remarriage', 0.6919487714767456),\n",
       " ('marrying', 0.6844138503074646),\n",
       " ('husband', 0.6646238565444946),\n",
       " ('wife', 0.6621097922325134),\n",
       " ('daughter', 0.6324413418769836),\n",
       " ('relationship', 0.6309663653373718),\n",
       " ('widowhood', 0.6275832653045654)]"
      ]
     },
     "execution_count": 50,
     "metadata": {},
     "output_type": "execute_result"
    }
   ],
   "source": [
    "model_wiki.most_similar(\"marriage\")"
   ]
  },
  {
   "cell_type": "code",
   "execution_count": 51,
   "metadata": {
    "collapsed": false,
    "editable": true
   },
   "outputs": [
    {
     "data": {
      "text/plain": [
       "[('dreams', 0.6716759204864502),\n",
       " ('kiss', 0.6609022617340088),\n",
       " ('duet', 0.6567891240119934),\n",
       " ('romance', 0.6403593420982361),\n",
       " ('smile', 0.6326988935470581),\n",
       " ('dream', 0.6147112250328064),\n",
       " ('madly', 0.6114822626113892),\n",
       " ('passion', 0.6114453673362732),\n",
       " ('yearning', 0.6086317300796509),\n",
       " ('infatuation', 0.6067837476730347)]"
      ]
     },
     "execution_count": 51,
     "metadata": {},
     "output_type": "execute_result"
    }
   ],
   "source": [
    "model_wiki.most_similar(\"love\")"
   ]
  },
  {
   "cell_type": "code",
   "execution_count": 52,
   "metadata": {
    "collapsed": false
   },
   "outputs": [
    {
     "name": "stdout",
     "output_type": "stream",
     "text": [
      "[('empress', 0.97281414270401), ('queen', 0.9467155337333679), ('monarch', 0.9384176731109619)]\n",
      "[('personality', 1.0502445697784424), ('backstory', 0.9806424379348755), ('life', 0.9755017161369324)]\n",
      "[('essence', 0.5189809203147888), ('manhood', 0.5151405930519104), ('parable', 0.5136235952377319)]\n",
      "[('tokyo', 0.966160774230957), ('osaka', 0.9030835032463074), ('shibuya', 0.8948038220405579)]\n"
     ]
    }
   ],
   "source": [
    "print(model_wiki.most_similar_cosmul(positive=['woman', 'king'], negative=['man'])[:3])\n",
    "print(model_wiki.most_similar_cosmul(positive=['computer', 'mind'], negative=['machine'])[:3])\n",
    "print(model_wiki.most_similar_cosmul(positive=['life','meaning'])[:3])\n",
    "print(model_wiki.most_similar_cosmul(positive=['paris', 'japan'], negative=['france'])[:3])"
   ]
  },
  {
   "cell_type": "code",
   "execution_count": 53,
   "metadata": {
    "collapsed": true,
    "deletable": true,
    "editable": true
   },
   "outputs": [],
   "source": [
    "words_top_wiki = []\n",
    "for common_word in cnt.most_common(1000):\n",
    "    words_top_wiki.append(common_word[0])\n"
   ]
  },
  {
   "cell_type": "markdown",
   "metadata": {
    "deletable": true,
    "editable": true
   },
   "source": [
    "#### t-SNE visualization"
   ]
  },
  {
   "cell_type": "code",
   "execution_count": 54,
   "metadata": {
    "collapsed": false,
    "deletable": true,
    "editable": true
   },
   "outputs": [],
   "source": [
    "# This assumes words_top_wiki is a list of strings, the top 1000 words\n",
    "words_top_vec_wiki = model_wiki[words_top_wiki]\n",
    "\n",
    "tsne = TSNE(n_components=2, random_state=0)\n",
    "words_top_wiki_tsne = tsne.fit_transform(words_top_vec_wiki)"
   ]
  },
  {
   "cell_type": "code",
   "execution_count": 55,
   "metadata": {
    "collapsed": false,
    "deletable": true,
    "editable": true
   },
   "outputs": [
    {
     "data": {
      "text/html": [
       "\n",
       "\n",
       "    <div class=\"bk-root\">\n",
       "        <div class=\"bk-plotdiv\" id=\"2b384498-14e5-4fd7-9b64-05095dfa4ec9\"></div>\n",
       "    </div>\n",
       "<script type=\"text/javascript\">\n",
       "  \n",
       "  (function(global) {\n",
       "    function now() {\n",
       "      return new Date();\n",
       "    }\n",
       "  \n",
       "    var force = false;\n",
       "  \n",
       "    if (typeof (window._bokeh_onload_callbacks) === \"undefined\" || force === true) {\n",
       "      window._bokeh_onload_callbacks = [];\n",
       "      window._bokeh_is_loading = undefined;\n",
       "    }\n",
       "  \n",
       "  \n",
       "    \n",
       "    if (typeof (window._bokeh_timeout) === \"undefined\" || force === true) {\n",
       "      window._bokeh_timeout = Date.now() + 0;\n",
       "      window._bokeh_failed_load = false;\n",
       "    }\n",
       "  \n",
       "    var NB_LOAD_WARNING = {'data': {'text/html':\n",
       "       \"<div style='background-color: #fdd'>\\n\"+\n",
       "       \"<p>\\n\"+\n",
       "       \"BokehJS does not appear to have successfully loaded. If loading BokehJS from CDN, this \\n\"+\n",
       "       \"may be due to a slow or bad network connection. Possible fixes:\\n\"+\n",
       "       \"</p>\\n\"+\n",
       "       \"<ul>\\n\"+\n",
       "       \"<li>re-rerun `output_notebook()` to attempt to load from CDN again, or</li>\\n\"+\n",
       "       \"<li>use INLINE resources instead, as so:</li>\\n\"+\n",
       "       \"</ul>\\n\"+\n",
       "       \"<code>\\n\"+\n",
       "       \"from bokeh.resources import INLINE\\n\"+\n",
       "       \"output_notebook(resources=INLINE)\\n\"+\n",
       "       \"</code>\\n\"+\n",
       "       \"</div>\"}};\n",
       "  \n",
       "    function display_loaded() {\n",
       "      if (window.Bokeh !== undefined) {\n",
       "        document.getElementById(\"2b384498-14e5-4fd7-9b64-05095dfa4ec9\").textContent = \"BokehJS successfully loaded.\";\n",
       "      } else if (Date.now() < window._bokeh_timeout) {\n",
       "        setTimeout(display_loaded, 100)\n",
       "      }\n",
       "    }\n",
       "  \n",
       "    function run_callbacks() {\n",
       "      window._bokeh_onload_callbacks.forEach(function(callback) { callback() });\n",
       "      delete window._bokeh_onload_callbacks\n",
       "      console.info(\"Bokeh: all callbacks have finished\");\n",
       "    }\n",
       "  \n",
       "    function load_libs(js_urls, callback) {\n",
       "      window._bokeh_onload_callbacks.push(callback);\n",
       "      if (window._bokeh_is_loading > 0) {\n",
       "        console.log(\"Bokeh: BokehJS is being loaded, scheduling callback at\", now());\n",
       "        return null;\n",
       "      }\n",
       "      if (js_urls == null || js_urls.length === 0) {\n",
       "        run_callbacks();\n",
       "        return null;\n",
       "      }\n",
       "      console.log(\"Bokeh: BokehJS not loaded, scheduling load and callback at\", now());\n",
       "      window._bokeh_is_loading = js_urls.length;\n",
       "      for (var i = 0; i < js_urls.length; i++) {\n",
       "        var url = js_urls[i];\n",
       "        var s = document.createElement('script');\n",
       "        s.src = url;\n",
       "        s.async = false;\n",
       "        s.onreadystatechange = s.onload = function() {\n",
       "          window._bokeh_is_loading--;\n",
       "          if (window._bokeh_is_loading === 0) {\n",
       "            console.log(\"Bokeh: all BokehJS libraries loaded\");\n",
       "            run_callbacks()\n",
       "          }\n",
       "        };\n",
       "        s.onerror = function() {\n",
       "          console.warn(\"failed to load library \" + url);\n",
       "        };\n",
       "        console.log(\"Bokeh: injecting script tag for BokehJS library: \", url);\n",
       "        document.getElementsByTagName(\"head\")[0].appendChild(s);\n",
       "      }\n",
       "    };var element = document.getElementById(\"2b384498-14e5-4fd7-9b64-05095dfa4ec9\");\n",
       "    if (element == null) {\n",
       "      console.log(\"Bokeh: ERROR: autoload.js configured with elementid '2b384498-14e5-4fd7-9b64-05095dfa4ec9' but no matching script tag was found. \")\n",
       "      return false;\n",
       "    }\n",
       "  \n",
       "    var js_urls = [];\n",
       "  \n",
       "    var inline_js = [\n",
       "      function(Bokeh) {\n",
       "        (function() {\n",
       "          var fn = function() {\n",
       "            var docs_json = {\"3f740a35-6217-47ee-947a-a1980de3d621\":{\"roots\":{\"references\":[{\"attributes\":{\"fill_color\":{\"value\":\"#1f77b4\"},\"line_color\":{\"value\":\"#1f77b4\"},\"size\":{\"units\":\"screen\",\"value\":8},\"x\":{\"field\":\"x1\"},\"y\":{\"field\":\"x2\"}},\"id\":\"86ddf899-a0ba-4a26-8c19-3dffb12028ee\",\"type\":\"Circle\"},{\"attributes\":{},\"id\":\"b967088e-4df8-4096-b621-2f20fb5f71af\",\"type\":\"BasicTickFormatter\"},{\"attributes\":{},\"id\":\"4aa31764-dad9-4be0-b3b1-a68e439b09a5\",\"type\":\"BasicTicker\"},{\"attributes\":{\"plot\":{\"id\":\"2710ed3d-0f3f-4e50-9c2b-2c0dccbb239d\",\"subtype\":\"Figure\",\"type\":\"Plot\"}},\"id\":\"eecf2e8d-a685-42d5-a8c5-1f6a314363b8\",\"type\":\"PanTool\"},{\"attributes\":{\"data_source\":{\"id\":\"6048dafc-17e0-450c-8693-b46a927f658d\",\"type\":\"ColumnDataSource\"},\"glyph\":{\"id\":\"86ddf899-a0ba-4a26-8c19-3dffb12028ee\",\"type\":\"Circle\"},\"hover_glyph\":null,\"nonselection_glyph\":{\"id\":\"443adbf3-6fa5-4aa5-b29a-3dda73a5f2e3\",\"type\":\"Circle\"},\"selection_glyph\":null},\"id\":\"a78eb7f9-e375-4078-9ad7-f01adc2ea662\",\"type\":\"GlyphRenderer\"},{\"attributes\":{\"plot\":{\"id\":\"2710ed3d-0f3f-4e50-9c2b-2c0dccbb239d\",\"subtype\":\"Figure\",\"type\":\"Plot\"},\"ticker\":{\"id\":\"4aa31764-dad9-4be0-b3b1-a68e439b09a5\",\"type\":\"BasicTicker\"}},\"id\":\"90a858d1-f7f6-47c6-acdf-c26d70d2d03a\",\"type\":\"Grid\"},{\"attributes\":{},\"id\":\"9c583401-a386-40b2-b852-4b2fd8bb37b4\",\"type\":\"BasicTicker\"},{\"attributes\":{\"callback\":null,\"column_names\":[\"x1\",\"names\",\"x2\"],\"data\":{\"names\":[\"the\",\"of\",\"and\",\"in\",\"to\",\"a\",\"was\",\"s\",\"on\",\"as\",\"for\",\"that\",\"with\",\"by\",\"is\",\"his\",\"at\",\"he\",\"from\",\"it\",\"were\",\"an\",\"had\",\"which\",\"be\",\"this\",\"but\",\"are\",\"first\",\"not\",\"their\",\"after\",\"one\",\"her\",\"also\",\"its\",\"they\",\"two\",\"or\",\"have\",\"who\",\"new\",\"been\",\"has\",\"she\",\"when\",\"time\",\"during\",\"other\",\"would\",\"into\",\"all\",\"i\",\"more\",\"while\",\"over\",\"him\",\"game\",\"only\",\"later\",\"up\",\"most\",\"three\",\"about\",\"out\",\"between\",\"th\",\"than\",\"there\",\"some\",\"film\",\"may\",\"before\",\"year\",\"made\",\"no\",\"such\",\"second\",\"season\",\"where\",\"world\",\"war\",\"years\",\"both\",\"then\",\"however\",\"used\",\"being\",\"through\",\"them\",\"song\",\"these\",\"series\",\"against\",\"m\",\"album\",\"many\",\"team\",\"city\",\"part\",\"north\",\"became\",\"number\",\"including\",\"can\",\"several\",\"united\",\"well\",\"four\",\"early\",\"under\",\"state\",\"south\",\"music\",\"day\",\"so\",\"episode\",\"following\",\"said\",\"states\",\"known\",\"although\",\"american\",\"could\",\"did\",\"work\",\"began\",\"until\",\"because\",\"released\",\"like\",\"t\",\"called\",\"high\",\"people\",\"end\",\"british\",\"since\",\"around\",\"long\",\"each\",\"national\",\"life\",\"if\",\"found\",\"best\",\"september\",\"same\",\"west\",\"us\",\"million\",\"back\",\"along\",\"another\",\"five\",\"show\",\"took\",\"use\",\"you\",\"km\",\"any\",\"area\",\"final\",\"group\",\"off\",\"august\",\"century\",\"received\",\"october\",\"school\",\"due\",\"john\",\"what\",\"will\",\"line\",\"government\",\"june\",\"east\",\"system\",\"single\",\"march\",\"july\",\"home\",\"november\",\"games\",\"third\",\"much\",\"general\",\"april\",\"large\",\"set\",\"down\",\"major\",\"left\",\"based\",\"family\",\"york\",\"house\",\"place\",\"just\",\"we\",\"company\",\"army\",\"history\",\"december\",\"road\",\"played\",\"included\",\"name\",\"six\",\"king\",\"january\",\"band\",\"character\",\"now\",\"wrote\",\"won\",\"according\",\"led\",\"main\",\"within\",\"last\",\"own\",\"near\",\"described\",\"d\",\"those\",\"times\",\"men\",\"death\",\"river\",\"video\",\"named\",\"next\",\"st\",\"air\",\"battle\",\"de\",\"release\",\"record\",\"late\",\"still\",\"make\",\"original\",\"top\",\"league\",\"way\",\"very\",\"ship\",\"species\",\"even\",\"great\",\"production\",\"man\",\"force\",\"route\",\"club\",\"small\",\"storm\",\"u\",\"old\",\"public\",\"february\",\"again\",\"though\",\"built\",\"days\",\"held\",\"play\",\"among\",\"university\",\"further\",\"do\",\"role\",\"service\",\"b\",\"division\",\"book\",\"french\",\"german\",\"side\",\"members\",\"story\",\"having\",\"white\",\"power\",\"match\",\"point\",\"player\",\"water\",\"often\",\"h\",\"order\",\"career\",\"continued\",\"former\",\"park\",\"local\",\"black\",\"without\",\"town\",\"came\",\"despite\",\"england\",\"considered\",\"take\",\"party\",\"half\",\"island\",\"few\",\"county\",\"support\",\"form\",\"songs\",\"development\",\"version\",\"moved\",\"written\",\"period\",\"military\",\"different\",\"c\",\"become\",\"english\",\"lost\",\"forces\",\"building\",\"given\",\"court\",\"tropical\",\"president\",\"ii\",\"country\",\"little\",\"london\",\"international\",\"re\",\"my\",\"church\",\"gave\",\"performance\",\"similar\",\"lead\",\"tour\",\"street\",\"attack\",\"n\",\"never\",\"returned\",\"track\",\"using\",\"published\",\"royal\",\"produced\",\"short\",\"went\",\"position\",\"class\",\"recorded\",\"children\",\"television\",\"stated\",\"land\",\"aircraft\",\"highway\",\"total\",\"western\",\"run\",\"ships\",\"good\",\"live\",\"how\",\"making\",\"control\",\"include\",\"father\",\"week\",\"star\",\"per\",\"women\",\"fire\",\"throughout\",\"upon\",\"right\",\"once\",\"love\",\"himself\",\"australia\",\"head\",\"me\",\"less\",\"characters\",\"central\",\"design\",\"age\",\"players\",\"light\",\"instead\",\"young\",\"title\",\"away\",\"writing\",\"seven\",\"rock\",\"across\",\"months\",\"remained\",\"red\",\"r\",\"ten\",\"sea\",\"return\",\"developed\",\"station\",\"previous\",\"result\",\"ft\",\"political\",\"night\",\"law\",\"died\",\"southern\",\"eight\",\"e\",\"hurricane\",\"james\",\"low\",\"center\",\"too\",\"reported\",\"office\",\"areas\",\"felt\",\"noted\",\"various\",\"eventually\",\"william\",\"race\",\"america\",\"style\",\"announced\",\"created\",\"son\",\"field\",\"reached\",\"miles\",\"win\",\"act\",\"college\",\"construction\",\"should\",\"award\",\"sent\",\"japanese\",\"seen\",\"followed\",\"together\",\"performed\",\"served\",\"member\",\"full\",\"northern\",\"range\",\"level\",\"common\",\"able\",\"killed\",\"taken\",\"campaign\",\"mm\",\"works\",\"points\",\"action\",\"established\",\"chart\",\"originally\",\"born\",\"success\",\"body\",\"george\",\"others\",\"front\",\"appeared\",\"thought\",\"australian\",\"modern\",\"features\",\"located\",\"project\",\"post\",\"special\",\"playing\",\"get\",\"started\",\"stage\",\"football\",\"caused\",\"addition\",\"bridge\",\"critics\",\"feet\",\"rather\",\"present\",\"fourth\",\"decided\",\"behind\",\"site\",\"formed\",\"added\",\"heavy\",\"sold\",\"o\",\"f\",\"every\",\"championship\",\"go\",\"popular\",\"director\",\"strong\",\"saw\",\"see\",\"completed\",\"damage\",\"population\",\"almost\",\"command\",\"important\",\"close\",\"soon\",\"fleet\",\"initially\",\"eastern\",\"open\",\"david\",\"art\",\"awards\",\"kingdom\",\"opened\",\"non\",\"guns\",\"case\",\"ground\",\"region\",\"leading\",\"weeks\",\"free\",\"coast\",\"worked\",\"mi\",\"working\",\"l\",\"mother\",\"france\",\"towards\",\"hall\",\"event\",\"union\",\"michael\",\"recording\",\"scene\",\"ever\",\"sound\",\"scored\",\"help\",\"provided\",\"training\",\"least\",\"wanted\",\"records\",\"brought\",\"featured\",\"henry\",\"either\",\"navy\",\"cup\",\"allowed\",\"average\",\"put\",\"does\",\"wife\",\"victory\",\"generally\",\"troops\",\"hit\",\"placed\",\"studio\",\"events\",\"runs\",\"magazine\",\"far\",\"example\",\"washington\",\"europe\",\"council\",\"mid\",\"designed\",\"joined\",\"co\",\"summer\",\"human\",\"hours\",\"list\",\"nine\",\"opening\",\"believed\",\"robert\",\"start\",\"replaced\",\"official\",\"media\",\"japan\",\"al\",\"base\",\"involved\",\"squadron\",\"earlier\",\"police\",\"european\",\"rest\",\"operation\",\"minutes\",\"finished\",\"brown\",\"society\",\"successful\",\"met\",\"saying\",\"possible\",\"x\",\"radio\",\"significant\",\"month\",\"crew\",\"shot\",\"highest\",\"particularly\",\"big\",\"largest\",\"review\",\"association\",\"films\",\"beginning\",\"test\",\"process\",\"available\",\"mph\",\"change\",\"forced\",\"research\",\"captain\",\"taking\",\"outside\",\"cast\",\"better\",\"increased\",\"turned\",\"come\",\"ended\",\"must\",\"social\",\"stone\",\"reviews\",\"section\",\"real\",\"lower\",\"passed\",\"community\",\"praised\",\"units\",\"san\",\"going\",\"business\",\"relationship\",\"middle\",\"future\",\"appearance\",\"move\",\"charles\",\"above\",\"thus\",\"space\",\"goal\",\"additional\",\"hill\",\"canada\",\"enough\",\"chief\",\"winds\",\"ordered\",\"previously\",\"thomas\",\"signed\",\"cross\",\"elements\",\"gold\",\"rights\",\"board\",\"program\",\"positive\",\"staff\",\"california\",\"round\",\"parts\",\"g\",\"lake\",\"infantry\",\"critical\",\"interest\",\"spent\",\"female\",\"don\",\"give\",\"plan\",\"told\",\"castle\",\"find\",\"gun\",\"lines\",\"musical\",\"overall\",\"type\",\"attempt\",\"brother\",\"committee\",\"directed\",\"failed\",\"paul\",\"money\",\"groups\",\"required\",\"v\",\"news\",\"hand\",\"evidence\",\"itself\",\"india\",\"sometimes\",\"germany\",\"prior\",\"grand\",\"district\",\"entire\",\"cover\",\"term\",\"asked\",\"personal\",\"port\",\"election\",\"reception\",\"battalion\",\"whose\",\"room\",\"study\",\"claimed\",\"already\",\"complete\",\"uk\",\"our\",\"bill\",\"introduced\",\"smith\",\"whom\",\"plot\",\"background\",\"square\",\"turn\",\"green\",\"usually\",\"novel\",\"past\",\"indian\",\"students\",\"p\",\"person\",\"idea\",\"quickly\",\"limited\",\"score\",\"education\",\"governor\",\"loss\",\"press\",\"effects\",\"speed\",\"stars\",\"response\",\"movement\",\"issue\",\"flight\",\"surface\",\"food\",\"ny\",\"debut\",\"k\",\"especially\",\"arrived\",\"anti\",\"commander\",\"peter\",\"minister\",\"decision\",\"britain\",\"services\",\"woman\",\"blue\",\"la\",\"mark\",\"fifth\",\"village\",\"teams\",\"bay\",\"shows\",\"department\",\"structure\",\"larger\",\"industry\",\"operations\",\"queen\",\"episodes\",\"becoming\",\"science\",\"earth\",\"centre\",\"voice\",\"length\",\"remaining\",\"material\",\"carried\",\"defeated\",\"living\",\"estimated\",\"writer\",\"richard\",\"cut\",\"latter\",\"pressure\",\"car\",\"civil\",\"scenes\",\"commercial\",\"leaving\",\"changes\",\"god\",\"might\",\"virginia\",\"running\",\"suggested\",\"entered\",\"nearly\",\"los\",\"influence\",\"report\",\"appointed\",\"depression\",\"date\",\"pop\",\"approximately\",\"winning\",\"language\",\"naval\",\"empire\",\"view\",\"shortly\",\"islands\",\"finally\",\"child\",\"self\",\"today\",\"network\",\"dark\",\"proposed\",\"daughter\",\"leader\",\"course\",\"tracks\",\"hot\",\"destroyed\",\"higher\",\"percent\",\"wide\",\"experience\",\"current\",\"size\",\"provide\",\"spanish\",\"fact\",\"railway\",\"nature\",\"subsequently\",\"lack\",\"compared\",\"intended\",\"producer\",\"brigade\",\"immediately\",\"face\",\"married\",\"soviet\",\"supported\",\"regular\",\"agreed\",\"cost\",\"awarded\",\"whether\",\"helped\",\"natural\",\"nd\",\"fans\",\"contract\",\"planned\",\"manager\",\"related\",\"professional\",\"chicago\",\"health\",\"officer\",\"museum\",\"create\",\"chinese\",\"upper\",\"longer\",\"soldiers\",\"your\",\"fort\",\"guitar\",\"done\",\"trade\",\"ball\",\"plans\",\"buildings\",\"captured\",\"appear\",\"changed\",\"jackson\",\"corps\",\"private\",\"associated\",\"yet\",\"federal\",\"friends\",\"officers\",\"something\",\"effect\",\"feature\",\"mostly\",\"singles\",\"remains\",\"themselves\",\"cm\",\"regiment\",\"edward\",\"billboard\",\"initial\",\"lord\",\"countries\",\"lyrics\",\"books\",\"probably\",\"extended\",\"mixed\",\"key\",\"pacific\",\"numerous\",\"minor\",\"moving\",\"really\",\"friend\",\"forward\",\"got\",\"information\",\"johnson\",\"always\",\"location\",\"j\",\"copies\",\"issued\",\"difficult\",\"energy\",\"leave\",\"atlantic\",\"status\",\"ran\",\"includes\",\"singer\",\"conference\",\"suffered\",\"via\",\"christian\",\"dance\",\"pass\",\"problems\",\"unit\",\"likely\",\"florida\",\"meeting\",\"dead\",\"know\",\"increase\",\"fight\",\"edition\"],\"x1\":{\"__ndarray__\":\"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\",\"dtype\":\"float64\",\"shape\":[1000]},\"x2\":{\"__ndarray__\":\"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\",\"dtype\":\"float64\",\"shape\":[1000]}}},\"id\":\"6048dafc-17e0-450c-8693-b46a927f658d\",\"type\":\"ColumnDataSource\"},{\"attributes\":{\"active_drag\":\"auto\",\"active_scroll\":\"auto\",\"active_tap\":\"auto\",\"tools\":[{\"id\":\"eecf2e8d-a685-42d5-a8c5-1f6a314363b8\",\"type\":\"PanTool\"},{\"id\":\"a760d423-4d33-478e-bbb1-2efcf92e2ab7\",\"type\":\"WheelZoomTool\"},{\"id\":\"cac2cf19-9f6c-4319-81f1-8b2e3091b51c\",\"type\":\"ResetTool\"},{\"id\":\"c75db7fd-0a78-465e-a4d4-e089ab8e8dea\",\"type\":\"SaveTool\"}]},\"id\":\"a08ba6f2-e630-46d2-9cad-5aa9b37b891c\",\"type\":\"Toolbar\"},{\"attributes\":{\"callback\":null},\"id\":\"4611cd68-3efb-4493-9e15-a8358c991911\",\"type\":\"DataRange1d\"},{\"attributes\":{\"plot\":null,\"text\":\"word2vec T-SNE for most common words\"},\"id\":\"87ab994d-a0b0-44dd-bb48-6017b74d003e\",\"type\":\"Title\"},{\"attributes\":{\"dimension\":1,\"plot\":{\"id\":\"2710ed3d-0f3f-4e50-9c2b-2c0dccbb239d\",\"subtype\":\"Figure\",\"type\":\"Plot\"},\"ticker\":{\"id\":\"9c583401-a386-40b2-b852-4b2fd8bb37b4\",\"type\":\"BasicTicker\"}},\"id\":\"5b7124c0-a381-4590-96a8-042a2aeba438\",\"type\":\"Grid\"},{\"attributes\":{},\"id\":\"ec1f441f-108c-4460-8a12-434d5b5d65a3\",\"type\":\"BasicTickFormatter\"},{\"attributes\":{\"fill_alpha\":{\"value\":0.1},\"fill_color\":{\"value\":\"#1f77b4\"},\"line_alpha\":{\"value\":0.1},\"line_color\":{\"value\":\"#1f77b4\"},\"size\":{\"units\":\"screen\",\"value\":8},\"x\":{\"field\":\"x1\"},\"y\":{\"field\":\"x2\"}},\"id\":\"443adbf3-6fa5-4aa5-b29a-3dda73a5f2e3\",\"type\":\"Circle\"},{\"attributes\":{\"plot\":{\"id\":\"2710ed3d-0f3f-4e50-9c2b-2c0dccbb239d\",\"subtype\":\"Figure\",\"type\":\"Plot\"}},\"id\":\"cac2cf19-9f6c-4319-81f1-8b2e3091b51c\",\"type\":\"ResetTool\"},{\"attributes\":{\"callback\":null},\"id\":\"202089fc-a738-4871-8b24-eaccc2aa7c52\",\"type\":\"DataRange1d\"},{\"attributes\":{\"plot\":{\"id\":\"2710ed3d-0f3f-4e50-9c2b-2c0dccbb239d\",\"subtype\":\"Figure\",\"type\":\"Plot\"}},\"id\":\"c75db7fd-0a78-465e-a4d4-e089ab8e8dea\",\"type\":\"SaveTool\"},{\"attributes\":{\"formatter\":{\"id\":\"b967088e-4df8-4096-b621-2f20fb5f71af\",\"type\":\"BasicTickFormatter\"},\"plot\":{\"id\":\"2710ed3d-0f3f-4e50-9c2b-2c0dccbb239d\",\"subtype\":\"Figure\",\"type\":\"Plot\"},\"ticker\":{\"id\":\"4aa31764-dad9-4be0-b3b1-a68e439b09a5\",\"type\":\"BasicTicker\"}},\"id\":\"0278fe1c-7647-4909-a6bf-6d7d9d6fbaad\",\"type\":\"LinearAxis\"},{\"attributes\":{\"formatter\":{\"id\":\"ec1f441f-108c-4460-8a12-434d5b5d65a3\",\"type\":\"BasicTickFormatter\"},\"plot\":{\"id\":\"2710ed3d-0f3f-4e50-9c2b-2c0dccbb239d\",\"subtype\":\"Figure\",\"type\":\"Plot\"},\"ticker\":{\"id\":\"9c583401-a386-40b2-b852-4b2fd8bb37b4\",\"type\":\"BasicTicker\"}},\"id\":\"f172df4d-e343-4c33-9d6e-c207b213a450\",\"type\":\"LinearAxis\"},{\"attributes\":{\"plot\":{\"id\":\"2710ed3d-0f3f-4e50-9c2b-2c0dccbb239d\",\"subtype\":\"Figure\",\"type\":\"Plot\"}},\"id\":\"a760d423-4d33-478e-bbb1-2efcf92e2ab7\",\"type\":\"WheelZoomTool\"},{\"attributes\":{\"below\":[{\"id\":\"0278fe1c-7647-4909-a6bf-6d7d9d6fbaad\",\"type\":\"LinearAxis\"}],\"left\":[{\"id\":\"f172df4d-e343-4c33-9d6e-c207b213a450\",\"type\":\"LinearAxis\"}],\"renderers\":[{\"id\":\"0278fe1c-7647-4909-a6bf-6d7d9d6fbaad\",\"type\":\"LinearAxis\"},{\"id\":\"90a858d1-f7f6-47c6-acdf-c26d70d2d03a\",\"type\":\"Grid\"},{\"id\":\"f172df4d-e343-4c33-9d6e-c207b213a450\",\"type\":\"LinearAxis\"},{\"id\":\"5b7124c0-a381-4590-96a8-042a2aeba438\",\"type\":\"Grid\"},{\"id\":\"a78eb7f9-e375-4078-9ad7-f01adc2ea662\",\"type\":\"GlyphRenderer\"},{\"id\":\"9add68af-452b-4fce-ae49-5c9c29e53197\",\"type\":\"LabelSet\"}],\"title\":{\"id\":\"87ab994d-a0b0-44dd-bb48-6017b74d003e\",\"type\":\"Title\"},\"tool_events\":{\"id\":\"83a66739-f9e3-442a-8c87-1e6d720f1b62\",\"type\":\"ToolEvents\"},\"toolbar\":{\"id\":\"a08ba6f2-e630-46d2-9cad-5aa9b37b891c\",\"type\":\"Toolbar\"},\"toolbar_location\":\"above\",\"x_range\":{\"id\":\"202089fc-a738-4871-8b24-eaccc2aa7c52\",\"type\":\"DataRange1d\"},\"y_range\":{\"id\":\"4611cd68-3efb-4493-9e15-a8358c991911\",\"type\":\"DataRange1d\"}},\"id\":\"2710ed3d-0f3f-4e50-9c2b-2c0dccbb239d\",\"subtype\":\"Figure\",\"type\":\"Plot\"},{\"attributes\":{\"plot\":{\"id\":\"2710ed3d-0f3f-4e50-9c2b-2c0dccbb239d\",\"subtype\":\"Figure\",\"type\":\"Plot\"},\"source\":{\"id\":\"6048dafc-17e0-450c-8693-b46a927f658d\",\"type\":\"ColumnDataSource\"},\"text\":{\"field\":\"names\"},\"text_align\":\"center\",\"text_color\":{\"value\":\"#555555\"},\"text_font_size\":{\"value\":\"8pt\"},\"x\":{\"field\":\"x1\"},\"y\":{\"field\":\"x2\"},\"y_offset\":{\"value\":6}},\"id\":\"9add68af-452b-4fce-ae49-5c9c29e53197\",\"type\":\"LabelSet\"},{\"attributes\":{},\"id\":\"83a66739-f9e3-442a-8c87-1e6d720f1b62\",\"type\":\"ToolEvents\"}],\"root_ids\":[\"2710ed3d-0f3f-4e50-9c2b-2c0dccbb239d\"]},\"title\":\"Bokeh Application\",\"version\":\"0.12.4\"}};\n",
       "            var render_items = [{\"docid\":\"3f740a35-6217-47ee-947a-a1980de3d621\",\"elementid\":\"2b384498-14e5-4fd7-9b64-05095dfa4ec9\",\"modelid\":\"2710ed3d-0f3f-4e50-9c2b-2c0dccbb239d\"}];\n",
       "            \n",
       "            Bokeh.embed.embed_items(docs_json, render_items);\n",
       "          };\n",
       "          if (document.readyState != \"loading\") fn();\n",
       "          else document.addEventListener(\"DOMContentLoaded\", fn);\n",
       "        })();\n",
       "      },\n",
       "      function(Bokeh) {\n",
       "      }\n",
       "    ];\n",
       "  \n",
       "    function run_inline_js() {\n",
       "      \n",
       "      if ((window.Bokeh !== undefined) || (force === true)) {\n",
       "        for (var i = 0; i < inline_js.length; i++) {\n",
       "          inline_js[i](window.Bokeh);\n",
       "        }if (force === true) {\n",
       "          display_loaded();\n",
       "        }} else if (Date.now() < window._bokeh_timeout) {\n",
       "        setTimeout(run_inline_js, 100);\n",
       "      } else if (!window._bokeh_failed_load) {\n",
       "        console.log(\"Bokeh: BokehJS failed to load within specified timeout.\");\n",
       "        window._bokeh_failed_load = true;\n",
       "      } else if (force !== true) {\n",
       "        var cell = $(document.getElementById(\"2b384498-14e5-4fd7-9b64-05095dfa4ec9\")).parents('.cell').data().cell;\n",
       "        cell.output_area.append_execute_result(NB_LOAD_WARNING)\n",
       "      }\n",
       "  \n",
       "    }\n",
       "  \n",
       "    if (window._bokeh_is_loading === 0) {\n",
       "      console.log(\"Bokeh: BokehJS loaded, going straight to plotting\");\n",
       "      run_inline_js();\n",
       "    } else {\n",
       "      load_libs(js_urls, function() {\n",
       "        console.log(\"Bokeh: BokehJS plotting callback run at\", now());\n",
       "        run_inline_js();\n",
       "      });\n",
       "    }\n",
       "  }(this));\n",
       "</script>"
      ]
     },
     "metadata": {},
     "output_type": "display_data"
    }
   ],
   "source": [
    "p = figure(tools=\"pan,wheel_zoom,reset,save\",\n",
    "           toolbar_location=\"above\",\n",
    "           title=\"word2vec T-SNE for most common words\")\n",
    "\n",
    "source = ColumnDataSource(data=dict(x1=words_top_wiki_tsne[:,0],\n",
    "                                    x2=words_top_wiki_tsne[:,1],\n",
    "                                    names=words_top_wiki))\n",
    "\n",
    "p.scatter(x=\"x1\", y=\"x2\", size=8, source=source)\n",
    "\n",
    "labels = LabelSet(x=\"x1\", y=\"x2\", text=\"names\", y_offset=6,\n",
    "                  text_font_size=\"8pt\", text_color=\"#555555\",\n",
    "                  source=source, text_align='center')\n",
    "p.add_layout(labels)\n",
    "\n",
    "show(p)"
   ]
  }
 ],
 "metadata": {
  "anaconda-cloud": {},
  "kernelspec": {
   "display_name": "Python 3",
   "language": "python",
   "name": "python3"
  },
  "language_info": {
   "codemirror_mode": {
    "name": "ipython",
    "version": 3
   },
   "file_extension": ".py",
   "mimetype": "text/x-python",
   "name": "python",
   "nbconvert_exporter": "python",
   "pygments_lexer": "ipython3",
   "version": "3.5.2"
  }
 },
 "nbformat": 4,
 "nbformat_minor": 0
}
