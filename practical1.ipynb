{
 "cells": [
  {
   "cell_type": "markdown",
   "metadata": {
    "deletable": true,
    "editable": true
   },
   "source": [
    "## Practical 1: word2vec\n",
    "<p>Oxford CS - Deep NLP 2017<br>\n",
    "https://www.cs.ox.ac.uk/teaching/courses/2016-2017/dl/</p>\n",
    "<p>[Yannis Assael, Brendan Shillingford, Chris Dyer]</p>"
   ]
  },
  {
   "cell_type": "markdown",
   "metadata": {
    "deletable": true,
    "editable": true
   },
   "source": [
    "This practical is presented as an IPython Notebook, with the code written for recent versions of **Python 3**. The code in this practical will not work with Python 2 unless you modify it. If you are using your own Python installation, ensure you have a setup identical to that described in the installation shell script (which is intended for use with the department lab machines). We will be unable to support installation on personal machines due to time constraints, so please use the lab machines and the setup script if you are unfamiliar with how to install Anaconda.\n",
    "\n",
    "To execute a notebook cell, press `shift-enter`. The return value of the last command will be displayed, if it is not `None`.\n",
    "\n",
    "Potentially useful library documentation, references, and resources:\n",
    "\n",
    "* IPython notebooks: <https://ipython.org/ipython-doc/3/notebook/notebook.html#introduction>\n",
    "* Numpy numerical array library: <https://docs.scipy.org/doc/>\n",
    "* Gensim's word2vec: <https://radimrehurek.com/gensim/models/word2vec.html>\n",
    "* Bokeh interactive plots: <http://bokeh.pydata.org/en/latest/> (we provide plotting code here, but click the thumbnails for more examples to copy-paste)\n",
    "* scikit-learn ML library (aka `sklearn`): <http://scikit-learn.org/stable/documentation.html>\n",
    "* nltk NLP toolkit: <http://www.nltk.org/>\n",
    "* tutorial for processing xml in python using `lxml`: <http://lxml.de/tutorial.html> (we did this for you below, but in case you need it in the future)"
   ]
  },
  {
   "cell_type": "code",
   "execution_count": 1,
   "metadata": {
    "collapsed": false,
    "deletable": true,
    "editable": true
   },
   "outputs": [],
   "source": [
    "import numpy as np\n",
    "import os\n",
    "from random import shuffle\n",
    "import re\n",
    "from collections import *\n",
    "from sklearn.manifold import TSNE\n",
    "from gensim.models import Word2Vec"
   ]
  },
  {
   "cell_type": "code",
   "execution_count": 2,
   "metadata": {
    "collapsed": false,
    "deletable": true,
    "editable": true
   },
   "outputs": [
    {
     "data": {
      "text/html": [
       "\n",
       "    <div class=\"bk-root\">\n",
       "        <a href=\"http://bokeh.pydata.org\" target=\"_blank\" class=\"bk-logo bk-logo-small bk-logo-notebook\"></a>\n",
       "        <span id=\"30cdf884-a0e4-46a3-be95-b0ee1fd50cc8\">Loading BokehJS ...</span>\n",
       "    </div>"
      ]
     },
     "metadata": {},
     "output_type": "display_data"
    },
    {
     "data": {
      "application/javascript": [
       "\n",
       "(function(global) {\n",
       "  function now() {\n",
       "    return new Date();\n",
       "  }\n",
       "\n",
       "  var force = true;\n",
       "\n",
       "  if (typeof (window._bokeh_onload_callbacks) === \"undefined\" || force === true) {\n",
       "    window._bokeh_onload_callbacks = [];\n",
       "    window._bokeh_is_loading = undefined;\n",
       "  }\n",
       "\n",
       "\n",
       "  \n",
       "  if (typeof (window._bokeh_timeout) === \"undefined\" || force === true) {\n",
       "    window._bokeh_timeout = Date.now() + 5000;\n",
       "    window._bokeh_failed_load = false;\n",
       "  }\n",
       "\n",
       "  var NB_LOAD_WARNING = {'data': {'text/html':\n",
       "     \"<div style='background-color: #fdd'>\\n\"+\n",
       "     \"<p>\\n\"+\n",
       "     \"BokehJS does not appear to have successfully loaded. If loading BokehJS from CDN, this \\n\"+\n",
       "     \"may be due to a slow or bad network connection. Possible fixes:\\n\"+\n",
       "     \"</p>\\n\"+\n",
       "     \"<ul>\\n\"+\n",
       "     \"<li>re-rerun `output_notebook()` to attempt to load from CDN again, or</li>\\n\"+\n",
       "     \"<li>use INLINE resources instead, as so:</li>\\n\"+\n",
       "     \"</ul>\\n\"+\n",
       "     \"<code>\\n\"+\n",
       "     \"from bokeh.resources import INLINE\\n\"+\n",
       "     \"output_notebook(resources=INLINE)\\n\"+\n",
       "     \"</code>\\n\"+\n",
       "     \"</div>\"}};\n",
       "\n",
       "  function display_loaded() {\n",
       "    if (window.Bokeh !== undefined) {\n",
       "      document.getElementById(\"30cdf884-a0e4-46a3-be95-b0ee1fd50cc8\").textContent = \"BokehJS successfully loaded.\";\n",
       "    } else if (Date.now() < window._bokeh_timeout) {\n",
       "      setTimeout(display_loaded, 100)\n",
       "    }\n",
       "  }\n",
       "\n",
       "  function run_callbacks() {\n",
       "    window._bokeh_onload_callbacks.forEach(function(callback) { callback() });\n",
       "    delete window._bokeh_onload_callbacks\n",
       "    console.info(\"Bokeh: all callbacks have finished\");\n",
       "  }\n",
       "\n",
       "  function load_libs(js_urls, callback) {\n",
       "    window._bokeh_onload_callbacks.push(callback);\n",
       "    if (window._bokeh_is_loading > 0) {\n",
       "      console.log(\"Bokeh: BokehJS is being loaded, scheduling callback at\", now());\n",
       "      return null;\n",
       "    }\n",
       "    if (js_urls == null || js_urls.length === 0) {\n",
       "      run_callbacks();\n",
       "      return null;\n",
       "    }\n",
       "    console.log(\"Bokeh: BokehJS not loaded, scheduling load and callback at\", now());\n",
       "    window._bokeh_is_loading = js_urls.length;\n",
       "    for (var i = 0; i < js_urls.length; i++) {\n",
       "      var url = js_urls[i];\n",
       "      var s = document.createElement('script');\n",
       "      s.src = url;\n",
       "      s.async = false;\n",
       "      s.onreadystatechange = s.onload = function() {\n",
       "        window._bokeh_is_loading--;\n",
       "        if (window._bokeh_is_loading === 0) {\n",
       "          console.log(\"Bokeh: all BokehJS libraries loaded\");\n",
       "          run_callbacks()\n",
       "        }\n",
       "      };\n",
       "      s.onerror = function() {\n",
       "        console.warn(\"failed to load library \" + url);\n",
       "      };\n",
       "      console.log(\"Bokeh: injecting script tag for BokehJS library: \", url);\n",
       "      document.getElementsByTagName(\"head\")[0].appendChild(s);\n",
       "    }\n",
       "  };var element = document.getElementById(\"30cdf884-a0e4-46a3-be95-b0ee1fd50cc8\");\n",
       "  if (element == null) {\n",
       "    console.log(\"Bokeh: ERROR: autoload.js configured with elementid '30cdf884-a0e4-46a3-be95-b0ee1fd50cc8' but no matching script tag was found. \")\n",
       "    return false;\n",
       "  }\n",
       "\n",
       "  var js_urls = [\"https://cdn.pydata.org/bokeh/release/bokeh-0.12.4.min.js\", \"https://cdn.pydata.org/bokeh/release/bokeh-widgets-0.12.4.min.js\"];\n",
       "\n",
       "  var inline_js = [\n",
       "    function(Bokeh) {\n",
       "      Bokeh.set_log_level(\"info\");\n",
       "    },\n",
       "    \n",
       "    function(Bokeh) {\n",
       "      \n",
       "      document.getElementById(\"30cdf884-a0e4-46a3-be95-b0ee1fd50cc8\").textContent = \"BokehJS is loading...\";\n",
       "    },\n",
       "    function(Bokeh) {\n",
       "      console.log(\"Bokeh: injecting CSS: https://cdn.pydata.org/bokeh/release/bokeh-0.12.4.min.css\");\n",
       "      Bokeh.embed.inject_css(\"https://cdn.pydata.org/bokeh/release/bokeh-0.12.4.min.css\");\n",
       "      console.log(\"Bokeh: injecting CSS: https://cdn.pydata.org/bokeh/release/bokeh-widgets-0.12.4.min.css\");\n",
       "      Bokeh.embed.inject_css(\"https://cdn.pydata.org/bokeh/release/bokeh-widgets-0.12.4.min.css\");\n",
       "    }\n",
       "  ];\n",
       "\n",
       "  function run_inline_js() {\n",
       "    \n",
       "    if ((window.Bokeh !== undefined) || (force === true)) {\n",
       "      for (var i = 0; i < inline_js.length; i++) {\n",
       "        inline_js[i](window.Bokeh);\n",
       "      }if (force === true) {\n",
       "        display_loaded();\n",
       "      }} else if (Date.now() < window._bokeh_timeout) {\n",
       "      setTimeout(run_inline_js, 100);\n",
       "    } else if (!window._bokeh_failed_load) {\n",
       "      console.log(\"Bokeh: BokehJS failed to load within specified timeout.\");\n",
       "      window._bokeh_failed_load = true;\n",
       "    } else if (force !== true) {\n",
       "      var cell = $(document.getElementById(\"30cdf884-a0e4-46a3-be95-b0ee1fd50cc8\")).parents('.cell').data().cell;\n",
       "      cell.output_area.append_execute_result(NB_LOAD_WARNING)\n",
       "    }\n",
       "\n",
       "  }\n",
       "\n",
       "  if (window._bokeh_is_loading === 0) {\n",
       "    console.log(\"Bokeh: BokehJS loaded, going straight to plotting\");\n",
       "    run_inline_js();\n",
       "  } else {\n",
       "    load_libs(js_urls, function() {\n",
       "      console.log(\"Bokeh: BokehJS plotting callback run at\", now());\n",
       "      run_inline_js();\n",
       "    });\n",
       "  }\n",
       "}(this));"
      ]
     },
     "metadata": {},
     "output_type": "display_data"
    }
   ],
   "source": [
    "from bokeh.models import ColumnDataSource, LabelSet\n",
    "from bokeh.plotting import figure, show, output_file\n",
    "from bokeh.io import output_notebook\n",
    "output_notebook()"
   ]
  },
  {
   "cell_type": "markdown",
   "metadata": {
    "deletable": true,
    "editable": true
   },
   "source": [
    "### Part 0: Download the TED dataset"
   ]
  },
  {
   "cell_type": "code",
   "execution_count": 3,
   "metadata": {
    "collapsed": false,
    "deletable": true,
    "editable": true
   },
   "outputs": [],
   "source": [
    "import urllib.request\n",
    "import zipfile\n",
    "import lxml.etree"
   ]
  },
  {
   "cell_type": "code",
   "execution_count": null,
   "metadata": {
    "collapsed": false,
    "deletable": true,
    "editable": true
   },
   "outputs": [],
   "source": [
    "# Download the dataset if it's not already there: this may take a minute as it is 75MB\n",
    "if not os.path.isfile('ted_en-20160408.zip'):\n",
    "    urllib.request.urlretrieve(\"https://wit3.fbk.eu/get.php?path=XML_releases/xml/ted_en-20160408.zip&filename=ted_en-20160408.zip\", filename=\"ted_en-20160408.zip\")"
   ]
  },
  {
   "cell_type": "code",
   "execution_count": null,
   "metadata": {
    "collapsed": true,
    "deletable": true,
    "editable": true
   },
   "outputs": [],
   "source": [
    "# For now, we're only interested in the subtitle text, so let's extract that from the XML:\n",
    "with zipfile.ZipFile('ted_en-20160408.zip', 'r') as z:\n",
    "    doc = lxml.etree.parse(z.open('ted_en-20160408.xml', 'r'))\n",
    "input_text = '\\n'.join(doc.xpath('//content/text()'))\n",
    "del doc"
   ]
  },
  {
   "cell_type": "markdown",
   "metadata": {
    "deletable": true,
    "editable": true
   },
   "source": [
    "### Part 1: Preprocessing\n",
    "\n",
    "In this part, we attempt to clean up the raw subtitles a bit, so that we get only sentences. The following substring shows examples of what we're trying to get rid of. Since it's hard to define precisely what we want to get rid of, we'll just use some simple heuristics."
   ]
  },
  {
   "cell_type": "code",
   "execution_count": null,
   "metadata": {
    "collapsed": false,
    "deletable": true,
    "editable": true,
    "scrolled": false
   },
   "outputs": [],
   "source": [
    "i = input_text.find(\"Hyowon Gweon: See this?\")\n",
    "input_text[i-20:i+150]"
   ]
  },
  {
   "cell_type": "markdown",
   "metadata": {
    "deletable": true,
    "editable": true
   },
   "source": [
    "Let's start by removing all parenthesized strings using a regex:"
   ]
  },
  {
   "cell_type": "code",
   "execution_count": null,
   "metadata": {
    "collapsed": true,
    "deletable": true,
    "editable": true
   },
   "outputs": [],
   "source": [
    "input_text_noparens = re.sub(r'\\([^)]*\\)', '', input_text)"
   ]
  },
  {
   "cell_type": "markdown",
   "metadata": {
    "deletable": true,
    "editable": true
   },
   "source": [
    "We can verify the same location in the text is now clean as follows. We won't worry about the irregular spaces since we'll later split the text into sentences and tokenize it anyway."
   ]
  },
  {
   "cell_type": "code",
   "execution_count": null,
   "metadata": {
    "collapsed": false,
    "deletable": true,
    "editable": true
   },
   "outputs": [],
   "source": [
    "i = input_text_noparens.find(\"Hyowon Gweon: See this?\")\n",
    "input_text_noparens[i-20:i+150]"
   ]
  },
  {
   "cell_type": "markdown",
   "metadata": {
    "deletable": true,
    "editable": true
   },
   "source": [
    "Now, let's attempt to remove speakers' names that occur at the beginning of a line, by deleting pieces of the form \"`<up to 20 characters>:`\", as shown in this example. Of course, this is an imperfect heuristic. "
   ]
  },
  {
   "cell_type": "code",
   "execution_count": null,
   "metadata": {
    "collapsed": false,
    "deletable": true,
    "editable": true
   },
   "outputs": [],
   "source": [
    "sentences_strings_ted = []\n",
    "for line in input_text_noparens.split('\\n'):\n",
    "    m = re.match(r'^(?:(?P<precolon>[^:]{,20}):)?(?P<postcolon>.*)$', line)\n",
    "    sentences_strings_ted.extend(sent for sent in m.groupdict()['postcolon'].split('.') if sent)\n",
    "\n",
    "# Uncomment if you need to save some RAM: these strings are about 50MB.\n",
    "del input_text, input_text_noparens\n",
    "\n",
    "# Let's view the first few:\n",
    "sentences_strings_ted[:5]"
   ]
  },
  {
   "cell_type": "markdown",
   "metadata": {
    "deletable": true,
    "editable": true
   },
   "source": [
    "Now that we have sentences, we're ready to tokenize each of them into words. This tokenization is imperfect, of course. For instance, how many tokens is \"can't\", and where/how do we split it? We'll take the simplest naive approach of splitting on spaces. Before splitting, we remove non-alphanumeric characters, such as punctuation. You may want to consider the following question: why do we replace these characters with spaces rather than deleting them? Think of a case where this yields a different answer."
   ]
  },
  {
   "cell_type": "code",
   "execution_count": null,
   "metadata": {
    "collapsed": false,
    "deletable": true,
    "editable": true
   },
   "outputs": [],
   "source": [
    "sentences_ted = []\n",
    "for sent_str in sentences_strings_ted:\n",
    "    tokens = re.sub(r\"[^a-z0-9]+\", \" \", sent_str.lower()).split()\n",
    "    sentences_ted.append(tokens)"
   ]
  },
  {
   "cell_type": "markdown",
   "metadata": {
    "deletable": true,
    "editable": true
   },
   "source": [
    "Two sample processed sentences:"
   ]
  },
  {
   "cell_type": "code",
   "execution_count": null,
   "metadata": {
    "collapsed": false,
    "deletable": true,
    "editable": true
   },
   "outputs": [],
   "source": [
    "len(sentences_ted)"
   ]
  },
  {
   "cell_type": "code",
   "execution_count": null,
   "metadata": {
    "collapsed": false,
    "deletable": true,
    "editable": true
   },
   "outputs": [],
   "source": [
    "print(sentences_ted[0])\n",
    "print(sentences_ted[1])"
   ]
  },
  {
   "cell_type": "markdown",
   "metadata": {
    "deletable": true,
    "editable": true
   },
   "source": [
    "### Part 2: Word Frequencies"
   ]
  },
  {
   "cell_type": "markdown",
   "metadata": {
    "deletable": true,
    "editable": true
   },
   "source": [
    "If you store the counts of the top 1000 words in a list called `counts_ted_top1000`, the code below will plot the histogram requested in the writeup."
   ]
  },
  {
   "cell_type": "code",
   "execution_count": null,
   "metadata": {
    "collapsed": false,
    "deletable": true,
    "editable": true
   },
   "outputs": [],
   "source": [
    "cnt = Counter()\n",
    "for sentence in sentences_ted:\n",
    "    for word in sentence:\n",
    "        cnt[word] += 1\n",
    "        \n",
    "counts_ted_top1000 = []\n",
    "for common_word in cnt.most_common(1000):\n",
    "    counts_ted_top1000.append(common_word[1])"
   ]
  },
  {
   "cell_type": "markdown",
   "metadata": {
    "deletable": true,
    "editable": true
   },
   "source": [
    "Plot distribution of top-1000 words"
   ]
  },
  {
   "cell_type": "code",
   "execution_count": null,
   "metadata": {
    "collapsed": false,
    "deletable": true,
    "editable": true
   },
   "outputs": [],
   "source": [
    "hist, edges = np.histogram(counts_ted_top1000, density=True, bins=100, normed=True)\n",
    "\n",
    "p = figure(tools=\"pan,wheel_zoom,reset,save\",\n",
    "           toolbar_location=\"above\",\n",
    "           title=\"Top-1000 words distribution\")\n",
    "p.quad(top=hist, bottom=0, left=edges[:-1], right=edges[1:], line_color=\"#555555\")\n",
    "show(p)"
   ]
  },
  {
   "cell_type": "markdown",
   "metadata": {
    "deletable": true,
    "editable": true
   },
   "source": [
    "### Part 3: Train Word2Vec"
   ]
  },
  {
   "cell_type": "code",
   "execution_count": null,
   "metadata": {
    "collapsed": true,
    "deletable": true,
    "editable": true
   },
   "outputs": [],
   "source": [
    "model_ted = Word2Vec(sentences_ted, min_count=10)"
   ]
  },
  {
   "cell_type": "markdown",
   "metadata": {
    "deletable": true,
    "editable": true
   },
   "source": [
    "### Part 4: Ted Learnt Representations"
   ]
  },
  {
   "cell_type": "markdown",
   "metadata": {
    "deletable": true,
    "editable": true
   },
   "source": [
    "Finding similar words: (see gensim docs for more functionality of `most_similar`)"
   ]
  },
  {
   "cell_type": "code",
   "execution_count": null,
   "metadata": {
    "collapsed": false,
    "deletable": true,
    "editable": true
   },
   "outputs": [],
   "source": [
    "model_ted.most_similar(\"man\")"
   ]
  },
  {
   "cell_type": "code",
   "execution_count": null,
   "metadata": {
    "collapsed": false,
    "deletable": true,
    "editable": true
   },
   "outputs": [],
   "source": [
    "model_ted.most_similar(\"woman\")"
   ]
  },
  {
   "cell_type": "code",
   "execution_count": null,
   "metadata": {
    "collapsed": false,
    "deletable": true,
    "editable": true
   },
   "outputs": [],
   "source": [
    "model_ted.most_similar(\"dream\")"
   ]
  },
  {
   "cell_type": "code",
   "execution_count": null,
   "metadata": {
    "collapsed": false,
    "deletable": true,
    "editable": true
   },
   "outputs": [],
   "source": [
    "model_ted.most_similar(\"marriage\")"
   ]
  },
  {
   "cell_type": "code",
   "execution_count": null,
   "metadata": {
    "collapsed": false,
    "deletable": true,
    "editable": true
   },
   "outputs": [],
   "source": [
    "model_ted.most_similar(\"technology\")"
   ]
  },
  {
   "cell_type": "code",
   "execution_count": null,
   "metadata": {
    "collapsed": false,
    "deletable": true,
    "editable": true
   },
   "outputs": [],
   "source": [
    "model_ted.most_similar(\"entertainment\")"
   ]
  },
  {
   "cell_type": "code",
   "execution_count": null,
   "metadata": {
    "collapsed": false,
    "deletable": true,
    "editable": true
   },
   "outputs": [],
   "source": [
    "model_ted.most_similar(\"design\")"
   ]
  },
  {
   "cell_type": "code",
   "execution_count": null,
   "metadata": {
    "collapsed": false,
    "deletable": true,
    "editable": true
   },
   "outputs": [],
   "source": [
    "print(model_ted.most_similar_cosmul(positive=['woman', 'king'], negative=['man'])[:3])\n",
    "print(model_ted.most_similar_cosmul(positive=['computer', 'mind'], negative=['machine'])[:3])\n",
    "print(model_ted.most_similar_cosmul(positive=['life','meaning'])[:3])\n",
    "print(model_ted.most_similar_cosmul(positive=['war', 'usa'])[:3])"
   ]
  },
  {
   "cell_type": "markdown",
   "metadata": {
    "deletable": true,
    "editable": true
   },
   "source": [
    "#### t-SNE visualization\n",
    "To use the t-SNE code below, first put a list of the top 1000 words (as strings) into a variable `words_top_ted`. The following code gets the corresponding vectors from the model, assuming it's called `model_ted`:"
   ]
  },
  {
   "cell_type": "code",
   "execution_count": null,
   "metadata": {
    "collapsed": false,
    "deletable": true,
    "editable": true
   },
   "outputs": [],
   "source": [
    "words_top_ted = []\n",
    "for common_word in cnt.most_common(1000):\n",
    "    words_top_ted.append(common_word[0])\n",
    "\n",
    "# This assumes words_top_ted is a list of strings, the top 1000 words\n",
    "words_top_vec_ted = model_ted[words_top_ted]"
   ]
  },
  {
   "cell_type": "code",
   "execution_count": null,
   "metadata": {
    "collapsed": false,
    "deletable": true,
    "editable": true
   },
   "outputs": [],
   "source": [
    "tsne = TSNE(n_components=2, random_state=0)\n",
    "words_top_ted_tsne = tsne.fit_transform(words_top_vec_ted)"
   ]
  },
  {
   "cell_type": "code",
   "execution_count": null,
   "metadata": {
    "collapsed": false,
    "deletable": true,
    "editable": true
   },
   "outputs": [],
   "source": [
    "p = figure(tools=\"pan,wheel_zoom,reset,save\",\n",
    "           toolbar_location=\"above\",\n",
    "           title=\"word2vec T-SNE for most common words\")\n",
    "\n",
    "source = ColumnDataSource(data=dict(x1=words_top_ted_tsne[:,0],\n",
    "                                    x2=words_top_ted_tsne[:,1],\n",
    "                                    names=words_top_ted))\n",
    "\n",
    "p.scatter(x=\"x1\", y=\"x2\", size=8, source=source)\n",
    "\n",
    "labels = LabelSet(x=\"x1\", y=\"x2\", text=\"names\", y_offset=6,\n",
    "                  text_font_size=\"8pt\", text_color=\"#555555\",\n",
    "                  source=source, text_align='center')\n",
    "p.add_layout(labels)\n",
    "\n",
    "show(p)"
   ]
  },
  {
   "cell_type": "markdown",
   "metadata": {
    "deletable": true,
    "editable": true
   },
   "source": [
    "### Extra: Literatura"
   ]
  },
  {
   "cell_type": "code",
   "execution_count": null,
   "metadata": {
    "collapsed": false,
    "deletable": true,
    "editable": true
   },
   "outputs": [],
   "source": [
    "with open('/home/matheus/Documents/litearatura/copilados', 'r') as in_f:\n",
    "    liter_text = in_f.read().replace('!','.').replace('?','.').lower().split('.')\n",
    "\n",
    "liter_text[:3]"
   ]
  },
  {
   "cell_type": "code",
   "execution_count": null,
   "metadata": {
    "collapsed": false,
    "deletable": true,
    "editable": true
   },
   "outputs": [],
   "source": [
    "for s_i in range(len(liter_text)):\n",
    "    liter_text[s_i] = re.sub(\"[^a-z]\", \" \", liter_text[s_i]).split()\n",
    "\n",
    "liter_text[:2]"
   ]
  },
  {
   "cell_type": "code",
   "execution_count": null,
   "metadata": {
    "collapsed": false,
    "deletable": true,
    "editable": true
   },
   "outputs": [],
   "source": [
    "shuffle(liter_text)\n",
    "print(len(liter_text))"
   ]
  },
  {
   "cell_type": "code",
   "execution_count": null,
   "metadata": {
    "collapsed": true,
    "deletable": true,
    "editable": true
   },
   "outputs": [],
   "source": [
    "model_liter = Word2Vec(liter_text, min_count=5)"
   ]
  },
  {
   "cell_type": "code",
   "execution_count": null,
   "metadata": {
    "collapsed": false,
    "deletable": true,
    "editable": true
   },
   "outputs": [],
   "source": [
    "model_liter.most_similar(\"homem\")"
   ]
  },
  {
   "cell_type": "code",
   "execution_count": null,
   "metadata": {
    "collapsed": false,
    "deletable": true,
    "editable": true
   },
   "outputs": [],
   "source": [
    "model_liter.most_similar(\"mulher\")"
   ]
  },
  {
   "cell_type": "code",
   "execution_count": null,
   "metadata": {
    "collapsed": false,
    "deletable": true,
    "editable": true
   },
   "outputs": [],
   "source": [
    "model_liter.most_similar(\"crime\")"
   ]
  },
  {
   "cell_type": "code",
   "execution_count": null,
   "metadata": {
    "collapsed": false,
    "deletable": true,
    "editable": true
   },
   "outputs": [],
   "source": [
    "model_liter.most_similar(\"sonho\")"
   ]
  },
  {
   "cell_type": "code",
   "execution_count": null,
   "metadata": {
    "collapsed": false,
    "deletable": true,
    "editable": true
   },
   "outputs": [],
   "source": [
    "model_liter.most_similar(\"amor\")"
   ]
  },
  {
   "cell_type": "code",
   "execution_count": null,
   "metadata": {
    "collapsed": false,
    "deletable": true,
    "editable": true
   },
   "outputs": [],
   "source": [
    "model_liter.most_similar(\"morte\")"
   ]
  },
  {
   "cell_type": "code",
   "execution_count": null,
   "metadata": {
    "collapsed": false,
    "deletable": true,
    "editable": true
   },
   "outputs": [],
   "source": [
    "print(model_liter.most_similar_cosmul(positive=['roma', 'franca'], negative=['italia']), '\\n')\n",
    "print(model_liter.most_similar_cosmul(positive=['barco'], negative=['navegar']), '\\n')\n",
    "print(model_liter.most_similar_cosmul(positive=['guerra', 'paz']), '\\n')\n",
    "print(model_liter.most_similar_cosmul(positive=['homem'], negative=['deus']), '\\n')\n",
    "print(model_liter.most_similar_cosmul(positive=['labirinto', 'xadrez']), '\\n')"
   ]
  },
  {
   "cell_type": "code",
   "execution_count": null,
   "metadata": {
    "collapsed": true,
    "deletable": true,
    "editable": true
   },
   "outputs": [],
   "source": [
    "cnt = Counter()\n",
    "for sentence in liter_text:\n",
    "    for word in sentence:\n",
    "        cnt[word] += 1\n",
    "        \n",
    "counts_liter_top1000 = []\n",
    "for common_word in cnt.most_common(1000):\n",
    "    counts_liter_top1000.append(common_word[0])\n",
    "    \n",
    "words_top_vec_liter = model_liter[counts_liter_top1000]"
   ]
  },
  {
   "cell_type": "code",
   "execution_count": null,
   "metadata": {
    "collapsed": false,
    "deletable": true,
    "editable": true
   },
   "outputs": [],
   "source": [
    "tsne = TSNE(n_components=2, random_state=0)\n",
    "words_top_liter_tsne = tsne.fit_transform(words_top_vec_liter)"
   ]
  },
  {
   "cell_type": "code",
   "execution_count": null,
   "metadata": {
    "collapsed": false,
    "deletable": true,
    "editable": true
   },
   "outputs": [],
   "source": [
    "p = figure(tools=\"pan,wheel_zoom,reset,save\",\n",
    "           toolbar_location=\"above\",\n",
    "           title=\"word2vec T-SNE for most common words\")\n",
    "\n",
    "source = ColumnDataSource(data=dict(x1=words_top_liter_tsne[:,0],\n",
    "                                    x2=words_top_liter_tsne[:,1],\n",
    "                                    names=counts_liter_top1000))\n",
    "\n",
    "p.scatter(x=\"x1\", y=\"x2\", size=8, source=source)\n",
    "\n",
    "labels = LabelSet(x=\"x1\", y=\"x2\", text=\"names\", y_offset=6,\n",
    "                  text_font_size=\"8pt\", text_color=\"#555555\",\n",
    "                  source=source, text_align='center')\n",
    "p.add_layout(labels)\n",
    "\n",
    "show(p)"
   ]
  },
  {
   "cell_type": "markdown",
   "metadata": {
    "deletable": true,
    "editable": true
   },
   "source": [
    "### Part 5: Wiki Learnt Representations"
   ]
  },
  {
   "cell_type": "markdown",
   "metadata": {
    "deletable": true,
    "editable": true
   },
   "source": [
    "Download dataset"
   ]
  },
  {
   "cell_type": "code",
   "execution_count": 5,
   "metadata": {
    "collapsed": true,
    "deletable": true,
    "editable": true
   },
   "outputs": [],
   "source": [
    "if not os.path.isfile('wikitext-103-raw-v1.zip'):\n",
    "    urllib.request.urlretrieve(\"https://s3.amazonaws.com/research.metamind.io/wikitext/wikitext-103-raw-v1.zip\", filename=\"wikitext-103-raw-v1.zip\")"
   ]
  },
  {
   "cell_type": "code",
   "execution_count": 6,
   "metadata": {
    "collapsed": false,
    "deletable": true,
    "editable": true
   },
   "outputs": [],
   "source": [
    "with zipfile.ZipFile('wikitext-103-raw-v1.zip', 'r') as z:\n",
    "    input_text = str(z.open('wikitext-103-raw/wiki.train.raw', 'r').read(), encoding='utf-8') # Thanks Robert Bastian"
   ]
  },
  {
   "cell_type": "markdown",
   "metadata": {
    "deletable": true,
    "editable": true
   },
   "source": [
    "Preprocess sentences (note that it's important to remove small sentences for performance)"
   ]
  },
  {
   "cell_type": "code",
   "execution_count": 7,
   "metadata": {
    "collapsed": false,
    "deletable": true,
    "editable": true
   },
   "outputs": [],
   "source": [
    "sentences_wiki = []\n",
    "for line in input_text.split('\\n'):\n",
    "    s = [x for x in line.split('.') if x and len(x.split()) >= 5]\n",
    "    sentences_wiki.extend(s)\n",
    "\n",
    "for s_i in range(len(sentences_wiki)):\n",
    "    sentences_wiki[s_i] = re.sub(\"[^a-z]\", \" \", sentences_wiki[s_i].lower())\n",
    "    sentences_wiki[s_i] = re.sub(r'\\([^)]*\\)', '', sentences_wiki[s_i]).split()\n",
    "    \n",
    "del input_text "
   ]
  },
  {
   "cell_type": "code",
   "execution_count": 8,
   "metadata": {
    "collapsed": false,
    "deletable": true,
    "editable": true
   },
   "outputs": [
    {
     "name": "stdout",
     "output_type": "stream",
     "text": [
      "4267112\n"
     ]
    }
   ],
   "source": [
    "shuffle(sentences_wiki)\n",
    "print(len(sentences_wiki))\n",
    "\n",
    "# sample 1/5 of the data\n",
    "# sentences_wiki = sentences_wiki[:int(len(sentences_wiki)/5)]\n",
    "# print(len(sentences_wiki))"
   ]
  },
  {
   "cell_type": "markdown",
   "metadata": {
    "deletable": true,
    "editable": true
   },
   "source": [
    "Now, repeat all the same steps that you performed above. You should be able to reuse essentially all the code."
   ]
  },
  {
   "cell_type": "code",
   "execution_count": 9,
   "metadata": {
    "collapsed": false,
    "deletable": true,
    "editable": true
   },
   "outputs": [],
   "source": [
    "cnt = Counter()\n",
    "for sentence in sentences_wiki:\n",
    "    for word in sentence:\n",
    "        cnt[word] += 1\n",
    "        \n",
    "counts_wiki_top1000 = []\n",
    "for common_word in cnt.most_common(1000):\n",
    "    counts_wiki_top1000.append(common_word[1])"
   ]
  },
  {
   "cell_type": "code",
   "execution_count": 10,
   "metadata": {
    "collapsed": false,
    "deletable": true,
    "editable": true
   },
   "outputs": [
    {
     "data": {
      "text/html": [
       "\n",
       "\n",
       "    <div class=\"bk-root\">\n",
       "        <div class=\"bk-plotdiv\" id=\"eafe8dd7-f087-4825-80d3-493afc6f16c3\"></div>\n",
       "    </div>\n",
       "<script type=\"text/javascript\">\n",
       "  \n",
       "  (function(global) {\n",
       "    function now() {\n",
       "      return new Date();\n",
       "    }\n",
       "  \n",
       "    var force = false;\n",
       "  \n",
       "    if (typeof (window._bokeh_onload_callbacks) === \"undefined\" || force === true) {\n",
       "      window._bokeh_onload_callbacks = [];\n",
       "      window._bokeh_is_loading = undefined;\n",
       "    }\n",
       "  \n",
       "  \n",
       "    \n",
       "    if (typeof (window._bokeh_timeout) === \"undefined\" || force === true) {\n",
       "      window._bokeh_timeout = Date.now() + 0;\n",
       "      window._bokeh_failed_load = false;\n",
       "    }\n",
       "  \n",
       "    var NB_LOAD_WARNING = {'data': {'text/html':\n",
       "       \"<div style='background-color: #fdd'>\\n\"+\n",
       "       \"<p>\\n\"+\n",
       "       \"BokehJS does not appear to have successfully loaded. If loading BokehJS from CDN, this \\n\"+\n",
       "       \"may be due to a slow or bad network connection. Possible fixes:\\n\"+\n",
       "       \"</p>\\n\"+\n",
       "       \"<ul>\\n\"+\n",
       "       \"<li>re-rerun `output_notebook()` to attempt to load from CDN again, or</li>\\n\"+\n",
       "       \"<li>use INLINE resources instead, as so:</li>\\n\"+\n",
       "       \"</ul>\\n\"+\n",
       "       \"<code>\\n\"+\n",
       "       \"from bokeh.resources import INLINE\\n\"+\n",
       "       \"output_notebook(resources=INLINE)\\n\"+\n",
       "       \"</code>\\n\"+\n",
       "       \"</div>\"}};\n",
       "  \n",
       "    function display_loaded() {\n",
       "      if (window.Bokeh !== undefined) {\n",
       "        document.getElementById(\"eafe8dd7-f087-4825-80d3-493afc6f16c3\").textContent = \"BokehJS successfully loaded.\";\n",
       "      } else if (Date.now() < window._bokeh_timeout) {\n",
       "        setTimeout(display_loaded, 100)\n",
       "      }\n",
       "    }\n",
       "  \n",
       "    function run_callbacks() {\n",
       "      window._bokeh_onload_callbacks.forEach(function(callback) { callback() });\n",
       "      delete window._bokeh_onload_callbacks\n",
       "      console.info(\"Bokeh: all callbacks have finished\");\n",
       "    }\n",
       "  \n",
       "    function load_libs(js_urls, callback) {\n",
       "      window._bokeh_onload_callbacks.push(callback);\n",
       "      if (window._bokeh_is_loading > 0) {\n",
       "        console.log(\"Bokeh: BokehJS is being loaded, scheduling callback at\", now());\n",
       "        return null;\n",
       "      }\n",
       "      if (js_urls == null || js_urls.length === 0) {\n",
       "        run_callbacks();\n",
       "        return null;\n",
       "      }\n",
       "      console.log(\"Bokeh: BokehJS not loaded, scheduling load and callback at\", now());\n",
       "      window._bokeh_is_loading = js_urls.length;\n",
       "      for (var i = 0; i < js_urls.length; i++) {\n",
       "        var url = js_urls[i];\n",
       "        var s = document.createElement('script');\n",
       "        s.src = url;\n",
       "        s.async = false;\n",
       "        s.onreadystatechange = s.onload = function() {\n",
       "          window._bokeh_is_loading--;\n",
       "          if (window._bokeh_is_loading === 0) {\n",
       "            console.log(\"Bokeh: all BokehJS libraries loaded\");\n",
       "            run_callbacks()\n",
       "          }\n",
       "        };\n",
       "        s.onerror = function() {\n",
       "          console.warn(\"failed to load library \" + url);\n",
       "        };\n",
       "        console.log(\"Bokeh: injecting script tag for BokehJS library: \", url);\n",
       "        document.getElementsByTagName(\"head\")[0].appendChild(s);\n",
       "      }\n",
       "    };var element = document.getElementById(\"eafe8dd7-f087-4825-80d3-493afc6f16c3\");\n",
       "    if (element == null) {\n",
       "      console.log(\"Bokeh: ERROR: autoload.js configured with elementid 'eafe8dd7-f087-4825-80d3-493afc6f16c3' but no matching script tag was found. \")\n",
       "      return false;\n",
       "    }\n",
       "  \n",
       "    var js_urls = [];\n",
       "  \n",
       "    var inline_js = [\n",
       "      function(Bokeh) {\n",
       "        (function() {\n",
       "          var fn = function() {\n",
       "            var docs_json = {\"e581f032-4704-4c42-87ae-235930dd9e75\":{\"roots\":{\"references\":[{\"attributes\":{\"plot\":null,\"text\":\"Top-1000 words distribution\"},\"id\":\"11d6228a-b939-4723-9b9b-8b23d0d7b69d\",\"type\":\"Title\"},{\"attributes\":{},\"id\":\"4e89de76-820b-481c-ab03-4a4db5718139\",\"type\":\"BasicTicker\"},{\"attributes\":{\"plot\":{\"id\":\"73eb5a27-7a92-4da1-b8e6-db21faa2aeb2\",\"subtype\":\"Figure\",\"type\":\"Plot\"}},\"id\":\"7acdef8c-2478-4d64-9b86-11fdf223ad13\",\"type\":\"PanTool\"},{\"attributes\":{},\"id\":\"23dcef23-bf46-4f01-8993-2dc49daf37bb\",\"type\":\"ToolEvents\"},{\"attributes\":{\"callback\":null},\"id\":\"b1296b83-6f84-4ffe-9708-360c44e86940\",\"type\":\"DataRange1d\"},{\"attributes\":{},\"id\":\"9f5f9fbc-1038-4e3f-bb7e-d4afc9e7ce30\",\"type\":\"BasicTickFormatter\"},{\"attributes\":{\"plot\":{\"id\":\"73eb5a27-7a92-4da1-b8e6-db21faa2aeb2\",\"subtype\":\"Figure\",\"type\":\"Plot\"}},\"id\":\"a2647d38-7fea-460f-bfd9-f04d391dc160\",\"type\":\"ResetTool\"},{\"attributes\":{\"data_source\":{\"id\":\"8a328a14-54e0-4940-9725-f72cf43f3d4f\",\"type\":\"ColumnDataSource\"},\"glyph\":{\"id\":\"7ceb4814-e339-49b3-b1bc-650ffbe07fff\",\"type\":\"Quad\"},\"hover_glyph\":null,\"nonselection_glyph\":{\"id\":\"f1df20da-6d7d-4477-880d-20330a52ac37\",\"type\":\"Quad\"},\"selection_glyph\":null},\"id\":\"39ee5979-8549-417d-bdcd-eccf930ef8d6\",\"type\":\"GlyphRenderer\"},{\"attributes\":{\"formatter\":{\"id\":\"094ac8e2-c2d3-4f02-a924-a1f8d56bb05b\",\"type\":\"BasicTickFormatter\"},\"plot\":{\"id\":\"73eb5a27-7a92-4da1-b8e6-db21faa2aeb2\",\"subtype\":\"Figure\",\"type\":\"Plot\"},\"ticker\":{\"id\":\"4e89de76-820b-481c-ab03-4a4db5718139\",\"type\":\"BasicTicker\"}},\"id\":\"41dfca55-03b7-4855-8acb-f6cc17b95cee\",\"type\":\"LinearAxis\"},{\"attributes\":{\"plot\":{\"id\":\"73eb5a27-7a92-4da1-b8e6-db21faa2aeb2\",\"subtype\":\"Figure\",\"type\":\"Plot\"}},\"id\":\"62ddfada-b711-4d32-aeae-f25d09a75c2c\",\"type\":\"WheelZoomTool\"},{\"attributes\":{\"plot\":{\"id\":\"73eb5a27-7a92-4da1-b8e6-db21faa2aeb2\",\"subtype\":\"Figure\",\"type\":\"Plot\"},\"ticker\":{\"id\":\"fd5dcdc1-0304-4623-bcfe-2c0b1b9d0fee\",\"type\":\"BasicTicker\"}},\"id\":\"6a2e916a-c25b-4e4e-a6ba-d441a2fbcee1\",\"type\":\"Grid\"},{\"attributes\":{\"callback\":null},\"id\":\"05e664f0-fd24-4199-a384-a9dd7522f917\",\"type\":\"DataRange1d\"},{\"attributes\":{\"below\":[{\"id\":\"e53f27d4-93d9-4a8a-9a59-383bdd653079\",\"type\":\"LinearAxis\"}],\"left\":[{\"id\":\"41dfca55-03b7-4855-8acb-f6cc17b95cee\",\"type\":\"LinearAxis\"}],\"renderers\":[{\"id\":\"e53f27d4-93d9-4a8a-9a59-383bdd653079\",\"type\":\"LinearAxis\"},{\"id\":\"6a2e916a-c25b-4e4e-a6ba-d441a2fbcee1\",\"type\":\"Grid\"},{\"id\":\"41dfca55-03b7-4855-8acb-f6cc17b95cee\",\"type\":\"LinearAxis\"},{\"id\":\"15445de9-e833-43ae-9f20-87f8f9d4413a\",\"type\":\"Grid\"},{\"id\":\"39ee5979-8549-417d-bdcd-eccf930ef8d6\",\"type\":\"GlyphRenderer\"}],\"title\":{\"id\":\"11d6228a-b939-4723-9b9b-8b23d0d7b69d\",\"type\":\"Title\"},\"tool_events\":{\"id\":\"23dcef23-bf46-4f01-8993-2dc49daf37bb\",\"type\":\"ToolEvents\"},\"toolbar\":{\"id\":\"3fc9dbfe-6459-4de7-a77c-ebec4fda64e4\",\"type\":\"Toolbar\"},\"toolbar_location\":\"above\",\"x_range\":{\"id\":\"b1296b83-6f84-4ffe-9708-360c44e86940\",\"type\":\"DataRange1d\"},\"y_range\":{\"id\":\"05e664f0-fd24-4199-a384-a9dd7522f917\",\"type\":\"DataRange1d\"}},\"id\":\"73eb5a27-7a92-4da1-b8e6-db21faa2aeb2\",\"subtype\":\"Figure\",\"type\":\"Plot\"},{\"attributes\":{},\"id\":\"fd5dcdc1-0304-4623-bcfe-2c0b1b9d0fee\",\"type\":\"BasicTicker\"},{\"attributes\":{\"dimension\":1,\"plot\":{\"id\":\"73eb5a27-7a92-4da1-b8e6-db21faa2aeb2\",\"subtype\":\"Figure\",\"type\":\"Plot\"},\"ticker\":{\"id\":\"4e89de76-820b-481c-ab03-4a4db5718139\",\"type\":\"BasicTicker\"}},\"id\":\"15445de9-e833-43ae-9f20-87f8f9d4413a\",\"type\":\"Grid\"},{\"attributes\":{\"plot\":{\"id\":\"73eb5a27-7a92-4da1-b8e6-db21faa2aeb2\",\"subtype\":\"Figure\",\"type\":\"Plot\"}},\"id\":\"932d3994-e8e0-4466-867f-8954e8345cf2\",\"type\":\"SaveTool\"},{\"attributes\":{\"bottom\":{\"value\":0},\"fill_alpha\":{\"value\":0.1},\"fill_color\":{\"value\":\"#1f77b4\"},\"left\":{\"field\":\"left\"},\"line_alpha\":{\"value\":0.1},\"line_color\":{\"value\":\"#1f77b4\"},\"right\":{\"field\":\"right\"},\"top\":{\"field\":\"top\"}},\"id\":\"f1df20da-6d7d-4477-880d-20330a52ac37\",\"type\":\"Quad\"},{\"attributes\":{\"callback\":null,\"column_names\":[\"left\",\"right\",\"top\"],\"data\":{\"left\":{\"__ndarray__\":\"AAAAAICFwkBcj8L1/P3xQFyPwvWk1QBBCtejcEusCEFcj8L1eEEQQTMzMzPMLBRBCtejcB8YGEHhehSucgMcQbgehevF7h9BSOF6lAztIUEzMzMztuIjQR6F69Ff2CVBCtejcAnOJ0H2KFwPs8MpQeF6FK5cuStBzMzMTAavLUG4HoXrr6QvQVK4HsUszTBBSOF6lAHIMUE9Ctdj1sIyQTMzMzOrvTNBKVyPAoC4NEEehevRVLM1QRSuR6EprjZBCtejcP6oN0EAAABA06M4QfYoXA+onjlB61G43nyZOkHhehSuUZQ7QdejcH0mjzxBzMzMTPuJPUHC9Sgc0IQ+Qbgeheukfz9B16Nw3Tw9QEFSuB5Fp7pAQc3MzKwROEFBSOF6FHy1QUHC9Sh85jJCQT0K1+NQsEJBuB6FS7stQ0EzMzOzJatDQa5H4RqQKERBKVyPgvqlREGkcD3qZCNFQR6F61HPoEVBmZmZuTkeRkEUrkchpJtGQY/C9YgOGUdBCtej8HiWR0GF61FY4xNIQQAAAMBNkUhBexSuJ7gOSUH2KFyPIoxJQXA9CveMCUpB61G4XveGSkFmZmbGYQRLQeF6FC7MgUtBXI/ClTb/S0HXo3D9oHxMQVK4HmUL+kxBzMzMzHV3TUFH4Xo04PRNQcL1KJxKck5BPQrXA7XvTkG4HoVrH21PQTMzM9OJ6k9B16NwHfozUEEUrkdRr3JQQVK4HoVksVBBj8L1uBnwUEHNzMzszi5RQQrXoyCEbVFBSOF6VDmsUUGF61GI7upRQcL1KLyjKVJBAAAA8FhoUkE9CtcjDqdSQXsUrlfD5VJBuB6Fi3gkU0H2KFy/LWNTQTMzM/PioVNBcD0KJ5jgU0GuR+FaTR9UQetRuI4CXlRBKVyPwrecVEFmZmb2bNtUQaRwPSoiGlVB4XoUXtdYVUEeheuRjJdVQVyPwsVB1lVBmZmZ+fYUVkHXo3AtrFNWQRSuR2FhklZBUrgelRbRVkGPwvXIyw9XQc3MzPyATldBCtejMDaNV0FH4Xpk68tXQYXrUZigClhBwvUozFVJWEE=\",\"dtype\":\"float64\",\"shape\":[100]},\"right\":{\"__ndarray__\":\"XI/C9fz98UBcj8L1pNUAQQrXo3BLrAhBXI/C9XhBEEEzMzMzzCwUQQrXo3AfGBhB4XoUrnIDHEG4HoXrxe4fQUjhepQM7SFBMzMzM7biI0EehevRX9glQQrXo3AJzidB9ihcD7PDKUHhehSuXLkrQczMzEwGry1BuB6F66+kL0FSuB7FLM0wQUjhepQByDFBPQrXY9bCMkEzMzMzq70zQSlcjwKAuDRBHoXr0VSzNUEUrkehKa42QQrXo3D+qDdBAAAAQNOjOEH2KFwPqJ45QetRuN58mTpB4XoUrlGUO0HXo3B9Jo88QczMzEz7iT1BwvUoHNCEPkG4HoXrpH8/QdejcN08PUBBUrgeRae6QEHNzMysEThBQUjhehR8tUFBwvUofOYyQkE9CtfjULBCQbgehUu7LUNBMzMzsyWrQ0GuR+EakChEQSlcj4L6pURBpHA96mQjRUEehetRz6BFQZmZmbk5HkZBFK5HIaSbRkGPwvWIDhlHQQrXo/B4lkdBhetRWOMTSEEAAADATZFIQXsUrie4DklB9ihcjyKMSUFwPQr3jAlKQetRuF73hkpBZmZmxmEES0HhehQuzIFLQVyPwpU2/0tB16Nw/aB8TEFSuB5lC/pMQczMzMx1d01BR+F6NOD0TUHC9SicSnJOQT0K1wO1705BuB6Fax9tT0EzMzPTiepPQdejcB36M1BBFK5HUa9yUEFSuB6FZLFQQY/C9bgZ8FBBzczM7M4uUUEK16MghG1RQUjhelQ5rFFBhetRiO7qUUHC9Si8oylSQQAAAPBYaFJBPQrXIw6nUkF7FK5Xw+VSQbgehYt4JFNB9ihcvy1jU0EzMzPz4qFTQXA9CieY4FNBrkfhWk0fVEHrUbiOAl5UQSlcj8K3nFRBZmZm9mzbVEGkcD0qIhpVQeF6FF7XWFVBHoXrkYyXVUFcj8LFQdZVQZmZmfn2FFZB16NwLaxTVkEUrkdhYZJWQVK4HpUW0VZBj8L1yMsPV0HNzMz8gE5XQQrXozA2jVdBR+F6ZOvLV0GF61GYoApYQcL1KMxVSVhBAAAAAAuIWEE=\",\"dtype\":\"float64\",\"shape\":[100]},\"top\":{\"__ndarray__\":\"z4GF5pQD7j4ETpQo08+iPgTwSrK7uJA+BazdnurmdD4GaHCLGRVpPgTwSrK7uFA+BmhwixkVaT4GaHCLGRVpPgAAAAAAAAAACPBKsru4YD4I8Eqyu7hgPgDwSrK7uGA+APBKsru4UD4AAAAAAAAAAAAAAAAAAAAAAAAAAAAAAAAA8Eqyu7hQPgAAAAAAAAAAAAAAAAAAAAAAAAAAAAAAAAAAAAAAAAAAAAAAAAAAAAAAAAAAAAAAAAAAAAAAAAAAAAAAAAAAAAAAAAAAAAAAAAAAAAAAAAAAAPBKsru4UD4AAAAAAAAAAAAAAAAAAAAAAPBKsru4UD4AAAAAAAAAAAAAAAAAAAAAAPBKsru4UD4AAAAAAAAAAAAAAAAAAAAAAAAAAAAAAAAAAAAAAAAAAADwSrK7uFA+AAAAAAAAAAAAAAAAAAAAAAAAAAAAAAAAAPBKsru4UD4AAAAAAAAAAAAAAAAAAAAAAAAAAAAAAAAAAAAAAAAAAAAAAAAAAAAAAAAAAAAAAAAAAAAAAAAAAAAAAAAAAAAAAAAAAAAAAAAAAAAAAAAAAAAAAAAAAAAAAAAAAAAAAAAAAAAAAAAAAAAAAAAAAAAAAAAAAAAAAAAAAAAAAAAAAAAAAAAAAAAAAAAAAAAAAAAAAAAAAAAAAAAAAAAAAAAAAAAAAAAAAAAAAAAAAAAAAAAAAAAAAAAAAAAAAAAAAAAAAAAAAAAAAAAAAAAAAAAAAAAAAAAAAAAAAAAAAAAAAAAAAAAAAAAAAAAAAAAAAAAAAAAAAAAAAAAAAAAAAAAAAAAAAAAAAAAAAAAAAAAAAAAAAAAAAAAAAAAAAAAAAAAAAAAAAAAAAAAAAAAAAAAAAAAAAAAAAAAAAAAAAAAAAAAAAAAAAAAAAAAAAAAAAAAAAAAAAAAAAAAAAAAAAAAAAAAAAAAAAAAAAAAAAAAAAAAAAAAAAAAAAAAAAAAAAAAAAAAAAAAAAAAAAAAAAAAAAAAAAAAAAAAAAAAAAAAAAAAAAAAAAAAAAAAAAAAAAAAAAAAAAAAAAAAAAAAAAAAA3e9Ksru4UD4=\",\"dtype\":\"float64\",\"shape\":[100]}}},\"id\":\"8a328a14-54e0-4940-9725-f72cf43f3d4f\",\"type\":\"ColumnDataSource\"},{\"attributes\":{\"formatter\":{\"id\":\"9f5f9fbc-1038-4e3f-bb7e-d4afc9e7ce30\",\"type\":\"BasicTickFormatter\"},\"plot\":{\"id\":\"73eb5a27-7a92-4da1-b8e6-db21faa2aeb2\",\"subtype\":\"Figure\",\"type\":\"Plot\"},\"ticker\":{\"id\":\"fd5dcdc1-0304-4623-bcfe-2c0b1b9d0fee\",\"type\":\"BasicTicker\"}},\"id\":\"e53f27d4-93d9-4a8a-9a59-383bdd653079\",\"type\":\"LinearAxis\"},{\"attributes\":{\"active_drag\":\"auto\",\"active_scroll\":\"auto\",\"active_tap\":\"auto\",\"tools\":[{\"id\":\"7acdef8c-2478-4d64-9b86-11fdf223ad13\",\"type\":\"PanTool\"},{\"id\":\"62ddfada-b711-4d32-aeae-f25d09a75c2c\",\"type\":\"WheelZoomTool\"},{\"id\":\"a2647d38-7fea-460f-bfd9-f04d391dc160\",\"type\":\"ResetTool\"},{\"id\":\"932d3994-e8e0-4466-867f-8954e8345cf2\",\"type\":\"SaveTool\"}]},\"id\":\"3fc9dbfe-6459-4de7-a77c-ebec4fda64e4\",\"type\":\"Toolbar\"},{\"attributes\":{},\"id\":\"094ac8e2-c2d3-4f02-a924-a1f8d56bb05b\",\"type\":\"BasicTickFormatter\"},{\"attributes\":{\"bottom\":{\"value\":0},\"fill_color\":{\"value\":\"#1f77b4\"},\"left\":{\"field\":\"left\"},\"line_color\":{\"value\":\"#555555\"},\"right\":{\"field\":\"right\"},\"top\":{\"field\":\"top\"}},\"id\":\"7ceb4814-e339-49b3-b1bc-650ffbe07fff\",\"type\":\"Quad\"}],\"root_ids\":[\"73eb5a27-7a92-4da1-b8e6-db21faa2aeb2\"]},\"title\":\"Bokeh Application\",\"version\":\"0.12.4\"}};\n",
       "            var render_items = [{\"docid\":\"e581f032-4704-4c42-87ae-235930dd9e75\",\"elementid\":\"eafe8dd7-f087-4825-80d3-493afc6f16c3\",\"modelid\":\"73eb5a27-7a92-4da1-b8e6-db21faa2aeb2\"}];\n",
       "            \n",
       "            Bokeh.embed.embed_items(docs_json, render_items);\n",
       "          };\n",
       "          if (document.readyState != \"loading\") fn();\n",
       "          else document.addEventListener(\"DOMContentLoaded\", fn);\n",
       "        })();\n",
       "      },\n",
       "      function(Bokeh) {\n",
       "      }\n",
       "    ];\n",
       "  \n",
       "    function run_inline_js() {\n",
       "      \n",
       "      if ((window.Bokeh !== undefined) || (force === true)) {\n",
       "        for (var i = 0; i < inline_js.length; i++) {\n",
       "          inline_js[i](window.Bokeh);\n",
       "        }if (force === true) {\n",
       "          display_loaded();\n",
       "        }} else if (Date.now() < window._bokeh_timeout) {\n",
       "        setTimeout(run_inline_js, 100);\n",
       "      } else if (!window._bokeh_failed_load) {\n",
       "        console.log(\"Bokeh: BokehJS failed to load within specified timeout.\");\n",
       "        window._bokeh_failed_load = true;\n",
       "      } else if (force !== true) {\n",
       "        var cell = $(document.getElementById(\"eafe8dd7-f087-4825-80d3-493afc6f16c3\")).parents('.cell').data().cell;\n",
       "        cell.output_area.append_execute_result(NB_LOAD_WARNING)\n",
       "      }\n",
       "  \n",
       "    }\n",
       "  \n",
       "    if (window._bokeh_is_loading === 0) {\n",
       "      console.log(\"Bokeh: BokehJS loaded, going straight to plotting\");\n",
       "      run_inline_js();\n",
       "    } else {\n",
       "      load_libs(js_urls, function() {\n",
       "        console.log(\"Bokeh: BokehJS plotting callback run at\", now());\n",
       "        run_inline_js();\n",
       "      });\n",
       "    }\n",
       "  }(this));\n",
       "</script>"
      ]
     },
     "metadata": {},
     "output_type": "display_data"
    }
   ],
   "source": [
    "hist, edges = np.histogram(counts_wiki_top1000, density=True, bins=100, normed=True)\n",
    "\n",
    "p = figure(tools=\"pan,wheel_zoom,reset,save\",\n",
    "           toolbar_location=\"above\",\n",
    "           title=\"Top-1000 words distribution\")\n",
    "p.quad(top=hist, bottom=0, left=edges[:-1], right=edges[1:], line_color=\"#555555\")\n",
    "show(p)"
   ]
  },
  {
   "cell_type": "code",
   "execution_count": 11,
   "metadata": {
    "collapsed": true,
    "deletable": true,
    "editable": true
   },
   "outputs": [],
   "source": [
    "model_wiki = Word2Vec(sentences_wiki, min_count=10)"
   ]
  },
  {
   "cell_type": "code",
   "execution_count": 12,
   "metadata": {
    "collapsed": false,
    "deletable": true,
    "editable": true
   },
   "outputs": [
    {
     "data": {
      "text/plain": [
       "[('woman', 0.7764450907707214),\n",
       " ('person', 0.6642335653305054),\n",
       " ('girl', 0.6522268652915955),\n",
       " ('boy', 0.6507839560508728),\n",
       " ('soldier', 0.6333359479904175),\n",
       " ('dog', 0.5978959798812866),\n",
       " ('kid', 0.593299150466919),\n",
       " ('lad', 0.5791682004928589),\n",
       " ('policeman', 0.5700370669364929),\n",
       " ('creature', 0.5658121705055237)]"
      ]
     },
     "execution_count": 12,
     "metadata": {},
     "output_type": "execute_result"
    }
   ],
   "source": [
    "model_wiki.most_similar(\"man\")"
   ]
  },
  {
   "cell_type": "code",
   "execution_count": 13,
   "metadata": {
    "collapsed": false,
    "deletable": true,
    "editable": true
   },
   "outputs": [
    {
     "data": {
      "text/plain": [
       "[('girl', 0.7851673364639282),\n",
       " ('man', 0.7764450311660767),\n",
       " ('prostitute', 0.7507532238960266),\n",
       " ('child', 0.7333062291145325),\n",
       " ('person', 0.6935303211212158),\n",
       " ('lover', 0.6874986886978149),\n",
       " ('sailor', 0.6771126985549927),\n",
       " ('maid', 0.6676993370056152),\n",
       " ('teenager', 0.6642816662788391),\n",
       " ('stripper', 0.6536609530448914)]"
      ]
     },
     "execution_count": 13,
     "metadata": {},
     "output_type": "execute_result"
    }
   ],
   "source": [
    "model_wiki.most_similar(\"woman\")"
   ]
  },
  {
   "cell_type": "code",
   "execution_count": 14,
   "metadata": {
    "collapsed": false,
    "editable": true
   },
   "outputs": [
    {
     "data": {
      "text/plain": [
       "[('divorce', 0.764147162437439),\n",
       " ('betrothal', 0.7234775424003601),\n",
       " ('marriages', 0.7179222106933594),\n",
       " ('marrying', 0.6747463345527649),\n",
       " ('husband', 0.6662060618400574),\n",
       " ('remarriage', 0.6587846875190735),\n",
       " ('wife', 0.6547430157661438),\n",
       " ('daughter', 0.624983012676239),\n",
       " ('relationship', 0.6248632073402405),\n",
       " ('marry', 0.6196048259735107)]"
      ]
     },
     "execution_count": 14,
     "metadata": {},
     "output_type": "execute_result"
    }
   ],
   "source": [
    "model_wiki.most_similar(\"marriage\")"
   ]
  },
  {
   "cell_type": "code",
   "execution_count": 15,
   "metadata": {
    "collapsed": false,
    "editable": true
   },
   "outputs": [
    {
     "data": {
      "text/plain": [
       "[('dreams', 0.6967384219169617),\n",
       " ('smile', 0.6486513018608093),\n",
       " ('yearning', 0.6401641964912415),\n",
       " ('romance', 0.6393997669219971),\n",
       " ('duet', 0.6384182572364807),\n",
       " ('kiss', 0.6368460059165955),\n",
       " ('passion', 0.6309168934822083),\n",
       " ('lust', 0.6176827549934387),\n",
       " ('dreaming', 0.6168950796127319),\n",
       " ('dream', 0.6127188205718994)]"
      ]
     },
     "execution_count": 15,
     "metadata": {},
     "output_type": "execute_result"
    }
   ],
   "source": [
    "model_wiki.most_similar(\"love\")"
   ]
  },
  {
   "cell_type": "code",
   "execution_count": 16,
   "metadata": {
    "collapsed": false
   },
   "outputs": [
    {
     "name": "stdout",
     "output_type": "stream",
     "text": [
      "[('empress', 0.9597502946853638), ('queen', 0.9431621432304382), ('monarch', 0.9399044513702393)]\n",
      "[('backstory', 0.9932377934455872), ('personality', 0.9871536493301392), ('understanding', 0.9737261533737183)]\n",
      "[('sense', 0.5207391977310181), ('greatness', 0.5186395645141602), ('identity', 0.5175397992134094)]\n",
      "[('tokyo', 0.9551795125007629), ('osaka', 0.8998973369598389), ('shibuya', 0.8791349530220032)]\n"
     ]
    }
   ],
   "source": [
    "print(model_wiki.most_similar_cosmul(positive=['woman', 'king'], negative=['man'])[:3])\n",
    "print(model_wiki.most_similar_cosmul(positive=['computer', 'mind'], negative=['machine'])[:3])\n",
    "print(model_wiki.most_similar_cosmul(positive=['life','meaning'])[:3])\n",
    "print(model_wiki.most_similar_cosmul(positive=['paris', 'japan'], negative=['france'])[:3])"
   ]
  },
  {
   "cell_type": "code",
   "execution_count": 17,
   "metadata": {
    "collapsed": true,
    "deletable": true,
    "editable": true
   },
   "outputs": [],
   "source": [
    "words_top_wiki = []\n",
    "for common_word in cnt.most_common(1000):\n",
    "    words_top_wiki.append(common_word[0])\n"
   ]
  },
  {
   "cell_type": "markdown",
   "metadata": {
    "deletable": true,
    "editable": true
   },
   "source": [
    "#### t-SNE visualization"
   ]
  },
  {
   "cell_type": "code",
   "execution_count": 18,
   "metadata": {
    "collapsed": false,
    "deletable": true,
    "editable": true
   },
   "outputs": [],
   "source": [
    "# This assumes words_top_wiki is a list of strings, the top 1000 words\n",
    "words_top_vec_wiki = model_wiki[words_top_wiki]\n",
    "\n",
    "tsne = TSNE(n_components=2, random_state=0)\n",
    "words_top_wiki_tsne = tsne.fit_transform(words_top_vec_wiki)"
   ]
  },
  {
   "cell_type": "code",
   "execution_count": 19,
   "metadata": {
    "collapsed": false,
    "deletable": true,
    "editable": true
   },
   "outputs": [
    {
     "data": {
      "text/html": [
       "\n",
       "\n",
       "    <div class=\"bk-root\">\n",
       "        <div class=\"bk-plotdiv\" id=\"ee4482a8-8e27-4d14-84a4-96aec784f9ad\"></div>\n",
       "    </div>\n",
       "<script type=\"text/javascript\">\n",
       "  \n",
       "  (function(global) {\n",
       "    function now() {\n",
       "      return new Date();\n",
       "    }\n",
       "  \n",
       "    var force = false;\n",
       "  \n",
       "    if (typeof (window._bokeh_onload_callbacks) === \"undefined\" || force === true) {\n",
       "      window._bokeh_onload_callbacks = [];\n",
       "      window._bokeh_is_loading = undefined;\n",
       "    }\n",
       "  \n",
       "  \n",
       "    \n",
       "    if (typeof (window._bokeh_timeout) === \"undefined\" || force === true) {\n",
       "      window._bokeh_timeout = Date.now() + 0;\n",
       "      window._bokeh_failed_load = false;\n",
       "    }\n",
       "  \n",
       "    var NB_LOAD_WARNING = {'data': {'text/html':\n",
       "       \"<div style='background-color: #fdd'>\\n\"+\n",
       "       \"<p>\\n\"+\n",
       "       \"BokehJS does not appear to have successfully loaded. If loading BokehJS from CDN, this \\n\"+\n",
       "       \"may be due to a slow or bad network connection. Possible fixes:\\n\"+\n",
       "       \"</p>\\n\"+\n",
       "       \"<ul>\\n\"+\n",
       "       \"<li>re-rerun `output_notebook()` to attempt to load from CDN again, or</li>\\n\"+\n",
       "       \"<li>use INLINE resources instead, as so:</li>\\n\"+\n",
       "       \"</ul>\\n\"+\n",
       "       \"<code>\\n\"+\n",
       "       \"from bokeh.resources import INLINE\\n\"+\n",
       "       \"output_notebook(resources=INLINE)\\n\"+\n",
       "       \"</code>\\n\"+\n",
       "       \"</div>\"}};\n",
       "  \n",
       "    function display_loaded() {\n",
       "      if (window.Bokeh !== undefined) {\n",
       "        document.getElementById(\"ee4482a8-8e27-4d14-84a4-96aec784f9ad\").textContent = \"BokehJS successfully loaded.\";\n",
       "      } else if (Date.now() < window._bokeh_timeout) {\n",
       "        setTimeout(display_loaded, 100)\n",
       "      }\n",
       "    }\n",
       "  \n",
       "    function run_callbacks() {\n",
       "      window._bokeh_onload_callbacks.forEach(function(callback) { callback() });\n",
       "      delete window._bokeh_onload_callbacks\n",
       "      console.info(\"Bokeh: all callbacks have finished\");\n",
       "    }\n",
       "  \n",
       "    function load_libs(js_urls, callback) {\n",
       "      window._bokeh_onload_callbacks.push(callback);\n",
       "      if (window._bokeh_is_loading > 0) {\n",
       "        console.log(\"Bokeh: BokehJS is being loaded, scheduling callback at\", now());\n",
       "        return null;\n",
       "      }\n",
       "      if (js_urls == null || js_urls.length === 0) {\n",
       "        run_callbacks();\n",
       "        return null;\n",
       "      }\n",
       "      console.log(\"Bokeh: BokehJS not loaded, scheduling load and callback at\", now());\n",
       "      window._bokeh_is_loading = js_urls.length;\n",
       "      for (var i = 0; i < js_urls.length; i++) {\n",
       "        var url = js_urls[i];\n",
       "        var s = document.createElement('script');\n",
       "        s.src = url;\n",
       "        s.async = false;\n",
       "        s.onreadystatechange = s.onload = function() {\n",
       "          window._bokeh_is_loading--;\n",
       "          if (window._bokeh_is_loading === 0) {\n",
       "            console.log(\"Bokeh: all BokehJS libraries loaded\");\n",
       "            run_callbacks()\n",
       "          }\n",
       "        };\n",
       "        s.onerror = function() {\n",
       "          console.warn(\"failed to load library \" + url);\n",
       "        };\n",
       "        console.log(\"Bokeh: injecting script tag for BokehJS library: \", url);\n",
       "        document.getElementsByTagName(\"head\")[0].appendChild(s);\n",
       "      }\n",
       "    };var element = document.getElementById(\"ee4482a8-8e27-4d14-84a4-96aec784f9ad\");\n",
       "    if (element == null) {\n",
       "      console.log(\"Bokeh: ERROR: autoload.js configured with elementid 'ee4482a8-8e27-4d14-84a4-96aec784f9ad' but no matching script tag was found. \")\n",
       "      return false;\n",
       "    }\n",
       "  \n",
       "    var js_urls = [];\n",
       "  \n",
       "    var inline_js = [\n",
       "      function(Bokeh) {\n",
       "        (function() {\n",
       "          var fn = function() {\n",
       "            var docs_json = {\"374f9e44-0a92-442b-9e04-58e5baba8493\":{\"roots\":{\"references\":[{\"attributes\":{\"plot\":{\"id\":\"a6b38a36-fedf-42c1-a657-81f873093501\",\"subtype\":\"Figure\",\"type\":\"Plot\"}},\"id\":\"a0d546b0-6aed-40c1-b137-78595bcce8ce\",\"type\":\"ResetTool\"},{\"attributes\":{\"data_source\":{\"id\":\"16b7945e-88cc-4bcb-beca-ad2e0af6ab63\",\"type\":\"ColumnDataSource\"},\"glyph\":{\"id\":\"ad98b848-f376-4b55-88a9-2bf3beeaebaa\",\"type\":\"Circle\"},\"hover_glyph\":null,\"nonselection_glyph\":{\"id\":\"81c49b9b-74af-4cca-a40f-528392f6ee32\",\"type\":\"Circle\"},\"selection_glyph\":null},\"id\":\"a295f8ae-5741-4b11-85dc-dba6606e7e19\",\"type\":\"GlyphRenderer\"},{\"attributes\":{},\"id\":\"b8b168f5-524f-42e0-903c-5c3cc34ae058\",\"type\":\"ToolEvents\"},{\"attributes\":{\"fill_color\":{\"value\":\"#1f77b4\"},\"line_color\":{\"value\":\"#1f77b4\"},\"size\":{\"units\":\"screen\",\"value\":8},\"x\":{\"field\":\"x1\"},\"y\":{\"field\":\"x2\"}},\"id\":\"ad98b848-f376-4b55-88a9-2bf3beeaebaa\",\"type\":\"Circle\"},{\"attributes\":{\"callback\":null,\"column_names\":[\"names\",\"x2\",\"x1\"],\"data\":{\"names\":[\"the\",\"of\",\"and\",\"in\",\"to\",\"a\",\"was\",\"s\",\"on\",\"as\",\"for\",\"that\",\"with\",\"by\",\"is\",\"his\",\"at\",\"he\",\"from\",\"it\",\"were\",\"an\",\"had\",\"which\",\"be\",\"this\",\"but\",\"are\",\"first\",\"not\",\"their\",\"after\",\"one\",\"her\",\"also\",\"its\",\"they\",\"two\",\"or\",\"have\",\"who\",\"new\",\"been\",\"has\",\"she\",\"when\",\"time\",\"during\",\"other\",\"would\",\"into\",\"all\",\"i\",\"more\",\"while\",\"over\",\"him\",\"game\",\"only\",\"later\",\"up\",\"most\",\"three\",\"about\",\"out\",\"between\",\"th\",\"than\",\"there\",\"some\",\"film\",\"may\",\"before\",\"year\",\"made\",\"no\",\"such\",\"second\",\"season\",\"where\",\"world\",\"war\",\"years\",\"both\",\"then\",\"however\",\"used\",\"being\",\"through\",\"them\",\"song\",\"these\",\"series\",\"against\",\"m\",\"album\",\"many\",\"team\",\"city\",\"part\",\"north\",\"became\",\"number\",\"including\",\"can\",\"several\",\"united\",\"well\",\"four\",\"early\",\"under\",\"state\",\"south\",\"music\",\"day\",\"so\",\"episode\",\"following\",\"said\",\"states\",\"known\",\"although\",\"american\",\"could\",\"did\",\"work\",\"began\",\"until\",\"because\",\"released\",\"like\",\"t\",\"called\",\"high\",\"people\",\"end\",\"british\",\"since\",\"around\",\"long\",\"each\",\"national\",\"life\",\"if\",\"found\",\"best\",\"september\",\"same\",\"west\",\"us\",\"million\",\"back\",\"along\",\"another\",\"five\",\"show\",\"took\",\"use\",\"you\",\"km\",\"any\",\"area\",\"final\",\"group\",\"off\",\"august\",\"century\",\"received\",\"october\",\"school\",\"due\",\"john\",\"what\",\"will\",\"line\",\"government\",\"june\",\"east\",\"system\",\"single\",\"march\",\"july\",\"home\",\"november\",\"games\",\"third\",\"much\",\"general\",\"april\",\"large\",\"set\",\"down\",\"major\",\"left\",\"based\",\"family\",\"york\",\"house\",\"place\",\"just\",\"we\",\"company\",\"army\",\"history\",\"december\",\"road\",\"played\",\"included\",\"name\",\"six\",\"king\",\"january\",\"band\",\"character\",\"now\",\"wrote\",\"won\",\"according\",\"led\",\"main\",\"within\",\"last\",\"own\",\"near\",\"described\",\"d\",\"those\",\"times\",\"men\",\"death\",\"river\",\"video\",\"named\",\"next\",\"st\",\"air\",\"battle\",\"de\",\"release\",\"record\",\"late\",\"still\",\"make\",\"original\",\"top\",\"league\",\"way\",\"very\",\"ship\",\"species\",\"even\",\"great\",\"production\",\"man\",\"force\",\"route\",\"club\",\"small\",\"storm\",\"u\",\"old\",\"public\",\"february\",\"again\",\"though\",\"built\",\"days\",\"held\",\"play\",\"among\",\"university\",\"further\",\"do\",\"role\",\"service\",\"b\",\"division\",\"book\",\"french\",\"german\",\"side\",\"members\",\"story\",\"having\",\"white\",\"power\",\"match\",\"point\",\"player\",\"water\",\"often\",\"h\",\"order\",\"career\",\"continued\",\"former\",\"park\",\"local\",\"black\",\"without\",\"town\",\"came\",\"despite\",\"england\",\"considered\",\"take\",\"party\",\"half\",\"island\",\"few\",\"county\",\"support\",\"form\",\"songs\",\"development\",\"version\",\"moved\",\"written\",\"period\",\"military\",\"different\",\"c\",\"become\",\"english\",\"lost\",\"forces\",\"building\",\"given\",\"court\",\"tropical\",\"president\",\"ii\",\"country\",\"little\",\"london\",\"international\",\"re\",\"my\",\"church\",\"gave\",\"performance\",\"similar\",\"lead\",\"tour\",\"attack\",\"street\",\"n\",\"never\",\"returned\",\"track\",\"using\",\"published\",\"royal\",\"produced\",\"short\",\"went\",\"position\",\"class\",\"recorded\",\"children\",\"television\",\"stated\",\"land\",\"aircraft\",\"highway\",\"total\",\"western\",\"run\",\"ships\",\"good\",\"live\",\"making\",\"how\",\"control\",\"include\",\"father\",\"week\",\"star\",\"per\",\"women\",\"fire\",\"throughout\",\"upon\",\"right\",\"once\",\"love\",\"himself\",\"australia\",\"head\",\"me\",\"less\",\"characters\",\"central\",\"design\",\"age\",\"players\",\"light\",\"instead\",\"young\",\"title\",\"away\",\"writing\",\"rock\",\"seven\",\"across\",\"months\",\"remained\",\"red\",\"r\",\"ten\",\"return\",\"sea\",\"developed\",\"station\",\"previous\",\"result\",\"ft\",\"political\",\"night\",\"law\",\"died\",\"southern\",\"eight\",\"e\",\"hurricane\",\"james\",\"low\",\"center\",\"too\",\"reported\",\"office\",\"areas\",\"felt\",\"noted\",\"various\",\"eventually\",\"william\",\"race\",\"america\",\"style\",\"announced\",\"created\",\"son\",\"field\",\"reached\",\"miles\",\"win\",\"act\",\"college\",\"construction\",\"should\",\"award\",\"sent\",\"japanese\",\"seen\",\"followed\",\"together\",\"performed\",\"served\",\"member\",\"full\",\"northern\",\"range\",\"level\",\"common\",\"able\",\"killed\",\"taken\",\"campaign\",\"mm\",\"works\",\"points\",\"action\",\"established\",\"chart\",\"originally\",\"born\",\"success\",\"body\",\"george\",\"others\",\"front\",\"appeared\",\"thought\",\"australian\",\"modern\",\"features\",\"located\",\"project\",\"post\",\"special\",\"playing\",\"get\",\"started\",\"stage\",\"football\",\"caused\",\"addition\",\"bridge\",\"critics\",\"feet\",\"rather\",\"present\",\"fourth\",\"decided\",\"behind\",\"site\",\"formed\",\"added\",\"heavy\",\"sold\",\"o\",\"f\",\"every\",\"championship\",\"go\",\"popular\",\"director\",\"strong\",\"saw\",\"see\",\"completed\",\"damage\",\"population\",\"almost\",\"command\",\"important\",\"close\",\"soon\",\"fleet\",\"initially\",\"eastern\",\"open\",\"david\",\"art\",\"awards\",\"kingdom\",\"opened\",\"non\",\"guns\",\"case\",\"ground\",\"region\",\"leading\",\"weeks\",\"free\",\"coast\",\"worked\",\"mi\",\"working\",\"l\",\"mother\",\"france\",\"towards\",\"hall\",\"event\",\"union\",\"michael\",\"recording\",\"scene\",\"ever\",\"sound\",\"scored\",\"help\",\"provided\",\"training\",\"least\",\"wanted\",\"records\",\"brought\",\"featured\",\"henry\",\"either\",\"navy\",\"cup\",\"allowed\",\"average\",\"put\",\"does\",\"wife\",\"victory\",\"generally\",\"troops\",\"hit\",\"placed\",\"studio\",\"events\",\"runs\",\"magazine\",\"far\",\"example\",\"washington\",\"europe\",\"council\",\"mid\",\"designed\",\"joined\",\"co\",\"summer\",\"human\",\"hours\",\"list\",\"nine\",\"opening\",\"believed\",\"robert\",\"start\",\"replaced\",\"official\",\"media\",\"japan\",\"al\",\"base\",\"involved\",\"squadron\",\"earlier\",\"police\",\"european\",\"rest\",\"operation\",\"minutes\",\"finished\",\"brown\",\"society\",\"successful\",\"met\",\"saying\",\"possible\",\"x\",\"radio\",\"significant\",\"month\",\"crew\",\"shot\",\"highest\",\"particularly\",\"big\",\"largest\",\"review\",\"association\",\"films\",\"test\",\"beginning\",\"process\",\"available\",\"mph\",\"change\",\"research\",\"forced\",\"captain\",\"taking\",\"outside\",\"cast\",\"better\",\"increased\",\"turned\",\"come\",\"ended\",\"must\",\"social\",\"stone\",\"reviews\",\"section\",\"real\",\"lower\",\"passed\",\"community\",\"praised\",\"units\",\"san\",\"going\",\"business\",\"relationship\",\"middle\",\"future\",\"appearance\",\"move\",\"charles\",\"above\",\"thus\",\"space\",\"goal\",\"additional\",\"hill\",\"canada\",\"enough\",\"chief\",\"winds\",\"ordered\",\"previously\",\"thomas\",\"signed\",\"cross\",\"elements\",\"gold\",\"rights\",\"board\",\"program\",\"positive\",\"staff\",\"california\",\"round\",\"parts\",\"g\",\"lake\",\"infantry\",\"critical\",\"interest\",\"spent\",\"female\",\"don\",\"give\",\"plan\",\"told\",\"castle\",\"find\",\"gun\",\"lines\",\"musical\",\"overall\",\"type\",\"attempt\",\"brother\",\"committee\",\"directed\",\"failed\",\"paul\",\"money\",\"groups\",\"required\",\"v\",\"news\",\"hand\",\"itself\",\"evidence\",\"india\",\"sometimes\",\"germany\",\"prior\",\"grand\",\"district\",\"entire\",\"cover\",\"term\",\"asked\",\"personal\",\"port\",\"election\",\"reception\",\"battalion\",\"whose\",\"room\",\"study\",\"claimed\",\"already\",\"complete\",\"uk\",\"our\",\"bill\",\"introduced\",\"smith\",\"whom\",\"plot\",\"background\",\"square\",\"turn\",\"green\",\"usually\",\"novel\",\"past\",\"indian\",\"students\",\"p\",\"person\",\"idea\",\"quickly\",\"limited\",\"score\",\"education\",\"governor\",\"loss\",\"press\",\"effects\",\"speed\",\"stars\",\"response\",\"movement\",\"issue\",\"flight\",\"surface\",\"food\",\"ny\",\"debut\",\"k\",\"especially\",\"arrived\",\"anti\",\"commander\",\"peter\",\"minister\",\"decision\",\"britain\",\"services\",\"woman\",\"blue\",\"la\",\"mark\",\"fifth\",\"village\",\"teams\",\"bay\",\"shows\",\"structure\",\"department\",\"larger\",\"industry\",\"operations\",\"queen\",\"episodes\",\"becoming\",\"science\",\"earth\",\"centre\",\"voice\",\"length\",\"remaining\",\"material\",\"carried\",\"defeated\",\"living\",\"estimated\",\"writer\",\"richard\",\"cut\",\"latter\",\"pressure\",\"car\",\"civil\",\"scenes\",\"leaving\",\"commercial\",\"changes\",\"god\",\"might\",\"virginia\",\"running\",\"suggested\",\"entered\",\"nearly\",\"los\",\"influence\",\"report\",\"appointed\",\"depression\",\"date\",\"pop\",\"approximately\",\"winning\",\"language\",\"naval\",\"empire\",\"view\",\"shortly\",\"islands\",\"finally\",\"child\",\"self\",\"today\",\"network\",\"dark\",\"proposed\",\"daughter\",\"leader\",\"course\",\"tracks\",\"hot\",\"destroyed\",\"higher\",\"percent\",\"wide\",\"experience\",\"current\",\"size\",\"provide\",\"spanish\",\"fact\",\"railway\",\"nature\",\"subsequently\",\"lack\",\"compared\",\"intended\",\"producer\",\"brigade\",\"immediately\",\"face\",\"married\",\"soviet\",\"supported\",\"regular\",\"agreed\",\"cost\",\"awarded\",\"whether\",\"helped\",\"natural\",\"nd\",\"fans\",\"contract\",\"planned\",\"manager\",\"related\",\"professional\",\"chicago\",\"health\",\"officer\",\"museum\",\"create\",\"chinese\",\"upper\",\"longer\",\"soldiers\",\"your\",\"fort\",\"guitar\",\"done\",\"trade\",\"ball\",\"plans\",\"buildings\",\"captured\",\"appear\",\"changed\",\"jackson\",\"corps\",\"private\",\"associated\",\"yet\",\"federal\",\"friends\",\"officers\",\"something\",\"effect\",\"feature\",\"mostly\",\"singles\",\"remains\",\"themselves\",\"cm\",\"regiment\",\"edward\",\"billboard\",\"initial\",\"lord\",\"countries\",\"lyrics\",\"books\",\"probably\",\"extended\",\"mixed\",\"key\",\"pacific\",\"numerous\",\"minor\",\"moving\",\"really\",\"friend\",\"forward\",\"got\",\"information\",\"johnson\",\"always\",\"location\",\"j\",\"copies\",\"issued\",\"difficult\",\"energy\",\"leave\",\"atlantic\",\"status\",\"ran\",\"includes\",\"singer\",\"conference\",\"suffered\",\"via\",\"christian\",\"dance\",\"pass\",\"problems\",\"unit\",\"likely\",\"florida\",\"meeting\",\"dead\",\"know\",\"increase\",\"fight\",\"edition\"],\"x1\":{\"__ndarray__\":\"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\",\"dtype\":\"float64\",\"shape\":[1000]},\"x2\":{\"__ndarray__\":\"qukwWutA+j/woCnoDePlPwWtWQDXLwHAPAF69uoVBsCd5AoPQ6D8v8L2UAef3v4/o3h17kDwK0Bw3Iq1uiQhQAduD5OqCwrAV8NCfqv68b8V6OMY8s7Xv4BFG1fbTy5AlLdGTrPP3L9p33Hlipj+v3/PWMR77StAKHj+Yl3zMkCk/JU3aJoDwCNzGIiKmC5A5bz9qz5Dsb/LRDV9anAqQPvlE4wfKx3ADdcP+y0w+z+fEa9isSoXwMpELwXB4i9APVRTqCseD8CDTA3k5+AqQN2b698rmy5A4mWV7xkjHcCVM5PSEBwmwMNAG4brWAhAkBXsMOPNMkDhgK4VnBIbwFkjUaWxah/Ad/a9QVvvMkBdnh+CMpEEwIJoE5D3ETNAlKh20kveLkCH2loKX+UgwLIuDeoj1Oa/vPFTZAK7FcAvLT8o7xUxQJnXXR0gqsY/R5WXbNUECsBzIgzx+qwWwH7E4kqomy5AuS/nH67dMEAi2yUaNUMwQCWmocR4WxPAl7PiSg4mFsBwIuCnfc83wGPTQQxzqva/Fp9X+oHjE8BfgplnXW0vQLoKC0NWhidAmDv6T/2wwD/DwZ0m59Xkv/NZiePIxidAOWKly3tUGsAufaK22kD4PwCFx1UMrCHA6QGIbvt/EcBXshBjLAAHwJLJYwG4OyHAWBu93Fj+6D9jLiFPzBIRwK+mc3Bmt+A/639CdbRfK8A0xxi+M8LEPxq60EtwReo/iBRRa8oqF8Cj9Y11U/YQQMiicCC/mDjA5QghJYXJGsDKeruTz/MxQJxlCYp19jLAblptzh+HCEBjnSmg/KcXwGw4nhostCXA+wq9jo6/MEAAWKtPe8kwQD2796PO+xjAn7Gy2u0WJUDV7CZl6JgzQNWT9qLX6RTAyHMnKINYDcDZiUWUkZUuQDV6dL0XJDTAQ/UlzrJuDcAJ3LLHRp/wv4mAJOukFSdAOsi1SJ7LI0AEidsg88IWwFTTN1YAXQJA0oydDc8AAcAFHOjOYno0QPaxeUlNdCNAG3NqFQSVGMBFeEOmmDoewIP6ZWl43RBA4IyXgEAGF0AxeCfDOtPsP1VTI5puxDHApVMrrpbHI8ANQcKO9H0gwPdtNrqrYzjA0lMQLXxHHMDHHJo8c0cSwG4ouoFNjBfA4OkmSwRlIcD9ViwefC4mwOZnPXXIPu6/r7rvfzcZAMCilDS/zwzrPxAGzum7DSBA+qvp6dFwMUBIUiy696EpQMay0s2L/g1AEzXinyYiHcCca76XY0snwOItl5ciYyTAtU/QFRTdK8DDJyICW6wuQCUkiriHZxfArw6T/Tu9N8CHrrzrjHc2wA7+A6PcSRVARDRgD+dVNMB0mPpkPS4TwIeJQm77sC1AfDPhtS4xL8CtZYbfTHwQQMDS0EkHwSZAkZCoX4SkLcCdshTGNiAhQHJuosGslinAJYt5wP8HIsAOCS5lapULwKKPJe160fq/3Lhh8Ugu8L8FwV0cJu0YQNCT5jFWjwxAkCGYrTSmE8ADUZGtTJ4IQKGGTjvdGS1A069bfHAlK8CpgjL7CzkXQA6SfuELgDLAxW1FeNnUB0CAxPIyeTbpP9SR5GhLYw7ANaQINv8SB0AgeXnWpkwRwLMODhfJz/K/WLNaVF8KB0Axff9QcnAhwHD3uUMrrAFA4hGldZdCNcCkpWyQlm/bP7Rlj4dXhC9AujZVHtuYNEBabkcUvLcFQNx67C2lOhBABM45SF2EJcC4ue36ZgOtP74G7tHegRDASC4Pa1xeMsAuIA0lOBwLwOtdiZRyMTHApawcerCGMsBJIIiuujoaQDajuiGRVBXAzRNppmv9GkAIjjfnJWwrQLwMXtoV1zfANlccQRGpJUC1miNnX131vwpQgJu0VzLAYfDZ2FVt6T/ULGAESgoEQPgpPAzQ2SNANRBvN9fqMcCOo6MM53oywNnN2FjDjALAYDoQRWFjMsAmNO/sNWgawKrWu7IlmyXAb+NnRrJkDEBbee6aFugdwMs8m5HQ5DHAdGZGAtPNHkCxQvmxvnIzwAaRnl9t0AnAsZm55UwKFkDJcW+3LE0uwKTZlLGHJgXATRASptHVKsDdxqjXj7oQwMjgkeJhnxFAdOYhR7SGGUACIjrrbY8EQAFm37ihTy9A6p0n7Iv8AsDYNACsoHgRQCKHO19N6v2/HCoRzXj7McA130BHEZsiQFgNz481xizAyFXRaEvyLsBk+Jkn4jEjwEJmh14RcSHAIL8lLWhMHMA9fDUOPAEywKVsT9qWLSJAKUPzuxucGEBmTUCRKkDfv553e6mG5ibAGoMYuAXFMMD4r2KJ6RgnwID/IgJ7ZTTANZq81E6XEkDcbyUj8EHwvzW0APgEjiXAzNHKlXeC3D/SbQ8lAMkBwHRCe39nkCjAjjoHN2iLNEB0WDAvC9oTwHcgh2fSrixAfQVDnUyEBUAal3qU//cpwJkElxLUpBtAUUjGoRkKB0AxFJygBz0uwLtInJRotyXArOcLPJ1ZK8BvlrkJ7KUYQFiQ3neNtiRAiuBla5toN0CLiAsv6W/7P9I2lGC55SZACTd9N9uFJsDv1qiVvZLzP/L7NEATJSzAEsnqQLTB8z9Be5W6ICglwDptsjR8Th/Ail5DnwQ6JUCF8fMphrEoQEZlWQrWmRtAPRm1OXOC/T8pQlkegwD8P5vOqm5EqxVA1CQpwdWyAUAQ9TBPzSUnwCCOILeS+hJAd1RJAIJ3I0ByfSFFp7McwPw9lBnFtx5A60mXyBhiNEDaO9HAa+UNwHUR5MmYKyPAilKuW4xZCsAUgbU4VPUxwGcsTsA1chDAlLM6N5ibLkBZUcUGvhczwOCB6VsD3zNAGUnKY7tnMcAyYBOXfPfxv/DBkPuCbA3ACiwewLdG2T+LCGUzkdsEwDuAND8fPyfAGc0SzThnIEBAkGgSu7MhQIs2bhpwSTVADO81IyygE0ClbYB3pxYVQFZzT7ofMSbAPVe3FDYsGsDXYCjivMMqQAPDpD1cWx/AGUbDBEd1HUBYdYXXx2YVwCqrdQ31ZiNAt/cmDuJaLkDbQXRdy5YoQGbIVR8xHTBAtDXbb2I5IMBwLpySfWwoQO6HeE4b7wbAg4HceZQfNkCQaZpbQ58eQL61gwMe4AJAhC8VzkxIN8CSWkYV3VEgQOXkyX67XB1Ab0zHZ9viAsA9kC3BMhEjQKejl/pBDPK/+kgYWlwjCECmVK7EAxs2wM1MCHfhuBPA4G0fJXcKHsAuFTOTD04rwO9ABl4yiSvAuRxy7h1V8T+WP85odE0CQBpd/A4o6tq/QlwlMRGwH8Cqj++oMtkHQFTC46g6QhXA2BAjKIqiDUCE8kzjRoQkQE5/eJ1IlglAQKUwjhbipL9yoH33odI0wLAkcuBkrTDAdw9ta27wHcCoeqdA3/f9v5GN67rSoRbAd8tC1h89NUBzuoGxuTMxwOle3Xo2pR/A+HqpnC4uL8DT5gwxv18RQDADYThAziBAQPltYi8iMcDgHewjf+AiQM9kol6RajRA0fG7zU8iHMC7wZOy/qY1QBx+lNdG+RbAVmTXzvnSEEC+P/r7qAEfwB1L1yTLgxTAVrvRaiLVDsBIF5RpY1cxQLPfIsENDBJAyWBExKFNNcBsLf6hph0DQBWCKHV9PhLAXWeWi7a4GkANFlmwWW7jP6dyJlWLhSJARbgrNqoOIUDqSo8++242QDugRVroMgZApsuJ7X4ZNMDXYlQWF0kjQOrc/M/qRNk/I3N15aZrMMAg8bCqgXoWwIHKS4GoCTHAQZwwmeLiGEAX5RidwW82wMjOmbJvPyNA+9I8O6TvLkD8eVhxp2QvwMbMyUV5AyrAMLcduCXigD+TJ5s1e8gnwAdzonF4GRNAMoDzKUA4G0DsppAdYX4jQMX3Y9NygQRApVwtQ2p63r8mN3aclSMyQHR7rwNwpRtAdPaRYk/sE0Bx3xONMv32Py7FTuieyDLAFqWEqMSHK0ArOjvVB/0uQEOO/MhjnyDAvi79qywsLMDNsa0ApboxQCiXNh94vyxAELMcTTCcC0DM5SLOYN4pwKDmnedqhCNAsfcPpTt2EMBPuSLm+L0LwMdolpvLXydA9x7e8m4yCsDXtQu6jyclQPjMdbgqdShAwuJ0O7tUGsAxnfW//zcwQIHjzLxxBTBAZQF7AqJSJ0BjvAtO8tsVQAaLvRuMBNu/6fxn0nlfDECRS1es0OogwJfj3wXZIiDA5noATWHyIECOVKuZe8oEwNOSPi9g7R7AnZDWIAIqI8Af6B2DUZwPwEIegsAnQAvAeGrVWyn0JEAvlh2WRmwhwLDkMrtor9S/WLsAz9/AM0BbErC/ntswwHVAmsYDEiRAhLgPysZ9NkBHW9jmqTgiwFcbEqB1ECbA5DqFq7hh/L+zcHj3cXMywOSk/hHv/yJAy5j+0OoAI8AF0D3l5v4WQCzxWxmPzTRAVtqSgTj44r95rDshzi8xQG1LP3QiryJA5TC7gfpNMMCu8URS5hnbv07eTt1EVSHA1ECfjJGtNUDYeQ2oZW00QF8ADyIgPxxA7lvygEodIUDWQanZjpIeQB978oIYBilAR15IAgy1KsCc85vN8CULQKM0DmJ/lwlAhFjh+iXRJsCj/QolKMwnwEwBxsLTKBrA8YPfyaDiEMCII25ltfUZQJUY3C0PHyhAeAHCde+2FcBNeaCrHUUZQMcqXtY9QyrASdHjwbDBMcBA/tI9bFItwGB0AOOvlyVA8hnfAa2gMsAhO/esv4Y0QJ06Fl5jCjBA72gLiZmSIUBoXEacZCXYv2D3dxorcBpAmfum8VCaN8CXvN0olj0mwD+VuD6tvjXAe3RrWk3HF8A1T9HL1dIqwBNzhspatDPAoV4Gh4AYD8CV3NeOuE4uwJNOmYlCPzDAwZdhwjunHsDoe3KU3VMQQPi1b1TpLdm/b0UTqjFYMEA+jPInGUouQCFZn67hCQrAsVH1/UuNNsAO7EXkeCIswHrriGK7fDTA/nZFFHxMEUDG9iIL37kzQKGrOlZAcxZAHO1w8/vOL0BlKtY+lssdQIhUD/SOIjLAeu+O9r8qKUAVNnci2NoKwPAFr6r96jDANeG3KX8lCUD10wfQoLYcQLnLv1p1URxA0x03PUoEEsDR2V4oxJEqQGVDGQkKpy3ADxhFanzEKcDK94R5PRYZwIeAiLg26/i/ANSwyfhvIMC3oOMDcRgzwFz3/MU4mglA7zA7KCVdG8A/3rjRnncTQN/eiES3ofK/JN3V+UTkKcBW2raxTw00wJO4jQINdSVAuHkh5jjIG8D9TQhHbIk0wAUpS33elw3AOm3pJ50iI0DxrKVRyHEHwJ9uFMjN0zRAmgvf1DRcKECwxe9gX+/zv5ClmlPAqiXAMsSjLYk+N8C2TzWvgYbwv2T7L3lMdiFAMheLD9xPMsCy9bLKlgMwwFISjUMcBB5A3XPvAi8YMcDxBqf9aYI3QAspt2O05TRAju0PSQqGAkDgaifTEI8iwGQrRIH5FinA6152ATBKCMAiyDYtjJcTwFHnEs8imhlA3gVFT0riNMD2QNgNPbgowF/OOyYiAzPA1CB2DlZ6EUBH0YlPVVwQQNUQXSPJaeE/AYCPNnmEIsByLXPngQsFwKiCeoEE8xlAgAUBJZOWFMDBZXKuZksZQCj/l9/f/QnAwm4S0qzt17/DuvBEKCgNQOt+Z8pqyBxAJpKbUsq2G0DWLjz5Tz0mwKQ+bY2SVyTAHKRKhS/6MsBFBMp99pD+v7CBup3z7CJA2HuvkGmyHUBqWmLdhMclQPTmffutIwVAfrcFJs5BF8ACU6L2us4zQIRcU2BMtQ9Ajww/tfGs8r/38Ah98jkwwCAoz5rzjDRAJY1grj++/7/f7LqghZw2QFHz9CVZ7CvAGqYvctxSG8B02oqIY1n+v2EEJZKv+RFA/tCpkqhLKEBAQl9xVTEIwKLDDBeaYRxA/MqmxE5sMMCsghoEfsgUQOaT9+P3HP4/GBQTVlaIH0DhLXDoZHAxwO+r/Dg1zRXAZJrqx5tGMsDrj6BRdCwcQAMK+AiWkfo/2i8NJNSaN8ALblZqA+EmQOnQfrr6hjXAon5zHqGeLsDJaGKW7jUaQNAFJAc0reK/CtNq6n0A87+XF0hH7ogiwOLcrOrXODbAHILO2N+OBkBDdllCCMI1wNyoUrh9aTbAohxLHj/ZLMDvK+O3LbcvQHPJCyWQ9wDAtV+qbN2nD0AnxJW7joAxQEOsoYskFzHACL8BjKB8OMCsprF35kUmQLqvCKScdjFAKpils+A8BcDj5ATIE7ALQDYntA+CJf+/kGdIJeQKCsAaGHZqMfUXwFVtCVS/8du/mHPATe6uJ8DSvmCuhz80wLRXEGFg4jHAJmi60uLqIUBbuLEG0GodwG2W3addedu/bBjO4TMuNEAjfut7hlYkwN0pjLcATiHAnAqPaxfII8CNR8fnKOEpwLHa6oH8BhtA8P5SfVfbIcCRR4urQCgzwLcoYoGO7hTANQ61Abwx9b9kDE3o46gXwOfdhlQwyhVAEzP3mAugI0BWmdDq4YgYwGXx2VwldBhAD+cyMg/VIsD6xIarvWr8P/6wV3on5BXA1A47S7Y1BEDgKnZNhmIgQEXhc+c/bzRAYih7mW+hMsAiyXfqCDkjQBQRR8d50va/r6e/wjrLCMBONsUg7YQxwDb2l0l14STAnWv3bWvc4j+KH9xkro40QJbbhOheVtC/OlIU/nWNGEB0Vf59LfIxQH7Z4fNv9gxAvpOZRtmBMUAYZASvilYqQG4f0adi8fu/g71Z5qPUFUDgxnE+zWAqQNqTyPYKgPy/8F2XDOL38L/gtuk0vu4SQAu4J0k6UilAjUDWbI8CIsBkAPAfLdEPQGbCe+qUo+c/3pc1ELwNNUBbXXsXB60JQP94FgOarfE/lvLwg5BUNsDvaW4aPTYhwIXe+SjsBTXAVsysSZUf9r8czKS4Xx0JQHA3TYWNnSZAmIyLXXv7H0CvFOhr4aY1wNfkBp0hgynAEWXe6uAuM8Be5I1uTPU3wCtSYylya+K/BulBX/xsHkCKe2NNnCsGwN03HoWuFSZArwd7ol836T+h/tQhB0QkQDeVxf1HITTAikwOUMtZ5b9kYVHh+MMmwPuRsitH6hRAXxkphXrgKUDSawEp3m83wKta4Y/b0QHAY/bjutcyLMBTFimr8o0nwP35k3CAbdS/NeqfmUjIBkCWTO1X8TcnwESmKRXj2hpA64D2ezZ9I0AgGHWg/SDVPxWh/vrRtSpAA5U8OeEoLkBwtN6C3cH3P50IhH+3Sh9AptwlNzr7FcBjUNjXoSgpQHAMLiJs7x7ACikPTNdUNECnW4pI7ys2wOh7eyAPRQbANVdOMvCzGUB5lnQDOrwxwGFsd6QjViZAgr+9L3MxFUCKgc6BTqwlQC6G0fDSfh1AFwOkjHuoxb8PU6Q1D4cFQMUB7eqEwRDA8ifzCoTGC0BOL3zMkowNwADhR+jWRRVAqH735kFLFUCk38mkb5Q1QMoLLE9hjRtAjr4ITdH7EkBmvpl3nHEQwCQchPBbABBAyAk1tIXMMsD+6at/BzwfwPAuRuc6mCFAoAB4tNoRLMAcJeKytesWQBtDzx+S9SfACXt30+ntF0DkFOZoJzMqwNTA+6heHyNACwF9r3rcJ0C6KU77s4YgQIXAFgVG8vs/4wmpUWGxLkDYmBt5580eQJjr9nRtvC3AFyltEYWJ1L8ZSwqLFloxwM5E8HsDhzfAY6iU1x96HUAUpJzs3DwmQONzHNiWRse/Z5zCJSf9NcDzjYJTcXM1QDIU2CpjeP+/91ZjV7D6J0D/eOllSxf8P4f7OTlxhSJAjH63qjjNGcDKGc9wpmXlvxF9QB1GnhnAn2KfmxWnHMAT6c0csG8yQKt/NRKbzAhArD3RwStbBECPCEFmRDEhQMIXZ2N8DxVAsPB1LLamN8AueFa9yHHEP9IRr8tNHdu/qMBAl0QU/j9GrQPXBioGwCRnHmRnHBRAddiJqm9HIUBndNT2+0UTQNgqDQdFCt0/2ksw2RrUKcDpkI3RvxMFwOObK4eDzA5AV/xpo0W9FMD0V70SvnQxQPpNU0zUoiFAona39C0fNMCvUCp3LlcWQI0tw+uQGzFAt84rMIYfGEALP+P7EjUYQPxx4BRSrR9AJVUf9tutJsAIlgGIgcwjQET10LP3v/m/1Ugur/AiFECIncJ1rzfgv2p9/bvB4hfA6Y67bTBVKsB1nqlYiUc1QMb1b63+XSfAMmcCumkkIEAbHdXQzFYSwAvFblPwphlArhpgctroLEDXdg1fbP7ovyfxxHdOlBvAvRDqVmubHsAR8/4jAfr1v8UBDh2z8RRAyTAU5ub/L0CpqqlVjL0sQCdApOzMrA3ARmywquAA1z8y18+nBIIgQFjTQhd4khpACMAYPOdTKkBSr4m2QLMnQB04Ej+ouyNAOCxU0dGkKMAoFAfNKJo1QITAUufVEAbATSKdnsj3McCoexXuZJQUwLnLIuEVtCHAmou3JvgSHEA23GIhcoDiP+seoByh/RtA9quFMPJoHMCJqS8oYF0WQBPG/TW0gCfAkbiBzLoGJEDf9qqsWUQ3QII78Q4xKhxAopoeUxGhJcAyBhIzWxEYQPw9Eswlvx7A0Fvnrt1q37+T2QESd5/0P9ybfr6SXxBAnY8jMuRnqD/nUfrJ6UwkQFucqfo70gbArjrVNU7WH0DVle08GlYcwL1sC8kRug1Ae0ERlyXeMcB81zpRLvHcP1joAHx/jipArN1Xnor0AkAxAOFXOlEcQACrr6XInjBAy6Eyhj3O9j+1oW65UxQXQJZoTvtEhDXAZLFtyfPGL8CKG+kM1eX9v8/Ye/KyTwVAcChcS65KDcBL0l8Si2UbQOrbj1HdSjJAksaaR9w08z/GfYGluvotQO2TjhfcBRVAIyw8KtULBMDgvxAdh08hQCo6zwMV+i3Aa86aPKzIA8AzgqoIy74KQIOylg4ctQFApfxp0lMWOMDqVOEOfjAMwJRDrjKzITBAnuFnXqpHKcCRXLpYizQzwIpWD2M/AAZAl2j4PyVdEcCCFgmPrwUSQOReMQ1kePG/SUVncYceMsBdJLwfQ2E0QL1NJnci1x/Absks6swNIUAKkN0T9f0FQHke2OZUaDBAC8Bu4FJVIcCsXnz8AUf4v14Ied0yLCDAkv7s76qNEkAIAdK3+fQVwB0NBkMnUt2/qOiDDO1577+BFILmFpgowD03ImmhEL+/i+v+Txbg5L/HnPH/TtUBQDAJvwF8DCJAKdMcqi8mM8AKRhm32RItwLkd5ZZRhh7AtCdhEITHGMA3QDUmH/cjQMleymuo3ihANIcNVFwoLMA0j6hy4WIkQHe6Th6v5AVAsdG2TIERHkAyxbOk4vYPQEEK7dnmkOU/sDIcPRyXMECTcHCvzQ8twK4RYP+NrBfAkX2IR4lUGkDp9l0aZ7QjQLgVFi8SnABAqof3a02ADcA5tRxlwiT/PyhDoBh+TyfAxhegb22UNcCUWN99ZQwSwAtZ2K5k0BNA4lY8muiAGMBaXiIRgyUgQO1gPQk21TDANdoeqARAE8CJxCvBT70ywECVZFFBaBJAMtZb0AI+N8A8M/qlZuQvQIoeNryFfDDAvW12LiW5LEBN+44AXHc3wKZc6PZgsd+/UcN6O8teK8DFZWbxzJ4gwBF+9uXlNCHAZq0NmSZ1NcAMaOzET9YWwB92/P99uxTA3EvrlYF9GMC9qyD3S3QKwCm//nK/h+2/LAlbUBEwIcBVHg4Y600XQB6tW2dL4CzA0szo02rCGMAAkbKrZWYkQIoKKqR9NCZAja+bo6F+CEBlxJM9g1UxQGFb5YP5GRZAOYhiqc8cIUCiGQDQ/54qwBkE2MI+lQzAzfQvoxPmKkBMBX0tP1AXQDoGGqL6HBdAXn4oMGx0LMD2tVyjcfrkP+Zstp/fky7A0QnympbxHECKoL2NxSoRQBuSR0s1/gDApaiW8g6rFcA5k4YHshv7P7BbEtJCz/6/OMqS6LTILMBETJp3D6oDQKqqJc3MRShAvqCByQF6FEDbGT2lJH/zPwa2mJdLVgDA4uagHBwIJkCm0lzMV/Pdv0/J4WB7vSdAwrpL9BvEM0C5z2NPF8cTQD3kaUinABpAQ5/sUzvDKEDey3+KvjHyP5P0A47MGRZAId6cBqaME8D7LRm2i04kQDBeCP9gPhJAUM5hHL5rcz/a7F2+qUEzwOWzNX4L5BDAllhuBt7TFEAQjM1to1gGwBtnE4Y5mRrAhzBUoJojFkCPV9Kg/eonwMhnT3oeNihA0vrD3cjzLMA32tX8CF0NwCevz8hQYDbAjfnruHdHIkCb5pZGkbEfQFUIJPL6uQBAlaFMXxyQHkAMYqibwRE2QASYcIkVPBzAdHgelocmMcAEFOz77cTbP21tiHPY1C1A57yLnD49JsATwSKFIDcOwBF0J2MNVBtAaagvaO/DNcAE7LZX7gkhwHbXwj4e8iRAXLZLqhguIcBJ5TwfeakwwHLSCvKsD+0/RmFYGOqFBMBga/Mvv1QgQAz1ZRdNSzBABVgBSi3/CkB9jEtdxJIVQFwYoXl/QLK/2fvwZEnEDMBBwIGErZ8hwB98Iw0Cfeg/dD8FuixYKMCLXq6dqwsgQKEqs6H07vG/gviWGtgz8z8=\",\"dtype\":\"float64\",\"shape\":[1000]}}},\"id\":\"16b7945e-88cc-4bcb-beca-ad2e0af6ab63\",\"type\":\"ColumnDataSource\"},{\"attributes\":{\"plot\":{\"id\":\"a6b38a36-fedf-42c1-a657-81f873093501\",\"subtype\":\"Figure\",\"type\":\"Plot\"},\"source\":{\"id\":\"16b7945e-88cc-4bcb-beca-ad2e0af6ab63\",\"type\":\"ColumnDataSource\"},\"text\":{\"field\":\"names\"},\"text_align\":\"center\",\"text_color\":{\"value\":\"#555555\"},\"text_font_size\":{\"value\":\"8pt\"},\"x\":{\"field\":\"x1\"},\"y\":{\"field\":\"x2\"},\"y_offset\":{\"value\":6}},\"id\":\"cb3d99b4-d760-4e1e-a2b8-42085e214253\",\"type\":\"LabelSet\"},{\"attributes\":{},\"id\":\"b2699da1-bebe-42c5-a6a7-0192571285b6\",\"type\":\"BasicTicker\"},{\"attributes\":{\"plot\":{\"id\":\"a6b38a36-fedf-42c1-a657-81f873093501\",\"subtype\":\"Figure\",\"type\":\"Plot\"}},\"id\":\"480b48d9-f8c5-4e88-b5d1-d6bbfee7eade\",\"type\":\"PanTool\"},{\"attributes\":{\"active_drag\":\"auto\",\"active_scroll\":\"auto\",\"active_tap\":\"auto\",\"tools\":[{\"id\":\"480b48d9-f8c5-4e88-b5d1-d6bbfee7eade\",\"type\":\"PanTool\"},{\"id\":\"05076cce-c7a4-4753-87b2-0ccbc6cf06c2\",\"type\":\"WheelZoomTool\"},{\"id\":\"a0d546b0-6aed-40c1-b137-78595bcce8ce\",\"type\":\"ResetTool\"},{\"id\":\"22212730-6d83-4719-a41c-c53546fccd6f\",\"type\":\"SaveTool\"}]},\"id\":\"252b802c-c719-4ed9-b195-bdeafb0ea946\",\"type\":\"Toolbar\"},{\"attributes\":{},\"id\":\"fd7b82f3-dc4e-4b5b-92ec-db28a07ae4f6\",\"type\":\"BasicTickFormatter\"},{\"attributes\":{},\"id\":\"0209625c-0ddf-4c9e-b1e6-a7ba43b0b7ae\",\"type\":\"BasicTicker\"},{\"attributes\":{\"formatter\":{\"id\":\"fd7b82f3-dc4e-4b5b-92ec-db28a07ae4f6\",\"type\":\"BasicTickFormatter\"},\"plot\":{\"id\":\"a6b38a36-fedf-42c1-a657-81f873093501\",\"subtype\":\"Figure\",\"type\":\"Plot\"},\"ticker\":{\"id\":\"b2699da1-bebe-42c5-a6a7-0192571285b6\",\"type\":\"BasicTicker\"}},\"id\":\"6bfdf1cf-caa3-4d64-b7d6-59fd61214935\",\"type\":\"LinearAxis\"},{\"attributes\":{\"fill_alpha\":{\"value\":0.1},\"fill_color\":{\"value\":\"#1f77b4\"},\"line_alpha\":{\"value\":0.1},\"line_color\":{\"value\":\"#1f77b4\"},\"size\":{\"units\":\"screen\",\"value\":8},\"x\":{\"field\":\"x1\"},\"y\":{\"field\":\"x2\"}},\"id\":\"81c49b9b-74af-4cca-a40f-528392f6ee32\",\"type\":\"Circle\"},{\"attributes\":{\"plot\":{\"id\":\"a6b38a36-fedf-42c1-a657-81f873093501\",\"subtype\":\"Figure\",\"type\":\"Plot\"},\"ticker\":{\"id\":\"0209625c-0ddf-4c9e-b1e6-a7ba43b0b7ae\",\"type\":\"BasicTicker\"}},\"id\":\"e6c4c6a8-cc8c-4d3d-8745-ed7a48eec1f7\",\"type\":\"Grid\"},{\"attributes\":{\"dimension\":1,\"plot\":{\"id\":\"a6b38a36-fedf-42c1-a657-81f873093501\",\"subtype\":\"Figure\",\"type\":\"Plot\"},\"ticker\":{\"id\":\"b2699da1-bebe-42c5-a6a7-0192571285b6\",\"type\":\"BasicTicker\"}},\"id\":\"bf6702b2-7bec-4de0-89a5-a07b53c28c9c\",\"type\":\"Grid\"},{\"attributes\":{\"formatter\":{\"id\":\"ae4fef0c-0fc9-4251-9ccc-c48f2845635c\",\"type\":\"BasicTickFormatter\"},\"plot\":{\"id\":\"a6b38a36-fedf-42c1-a657-81f873093501\",\"subtype\":\"Figure\",\"type\":\"Plot\"},\"ticker\":{\"id\":\"0209625c-0ddf-4c9e-b1e6-a7ba43b0b7ae\",\"type\":\"BasicTicker\"}},\"id\":\"081fa904-24ca-4f2d-a787-06606e8f3356\",\"type\":\"LinearAxis\"},{\"attributes\":{\"below\":[{\"id\":\"081fa904-24ca-4f2d-a787-06606e8f3356\",\"type\":\"LinearAxis\"}],\"left\":[{\"id\":\"6bfdf1cf-caa3-4d64-b7d6-59fd61214935\",\"type\":\"LinearAxis\"}],\"renderers\":[{\"id\":\"081fa904-24ca-4f2d-a787-06606e8f3356\",\"type\":\"LinearAxis\"},{\"id\":\"e6c4c6a8-cc8c-4d3d-8745-ed7a48eec1f7\",\"type\":\"Grid\"},{\"id\":\"6bfdf1cf-caa3-4d64-b7d6-59fd61214935\",\"type\":\"LinearAxis\"},{\"id\":\"bf6702b2-7bec-4de0-89a5-a07b53c28c9c\",\"type\":\"Grid\"},{\"id\":\"a295f8ae-5741-4b11-85dc-dba6606e7e19\",\"type\":\"GlyphRenderer\"},{\"id\":\"cb3d99b4-d760-4e1e-a2b8-42085e214253\",\"type\":\"LabelSet\"}],\"title\":{\"id\":\"f9073273-b602-4fa8-a451-c62c49027fdc\",\"type\":\"Title\"},\"tool_events\":{\"id\":\"b8b168f5-524f-42e0-903c-5c3cc34ae058\",\"type\":\"ToolEvents\"},\"toolbar\":{\"id\":\"252b802c-c719-4ed9-b195-bdeafb0ea946\",\"type\":\"Toolbar\"},\"toolbar_location\":\"above\",\"x_range\":{\"id\":\"fdc84f06-9d18-424f-b71f-fb29469acb90\",\"type\":\"DataRange1d\"},\"y_range\":{\"id\":\"8ad8d231-33c5-471a-9e0e-2eb17ddeeebb\",\"type\":\"DataRange1d\"}},\"id\":\"a6b38a36-fedf-42c1-a657-81f873093501\",\"subtype\":\"Figure\",\"type\":\"Plot\"},{\"attributes\":{\"plot\":null,\"text\":\"word2vec T-SNE for most common words\"},\"id\":\"f9073273-b602-4fa8-a451-c62c49027fdc\",\"type\":\"Title\"},{\"attributes\":{\"callback\":null},\"id\":\"8ad8d231-33c5-471a-9e0e-2eb17ddeeebb\",\"type\":\"DataRange1d\"},{\"attributes\":{\"plot\":{\"id\":\"a6b38a36-fedf-42c1-a657-81f873093501\",\"subtype\":\"Figure\",\"type\":\"Plot\"}},\"id\":\"05076cce-c7a4-4753-87b2-0ccbc6cf06c2\",\"type\":\"WheelZoomTool\"},{\"attributes\":{},\"id\":\"ae4fef0c-0fc9-4251-9ccc-c48f2845635c\",\"type\":\"BasicTickFormatter\"},{\"attributes\":{\"plot\":{\"id\":\"a6b38a36-fedf-42c1-a657-81f873093501\",\"subtype\":\"Figure\",\"type\":\"Plot\"}},\"id\":\"22212730-6d83-4719-a41c-c53546fccd6f\",\"type\":\"SaveTool\"},{\"attributes\":{\"callback\":null},\"id\":\"fdc84f06-9d18-424f-b71f-fb29469acb90\",\"type\":\"DataRange1d\"}],\"root_ids\":[\"a6b38a36-fedf-42c1-a657-81f873093501\"]},\"title\":\"Bokeh Application\",\"version\":\"0.12.4\"}};\n",
       "            var render_items = [{\"docid\":\"374f9e44-0a92-442b-9e04-58e5baba8493\",\"elementid\":\"ee4482a8-8e27-4d14-84a4-96aec784f9ad\",\"modelid\":\"a6b38a36-fedf-42c1-a657-81f873093501\"}];\n",
       "            \n",
       "            Bokeh.embed.embed_items(docs_json, render_items);\n",
       "          };\n",
       "          if (document.readyState != \"loading\") fn();\n",
       "          else document.addEventListener(\"DOMContentLoaded\", fn);\n",
       "        })();\n",
       "      },\n",
       "      function(Bokeh) {\n",
       "      }\n",
       "    ];\n",
       "  \n",
       "    function run_inline_js() {\n",
       "      \n",
       "      if ((window.Bokeh !== undefined) || (force === true)) {\n",
       "        for (var i = 0; i < inline_js.length; i++) {\n",
       "          inline_js[i](window.Bokeh);\n",
       "        }if (force === true) {\n",
       "          display_loaded();\n",
       "        }} else if (Date.now() < window._bokeh_timeout) {\n",
       "        setTimeout(run_inline_js, 100);\n",
       "      } else if (!window._bokeh_failed_load) {\n",
       "        console.log(\"Bokeh: BokehJS failed to load within specified timeout.\");\n",
       "        window._bokeh_failed_load = true;\n",
       "      } else if (force !== true) {\n",
       "        var cell = $(document.getElementById(\"ee4482a8-8e27-4d14-84a4-96aec784f9ad\")).parents('.cell').data().cell;\n",
       "        cell.output_area.append_execute_result(NB_LOAD_WARNING)\n",
       "      }\n",
       "  \n",
       "    }\n",
       "  \n",
       "    if (window._bokeh_is_loading === 0) {\n",
       "      console.log(\"Bokeh: BokehJS loaded, going straight to plotting\");\n",
       "      run_inline_js();\n",
       "    } else {\n",
       "      load_libs(js_urls, function() {\n",
       "        console.log(\"Bokeh: BokehJS plotting callback run at\", now());\n",
       "        run_inline_js();\n",
       "      });\n",
       "    }\n",
       "  }(this));\n",
       "</script>"
      ]
     },
     "metadata": {},
     "output_type": "display_data"
    }
   ],
   "source": [
    "p = figure(tools=\"pan,wheel_zoom,reset,save\",\n",
    "           toolbar_location=\"above\",\n",
    "           title=\"word2vec T-SNE for most common words\")\n",
    "\n",
    "source = ColumnDataSource(data=dict(x1=words_top_wiki_tsne[:,0],\n",
    "                                    x2=words_top_wiki_tsne[:,1],\n",
    "                                    names=words_top_wiki))\n",
    "\n",
    "p.scatter(x=\"x1\", y=\"x2\", size=8, source=source)\n",
    "\n",
    "labels = LabelSet(x=\"x1\", y=\"x2\", text=\"names\", y_offset=6,\n",
    "                  text_font_size=\"8pt\", text_color=\"#555555\",\n",
    "                  source=source, text_align='center')\n",
    "p.add_layout(labels)\n",
    "\n",
    "show(p)"
   ]
  }
 ],
 "metadata": {
  "anaconda-cloud": {},
  "kernelspec": {
   "display_name": "Python 3",
   "language": "python",
   "name": "python3"
  },
  "language_info": {
   "codemirror_mode": {
    "name": "ipython",
    "version": 3
   },
   "file_extension": ".py",
   "mimetype": "text/x-python",
   "name": "python",
   "nbconvert_exporter": "python",
   "pygments_lexer": "ipython3",
   "version": "3.5.2"
  }
 },
 "nbformat": 4,
 "nbformat_minor": 0
}
