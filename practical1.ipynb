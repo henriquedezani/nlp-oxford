{
 "cells": [
  {
   "cell_type": "markdown",
   "metadata": {
    "deletable": true,
    "editable": true
   },
   "source": [
    "## Practical 1: word2vec\n",
    "<p>Oxford CS - Deep NLP 2017<br>\n",
    "https://www.cs.ox.ac.uk/teaching/courses/2016-2017/dl/</p>\n",
    "<p>[Yannis Assael, Brendan Shillingford, Chris Dyer]</p>"
   ]
  },
  {
   "cell_type": "markdown",
   "metadata": {
    "deletable": true,
    "editable": true
   },
   "source": [
    "This practical is presented as an IPython Notebook, with the code written for recent versions of **Python 3**. The code in this practical will not work with Python 2 unless you modify it. If you are using your own Python installation, ensure you have a setup identical to that described in the installation shell script (which is intended for use with the department lab machines). We will be unable to support installation on personal machines due to time constraints, so please use the lab machines and the setup script if you are unfamiliar with how to install Anaconda.\n",
    "\n",
    "To execute a notebook cell, press `shift-enter`. The return value of the last command will be displayed, if it is not `None`.\n",
    "\n",
    "Potentially useful library documentation, references, and resources:\n",
    "\n",
    "* IPython notebooks: <https://ipython.org/ipython-doc/3/notebook/notebook.html#introduction>\n",
    "* Numpy numerical array library: <https://docs.scipy.org/doc/>\n",
    "* Gensim's word2vec: <https://radimrehurek.com/gensim/models/word2vec.html>\n",
    "* Bokeh interactive plots: <http://bokeh.pydata.org/en/latest/> (we provide plotting code here, but click the thumbnails for more examples to copy-paste)\n",
    "* scikit-learn ML library (aka `sklearn`): <http://scikit-learn.org/stable/documentation.html>\n",
    "* nltk NLP toolkit: <http://www.nltk.org/>\n",
    "* tutorial for processing xml in python using `lxml`: <http://lxml.de/tutorial.html> (we did this for you below, but in case you need it in the future)"
   ]
  },
  {
   "cell_type": "code",
   "execution_count": 1,
   "metadata": {
    "collapsed": false,
    "deletable": true,
    "editable": true
   },
   "outputs": [],
   "source": [
    "import numpy as np\n",
    "import os\n",
    "from random import shuffle\n",
    "import re\n",
    "from collections import *"
   ]
  },
  {
   "cell_type": "code",
   "execution_count": 2,
   "metadata": {
    "collapsed": false,
    "deletable": true,
    "editable": true
   },
   "outputs": [
    {
     "data": {
      "text/html": [
       "\n",
       "    <div class=\"bk-root\">\n",
       "        <a href=\"http://bokeh.pydata.org\" target=\"_blank\" class=\"bk-logo bk-logo-small bk-logo-notebook\"></a>\n",
       "        <span id=\"d707eb1a-583f-4fbf-bd7f-dc7f1c0659db\">Loading BokehJS ...</span>\n",
       "    </div>"
      ]
     },
     "metadata": {},
     "output_type": "display_data"
    },
    {
     "data": {
      "application/javascript": [
       "\n",
       "(function(global) {\n",
       "  function now() {\n",
       "    return new Date();\n",
       "  }\n",
       "\n",
       "  var force = true;\n",
       "\n",
       "  if (typeof (window._bokeh_onload_callbacks) === \"undefined\" || force === true) {\n",
       "    window._bokeh_onload_callbacks = [];\n",
       "    window._bokeh_is_loading = undefined;\n",
       "  }\n",
       "\n",
       "\n",
       "  \n",
       "  if (typeof (window._bokeh_timeout) === \"undefined\" || force === true) {\n",
       "    window._bokeh_timeout = Date.now() + 5000;\n",
       "    window._bokeh_failed_load = false;\n",
       "  }\n",
       "\n",
       "  var NB_LOAD_WARNING = {'data': {'text/html':\n",
       "     \"<div style='background-color: #fdd'>\\n\"+\n",
       "     \"<p>\\n\"+\n",
       "     \"BokehJS does not appear to have successfully loaded. If loading BokehJS from CDN, this \\n\"+\n",
       "     \"may be due to a slow or bad network connection. Possible fixes:\\n\"+\n",
       "     \"</p>\\n\"+\n",
       "     \"<ul>\\n\"+\n",
       "     \"<li>re-rerun `output_notebook()` to attempt to load from CDN again, or</li>\\n\"+\n",
       "     \"<li>use INLINE resources instead, as so:</li>\\n\"+\n",
       "     \"</ul>\\n\"+\n",
       "     \"<code>\\n\"+\n",
       "     \"from bokeh.resources import INLINE\\n\"+\n",
       "     \"output_notebook(resources=INLINE)\\n\"+\n",
       "     \"</code>\\n\"+\n",
       "     \"</div>\"}};\n",
       "\n",
       "  function display_loaded() {\n",
       "    if (window.Bokeh !== undefined) {\n",
       "      document.getElementById(\"d707eb1a-583f-4fbf-bd7f-dc7f1c0659db\").textContent = \"BokehJS successfully loaded.\";\n",
       "    } else if (Date.now() < window._bokeh_timeout) {\n",
       "      setTimeout(display_loaded, 100)\n",
       "    }\n",
       "  }\n",
       "\n",
       "  function run_callbacks() {\n",
       "    window._bokeh_onload_callbacks.forEach(function(callback) { callback() });\n",
       "    delete window._bokeh_onload_callbacks\n",
       "    console.info(\"Bokeh: all callbacks have finished\");\n",
       "  }\n",
       "\n",
       "  function load_libs(js_urls, callback) {\n",
       "    window._bokeh_onload_callbacks.push(callback);\n",
       "    if (window._bokeh_is_loading > 0) {\n",
       "      console.log(\"Bokeh: BokehJS is being loaded, scheduling callback at\", now());\n",
       "      return null;\n",
       "    }\n",
       "    if (js_urls == null || js_urls.length === 0) {\n",
       "      run_callbacks();\n",
       "      return null;\n",
       "    }\n",
       "    console.log(\"Bokeh: BokehJS not loaded, scheduling load and callback at\", now());\n",
       "    window._bokeh_is_loading = js_urls.length;\n",
       "    for (var i = 0; i < js_urls.length; i++) {\n",
       "      var url = js_urls[i];\n",
       "      var s = document.createElement('script');\n",
       "      s.src = url;\n",
       "      s.async = false;\n",
       "      s.onreadystatechange = s.onload = function() {\n",
       "        window._bokeh_is_loading--;\n",
       "        if (window._bokeh_is_loading === 0) {\n",
       "          console.log(\"Bokeh: all BokehJS libraries loaded\");\n",
       "          run_callbacks()\n",
       "        }\n",
       "      };\n",
       "      s.onerror = function() {\n",
       "        console.warn(\"failed to load library \" + url);\n",
       "      };\n",
       "      console.log(\"Bokeh: injecting script tag for BokehJS library: \", url);\n",
       "      document.getElementsByTagName(\"head\")[0].appendChild(s);\n",
       "    }\n",
       "  };var element = document.getElementById(\"d707eb1a-583f-4fbf-bd7f-dc7f1c0659db\");\n",
       "  if (element == null) {\n",
       "    console.log(\"Bokeh: ERROR: autoload.js configured with elementid 'd707eb1a-583f-4fbf-bd7f-dc7f1c0659db' but no matching script tag was found. \")\n",
       "    return false;\n",
       "  }\n",
       "\n",
       "  var js_urls = [\"https://cdn.pydata.org/bokeh/release/bokeh-0.12.4.min.js\", \"https://cdn.pydata.org/bokeh/release/bokeh-widgets-0.12.4.min.js\"];\n",
       "\n",
       "  var inline_js = [\n",
       "    function(Bokeh) {\n",
       "      Bokeh.set_log_level(\"info\");\n",
       "    },\n",
       "    \n",
       "    function(Bokeh) {\n",
       "      \n",
       "      document.getElementById(\"d707eb1a-583f-4fbf-bd7f-dc7f1c0659db\").textContent = \"BokehJS is loading...\";\n",
       "    },\n",
       "    function(Bokeh) {\n",
       "      console.log(\"Bokeh: injecting CSS: https://cdn.pydata.org/bokeh/release/bokeh-0.12.4.min.css\");\n",
       "      Bokeh.embed.inject_css(\"https://cdn.pydata.org/bokeh/release/bokeh-0.12.4.min.css\");\n",
       "      console.log(\"Bokeh: injecting CSS: https://cdn.pydata.org/bokeh/release/bokeh-widgets-0.12.4.min.css\");\n",
       "      Bokeh.embed.inject_css(\"https://cdn.pydata.org/bokeh/release/bokeh-widgets-0.12.4.min.css\");\n",
       "    }\n",
       "  ];\n",
       "\n",
       "  function run_inline_js() {\n",
       "    \n",
       "    if ((window.Bokeh !== undefined) || (force === true)) {\n",
       "      for (var i = 0; i < inline_js.length; i++) {\n",
       "        inline_js[i](window.Bokeh);\n",
       "      }if (force === true) {\n",
       "        display_loaded();\n",
       "      }} else if (Date.now() < window._bokeh_timeout) {\n",
       "      setTimeout(run_inline_js, 100);\n",
       "    } else if (!window._bokeh_failed_load) {\n",
       "      console.log(\"Bokeh: BokehJS failed to load within specified timeout.\");\n",
       "      window._bokeh_failed_load = true;\n",
       "    } else if (force !== true) {\n",
       "      var cell = $(document.getElementById(\"d707eb1a-583f-4fbf-bd7f-dc7f1c0659db\")).parents('.cell').data().cell;\n",
       "      cell.output_area.append_execute_result(NB_LOAD_WARNING)\n",
       "    }\n",
       "\n",
       "  }\n",
       "\n",
       "  if (window._bokeh_is_loading === 0) {\n",
       "    console.log(\"Bokeh: BokehJS loaded, going straight to plotting\");\n",
       "    run_inline_js();\n",
       "  } else {\n",
       "    load_libs(js_urls, function() {\n",
       "      console.log(\"Bokeh: BokehJS plotting callback run at\", now());\n",
       "      run_inline_js();\n",
       "    });\n",
       "  }\n",
       "}(this));"
      ]
     },
     "metadata": {},
     "output_type": "display_data"
    }
   ],
   "source": [
    "from bokeh.models import ColumnDataSource, LabelSet\n",
    "from bokeh.plotting import figure, show, output_file\n",
    "from bokeh.io import output_notebook\n",
    "output_notebook()"
   ]
  },
  {
   "cell_type": "markdown",
   "metadata": {
    "deletable": true,
    "editable": true
   },
   "source": [
    "### Part 0: Download the TED dataset"
   ]
  },
  {
   "cell_type": "code",
   "execution_count": 3,
   "metadata": {
    "collapsed": false,
    "deletable": true,
    "editable": true
   },
   "outputs": [],
   "source": [
    "import urllib.request\n",
    "import zipfile\n",
    "import lxml.etree"
   ]
  },
  {
   "cell_type": "code",
   "execution_count": 4,
   "metadata": {
    "collapsed": false,
    "deletable": true,
    "editable": true
   },
   "outputs": [],
   "source": [
    "# Download the dataset if it's not already there: this may take a minute as it is 75MB\n",
    "if not os.path.isfile('ted_en-20160408.zip'):\n",
    "    urllib.request.urlretrieve(\"https://wit3.fbk.eu/get.php?path=XML_releases/xml/ted_en-20160408.zip&filename=ted_en-20160408.zip\", filename=\"ted_en-20160408.zip\")"
   ]
  },
  {
   "cell_type": "code",
   "execution_count": 5,
   "metadata": {
    "collapsed": true,
    "deletable": true,
    "editable": true
   },
   "outputs": [],
   "source": [
    "# For now, we're only interested in the subtitle text, so let's extract that from the XML:\n",
    "with zipfile.ZipFile('ted_en-20160408.zip', 'r') as z:\n",
    "    doc = lxml.etree.parse(z.open('ted_en-20160408.xml', 'r'))\n",
    "input_text = '\\n'.join(doc.xpath('//content/text()'))\n",
    "del doc"
   ]
  },
  {
   "cell_type": "markdown",
   "metadata": {
    "deletable": true,
    "editable": true
   },
   "source": [
    "### Part 1: Preprocessing\n",
    "\n",
    "In this part, we attempt to clean up the raw subtitles a bit, so that we get only sentences. The following substring shows examples of what we're trying to get rid of. Since it's hard to define precisely what we want to get rid of, we'll just use some simple heuristics."
   ]
  },
  {
   "cell_type": "code",
   "execution_count": 6,
   "metadata": {
    "collapsed": false,
    "deletable": true,
    "editable": true,
    "scrolled": false
   },
   "outputs": [
    {
     "data": {
      "text/plain": [
       "' baby does.\\n(Video) Hyowon Gweon: See this? (Ball squeaks) Did you see that? (Ball squeaks) Cool. See this one? (Ball squeaks) Wow.\\nLaura Schulz: Told you. (Laughs)\\n(Vide'"
      ]
     },
     "execution_count": 6,
     "metadata": {},
     "output_type": "execute_result"
    }
   ],
   "source": [
    "i = input_text.find(\"Hyowon Gweon: See this?\")\n",
    "input_text[i-20:i+150]"
   ]
  },
  {
   "cell_type": "markdown",
   "metadata": {
    "deletable": true,
    "editable": true
   },
   "source": [
    "Let's start by removing all parenthesized strings using a regex:"
   ]
  },
  {
   "cell_type": "code",
   "execution_count": 7,
   "metadata": {
    "collapsed": true,
    "deletable": true,
    "editable": true
   },
   "outputs": [],
   "source": [
    "input_text_noparens = re.sub(r'\\([^)]*\\)', '', input_text)"
   ]
  },
  {
   "cell_type": "markdown",
   "metadata": {
    "deletable": true,
    "editable": true
   },
   "source": [
    "We can verify the same location in the text is now clean as follows. We won't worry about the irregular spaces since we'll later split the text into sentences and tokenize it anyway."
   ]
  },
  {
   "cell_type": "code",
   "execution_count": 8,
   "metadata": {
    "collapsed": false,
    "deletable": true,
    "editable": true
   },
   "outputs": [
    {
     "data": {
      "text/plain": [
       "\"hat the baby does.\\n Hyowon Gweon: See this?  Did you see that?  Cool. See this one?  Wow.\\nLaura Schulz: Told you. \\n HG: See this one?  Hey Clara, this one's for you. You \""
      ]
     },
     "execution_count": 8,
     "metadata": {},
     "output_type": "execute_result"
    }
   ],
   "source": [
    "i = input_text_noparens.find(\"Hyowon Gweon: See this?\")\n",
    "input_text_noparens[i-20:i+150]"
   ]
  },
  {
   "cell_type": "markdown",
   "metadata": {
    "deletable": true,
    "editable": true
   },
   "source": [
    "Now, let's attempt to remove speakers' names that occur at the beginning of a line, by deleting pieces of the form \"`<up to 20 characters>:`\", as shown in this example. Of course, this is an imperfect heuristic. "
   ]
  },
  {
   "cell_type": "code",
   "execution_count": 9,
   "metadata": {
    "collapsed": false,
    "deletable": true,
    "editable": true
   },
   "outputs": [
    {
     "data": {
      "text/plain": [
       "[\"Here are two reasons companies fail: they only do more of the same, or they only do what's new\",\n",
       " 'To me the real, real solution to quality growth is figuring out the balance between two activities: exploration and exploitation',\n",
       " ' Both are necessary, but it can be too much of a good thing',\n",
       " 'Consider Facit',\n",
       " \" I'm actually old enough to remember them\"]"
      ]
     },
     "execution_count": 9,
     "metadata": {},
     "output_type": "execute_result"
    }
   ],
   "source": [
    "sentences_strings_ted = []\n",
    "for line in input_text_noparens.split('\\n'):\n",
    "    m = re.match(r'^(?:(?P<precolon>[^:]{,20}):)?(?P<postcolon>.*)$', line)\n",
    "    sentences_strings_ted.extend(sent for sent in m.groupdict()['postcolon'].split('.') if sent)\n",
    "\n",
    "# Uncomment if you need to save some RAM: these strings are about 50MB.\n",
    "del input_text, input_text_noparens\n",
    "\n",
    "# Let's view the first few:\n",
    "sentences_strings_ted[:5]"
   ]
  },
  {
   "cell_type": "markdown",
   "metadata": {
    "deletable": true,
    "editable": true
   },
   "source": [
    "Now that we have sentences, we're ready to tokenize each of them into words. This tokenization is imperfect, of course. For instance, how many tokens is \"can't\", and where/how do we split it? We'll take the simplest naive approach of splitting on spaces. Before splitting, we remove non-alphanumeric characters, such as punctuation. You may want to consider the following question: why do we replace these characters with spaces rather than deleting them? Think of a case where this yields a different answer."
   ]
  },
  {
   "cell_type": "code",
   "execution_count": 10,
   "metadata": {
    "collapsed": false,
    "deletable": true,
    "editable": true
   },
   "outputs": [],
   "source": [
    "sentences_ted = []\n",
    "for sent_str in sentences_strings_ted:\n",
    "    tokens = re.sub(r\"[^a-z0-9]+\", \" \", sent_str.lower()).split()\n",
    "    sentences_ted.append(tokens)"
   ]
  },
  {
   "cell_type": "markdown",
   "metadata": {
    "deletable": true,
    "editable": true
   },
   "source": [
    "Two sample processed sentences:"
   ]
  },
  {
   "cell_type": "code",
   "execution_count": 11,
   "metadata": {
    "collapsed": false,
    "deletable": true,
    "editable": true
   },
   "outputs": [
    {
     "data": {
      "text/plain": [
       "266694"
      ]
     },
     "execution_count": 11,
     "metadata": {},
     "output_type": "execute_result"
    }
   ],
   "source": [
    "len(sentences_ted)"
   ]
  },
  {
   "cell_type": "code",
   "execution_count": 12,
   "metadata": {
    "collapsed": false,
    "deletable": true,
    "editable": true
   },
   "outputs": [
    {
     "name": "stdout",
     "output_type": "stream",
     "text": [
      "['here', 'are', 'two', 'reasons', 'companies', 'fail', 'they', 'only', 'do', 'more', 'of', 'the', 'same', 'or', 'they', 'only', 'do', 'what', 's', 'new']\n",
      "['to', 'me', 'the', 'real', 'real', 'solution', 'to', 'quality', 'growth', 'is', 'figuring', 'out', 'the', 'balance', 'between', 'two', 'activities', 'exploration', 'and', 'exploitation']\n"
     ]
    }
   ],
   "source": [
    "print(sentences_ted[0])\n",
    "print(sentences_ted[1])"
   ]
  },
  {
   "cell_type": "markdown",
   "metadata": {
    "deletable": true,
    "editable": true
   },
   "source": [
    "### Part 2: Word Frequencies"
   ]
  },
  {
   "cell_type": "markdown",
   "metadata": {
    "deletable": true,
    "editable": true
   },
   "source": [
    "If you store the counts of the top 1000 words in a list called `counts_ted_top1000`, the code below will plot the histogram requested in the writeup."
   ]
  },
  {
   "cell_type": "code",
   "execution_count": 13,
   "metadata": {
    "collapsed": false,
    "deletable": true,
    "editable": true
   },
   "outputs": [],
   "source": [
    "cnt = Counter()\n",
    "for sentence in sentences_ted:\n",
    "    for word in sentence:\n",
    "        cnt[word] += 1\n",
    "        \n",
    "counts_ted_top1000 = []\n",
    "for common_word in cnt.most_common(1000):\n",
    "    counts_ted_top1000.append(common_word[1])"
   ]
  },
  {
   "cell_type": "markdown",
   "metadata": {
    "deletable": true,
    "editable": true
   },
   "source": [
    "Plot distribution of top-1000 words"
   ]
  },
  {
   "cell_type": "code",
   "execution_count": 14,
   "metadata": {
    "collapsed": false,
    "deletable": true,
    "editable": true
   },
   "outputs": [
    {
     "data": {
      "text/html": [
       "\n",
       "\n",
       "    <div class=\"bk-root\">\n",
       "        <div class=\"bk-plotdiv\" id=\"f9602e4a-0fab-4649-afaf-0ebbae938147\"></div>\n",
       "    </div>\n",
       "<script type=\"text/javascript\">\n",
       "  \n",
       "  (function(global) {\n",
       "    function now() {\n",
       "      return new Date();\n",
       "    }\n",
       "  \n",
       "    var force = false;\n",
       "  \n",
       "    if (typeof (window._bokeh_onload_callbacks) === \"undefined\" || force === true) {\n",
       "      window._bokeh_onload_callbacks = [];\n",
       "      window._bokeh_is_loading = undefined;\n",
       "    }\n",
       "  \n",
       "  \n",
       "    \n",
       "    if (typeof (window._bokeh_timeout) === \"undefined\" || force === true) {\n",
       "      window._bokeh_timeout = Date.now() + 0;\n",
       "      window._bokeh_failed_load = false;\n",
       "    }\n",
       "  \n",
       "    var NB_LOAD_WARNING = {'data': {'text/html':\n",
       "       \"<div style='background-color: #fdd'>\\n\"+\n",
       "       \"<p>\\n\"+\n",
       "       \"BokehJS does not appear to have successfully loaded. If loading BokehJS from CDN, this \\n\"+\n",
       "       \"may be due to a slow or bad network connection. Possible fixes:\\n\"+\n",
       "       \"</p>\\n\"+\n",
       "       \"<ul>\\n\"+\n",
       "       \"<li>re-rerun `output_notebook()` to attempt to load from CDN again, or</li>\\n\"+\n",
       "       \"<li>use INLINE resources instead, as so:</li>\\n\"+\n",
       "       \"</ul>\\n\"+\n",
       "       \"<code>\\n\"+\n",
       "       \"from bokeh.resources import INLINE\\n\"+\n",
       "       \"output_notebook(resources=INLINE)\\n\"+\n",
       "       \"</code>\\n\"+\n",
       "       \"</div>\"}};\n",
       "  \n",
       "    function display_loaded() {\n",
       "      if (window.Bokeh !== undefined) {\n",
       "        document.getElementById(\"f9602e4a-0fab-4649-afaf-0ebbae938147\").textContent = \"BokehJS successfully loaded.\";\n",
       "      } else if (Date.now() < window._bokeh_timeout) {\n",
       "        setTimeout(display_loaded, 100)\n",
       "      }\n",
       "    }\n",
       "  \n",
       "    function run_callbacks() {\n",
       "      window._bokeh_onload_callbacks.forEach(function(callback) { callback() });\n",
       "      delete window._bokeh_onload_callbacks\n",
       "      console.info(\"Bokeh: all callbacks have finished\");\n",
       "    }\n",
       "  \n",
       "    function load_libs(js_urls, callback) {\n",
       "      window._bokeh_onload_callbacks.push(callback);\n",
       "      if (window._bokeh_is_loading > 0) {\n",
       "        console.log(\"Bokeh: BokehJS is being loaded, scheduling callback at\", now());\n",
       "        return null;\n",
       "      }\n",
       "      if (js_urls == null || js_urls.length === 0) {\n",
       "        run_callbacks();\n",
       "        return null;\n",
       "      }\n",
       "      console.log(\"Bokeh: BokehJS not loaded, scheduling load and callback at\", now());\n",
       "      window._bokeh_is_loading = js_urls.length;\n",
       "      for (var i = 0; i < js_urls.length; i++) {\n",
       "        var url = js_urls[i];\n",
       "        var s = document.createElement('script');\n",
       "        s.src = url;\n",
       "        s.async = false;\n",
       "        s.onreadystatechange = s.onload = function() {\n",
       "          window._bokeh_is_loading--;\n",
       "          if (window._bokeh_is_loading === 0) {\n",
       "            console.log(\"Bokeh: all BokehJS libraries loaded\");\n",
       "            run_callbacks()\n",
       "          }\n",
       "        };\n",
       "        s.onerror = function() {\n",
       "          console.warn(\"failed to load library \" + url);\n",
       "        };\n",
       "        console.log(\"Bokeh: injecting script tag for BokehJS library: \", url);\n",
       "        document.getElementsByTagName(\"head\")[0].appendChild(s);\n",
       "      }\n",
       "    };var element = document.getElementById(\"f9602e4a-0fab-4649-afaf-0ebbae938147\");\n",
       "    if (element == null) {\n",
       "      console.log(\"Bokeh: ERROR: autoload.js configured with elementid 'f9602e4a-0fab-4649-afaf-0ebbae938147' but no matching script tag was found. \")\n",
       "      return false;\n",
       "    }\n",
       "  \n",
       "    var js_urls = [];\n",
       "  \n",
       "    var inline_js = [\n",
       "      function(Bokeh) {\n",
       "        (function() {\n",
       "          var fn = function() {\n",
       "            var docs_json = {\"4a559f2a-6146-40e0-b281-0426eef8258f\":{\"roots\":{\"references\":[{\"attributes\":{\"plot\":null,\"text\":\"Top-1000 words distribution\"},\"id\":\"d9566339-4693-409f-b081-62320c53d896\",\"type\":\"Title\"},{\"attributes\":{\"formatter\":{\"id\":\"061e829c-40f6-4d3b-930a-ac2be62ee331\",\"type\":\"BasicTickFormatter\"},\"plot\":{\"id\":\"85910830-07a5-4f80-bd1a-4d8ab35dc373\",\"subtype\":\"Figure\",\"type\":\"Plot\"},\"ticker\":{\"id\":\"17e14ab2-8b2b-4892-b24e-05647f23f7e6\",\"type\":\"BasicTicker\"}},\"id\":\"0adda39d-2f58-4230-8efb-407fa50e1f36\",\"type\":\"LinearAxis\"},{\"attributes\":{},\"id\":\"0644340d-5eac-4028-bb3b-354089572fc4\",\"type\":\"BasicTickFormatter\"},{\"attributes\":{},\"id\":\"061e829c-40f6-4d3b-930a-ac2be62ee331\",\"type\":\"BasicTickFormatter\"},{\"attributes\":{\"plot\":{\"id\":\"85910830-07a5-4f80-bd1a-4d8ab35dc373\",\"subtype\":\"Figure\",\"type\":\"Plot\"},\"ticker\":{\"id\":\"17e14ab2-8b2b-4892-b24e-05647f23f7e6\",\"type\":\"BasicTicker\"}},\"id\":\"fecd12a4-54e8-48c9-8604-26bc98a1465d\",\"type\":\"Grid\"},{\"attributes\":{},\"id\":\"17e14ab2-8b2b-4892-b24e-05647f23f7e6\",\"type\":\"BasicTicker\"},{\"attributes\":{\"bottom\":{\"value\":0},\"fill_color\":{\"value\":\"#1f77b4\"},\"left\":{\"field\":\"left\"},\"line_color\":{\"value\":\"#555555\"},\"right\":{\"field\":\"right\"},\"top\":{\"field\":\"top\"}},\"id\":\"02445cd8-7068-4327-ae3e-e62a134c0b3c\",\"type\":\"Quad\"},{\"attributes\":{\"data_source\":{\"id\":\"781f10a0-396e-41a9-8450-8a47a080bc51\",\"type\":\"ColumnDataSource\"},\"glyph\":{\"id\":\"02445cd8-7068-4327-ae3e-e62a134c0b3c\",\"type\":\"Quad\"},\"hover_glyph\":null,\"nonselection_glyph\":{\"id\":\"1041c3e1-59f6-4a04-a9d6-f84c606340f0\",\"type\":\"Quad\"},\"selection_glyph\":null},\"id\":\"6d176215-9792-4a86-944c-132223cefbfa\",\"type\":\"GlyphRenderer\"},{\"attributes\":{},\"id\":\"77fa6554-d6c0-449e-8c3e-fd6275b9d40f\",\"type\":\"BasicTicker\"},{\"attributes\":{\"plot\":{\"id\":\"85910830-07a5-4f80-bd1a-4d8ab35dc373\",\"subtype\":\"Figure\",\"type\":\"Plot\"}},\"id\":\"1a1ae483-bfcf-4179-ae7b-d7460a67df23\",\"type\":\"WheelZoomTool\"},{\"attributes\":{\"callback\":null,\"column_names\":[\"top\",\"left\",\"right\"],\"data\":{\"left\":{\"__ndarray__\":\"AAAAAABAeUB7FK5H4VqjQHsUrkfhxrFAuB6F61HguUB7FK5H4fzAQJqZmZmZCcVAuB6F61EWyUDXo3A9CiPNQHsUrkfhl9BACtejcD2e0kCamZmZmaTUQClcj8L1qtZAuB6F61Gx2EBI4XoUrrfaQNejcD0KvtxAZ2ZmZmbE3kB7FK5HYWXgQMP1KFyPaOFACtejcL1r4kBSuB6F627jQJqZmZkZcuRA4XoUrkd15UApXI/CdXjmQHE9Cteje+dAuB6F69F+6EAAAAAAAILpQEjhehQuhepAkML1KFyI60DXo3A9iovsQB+F61G4ju1AZ2ZmZuaR7kCuR+F6FJXvQHsUrkchTPBAH4XrUbjN8EDD9ShcT0/xQGdmZmbm0PFACtejcH1S8kCuR+F6FNTyQFK4HoWrVfNA9ihcj0LX80CamZmZ2Vj0QD4K16Nw2vRA4XoUrgdc9UCF61G4nt31QClcj8I1X/ZAzczMzMzg9kBxPQrXY2L3QBWuR+H64/dAuB6F65Fl+EBcj8L1KOf4QAAAAADAaPlApHA9Clfq+UBI4XoU7mv6QOxRuB6F7fpAkML1KBxv+0AzMzMzs/D7QNejcD1KcvxAexSuR+Hz/EAfhetReHX9QMP1KFwP9/1AZ2ZmZqZ4/kAK16NwPfr+QK5H4XrUe/9AUrgehWv9/0B7FK5HgT8AQc3MzMxMgABBH4XrURjBAEFxPQrX4wEBQcP1KFyvQgFBFa5H4XqDAUFnZmZmRsQBQbgehesRBQJBCtejcN1FAkFcj8L1qIYCQa5H4Xp0xwJBAAAAAEAIA0FSuB6FC0kDQaRwPQrXiQNB9ihcj6LKA0FI4XoUbgsEQZqZmZk5TARB7FG4HgWNBEE+Ctej0M0EQZDC9SicDgVB4XoUrmdPBUEzMzMzM5AFQYXrUbj+0AVB16NwPcoRBkEpXI/ClVIGQXsUrkdhkwZBzczMzCzUBkEfhetR+BQHQXE9CtfDVQdBw/UoXI+WB0EVrkfhWtcHQWdmZmYmGAhBuB6F6/FYCEEK16NwvZkIQVyPwvWI2ghBrkfhelQbCUE=\",\"dtype\":\"float64\",\"shape\":[100]},\"right\":{\"__ndarray__\":\"exSuR+Fao0B7FK5H4caxQLgehetR4LlAexSuR+H8wECamZmZmQnFQLgehetRFslA16NwPQojzUB7FK5H4ZfQQArXo3A9ntJAmpmZmZmk1EApXI/C9arWQLgehetRsdhASOF6FK632kDXo3A9Cr7cQGdmZmZmxN5AexSuR2Fl4EDD9Shcj2jhQArXo3C9a+JAUrgehetu40CamZmZGXLkQOF6FK5HdeVAKVyPwnV45kBxPQrXo3vnQLgehevRfuhAAAAAAACC6UBI4XoULoXqQJDC9ShciOtA16NwPYqL7EAfhetRuI7tQGdmZmbmke5ArkfhehSV70B7FK5HIUzwQB+F61G4zfBAw/UoXE9P8UBnZmZm5tDxQArXo3B9UvJArkfhehTU8kBSuB6Fq1XzQPYoXI9C1/NAmpmZmdlY9EA+CtejcNr0QOF6FK4HXPVAhetRuJ7d9UApXI/CNV/2QM3MzMzM4PZAcT0K12Ni90AVrkfh+uP3QLgeheuRZfhAXI/C9Sjn+EAAAAAAwGj5QKRwPQpX6vlASOF6FO5r+kDsUbgehe36QJDC9Sgcb/tAMzMzM7Pw+0DXo3A9SnL8QHsUrkfh8/xAH4XrUXh1/UDD9ShcD/f9QGdmZmameP5ACtejcD36/kCuR+F61Hv/QFK4HoVr/f9AexSuR4E/AEHNzMzMTIAAQR+F61EYwQBBcT0K1+MBAUHD9Shcr0IBQRWuR+F6gwFBZ2ZmZkbEAUG4HoXrEQUCQQrXo3DdRQJBXI/C9aiGAkGuR+F6dMcCQQAAAABACANBUrgehQtJA0GkcD0K14kDQfYoXI+iygNBSOF6FG4LBEGamZmZOUwEQexRuB4FjQRBPgrXo9DNBEGQwvUonA4FQeF6FK5nTwVBMzMzMzOQBUGF61G4/tAFQdejcD3KEQZBKVyPwpVSBkF7FK5HYZMGQc3MzMws1AZBH4XrUfgUB0FxPQrXw1UHQcP1KFyPlgdBFa5H4VrXB0FnZmZmJhgIQbgehevxWAhBCtejcL2ZCEFcj8L1iNoIQa5H4XpUGwlBAAAAACBcCUE=\",\"dtype\":\"float64\",\"shape\":[100]},\"top\":{\"__ndarray__\":\"50H1zNSBOT/ypb1tgHIBPwsriUb5Uew+zuTFiLI04j78kGUPxTHhPh40R25oQNY+zuTFiLI00j4pPQWW1y7APsTbB2FDRsg+JT0FltcuwD4tPQWW1y6wPi09BZbXLrA+JT0FltcuwD4tPQWW1y6gPiU9BZbXLrA+LT0FltcuoD4AAAAAAAAAADU9BZbXLqA+AAAAAAAAAAAAAAAAAAAAAAAAAAAAAAAAAAAAAAAAAAAAAAAAAAAAADU9BZbXLqA+AAAAAAAAAAAAAAAAAAAAAAAAAAAAAAAANT0FltcuoD4AAAAAAAAAAAAAAAAAAAAANT0FltcuoD4AAAAAAAAAACU9BZbXLqA+AAAAAAAAAAAlPQWW1y6gPkU9BZbXLqA+AAAAAAAAAAAlPQWW1y6gPgAAAAAAAAAAJT0FltcuoD4AAAAAAAAAAAAAAAAAAAAAAAAAAAAAAAAAAAAAAAAAAAAAAAAAAAAAJT0FltcuoD4AAAAAAAAAAAAAAAAAAAAAAAAAAAAAAAAAAAAAAAAAACU9BZbXLqA+AAAAAAAAAAAAAAAAAAAAAAAAAAAAAAAAAAAAAAAAAAAlPQWW1y6gPgAAAAAAAAAAAAAAAAAAAAAAAAAAAAAAAAAAAAAAAAAART0FltcuoD4AAAAAAAAAAAAAAAAAAAAAAAAAAAAAAAAAAAAAAAAAAAAAAAAAAAAAAAAAAAAAAAAAAAAAAAAAAAAAAAAAAAAAAAAAAAAAAAAAAAAAAAAAACU9BZbXLqA+AAAAAAAAAAAAAAAAAAAAAAAAAAAAAAAAAAAAAAAAAAAAAAAAAAAAAAAAAAAAAAAAAAAAAAAAAAAAAAAAAAAAAAAAAAAAAAAAAAAAAAAAAAAAAAAAAAAAAAAAAAAAAAAAAAAAAAAAAAAAAAAAAAAAAAAAAAAAAAAAAAAAAAAAAAAAAAAAAAAAAAAAAAAAAAAAAAAAAAAAAAAAAAAAAAAAAAAAAAAAAAAAAAAAAAAAAAAAAAAAAAAAAAAAAAAAAAAAAAAAAAAAAAAAAAAAAAAAAAAAAAAAAAAAJT0FltcuoD4=\",\"dtype\":\"float64\",\"shape\":[100]}}},\"id\":\"781f10a0-396e-41a9-8450-8a47a080bc51\",\"type\":\"ColumnDataSource\"},{\"attributes\":{\"active_drag\":\"auto\",\"active_scroll\":\"auto\",\"active_tap\":\"auto\",\"tools\":[{\"id\":\"e27d11a1-af6b-45a5-be3d-766a0aef9abf\",\"type\":\"PanTool\"},{\"id\":\"1a1ae483-bfcf-4179-ae7b-d7460a67df23\",\"type\":\"WheelZoomTool\"},{\"id\":\"d5de4c6c-e21c-48fb-89c4-37de11929576\",\"type\":\"ResetTool\"},{\"id\":\"a367b473-b684-494f-8262-3ba637a810ad\",\"type\":\"SaveTool\"}]},\"id\":\"9f41521d-87fc-4554-8d58-262deee51013\",\"type\":\"Toolbar\"},{\"attributes\":{\"bottom\":{\"value\":0},\"fill_alpha\":{\"value\":0.1},\"fill_color\":{\"value\":\"#1f77b4\"},\"left\":{\"field\":\"left\"},\"line_alpha\":{\"value\":0.1},\"line_color\":{\"value\":\"#1f77b4\"},\"right\":{\"field\":\"right\"},\"top\":{\"field\":\"top\"}},\"id\":\"1041c3e1-59f6-4a04-a9d6-f84c606340f0\",\"type\":\"Quad\"},{\"attributes\":{\"dimension\":1,\"plot\":{\"id\":\"85910830-07a5-4f80-bd1a-4d8ab35dc373\",\"subtype\":\"Figure\",\"type\":\"Plot\"},\"ticker\":{\"id\":\"77fa6554-d6c0-449e-8c3e-fd6275b9d40f\",\"type\":\"BasicTicker\"}},\"id\":\"4face26d-373b-4511-b7b2-0027099def3b\",\"type\":\"Grid\"},{\"attributes\":{},\"id\":\"cac842ef-e7e0-4830-866b-f31a5400dc3f\",\"type\":\"ToolEvents\"},{\"attributes\":{\"formatter\":{\"id\":\"0644340d-5eac-4028-bb3b-354089572fc4\",\"type\":\"BasicTickFormatter\"},\"plot\":{\"id\":\"85910830-07a5-4f80-bd1a-4d8ab35dc373\",\"subtype\":\"Figure\",\"type\":\"Plot\"},\"ticker\":{\"id\":\"77fa6554-d6c0-449e-8c3e-fd6275b9d40f\",\"type\":\"BasicTicker\"}},\"id\":\"b3d266bb-7ff5-4283-a5fb-937a119999b9\",\"type\":\"LinearAxis\"},{\"attributes\":{\"callback\":null},\"id\":\"882ad911-801c-4e14-9c21-0b87ec420173\",\"type\":\"DataRange1d\"},{\"attributes\":{\"plot\":{\"id\":\"85910830-07a5-4f80-bd1a-4d8ab35dc373\",\"subtype\":\"Figure\",\"type\":\"Plot\"}},\"id\":\"a367b473-b684-494f-8262-3ba637a810ad\",\"type\":\"SaveTool\"},{\"attributes\":{\"callback\":null},\"id\":\"7123acea-dace-4772-a13a-a8ae49a77990\",\"type\":\"DataRange1d\"},{\"attributes\":{\"plot\":{\"id\":\"85910830-07a5-4f80-bd1a-4d8ab35dc373\",\"subtype\":\"Figure\",\"type\":\"Plot\"}},\"id\":\"e27d11a1-af6b-45a5-be3d-766a0aef9abf\",\"type\":\"PanTool\"},{\"attributes\":{\"plot\":{\"id\":\"85910830-07a5-4f80-bd1a-4d8ab35dc373\",\"subtype\":\"Figure\",\"type\":\"Plot\"}},\"id\":\"d5de4c6c-e21c-48fb-89c4-37de11929576\",\"type\":\"ResetTool\"},{\"attributes\":{\"below\":[{\"id\":\"0adda39d-2f58-4230-8efb-407fa50e1f36\",\"type\":\"LinearAxis\"}],\"left\":[{\"id\":\"b3d266bb-7ff5-4283-a5fb-937a119999b9\",\"type\":\"LinearAxis\"}],\"renderers\":[{\"id\":\"0adda39d-2f58-4230-8efb-407fa50e1f36\",\"type\":\"LinearAxis\"},{\"id\":\"fecd12a4-54e8-48c9-8604-26bc98a1465d\",\"type\":\"Grid\"},{\"id\":\"b3d266bb-7ff5-4283-a5fb-937a119999b9\",\"type\":\"LinearAxis\"},{\"id\":\"4face26d-373b-4511-b7b2-0027099def3b\",\"type\":\"Grid\"},{\"id\":\"6d176215-9792-4a86-944c-132223cefbfa\",\"type\":\"GlyphRenderer\"}],\"title\":{\"id\":\"d9566339-4693-409f-b081-62320c53d896\",\"type\":\"Title\"},\"tool_events\":{\"id\":\"cac842ef-e7e0-4830-866b-f31a5400dc3f\",\"type\":\"ToolEvents\"},\"toolbar\":{\"id\":\"9f41521d-87fc-4554-8d58-262deee51013\",\"type\":\"Toolbar\"},\"toolbar_location\":\"above\",\"x_range\":{\"id\":\"882ad911-801c-4e14-9c21-0b87ec420173\",\"type\":\"DataRange1d\"},\"y_range\":{\"id\":\"7123acea-dace-4772-a13a-a8ae49a77990\",\"type\":\"DataRange1d\"}},\"id\":\"85910830-07a5-4f80-bd1a-4d8ab35dc373\",\"subtype\":\"Figure\",\"type\":\"Plot\"}],\"root_ids\":[\"85910830-07a5-4f80-bd1a-4d8ab35dc373\"]},\"title\":\"Bokeh Application\",\"version\":\"0.12.4\"}};\n",
       "            var render_items = [{\"docid\":\"4a559f2a-6146-40e0-b281-0426eef8258f\",\"elementid\":\"f9602e4a-0fab-4649-afaf-0ebbae938147\",\"modelid\":\"85910830-07a5-4f80-bd1a-4d8ab35dc373\"}];\n",
       "            \n",
       "            Bokeh.embed.embed_items(docs_json, render_items);\n",
       "          };\n",
       "          if (document.readyState != \"loading\") fn();\n",
       "          else document.addEventListener(\"DOMContentLoaded\", fn);\n",
       "        })();\n",
       "      },\n",
       "      function(Bokeh) {\n",
       "      }\n",
       "    ];\n",
       "  \n",
       "    function run_inline_js() {\n",
       "      \n",
       "      if ((window.Bokeh !== undefined) || (force === true)) {\n",
       "        for (var i = 0; i < inline_js.length; i++) {\n",
       "          inline_js[i](window.Bokeh);\n",
       "        }if (force === true) {\n",
       "          display_loaded();\n",
       "        }} else if (Date.now() < window._bokeh_timeout) {\n",
       "        setTimeout(run_inline_js, 100);\n",
       "      } else if (!window._bokeh_failed_load) {\n",
       "        console.log(\"Bokeh: BokehJS failed to load within specified timeout.\");\n",
       "        window._bokeh_failed_load = true;\n",
       "      } else if (force !== true) {\n",
       "        var cell = $(document.getElementById(\"f9602e4a-0fab-4649-afaf-0ebbae938147\")).parents('.cell').data().cell;\n",
       "        cell.output_area.append_execute_result(NB_LOAD_WARNING)\n",
       "      }\n",
       "  \n",
       "    }\n",
       "  \n",
       "    if (window._bokeh_is_loading === 0) {\n",
       "      console.log(\"Bokeh: BokehJS loaded, going straight to plotting\");\n",
       "      run_inline_js();\n",
       "    } else {\n",
       "      load_libs(js_urls, function() {\n",
       "        console.log(\"Bokeh: BokehJS plotting callback run at\", now());\n",
       "        run_inline_js();\n",
       "      });\n",
       "    }\n",
       "  }(this));\n",
       "</script>"
      ]
     },
     "metadata": {},
     "output_type": "display_data"
    }
   ],
   "source": [
    "hist, edges = np.histogram(counts_ted_top1000, density=True, bins=100, normed=True)\n",
    "\n",
    "p = figure(tools=\"pan,wheel_zoom,reset,save\",\n",
    "           toolbar_location=\"above\",\n",
    "           title=\"Top-1000 words distribution\")\n",
    "p.quad(top=hist, bottom=0, left=edges[:-1], right=edges[1:], line_color=\"#555555\")\n",
    "show(p)"
   ]
  },
  {
   "cell_type": "markdown",
   "metadata": {
    "deletable": true,
    "editable": true
   },
   "source": [
    "### Part 3: Train Word2Vec"
   ]
  },
  {
   "cell_type": "code",
   "execution_count": 15,
   "metadata": {
    "collapsed": false,
    "deletable": true,
    "editable": true
   },
   "outputs": [],
   "source": [
    "from gensim.models import Word2Vec"
   ]
  },
  {
   "cell_type": "code",
   "execution_count": 16,
   "metadata": {
    "collapsed": true,
    "deletable": true,
    "editable": true
   },
   "outputs": [],
   "source": [
    "model_ted = Word2Vec(sentences_ted, min_count=10)"
   ]
  },
  {
   "cell_type": "markdown",
   "metadata": {
    "deletable": true,
    "editable": true
   },
   "source": [
    "### Part 4: Ted Learnt Representations"
   ]
  },
  {
   "cell_type": "markdown",
   "metadata": {
    "deletable": true,
    "editable": true
   },
   "source": [
    "Finding similar words: (see gensim docs for more functionality of `most_similar`)"
   ]
  },
  {
   "cell_type": "code",
   "execution_count": 17,
   "metadata": {
    "collapsed": false,
    "deletable": true,
    "editable": true
   },
   "outputs": [
    {
     "data": {
      "text/plain": [
       "[('woman', 0.8464276194572449),\n",
       " ('guy', 0.8117212653160095),\n",
       " ('lady', 0.7845437526702881),\n",
       " ('boy', 0.7500167489051819),\n",
       " ('girl', 0.7474347352981567),\n",
       " ('soldier', 0.7358961701393127),\n",
       " ('gentleman', 0.7250220775604248),\n",
       " ('kid', 0.7168384194374084),\n",
       " ('poet', 0.6808714866638184),\n",
       " ('david', 0.6690399646759033)]"
      ]
     },
     "execution_count": 17,
     "metadata": {},
     "output_type": "execute_result"
    }
   ],
   "source": [
    "model_ted.most_similar(\"man\")"
   ]
  },
  {
   "cell_type": "code",
   "execution_count": 18,
   "metadata": {
    "collapsed": false,
    "deletable": true,
    "editable": true
   },
   "outputs": [
    {
     "data": {
      "text/plain": [
       "[('machine', 0.7290557026863098),\n",
       " ('software', 0.7165789008140564),\n",
       " ('robot', 0.6877277493476868),\n",
       " ('device', 0.657833993434906),\n",
       " ('3d', 0.6553381681442261),\n",
       " ('program', 0.6498261094093323),\n",
       " ('interface', 0.6478599905967712),\n",
       " ('camera', 0.6341917514801025),\n",
       " ('desktop', 0.6335300803184509),\n",
       " ('mechanical', 0.6237662434577942)]"
      ]
     },
     "execution_count": 18,
     "metadata": {},
     "output_type": "execute_result"
    }
   ],
   "source": [
    "model_ted.most_similar(\"computer\")"
   ]
  },
  {
   "cell_type": "code",
   "execution_count": 19,
   "metadata": {
    "collapsed": true,
    "deletable": true,
    "editable": true
   },
   "outputs": [],
   "source": [
    "# ..."
   ]
  },
  {
   "cell_type": "markdown",
   "metadata": {
    "deletable": true,
    "editable": true
   },
   "source": [
    "#### t-SNE visualization\n",
    "To use the t-SNE code below, first put a list of the top 1000 words (as strings) into a variable `words_top_ted`. The following code gets the corresponding vectors from the model, assuming it's called `model_ted`:"
   ]
  },
  {
   "cell_type": "code",
   "execution_count": 20,
   "metadata": {
    "collapsed": false,
    "deletable": true,
    "editable": true
   },
   "outputs": [],
   "source": [
    "words_top_ted = []\n",
    "for common_word in cnt.most_common(1000):\n",
    "    words_top_ted.append(common_word[0])\n",
    "\n",
    "# This assumes words_top_ted is a list of strings, the top 1000 words\n",
    "words_top_vec_ted = model_ted[words_top_ted]"
   ]
  },
  {
   "cell_type": "code",
   "execution_count": 21,
   "metadata": {
    "collapsed": false,
    "deletable": true,
    "editable": true
   },
   "outputs": [],
   "source": [
    "from sklearn.manifold import TSNE\n",
    "tsne = TSNE(n_components=2, random_state=0)\n",
    "words_top_ted_tsne = tsne.fit_transform(words_top_vec_ted)"
   ]
  },
  {
   "cell_type": "code",
   "execution_count": 22,
   "metadata": {
    "collapsed": false,
    "deletable": true,
    "editable": true
   },
   "outputs": [
    {
     "data": {
      "text/html": [
       "\n",
       "\n",
       "    <div class=\"bk-root\">\n",
       "        <div class=\"bk-plotdiv\" id=\"5b61aba9-fe7f-4456-8a30-237b06c7a32c\"></div>\n",
       "    </div>\n",
       "<script type=\"text/javascript\">\n",
       "  \n",
       "  (function(global) {\n",
       "    function now() {\n",
       "      return new Date();\n",
       "    }\n",
       "  \n",
       "    var force = false;\n",
       "  \n",
       "    if (typeof (window._bokeh_onload_callbacks) === \"undefined\" || force === true) {\n",
       "      window._bokeh_onload_callbacks = [];\n",
       "      window._bokeh_is_loading = undefined;\n",
       "    }\n",
       "  \n",
       "  \n",
       "    \n",
       "    if (typeof (window._bokeh_timeout) === \"undefined\" || force === true) {\n",
       "      window._bokeh_timeout = Date.now() + 0;\n",
       "      window._bokeh_failed_load = false;\n",
       "    }\n",
       "  \n",
       "    var NB_LOAD_WARNING = {'data': {'text/html':\n",
       "       \"<div style='background-color: #fdd'>\\n\"+\n",
       "       \"<p>\\n\"+\n",
       "       \"BokehJS does not appear to have successfully loaded. If loading BokehJS from CDN, this \\n\"+\n",
       "       \"may be due to a slow or bad network connection. Possible fixes:\\n\"+\n",
       "       \"</p>\\n\"+\n",
       "       \"<ul>\\n\"+\n",
       "       \"<li>re-rerun `output_notebook()` to attempt to load from CDN again, or</li>\\n\"+\n",
       "       \"<li>use INLINE resources instead, as so:</li>\\n\"+\n",
       "       \"</ul>\\n\"+\n",
       "       \"<code>\\n\"+\n",
       "       \"from bokeh.resources import INLINE\\n\"+\n",
       "       \"output_notebook(resources=INLINE)\\n\"+\n",
       "       \"</code>\\n\"+\n",
       "       \"</div>\"}};\n",
       "  \n",
       "    function display_loaded() {\n",
       "      if (window.Bokeh !== undefined) {\n",
       "        document.getElementById(\"5b61aba9-fe7f-4456-8a30-237b06c7a32c\").textContent = \"BokehJS successfully loaded.\";\n",
       "      } else if (Date.now() < window._bokeh_timeout) {\n",
       "        setTimeout(display_loaded, 100)\n",
       "      }\n",
       "    }\n",
       "  \n",
       "    function run_callbacks() {\n",
       "      window._bokeh_onload_callbacks.forEach(function(callback) { callback() });\n",
       "      delete window._bokeh_onload_callbacks\n",
       "      console.info(\"Bokeh: all callbacks have finished\");\n",
       "    }\n",
       "  \n",
       "    function load_libs(js_urls, callback) {\n",
       "      window._bokeh_onload_callbacks.push(callback);\n",
       "      if (window._bokeh_is_loading > 0) {\n",
       "        console.log(\"Bokeh: BokehJS is being loaded, scheduling callback at\", now());\n",
       "        return null;\n",
       "      }\n",
       "      if (js_urls == null || js_urls.length === 0) {\n",
       "        run_callbacks();\n",
       "        return null;\n",
       "      }\n",
       "      console.log(\"Bokeh: BokehJS not loaded, scheduling load and callback at\", now());\n",
       "      window._bokeh_is_loading = js_urls.length;\n",
       "      for (var i = 0; i < js_urls.length; i++) {\n",
       "        var url = js_urls[i];\n",
       "        var s = document.createElement('script');\n",
       "        s.src = url;\n",
       "        s.async = false;\n",
       "        s.onreadystatechange = s.onload = function() {\n",
       "          window._bokeh_is_loading--;\n",
       "          if (window._bokeh_is_loading === 0) {\n",
       "            console.log(\"Bokeh: all BokehJS libraries loaded\");\n",
       "            run_callbacks()\n",
       "          }\n",
       "        };\n",
       "        s.onerror = function() {\n",
       "          console.warn(\"failed to load library \" + url);\n",
       "        };\n",
       "        console.log(\"Bokeh: injecting script tag for BokehJS library: \", url);\n",
       "        document.getElementsByTagName(\"head\")[0].appendChild(s);\n",
       "      }\n",
       "    };var element = document.getElementById(\"5b61aba9-fe7f-4456-8a30-237b06c7a32c\");\n",
       "    if (element == null) {\n",
       "      console.log(\"Bokeh: ERROR: autoload.js configured with elementid '5b61aba9-fe7f-4456-8a30-237b06c7a32c' but no matching script tag was found. \")\n",
       "      return false;\n",
       "    }\n",
       "  \n",
       "    var js_urls = [];\n",
       "  \n",
       "    var inline_js = [\n",
       "      function(Bokeh) {\n",
       "        (function() {\n",
       "          var fn = function() {\n",
       "            var docs_json = {\"cc0bcd62-a6fc-4171-9411-33c80f5fc52d\":{\"roots\":{\"references\":[{\"attributes\":{\"formatter\":{\"id\":\"43f4c32c-ea6b-4f93-8415-a8d334b1a8a1\",\"type\":\"BasicTickFormatter\"},\"plot\":{\"id\":\"ce1d27e8-9e51-4c78-b00a-1738a8b760d4\",\"subtype\":\"Figure\",\"type\":\"Plot\"},\"ticker\":{\"id\":\"01bc9411-3602-4a70-96a3-c6ffac3dd7cd\",\"type\":\"BasicTicker\"}},\"id\":\"e327baa0-00ff-4107-9c74-b539f37f7e4c\",\"type\":\"LinearAxis\"},{\"attributes\":{\"below\":[{\"id\":\"81af182b-3077-4ab8-9d65-1812a3cf3287\",\"type\":\"LinearAxis\"}],\"left\":[{\"id\":\"e327baa0-00ff-4107-9c74-b539f37f7e4c\",\"type\":\"LinearAxis\"}],\"renderers\":[{\"id\":\"81af182b-3077-4ab8-9d65-1812a3cf3287\",\"type\":\"LinearAxis\"},{\"id\":\"fa2333f7-3c9c-4189-bb76-7a84bd5c6fbe\",\"type\":\"Grid\"},{\"id\":\"e327baa0-00ff-4107-9c74-b539f37f7e4c\",\"type\":\"LinearAxis\"},{\"id\":\"92e1763b-18e5-4e9b-877b-428e20c2f2cf\",\"type\":\"Grid\"},{\"id\":\"b10459b4-8150-4ddb-94e8-c9cd372f3c0a\",\"type\":\"GlyphRenderer\"},{\"id\":\"03abc935-cc61-4e2d-b3bf-cc8e2c06d1db\",\"type\":\"LabelSet\"}],\"title\":{\"id\":\"784b0191-7319-4772-adda-0f187e95110e\",\"type\":\"Title\"},\"tool_events\":{\"id\":\"8e89f2fe-0763-4926-963b-4ec5e88d45a6\",\"type\":\"ToolEvents\"},\"toolbar\":{\"id\":\"d7b9b98a-0211-4b8a-b221-1244c202b49a\",\"type\":\"Toolbar\"},\"toolbar_location\":\"above\",\"x_range\":{\"id\":\"90e51eb8-8f0f-4cf7-be51-018af028fee2\",\"type\":\"DataRange1d\"},\"y_range\":{\"id\":\"d4853252-1bec-4344-ad64-c83926de5573\",\"type\":\"DataRange1d\"}},\"id\":\"ce1d27e8-9e51-4c78-b00a-1738a8b760d4\",\"subtype\":\"Figure\",\"type\":\"Plot\"},{\"attributes\":{\"plot\":{\"id\":\"ce1d27e8-9e51-4c78-b00a-1738a8b760d4\",\"subtype\":\"Figure\",\"type\":\"Plot\"}},\"id\":\"2cf212cb-a163-425f-a6a0-8f1e3b2f2cb2\",\"type\":\"SaveTool\"},{\"attributes\":{\"active_drag\":\"auto\",\"active_scroll\":\"auto\",\"active_tap\":\"auto\",\"tools\":[{\"id\":\"67a930d0-e6b7-4256-9a3b-215d4d3bfecb\",\"type\":\"PanTool\"},{\"id\":\"c6dce346-37b1-47c7-9ac1-ee35e27db4a3\",\"type\":\"WheelZoomTool\"},{\"id\":\"e9f66139-b842-49ce-9d81-2ad14f920f0b\",\"type\":\"ResetTool\"},{\"id\":\"2cf212cb-a163-425f-a6a0-8f1e3b2f2cb2\",\"type\":\"SaveTool\"}]},\"id\":\"d7b9b98a-0211-4b8a-b221-1244c202b49a\",\"type\":\"Toolbar\"},{\"attributes\":{\"callback\":null,\"column_names\":[\"x2\",\"names\",\"x1\"],\"data\":{\"names\":[\"the\",\"and\",\"to\",\"of\",\"a\",\"that\",\"i\",\"in\",\"it\",\"you\",\"we\",\"is\",\"s\",\"this\",\"so\",\"they\",\"was\",\"for\",\"are\",\"have\",\"but\",\"what\",\"on\",\"with\",\"can\",\"t\",\"about\",\"there\",\"be\",\"as\",\"at\",\"all\",\"not\",\"do\",\"my\",\"one\",\"re\",\"people\",\"like\",\"if\",\"from\",\"now\",\"our\",\"he\",\"an\",\"just\",\"these\",\"or\",\"when\",\"because\",\"very\",\"me\",\"out\",\"by\",\"them\",\"how\",\"know\",\"up\",\"going\",\"had\",\"more\",\"think\",\"who\",\"were\",\"see\",\"your\",\"their\",\"which\",\"would\",\"here\",\"really\",\"get\",\"ve\",\"then\",\"m\",\"world\",\"us\",\"time\",\"some\",\"has\",\"don\",\"actually\",\"into\",\"way\",\"where\",\"will\",\"years\",\"things\",\"other\",\"no\",\"could\",\"go\",\"well\",\"want\",\"been\",\"make\",\"right\",\"she\",\"said\",\"something\",\"those\",\"first\",\"two\",\"than\",\"much\",\"also\",\"look\",\"new\",\"thing\",\"little\",\"got\",\"back\",\"over\",\"most\",\"say\",\"even\",\"his\",\"life\",\"only\",\"work\",\"many\",\"take\",\"need\",\"did\",\"lot\",\"kind\",\"why\",\"good\",\"around\",\"every\",\"different\",\"down\",\"ll\",\"let\",\"her\",\"through\",\"same\",\"being\",\"come\",\"d\",\"day\",\"year\",\"three\",\"use\",\"doing\",\"put\",\"called\",\"any\",\"today\",\"percent\",\"made\",\"after\",\"thank\",\"tell\",\"great\",\"human\",\"find\",\"didn\",\"fact\",\"talk\",\"change\",\"started\",\"another\",\"idea\",\"big\",\"last\",\"own\",\"before\",\"its\",\"never\",\"should\",\"better\",\"give\",\"thought\",\"went\",\"might\",\"important\",\"000\",\"again\",\"able\",\"together\",\"still\",\"problem\",\"off\",\"next\",\"part\",\"course\",\"system\",\"him\",\"does\",\"each\",\"start\",\"show\",\"long\",\"ago\",\"story\",\"came\",\"brain\",\"few\",\"bit\",\"between\",\"used\",\"place\",\"technology\",\"women\",\"too\",\"old\",\"mean\",\"data\",\"water\",\"looking\",\"question\",\"maybe\",\"found\",\"love\",\"doesn\",\"end\",\"example\",\"10\",\"done\",\"point\",\"four\",\"real\",\"wanted\",\"ever\",\"understand\",\"school\",\"sort\",\"live\",\"call\",\"whole\",\"always\",\"children\",\"trying\",\"may\",\"person\",\"away\",\"feel\",\"believe\",\"try\",\"million\",\"working\",\"help\",\"everything\",\"five\",\"country\",\"thinking\",\"second\",\"using\",\"information\",\"money\",\"means\",\"power\",\"took\",\"times\",\"high\",\"space\",\"number\",\"kids\",\"home\",\"become\",\"create\",\"small\",\"design\",\"making\",\"best\",\"left\",\"getting\",\"future\",\"enough\",\"man\",\"quite\",\"city\",\"without\",\"sense\",\"happened\",\"comes\",\"social\",\"probably\",\"less\",\"light\",\"energy\",\"talking\",\"am\",\"building\",\"science\",\"food\",\"body\",\"told\",\"interesting\",\"ask\",\"half\",\"pretty\",\"play\",\"hard\",\"anything\",\"lives\",\"countries\",\"such\",\"coming\",\"family\",\"stuff\",\"dollars\",\"earth\",\"moment\",\"20\",\"imagine\",\"across\",\"side\",\"while\",\"saw\",\"happen\",\"once\",\"okay\",\"build\",\"having\",\"men\",\"later\",\"experience\",\"asked\",\"makes\",\"living\",\"seen\",\"says\",\"room\",\"hand\",\"simple\",\"health\",\"ways\",\"else\",\"case\",\"almost\",\"yet\",\"young\",\"days\",\"nothing\",\"care\",\"bad\",\"happens\",\"goes\",\"move\",\"states\",\"reason\",\"computer\",\"open\",\"learn\",\"africa\",\"process\",\"inside\",\"someone\",\"six\",\"far\",\"mind\",\"project\",\"remember\",\"single\",\"picture\",\"both\",\"whether\",\"problems\",\"basically\",\"community\",\"saying\",\"already\",\"within\",\"looked\",\"myself\",\"billion\",\"possible\",\"often\",\"business\",\"planet\",\"global\",\"top\",\"everybody\",\"public\",\"sure\",\"set\",\"wrong\",\"book\",\"car\",\"keep\",\"answer\",\"yes\",\"oh\",\"hope\",\"sometimes\",\"true\",\"history\",\"war\",\"guy\",\"child\",\"instead\",\"months\",\"ideas\",\"looks\",\"matter\",\"government\",\"amazing\",\"united\",\"since\",\"age\",\"bring\",\"cells\",\"job\",\"heard\",\"until\",\"face\",\"wasn\",\"100\",\"read\",\"control\",\"isn\",\"research\",\"30\",\"words\",\"u\",\"group\",\"under\",\"self\",\"somebody\",\"built\",\"state\",\"woman\",\"turn\",\"beautiful\",\"friends\",\"line\",\"knew\",\"couple\",\"order\",\"form\",\"yeah\",\"internet\",\"middle\",\"music\",\"piece\",\"nature\",\"head\",\"though\",\"stop\",\"everyone\",\"50\",\"places\",\"video\",\"language\",\"learned\",\"run\",\"night\",\"decided\",\"study\",\"word\",\"cancer\",\"works\",\"taking\",\"became\",\"exactly\",\"species\",\"society\",\"completely\",\"education\",\"against\",\"stories\",\"large\",\"share\",\"level\",\"heart\",\"america\",\"model\",\"questions\",\"gets\",\"mother\",\"god\",\"company\",\"turns\",\"ourselves\",\"happening\",\"hear\",\"art\",\"themselves\",\"must\",\"itself\",\"rather\",\"kinds\",\"students\",\"name\",\"hours\",\"disease\",\"front\",\"house\",\"huge\",\"couldn\",\"created\",\"universe\",\"ok\",\"animals\",\"american\",\"environment\",\"worked\",\"minutes\",\"ones\",\"black\",\"perhaps\",\"1\",\"past\",\"third\",\"along\",\"others\",\"finally\",\"sound\",\"early\",\"game\",\"thousands\",\"century\",\"least\",\"based\",\"per\",\"ted\",\"lots\",\"figure\",\"free\",\"guys\",\"particular\",\"happy\",\"news\",\"learning\",\"entire\",\"won\",\"gave\",\"machine\",\"india\",\"during\",\"systems\",\"air\",\"difference\",\"outside\",\"taken\",\"natural\",\"seven\",\"given\",\"changed\",\"leave\",\"cell\",\"15\",\"close\",\"behind\",\"cities\",\"full\",\"scale\",\"china\",\"difficult\",\"takes\",\"companies\",\"area\",\"yourself\",\"reality\",\"seeing\",\"easy\",\"turned\",\"cost\",\"eyes\",\"moving\",\"team\",\"population\",\"culture\",\"york\",\"hands\",\"began\",\"whatever\",\"terms\",\"needs\",\"image\",\"needed\",\"simply\",\"beginning\",\"father\",\"local\",\"realized\",\"media\",\"death\",\"parents\",\"view\",\"walk\",\"white\",\"market\",\"parts\",\"ocean\",\"economic\",\"eight\",\"powerful\",\"known\",\"week\",\"size\",\"felt\",\"humans\",\"certain\",\"spend\",\"longer\",\"phone\",\"wonderful\",\"cannot\",\"common\",\"grow\",\"tried\",\"center\",\"fish\",\"land\",\"oil\",\"interested\",\"deal\",\"political\",\"red\",\"gone\",\"amount\",\"weeks\",\"spent\",\"opportunity\",\"paper\",\"lost\",\"quickly\",\"national\",\"blue\",\"step\",\"poor\",\"green\",\"buy\",\"wouldn\",\"growth\",\"either\",\"patients\",\"sitting\",\"ability\",\"changes\",\"write\",\"south\",\"challenge\",\"low\",\"friend\",\"growing\",\"field\",\"2\",\"shows\",\"rest\",\"born\",\"climate\",\"40\",\"test\",\"street\",\"incredible\",\"surface\",\"average\",\"morning\",\"physical\",\"scientists\",\"pay\",\"program\",\"value\",\"feeling\",\"girl\",\"hundreds\",\"behavior\",\"met\",\"economy\",\"dna\",\"complex\",\"access\",\"risk\",\"animal\",\"structure\",\"feet\",\"attention\",\"areas\",\"anyone\",\"deep\",\"watch\",\"short\",\"absolutely\",\"speak\",\"brought\",\"die\",\"bottom\",\"numbers\",\"audience\",\"stage\",\"realize\",\"law\",\"images\",\"wrote\",\"understanding\",\"knowledge\",\"literally\",\"books\",\"movement\",\"giving\",\"ground\",\"eat\",\"force\",\"alone\",\"seems\",\"telling\",\"hold\",\"starting\",\"nice\",\"forward\",\"sea\",\"developed\",\"kid\",\"individual\",\"millions\",\"support\",\"miles\",\"tools\",\"running\",\"online\",\"result\",\"medical\",\"technologies\",\"act\",\"north\",\"development\",\"lab\",\"blood\",\"fear\",\"nobody\",\"map\",\"personal\",\"voice\",\"issue\",\"key\",\"material\",\"12\",\"recently\",\"theory\",\"cut\",\"cars\",\"fast\",\"sun\",\"changing\",\"playing\",\"clear\",\"especially\",\"soon\",\"patient\",\"girls\",\"fly\",\"choice\",\"creating\",\"relationship\",\"europe\",\"normal\",\"talked\",\"discovered\",\"gives\",\"generation\",\"dark\",\"type\",\"showed\",\"seem\",\"industry\",\"asking\",\"chance\",\"rate\",\"designed\",\"color\",\"hour\",\"issues\",\"fun\",\"computers\",\"several\",\"university\",\"innovation\",\"class\",\"tiny\",\"english\",\"allow\",\"focus\",\"save\",\"developing\",\"digital\",\"solve\",\"network\",\"film\",\"special\",\"wall\",\"baby\",\"situation\",\"solution\",\"knows\",\"box\",\"reasons\",\"stand\",\"dead\",\"meet\",\"anybody\",\"haven\",\"impact\",\"begin\",\"term\",\"beyond\",\"pictures\",\"please\",\"ice\",\"produce\",\"shape\",\"non\",\"cool\",\"resources\",\"robot\",\"groups\",\"stay\",\"likely\",\"truth\",\"rights\",\"major\",\"available\",\"writing\",\"cause\",\"evidence\",\"experiment\",\"obviously\",\"modern\",\"drug\",\"incredibly\",\"becomes\",\"guess\",\"bigger\",\"aren\",\"drugs\",\"nine\",\"product\",\"lived\",\"involved\",\"perfect\",\"google\",\"month\",\"similar\",\"putting\",\"effect\",\"pick\",\"eye\",\"message\",\"violence\",\"web\",\"quality\",\"office\",\"evolution\",\"security\",\"basic\",\"solar\",\"general\",\"indeed\",\"towards\",\"drive\",\"present\",\"listen\",\"send\",\"worth\",\"revolution\",\"hundred\",\"explain\",\"died\",\"certainly\",\"teach\",\"ready\",\"journey\",\"25\",\"hit\",\"walking\",\"led\",\"approach\",\"international\",\"200\",\"scientific\",\"games\",\"crazy\",\"potential\",\"communities\",\"chinese\",\"60\",\"device\",\"camera\",\"source\",\"rules\",\"carbon\",\"sex\",\"sounds\",\"boy\",\"reach\",\"starts\",\"west\",\"examples\",\"3\",\"software\",\"success\",\"measure\",\"particularly\",\"totally\",\"suddenly\",\"action\",\"college\",\"higher\",\"code\",\"eventually\",\"democracy\",\"sit\",\"among\",\"minute\",\"largest\",\"showing\",\"hospital\",\"notice\",\"period\",\"mass\",\"develop\",\"dream\",\"onto\",\"add\",\"memory\",\"break\",\"plants\",\"11\",\"favorite\",\"zero\",\"everywhere\",\"moved\",\"response\",\"schools\",\"speed\",\"wants\",\"movie\",\"wait\",\"table\",\"extremely\",\"individuals\",\"medicine\",\"anyway\",\"follow\",\"trust\",\"biggest\",\"plant\",\"watching\",\"organization\",\"creative\",\"road\",\"worse\",\"choose\",\"500\",\"lead\",\"results\",\"exciting\",\"grew\",\"materials\",\"jobs\",\"poverty\",\"plan\",\"east\",\"positive\",\"safe\",\"strong\",\"fall\",\"essentially\",\"door\",\"object\",\"vision\",\"happiness\",\"continue\",\"son\",\"further\",\"student\",\"doctor\",\"including\",\"named\",\"objects\",\"role\",\"extraordinary\",\"standing\",\"projects\",\"usually\",\"conversation\",\"african\",\"skin\",\"leaders\",\"allowed\",\"models\",\"supposed\",\"interest\",\"faster\",\"families\",\"police\",\"fight\",\"tree\",\"connected\",\"screen\",\"5\",\"cases\",\"somewhere\",\"goal\",\"buildings\",\"finding\",\"shown\"],\"x1\":{\"__ndarray__\":\"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\",\"dtype\":\"float64\",\"shape\":[1000]},\"x2\":{\"__ndarray__\":\"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\",\"dtype\":\"float64\",\"shape\":[1000]}}},\"id\":\"844ff742-0b9e-45d1-8f82-5a636f001b4c\",\"type\":\"ColumnDataSource\"},{\"attributes\":{\"data_source\":{\"id\":\"844ff742-0b9e-45d1-8f82-5a636f001b4c\",\"type\":\"ColumnDataSource\"},\"glyph\":{\"id\":\"35aefe1e-cf3c-4793-8e1a-0373605bb282\",\"type\":\"Circle\"},\"hover_glyph\":null,\"nonselection_glyph\":{\"id\":\"04b6f0a7-b2d4-4623-9684-ab2d8b3ade46\",\"type\":\"Circle\"},\"selection_glyph\":null},\"id\":\"b10459b4-8150-4ddb-94e8-c9cd372f3c0a\",\"type\":\"GlyphRenderer\"},{\"attributes\":{},\"id\":\"8e89f2fe-0763-4926-963b-4ec5e88d45a6\",\"type\":\"ToolEvents\"},{\"attributes\":{\"plot\":{\"id\":\"ce1d27e8-9e51-4c78-b00a-1738a8b760d4\",\"subtype\":\"Figure\",\"type\":\"Plot\"},\"ticker\":{\"id\":\"5a5964d2-7c7c-4ead-bb4d-6940a62ea142\",\"type\":\"BasicTicker\"}},\"id\":\"fa2333f7-3c9c-4189-bb76-7a84bd5c6fbe\",\"type\":\"Grid\"},{\"attributes\":{\"plot\":{\"id\":\"ce1d27e8-9e51-4c78-b00a-1738a8b760d4\",\"subtype\":\"Figure\",\"type\":\"Plot\"},\"source\":{\"id\":\"844ff742-0b9e-45d1-8f82-5a636f001b4c\",\"type\":\"ColumnDataSource\"},\"text\":{\"field\":\"names\"},\"text_align\":\"center\",\"text_color\":{\"value\":\"#555555\"},\"text_font_size\":{\"value\":\"8pt\"},\"x\":{\"field\":\"x1\"},\"y\":{\"field\":\"x2\"},\"y_offset\":{\"value\":6}},\"id\":\"03abc935-cc61-4e2d-b3bf-cc8e2c06d1db\",\"type\":\"LabelSet\"},{\"attributes\":{\"plot\":null,\"text\":\"word2vec T-SNE for most common words\"},\"id\":\"784b0191-7319-4772-adda-0f187e95110e\",\"type\":\"Title\"},{\"attributes\":{\"fill_color\":{\"value\":\"#1f77b4\"},\"line_color\":{\"value\":\"#1f77b4\"},\"size\":{\"units\":\"screen\",\"value\":8},\"x\":{\"field\":\"x1\"},\"y\":{\"field\":\"x2\"}},\"id\":\"35aefe1e-cf3c-4793-8e1a-0373605bb282\",\"type\":\"Circle\"},{\"attributes\":{\"plot\":{\"id\":\"ce1d27e8-9e51-4c78-b00a-1738a8b760d4\",\"subtype\":\"Figure\",\"type\":\"Plot\"}},\"id\":\"c6dce346-37b1-47c7-9ac1-ee35e27db4a3\",\"type\":\"WheelZoomTool\"},{\"attributes\":{\"formatter\":{\"id\":\"a0d490d2-421e-4e75-b0e1-326af79df0c4\",\"type\":\"BasicTickFormatter\"},\"plot\":{\"id\":\"ce1d27e8-9e51-4c78-b00a-1738a8b760d4\",\"subtype\":\"Figure\",\"type\":\"Plot\"},\"ticker\":{\"id\":\"5a5964d2-7c7c-4ead-bb4d-6940a62ea142\",\"type\":\"BasicTicker\"}},\"id\":\"81af182b-3077-4ab8-9d65-1812a3cf3287\",\"type\":\"LinearAxis\"},{\"attributes\":{\"callback\":null},\"id\":\"d4853252-1bec-4344-ad64-c83926de5573\",\"type\":\"DataRange1d\"},{\"attributes\":{\"plot\":{\"id\":\"ce1d27e8-9e51-4c78-b00a-1738a8b760d4\",\"subtype\":\"Figure\",\"type\":\"Plot\"}},\"id\":\"e9f66139-b842-49ce-9d81-2ad14f920f0b\",\"type\":\"ResetTool\"},{\"attributes\":{},\"id\":\"a0d490d2-421e-4e75-b0e1-326af79df0c4\",\"type\":\"BasicTickFormatter\"},{\"attributes\":{\"dimension\":1,\"plot\":{\"id\":\"ce1d27e8-9e51-4c78-b00a-1738a8b760d4\",\"subtype\":\"Figure\",\"type\":\"Plot\"},\"ticker\":{\"id\":\"01bc9411-3602-4a70-96a3-c6ffac3dd7cd\",\"type\":\"BasicTicker\"}},\"id\":\"92e1763b-18e5-4e9b-877b-428e20c2f2cf\",\"type\":\"Grid\"},{\"attributes\":{\"fill_alpha\":{\"value\":0.1},\"fill_color\":{\"value\":\"#1f77b4\"},\"line_alpha\":{\"value\":0.1},\"line_color\":{\"value\":\"#1f77b4\"},\"size\":{\"units\":\"screen\",\"value\":8},\"x\":{\"field\":\"x1\"},\"y\":{\"field\":\"x2\"}},\"id\":\"04b6f0a7-b2d4-4623-9684-ab2d8b3ade46\",\"type\":\"Circle\"},{\"attributes\":{\"callback\":null},\"id\":\"90e51eb8-8f0f-4cf7-be51-018af028fee2\",\"type\":\"DataRange1d\"},{\"attributes\":{},\"id\":\"01bc9411-3602-4a70-96a3-c6ffac3dd7cd\",\"type\":\"BasicTicker\"},{\"attributes\":{},\"id\":\"5a5964d2-7c7c-4ead-bb4d-6940a62ea142\",\"type\":\"BasicTicker\"},{\"attributes\":{},\"id\":\"43f4c32c-ea6b-4f93-8415-a8d334b1a8a1\",\"type\":\"BasicTickFormatter\"},{\"attributes\":{\"plot\":{\"id\":\"ce1d27e8-9e51-4c78-b00a-1738a8b760d4\",\"subtype\":\"Figure\",\"type\":\"Plot\"}},\"id\":\"67a930d0-e6b7-4256-9a3b-215d4d3bfecb\",\"type\":\"PanTool\"}],\"root_ids\":[\"ce1d27e8-9e51-4c78-b00a-1738a8b760d4\"]},\"title\":\"Bokeh Application\",\"version\":\"0.12.4\"}};\n",
       "            var render_items = [{\"docid\":\"cc0bcd62-a6fc-4171-9411-33c80f5fc52d\",\"elementid\":\"5b61aba9-fe7f-4456-8a30-237b06c7a32c\",\"modelid\":\"ce1d27e8-9e51-4c78-b00a-1738a8b760d4\"}];\n",
       "            \n",
       "            Bokeh.embed.embed_items(docs_json, render_items);\n",
       "          };\n",
       "          if (document.readyState != \"loading\") fn();\n",
       "          else document.addEventListener(\"DOMContentLoaded\", fn);\n",
       "        })();\n",
       "      },\n",
       "      function(Bokeh) {\n",
       "      }\n",
       "    ];\n",
       "  \n",
       "    function run_inline_js() {\n",
       "      \n",
       "      if ((window.Bokeh !== undefined) || (force === true)) {\n",
       "        for (var i = 0; i < inline_js.length; i++) {\n",
       "          inline_js[i](window.Bokeh);\n",
       "        }if (force === true) {\n",
       "          display_loaded();\n",
       "        }} else if (Date.now() < window._bokeh_timeout) {\n",
       "        setTimeout(run_inline_js, 100);\n",
       "      } else if (!window._bokeh_failed_load) {\n",
       "        console.log(\"Bokeh: BokehJS failed to load within specified timeout.\");\n",
       "        window._bokeh_failed_load = true;\n",
       "      } else if (force !== true) {\n",
       "        var cell = $(document.getElementById(\"5b61aba9-fe7f-4456-8a30-237b06c7a32c\")).parents('.cell').data().cell;\n",
       "        cell.output_area.append_execute_result(NB_LOAD_WARNING)\n",
       "      }\n",
       "  \n",
       "    }\n",
       "  \n",
       "    if (window._bokeh_is_loading === 0) {\n",
       "      console.log(\"Bokeh: BokehJS loaded, going straight to plotting\");\n",
       "      run_inline_js();\n",
       "    } else {\n",
       "      load_libs(js_urls, function() {\n",
       "        console.log(\"Bokeh: BokehJS plotting callback run at\", now());\n",
       "        run_inline_js();\n",
       "      });\n",
       "    }\n",
       "  }(this));\n",
       "</script>"
      ]
     },
     "metadata": {},
     "output_type": "display_data"
    }
   ],
   "source": [
    "p = figure(tools=\"pan,wheel_zoom,reset,save\",\n",
    "           toolbar_location=\"above\",\n",
    "           title=\"word2vec T-SNE for most common words\")\n",
    "\n",
    "source = ColumnDataSource(data=dict(x1=words_top_ted_tsne[:,0],\n",
    "                                    x2=words_top_ted_tsne[:,1],\n",
    "                                    names=words_top_ted))\n",
    "\n",
    "p.scatter(x=\"x1\", y=\"x2\", size=8, source=source)\n",
    "\n",
    "labels = LabelSet(x=\"x1\", y=\"x2\", text=\"names\", y_offset=6,\n",
    "                  text_font_size=\"8pt\", text_color=\"#555555\",\n",
    "                  source=source, text_align='center')\n",
    "p.add_layout(labels)\n",
    "\n",
    "show(p)"
   ]
  },
  {
   "cell_type": "markdown",
   "metadata": {
    "deletable": true,
    "editable": true
   },
   "source": [
    "### Part 5: Wiki Learnt Representations"
   ]
  },
  {
   "cell_type": "markdown",
   "metadata": {
    "deletable": true,
    "editable": true
   },
   "source": [
    "Download dataset"
   ]
  },
  {
   "cell_type": "code",
   "execution_count": 23,
   "metadata": {
    "collapsed": true,
    "deletable": true,
    "editable": true
   },
   "outputs": [],
   "source": [
    "if not os.path.isfile('wikitext-103-raw-v1.zip'):\n",
    "    urllib.request.urlretrieve(\"https://s3.amazonaws.com/research.metamind.io/wikitext/wikitext-103-raw-v1.zip\", filename=\"wikitext-103-raw-v1.zip\")"
   ]
  },
  {
   "cell_type": "code",
   "execution_count": 24,
   "metadata": {
    "collapsed": false,
    "deletable": true,
    "editable": true
   },
   "outputs": [],
   "source": [
    "with zipfile.ZipFile('wikitext-103-raw-v1.zip', 'r') as z:\n",
    "    input_text = str(z.open('wikitext-103-raw/wiki.train.raw', 'r').read(), encoding='utf-8') # Thanks Robert Bastian"
   ]
  },
  {
   "cell_type": "markdown",
   "metadata": {
    "deletable": true,
    "editable": true
   },
   "source": [
    "Preprocess sentences (note that it's important to remove small sentences for performance)"
   ]
  },
  {
   "cell_type": "code",
   "execution_count": 25,
   "metadata": {
    "collapsed": false,
    "deletable": true,
    "editable": true
   },
   "outputs": [],
   "source": [
    "sentences_wiki = []\n",
    "for line in input_text.split('\\n'):\n",
    "    s = [x for x in line.split('.') if x and len(x.split()) >= 5]\n",
    "    sentences_wiki.extend(s)\n",
    "\n",
    "for s_i in range(len(sentences_wiki)):\n",
    "    sentences_wiki[s_i] = re.sub(\"[^a-z]\", \" \", sentences_wiki[s_i].lower())\n",
    "    sentences_wiki[s_i] = re.sub(r'\\([^)]*\\)', '', sentences_wiki[s_i]).split()\n",
    "    \n",
    "del input_text "
   ]
  },
  {
   "cell_type": "code",
   "execution_count": 26,
   "metadata": {
    "collapsed": false,
    "deletable": true,
    "editable": true
   },
   "outputs": [
    {
     "name": "stdout",
     "output_type": "stream",
     "text": [
      "4267112\n",
      "853422\n"
     ]
    }
   ],
   "source": [
    "# sample 1/5 of the data\n",
    "shuffle(sentences_wiki)\n",
    "print(len(sentences_wiki))\n",
    "sentences_wiki = sentences_wiki[:int(len(sentences_wiki)/5)]\n",
    "print(len(sentences_wiki))"
   ]
  },
  {
   "cell_type": "markdown",
   "metadata": {
    "deletable": true,
    "editable": true
   },
   "source": [
    "Now, repeat all the same steps that you performed above. You should be able to reuse essentially all the code."
   ]
  },
  {
   "cell_type": "code",
   "execution_count": 29,
   "metadata": {
    "collapsed": false
   },
   "outputs": [],
   "source": [
    "cnt = Counter()\n",
    "for sentence in sentences_wiki:\n",
    "    for word in sentence:\n",
    "        cnt[word] += 1\n",
    "        \n",
    "counts_wiki_top1000 = []\n",
    "for common_word in cnt.most_common(1000):\n",
    "    counts_wiki_top1000.append(common_word[1])"
   ]
  },
  {
   "cell_type": "code",
   "execution_count": 30,
   "metadata": {
    "collapsed": false,
    "deletable": true,
    "editable": true
   },
   "outputs": [
    {
     "data": {
      "text/html": [
       "\n",
       "\n",
       "    <div class=\"bk-root\">\n",
       "        <div class=\"bk-plotdiv\" id=\"5f3af019-be44-4877-b590-b01f024aa30d\"></div>\n",
       "    </div>\n",
       "<script type=\"text/javascript\">\n",
       "  \n",
       "  (function(global) {\n",
       "    function now() {\n",
       "      return new Date();\n",
       "    }\n",
       "  \n",
       "    var force = false;\n",
       "  \n",
       "    if (typeof (window._bokeh_onload_callbacks) === \"undefined\" || force === true) {\n",
       "      window._bokeh_onload_callbacks = [];\n",
       "      window._bokeh_is_loading = undefined;\n",
       "    }\n",
       "  \n",
       "  \n",
       "    \n",
       "    if (typeof (window._bokeh_timeout) === \"undefined\" || force === true) {\n",
       "      window._bokeh_timeout = Date.now() + 0;\n",
       "      window._bokeh_failed_load = false;\n",
       "    }\n",
       "  \n",
       "    var NB_LOAD_WARNING = {'data': {'text/html':\n",
       "       \"<div style='background-color: #fdd'>\\n\"+\n",
       "       \"<p>\\n\"+\n",
       "       \"BokehJS does not appear to have successfully loaded. If loading BokehJS from CDN, this \\n\"+\n",
       "       \"may be due to a slow or bad network connection. Possible fixes:\\n\"+\n",
       "       \"</p>\\n\"+\n",
       "       \"<ul>\\n\"+\n",
       "       \"<li>re-rerun `output_notebook()` to attempt to load from CDN again, or</li>\\n\"+\n",
       "       \"<li>use INLINE resources instead, as so:</li>\\n\"+\n",
       "       \"</ul>\\n\"+\n",
       "       \"<code>\\n\"+\n",
       "       \"from bokeh.resources import INLINE\\n\"+\n",
       "       \"output_notebook(resources=INLINE)\\n\"+\n",
       "       \"</code>\\n\"+\n",
       "       \"</div>\"}};\n",
       "  \n",
       "    function display_loaded() {\n",
       "      if (window.Bokeh !== undefined) {\n",
       "        document.getElementById(\"5f3af019-be44-4877-b590-b01f024aa30d\").textContent = \"BokehJS successfully loaded.\";\n",
       "      } else if (Date.now() < window._bokeh_timeout) {\n",
       "        setTimeout(display_loaded, 100)\n",
       "      }\n",
       "    }\n",
       "  \n",
       "    function run_callbacks() {\n",
       "      window._bokeh_onload_callbacks.forEach(function(callback) { callback() });\n",
       "      delete window._bokeh_onload_callbacks\n",
       "      console.info(\"Bokeh: all callbacks have finished\");\n",
       "    }\n",
       "  \n",
       "    function load_libs(js_urls, callback) {\n",
       "      window._bokeh_onload_callbacks.push(callback);\n",
       "      if (window._bokeh_is_loading > 0) {\n",
       "        console.log(\"Bokeh: BokehJS is being loaded, scheduling callback at\", now());\n",
       "        return null;\n",
       "      }\n",
       "      if (js_urls == null || js_urls.length === 0) {\n",
       "        run_callbacks();\n",
       "        return null;\n",
       "      }\n",
       "      console.log(\"Bokeh: BokehJS not loaded, scheduling load and callback at\", now());\n",
       "      window._bokeh_is_loading = js_urls.length;\n",
       "      for (var i = 0; i < js_urls.length; i++) {\n",
       "        var url = js_urls[i];\n",
       "        var s = document.createElement('script');\n",
       "        s.src = url;\n",
       "        s.async = false;\n",
       "        s.onreadystatechange = s.onload = function() {\n",
       "          window._bokeh_is_loading--;\n",
       "          if (window._bokeh_is_loading === 0) {\n",
       "            console.log(\"Bokeh: all BokehJS libraries loaded\");\n",
       "            run_callbacks()\n",
       "          }\n",
       "        };\n",
       "        s.onerror = function() {\n",
       "          console.warn(\"failed to load library \" + url);\n",
       "        };\n",
       "        console.log(\"Bokeh: injecting script tag for BokehJS library: \", url);\n",
       "        document.getElementsByTagName(\"head\")[0].appendChild(s);\n",
       "      }\n",
       "    };var element = document.getElementById(\"5f3af019-be44-4877-b590-b01f024aa30d\");\n",
       "    if (element == null) {\n",
       "      console.log(\"Bokeh: ERROR: autoload.js configured with elementid '5f3af019-be44-4877-b590-b01f024aa30d' but no matching script tag was found. \")\n",
       "      return false;\n",
       "    }\n",
       "  \n",
       "    var js_urls = [];\n",
       "  \n",
       "    var inline_js = [\n",
       "      function(Bokeh) {\n",
       "        (function() {\n",
       "          var fn = function() {\n",
       "            var docs_json = {\"d3c1b03d-e605-4a8f-b2ae-e6cf7d60add8\":{\"roots\":{\"references\":[{\"attributes\":{\"active_drag\":\"auto\",\"active_scroll\":\"auto\",\"active_tap\":\"auto\",\"tools\":[{\"id\":\"85a8f9fd-b2fd-40f0-bfd4-542d96980651\",\"type\":\"PanTool\"},{\"id\":\"de4be4d2-0ea3-4cfd-9ffa-1a689ff012d4\",\"type\":\"WheelZoomTool\"},{\"id\":\"20090912-d706-45ab-a74d-c204c17c17a0\",\"type\":\"ResetTool\"},{\"id\":\"7539b153-70fb-43c8-a4ed-ba5eded30009\",\"type\":\"SaveTool\"}]},\"id\":\"2b2c85d2-0ced-42fb-98b2-c362241ef929\",\"type\":\"Toolbar\"},{\"attributes\":{\"below\":[{\"id\":\"96d7ee23-0deb-4df0-a0df-c95f90ca0f17\",\"type\":\"LinearAxis\"}],\"left\":[{\"id\":\"0b19bdfa-0e17-4628-8554-94d47f1e12f8\",\"type\":\"LinearAxis\"}],\"renderers\":[{\"id\":\"96d7ee23-0deb-4df0-a0df-c95f90ca0f17\",\"type\":\"LinearAxis\"},{\"id\":\"96218d2f-247a-4332-ac08-f7dc4ab59975\",\"type\":\"Grid\"},{\"id\":\"0b19bdfa-0e17-4628-8554-94d47f1e12f8\",\"type\":\"LinearAxis\"},{\"id\":\"f7042d64-b593-4e4e-a469-946252fd007b\",\"type\":\"Grid\"},{\"id\":\"22e21a0f-f82e-4d0c-a385-1903bfb30ce3\",\"type\":\"GlyphRenderer\"}],\"title\":{\"id\":\"ee8f7e5e-a74c-4cb1-b7bb-038a309b30f8\",\"type\":\"Title\"},\"tool_events\":{\"id\":\"d6632f16-e21d-4422-8b86-49567217ce79\",\"type\":\"ToolEvents\"},\"toolbar\":{\"id\":\"2b2c85d2-0ced-42fb-98b2-c362241ef929\",\"type\":\"Toolbar\"},\"toolbar_location\":\"above\",\"x_range\":{\"id\":\"a5c02ff6-dd9e-4135-8270-dd307696a381\",\"type\":\"DataRange1d\"},\"y_range\":{\"id\":\"561e6c9a-6133-433f-8431-659b7f2cf0cf\",\"type\":\"DataRange1d\"}},\"id\":\"928e7ac1-d36f-43d6-865f-b1a5967b2b72\",\"subtype\":\"Figure\",\"type\":\"Plot\"},{\"attributes\":{\"dimension\":1,\"plot\":{\"id\":\"928e7ac1-d36f-43d6-865f-b1a5967b2b72\",\"subtype\":\"Figure\",\"type\":\"Plot\"},\"ticker\":{\"id\":\"05c45cd8-167b-42d7-95f9-b40572ae0872\",\"type\":\"BasicTicker\"}},\"id\":\"f7042d64-b593-4e4e-a469-946252fd007b\",\"type\":\"Grid\"},{\"attributes\":{},\"id\":\"fda2b06f-724e-46a6-84cf-ec609b81fde6\",\"type\":\"BasicTickFormatter\"},{\"attributes\":{},\"id\":\"05c45cd8-167b-42d7-95f9-b40572ae0872\",\"type\":\"BasicTicker\"},{\"attributes\":{\"bottom\":{\"value\":0},\"fill_color\":{\"value\":\"#1f77b4\"},\"left\":{\"field\":\"left\"},\"line_color\":{\"value\":\"#555555\"},\"right\":{\"field\":\"right\"},\"top\":{\"field\":\"top\"}},\"id\":\"bfe24047-6950-4a6d-bfbb-f77e2a12bd78\",\"type\":\"Quad\"},{\"attributes\":{\"formatter\":{\"id\":\"f574349f-b2aa-4c2d-9874-076d0c8c18d4\",\"type\":\"BasicTickFormatter\"},\"plot\":{\"id\":\"928e7ac1-d36f-43d6-865f-b1a5967b2b72\",\"subtype\":\"Figure\",\"type\":\"Plot\"},\"ticker\":{\"id\":\"7304a9a8-1652-41e9-ba04-392744949933\",\"type\":\"BasicTicker\"}},\"id\":\"96d7ee23-0deb-4df0-a0df-c95f90ca0f17\",\"type\":\"LinearAxis\"},{\"attributes\":{\"plot\":null,\"text\":\"Top-1000 words distribution\"},\"id\":\"ee8f7e5e-a74c-4cb1-b7bb-038a309b30f8\",\"type\":\"Title\"},{\"attributes\":{\"plot\":{\"id\":\"928e7ac1-d36f-43d6-865f-b1a5967b2b72\",\"subtype\":\"Figure\",\"type\":\"Plot\"}},\"id\":\"85a8f9fd-b2fd-40f0-bfd4-542d96980651\",\"type\":\"PanTool\"},{\"attributes\":{},\"id\":\"f574349f-b2aa-4c2d-9874-076d0c8c18d4\",\"type\":\"BasicTickFormatter\"},{\"attributes\":{\"formatter\":{\"id\":\"fda2b06f-724e-46a6-84cf-ec609b81fde6\",\"type\":\"BasicTickFormatter\"},\"plot\":{\"id\":\"928e7ac1-d36f-43d6-865f-b1a5967b2b72\",\"subtype\":\"Figure\",\"type\":\"Plot\"},\"ticker\":{\"id\":\"05c45cd8-167b-42d7-95f9-b40572ae0872\",\"type\":\"BasicTicker\"}},\"id\":\"0b19bdfa-0e17-4628-8554-94d47f1e12f8\",\"type\":\"LinearAxis\"},{\"attributes\":{\"callback\":null},\"id\":\"561e6c9a-6133-433f-8431-659b7f2cf0cf\",\"type\":\"DataRange1d\"},{\"attributes\":{\"plot\":{\"id\":\"928e7ac1-d36f-43d6-865f-b1a5967b2b72\",\"subtype\":\"Figure\",\"type\":\"Plot\"}},\"id\":\"20090912-d706-45ab-a74d-c204c17c17a0\",\"type\":\"ResetTool\"},{\"attributes\":{},\"id\":\"d6632f16-e21d-4422-8b86-49567217ce79\",\"type\":\"ToolEvents\"},{\"attributes\":{\"bottom\":{\"value\":0},\"fill_alpha\":{\"value\":0.1},\"fill_color\":{\"value\":\"#1f77b4\"},\"left\":{\"field\":\"left\"},\"line_alpha\":{\"value\":0.1},\"line_color\":{\"value\":\"#1f77b4\"},\"right\":{\"field\":\"right\"},\"top\":{\"field\":\"top\"}},\"id\":\"8fec5ae3-354f-47bf-b8cc-1acb09f510ea\",\"type\":\"Quad\"},{\"attributes\":{\"callback\":null,\"column_names\":[\"top\",\"left\",\"right\"],\"data\":{\"left\":{\"__ndarray__\":\"AAAAAACsnUC4HoXrEdPMQLgehetR+NpACtejcI3D40C4HoXr8QrqQDMzMzMrKfBACtejcN1M80DhehSuj3D2QLgehetBlPlAj8L1KPS3/EBmZmZmptv/QB6F61GsfwFBCtejcIURA0H2KFyPXqMEQeF6FK43NQZBzMzMzBDHB0G4HoXr6VgJQaRwPQrD6gpBj8L1KJx8DEF6FK5HdQ4OQWZmZmZOoA9BKVyPwhOZEEEehetRAGIRQRSuR+HsKhJBCtejcNnzEkEAAAAAxrwTQfYoXI+yhRRB61G4Hp9OFUHhehSuixcWQdejcD144BZBzMzMzGSpF0HC9ShcUXIYQbgehes9OxlBrkfheioEGkGkcD0KF80aQZmZmZkDlhtBj8L1KPBeHEGF61G43CcdQXoUrkfJ8B1BcD0K17W5HkFmZmZmooIfQa5H4XrHJSBBKVyPwj2KIEGkcD0KtO4gQR6F61EqUyFBmZmZmaC3IUEUrkfhFhwiQY/C9SiNgCJBCtejcAPlIkGF61G4eUkjQQAAAADwrSNBexSuR2YSJEH2KFyP3HYkQXA9CtdS2yRB61G4Hsk/JUFmZmZmP6QlQeF6FK61CCZBXI/C9SttJkHXo3A9otEmQVK4HoUYNidBzMzMzI6aJ0FH4XoUBf8nQcL1KFx7YyhBPQrXo/HHKEG4HoXrZywpQTMzMzPekClBrkfhelT1KUEpXI/CylkqQaRwPQpBvipBHoXrUbciK0GZmZmZLYcrQRSuR+Gj6ytBj8L1KBpQLEEK16NwkLQsQYXrUbgGGS1BAAAAAH19LUF6FK5H8+EtQfUoXI9pRi5BcD0K19+qLkHrUbgeVg8vQWZmZmbMcy9B4XoUrkLYL0GuR+F6XB4wQetRuJ6XUDBBKVyPwtKCMEFmZmbmDbUwQaRwPQpJ5zBB4XoULoQZMUEehetRv0sxQVyPwnX6fTFBmZmZmTWwMUHXo3C9cOIxQRSuR+GrFDJBUrgeBedGMkGPwvUoInkyQc3MzExdqzJBCtejcJjdMkFH4XqU0w8zQYXrUbgOQjNBwvUo3El0M0E=\",\"dtype\":\"float64\",\"shape\":[100]},\"right\":{\"__ndarray__\":\"uB6F6xHTzEC4HoXrUfjaQArXo3CNw+NAuB6F6/EK6kAzMzMzKynwQArXo3DdTPNA4XoUro9w9kC4HoXrQZT5QI/C9Sj0t/xAZmZmZqbb/0AehetRrH8BQQrXo3CFEQNB9ihcj16jBEHhehSuNzUGQczMzMwQxwdBuB6F6+lYCUGkcD0Kw+oKQY/C9SicfAxBehSuR3UODkFmZmZmTqAPQSlcj8ITmRBBHoXrUQBiEUEUrkfh7CoSQQrXo3DZ8xJBAAAAAMa8E0H2KFyPsoUUQetRuB6fThVB4XoUrosXFkHXo3A9eOAWQczMzMxkqRdBwvUoXFFyGEG4HoXrPTsZQa5H4XoqBBpBpHA9ChfNGkGZmZmZA5YbQY/C9SjwXhxBhetRuNwnHUF6FK5HyfAdQXA9Cte1uR5BZmZmZqKCH0GuR+F6xyUgQSlcj8I9iiBBpHA9CrTuIEEehetRKlMhQZmZmZmgtyFBFK5H4RYcIkGPwvUojYAiQQrXo3AD5SJBhetRuHlJI0EAAAAA8K0jQXsUrkdmEiRB9ihcj9x2JEFwPQrXUtskQetRuB7JPyVBZmZmZj+kJUHhehSutQgmQVyPwvUrbSZB16NwPaLRJkFSuB6FGDYnQczMzMyOmidBR+F6FAX/J0HC9Shce2MoQT0K16PxxyhBuB6F62csKUEzMzMz3pApQa5H4XpU9SlBKVyPwspZKkGkcD0KQb4qQR6F61G3IitBmZmZmS2HK0EUrkfho+srQY/C9SgaUCxBCtejcJC0LEGF61G4BhktQQAAAAB9fS1BehSuR/PhLUH1KFyPaUYuQXA9Ctffqi5B61G4HlYPL0FmZmZmzHMvQeF6FK5C2C9BrkfhelweMEHrUbiel1AwQSlcj8LSgjBBZmZm5g21MEGkcD0KSecwQeF6FC6EGTFBHoXrUb9LMUFcj8J1+n0xQZmZmZk1sDFB16NwvXDiMUEUrkfhqxQyQVK4HgXnRjJBj8L1KCJ5MkHNzMxMXasyQQrXo3CY3TJBR+F6lNMPM0GF61G4DkIzQcL1KNxJdDNBAAAAAIWmM0E=\",\"dtype\":\"float64\",\"shape\":[100]},\"top\":{\"__ndarray__\":\"NObtKETBEj+Nh28QBdXGPucGUKEE4LQ+ogikyQUYmj5cCvjxBlCPPucGUKEE4HQ+XAr48QZQjz5cCvjxBlCPPgAAAAAAAAAA5wZQoQTghD7vBlChBOCEPuEGUKEE4IQ+4QZQoQTgdD4AAAAAAAAAAAAAAAAAAAAAAAAAAAAAAADhBlChBOB0PgAAAAAAAAAAAAAAAAAAAAAAAAAAAAAAAAAAAAAAAAAAAAAAAAAAAAAAAAAAAAAAAAAAAAAAAAAAAAAAAAAAAAAAAAAAAAAAAAAAAAAAAAAA4QZQoQTgdD4AAAAAAAAAAAAAAAAAAAAA4QZQoQTgdD4AAAAAAAAAAAAAAAAAAAAA4QZQoQTgdD4AAAAAAAAAAAAAAAAAAAAAAAAAAAAAAAAAAAAAAAAAAOEGUKEE4HQ+AAAAAAAAAAAAAAAAAAAAAAAAAAAAAAAA4QZQoQTgdD4AAAAAAAAAAAAAAAAAAAAAAAAAAAAAAAAAAAAAAAAAAAAAAAAAAAAAAAAAAAAAAAAAAAAAAAAAAAAAAAAAAAAAAAAAAAAAAAAAAAAAAAAAAAAAAAAAAAAAAAAAAAAAAAAAAAAAAAAAAAAAAAAAAAAAAAAAAAAAAAAAAAAAAAAAAAAAAAAAAAAAAAAAAAAAAAAAAAAAAAAAAAAAAAAAAAAAAAAAAAAAAAAAAAAAAAAAAAAAAAAAAAAAAAAAAAAAAAAAAAAAAAAAAAAAAAAAAAAAAAAAAAAAAAAAAAAAAAAAAAAAAAAAAAAAAAAAAAAAAAAAAAAAAAAAAAAAAAAAAAAAAAAAAAAAAAAAAAAAAAAAAAAAAAAAAAAAAAAAAAAAAAAAAAAAAAAAAAAAAAAAAAAAAAAAAAAAAAAAAAAAAAAAAAAAAAAAAAAAAAAAAAAAAAAAAAAAAAAAAAAAAAAAAAAAAAAAAAAAAAAAAAAAAAAAAAAAAAAAAAAAAAAAAAAAAAAAAAAAAAAAAAAAAAAAAAAAAAAAAAAAAAAAAAAAAAAAAAAAAAAAAAAAAAAAAAAAAAAAAAAAAAAAAAAAAAAAAAAArAZQoQTgdD4=\",\"dtype\":\"float64\",\"shape\":[100]}}},\"id\":\"0893dbb2-a0b1-4ef9-af00-9c7e35455194\",\"type\":\"ColumnDataSource\"},{\"attributes\":{\"plot\":{\"id\":\"928e7ac1-d36f-43d6-865f-b1a5967b2b72\",\"subtype\":\"Figure\",\"type\":\"Plot\"},\"ticker\":{\"id\":\"7304a9a8-1652-41e9-ba04-392744949933\",\"type\":\"BasicTicker\"}},\"id\":\"96218d2f-247a-4332-ac08-f7dc4ab59975\",\"type\":\"Grid\"},{\"attributes\":{\"callback\":null},\"id\":\"a5c02ff6-dd9e-4135-8270-dd307696a381\",\"type\":\"DataRange1d\"},{\"attributes\":{\"data_source\":{\"id\":\"0893dbb2-a0b1-4ef9-af00-9c7e35455194\",\"type\":\"ColumnDataSource\"},\"glyph\":{\"id\":\"bfe24047-6950-4a6d-bfbb-f77e2a12bd78\",\"type\":\"Quad\"},\"hover_glyph\":null,\"nonselection_glyph\":{\"id\":\"8fec5ae3-354f-47bf-b8cc-1acb09f510ea\",\"type\":\"Quad\"},\"selection_glyph\":null},\"id\":\"22e21a0f-f82e-4d0c-a385-1903bfb30ce3\",\"type\":\"GlyphRenderer\"},{\"attributes\":{},\"id\":\"7304a9a8-1652-41e9-ba04-392744949933\",\"type\":\"BasicTicker\"},{\"attributes\":{\"plot\":{\"id\":\"928e7ac1-d36f-43d6-865f-b1a5967b2b72\",\"subtype\":\"Figure\",\"type\":\"Plot\"}},\"id\":\"de4be4d2-0ea3-4cfd-9ffa-1a689ff012d4\",\"type\":\"WheelZoomTool\"},{\"attributes\":{\"plot\":{\"id\":\"928e7ac1-d36f-43d6-865f-b1a5967b2b72\",\"subtype\":\"Figure\",\"type\":\"Plot\"}},\"id\":\"7539b153-70fb-43c8-a4ed-ba5eded30009\",\"type\":\"SaveTool\"}],\"root_ids\":[\"928e7ac1-d36f-43d6-865f-b1a5967b2b72\"]},\"title\":\"Bokeh Application\",\"version\":\"0.12.4\"}};\n",
       "            var render_items = [{\"docid\":\"d3c1b03d-e605-4a8f-b2ae-e6cf7d60add8\",\"elementid\":\"5f3af019-be44-4877-b590-b01f024aa30d\",\"modelid\":\"928e7ac1-d36f-43d6-865f-b1a5967b2b72\"}];\n",
       "            \n",
       "            Bokeh.embed.embed_items(docs_json, render_items);\n",
       "          };\n",
       "          if (document.readyState != \"loading\") fn();\n",
       "          else document.addEventListener(\"DOMContentLoaded\", fn);\n",
       "        })();\n",
       "      },\n",
       "      function(Bokeh) {\n",
       "      }\n",
       "    ];\n",
       "  \n",
       "    function run_inline_js() {\n",
       "      \n",
       "      if ((window.Bokeh !== undefined) || (force === true)) {\n",
       "        for (var i = 0; i < inline_js.length; i++) {\n",
       "          inline_js[i](window.Bokeh);\n",
       "        }if (force === true) {\n",
       "          display_loaded();\n",
       "        }} else if (Date.now() < window._bokeh_timeout) {\n",
       "        setTimeout(run_inline_js, 100);\n",
       "      } else if (!window._bokeh_failed_load) {\n",
       "        console.log(\"Bokeh: BokehJS failed to load within specified timeout.\");\n",
       "        window._bokeh_failed_load = true;\n",
       "      } else if (force !== true) {\n",
       "        var cell = $(document.getElementById(\"5f3af019-be44-4877-b590-b01f024aa30d\")).parents('.cell').data().cell;\n",
       "        cell.output_area.append_execute_result(NB_LOAD_WARNING)\n",
       "      }\n",
       "  \n",
       "    }\n",
       "  \n",
       "    if (window._bokeh_is_loading === 0) {\n",
       "      console.log(\"Bokeh: BokehJS loaded, going straight to plotting\");\n",
       "      run_inline_js();\n",
       "    } else {\n",
       "      load_libs(js_urls, function() {\n",
       "        console.log(\"Bokeh: BokehJS plotting callback run at\", now());\n",
       "        run_inline_js();\n",
       "      });\n",
       "    }\n",
       "  }(this));\n",
       "</script>"
      ]
     },
     "metadata": {},
     "output_type": "display_data"
    }
   ],
   "source": [
    "hist, edges = np.histogram(counts_wiki_top1000, density=True, bins=100, normed=True)\n",
    "\n",
    "p = figure(tools=\"pan,wheel_zoom,reset,save\",\n",
    "           toolbar_location=\"above\",\n",
    "           title=\"Top-1000 words distribution\")\n",
    "p.quad(top=hist, bottom=0, left=edges[:-1], right=edges[1:], line_color=\"#555555\")\n",
    "show(p)"
   ]
  },
  {
   "cell_type": "code",
   "execution_count": 37,
   "metadata": {
    "collapsed": true
   },
   "outputs": [],
   "source": [
    "model_wiki = Word2Vec(sentences_wiki, min_count=10)"
   ]
  },
  {
   "cell_type": "code",
   "execution_count": 38,
   "metadata": {
    "collapsed": false
   },
   "outputs": [
    {
     "data": {
      "text/plain": [
       "[('woman', 0.7153575420379639),\n",
       " ('boy', 0.6530917286872864),\n",
       " ('girl', 0.6388851404190063),\n",
       " ('person', 0.6040423512458801),\n",
       " ('someone', 0.5782604813575745),\n",
       " ('dog', 0.5641230940818787),\n",
       " ('policeman', 0.5586552023887634),\n",
       " ('kid', 0.5554097890853882),\n",
       " ('soldier', 0.5525462031364441),\n",
       " ('men', 0.5500279664993286)]"
      ]
     },
     "execution_count": 38,
     "metadata": {},
     "output_type": "execute_result"
    }
   ],
   "source": [
    "model_wiki.most_similar(\"man\")"
   ]
  },
  {
   "cell_type": "code",
   "execution_count": 39,
   "metadata": {
    "collapsed": false
   },
   "outputs": [
    {
     "data": {
      "text/plain": [
       "[('software', 0.7803730368614197),\n",
       " ('user', 0.7239359021186829),\n",
       " ('computers', 0.7160808444023132),\n",
       " ('hardware', 0.7158913612365723),\n",
       " ('mainframe', 0.7100067734718323),\n",
       " ('graphics', 0.6803603172302246),\n",
       " ('server', 0.6737077236175537),\n",
       " ('console', 0.6735908389091492),\n",
       " ('simulation', 0.6681948304176331),\n",
       " ('virtual', 0.6675359606742859)]"
      ]
     },
     "execution_count": 39,
     "metadata": {},
     "output_type": "execute_result"
    }
   ],
   "source": [
    "model_wiki.most_similar(\"computer\")"
   ]
  },
  {
   "cell_type": "code",
   "execution_count": 40,
   "metadata": {
    "collapsed": true
   },
   "outputs": [],
   "source": [
    "words_top_wiki = []\n",
    "for common_word in cnt.most_common(1000):\n",
    "    words_top_wiki.append(common_word[0])\n"
   ]
  },
  {
   "cell_type": "markdown",
   "metadata": {
    "deletable": true,
    "editable": true
   },
   "source": [
    "#### t-SNE visualization"
   ]
  },
  {
   "cell_type": "code",
   "execution_count": 41,
   "metadata": {
    "collapsed": false,
    "deletable": true,
    "editable": true
   },
   "outputs": [],
   "source": [
    "# This assumes words_top_wiki is a list of strings, the top 1000 words\n",
    "words_top_vec_wiki = model_wiki[words_top_wiki]\n",
    "\n",
    "tsne = TSNE(n_components=2, random_state=0)\n",
    "words_top_wiki_tsne = tsne.fit_transform(words_top_vec_wiki)"
   ]
  },
  {
   "cell_type": "code",
   "execution_count": 42,
   "metadata": {
    "collapsed": false,
    "deletable": true,
    "editable": true
   },
   "outputs": [
    {
     "data": {
      "text/html": [
       "\n",
       "\n",
       "    <div class=\"bk-root\">\n",
       "        <div class=\"bk-plotdiv\" id=\"b088b484-0b9f-4c2c-89c8-8881f2783086\"></div>\n",
       "    </div>\n",
       "<script type=\"text/javascript\">\n",
       "  \n",
       "  (function(global) {\n",
       "    function now() {\n",
       "      return new Date();\n",
       "    }\n",
       "  \n",
       "    var force = false;\n",
       "  \n",
       "    if (typeof (window._bokeh_onload_callbacks) === \"undefined\" || force === true) {\n",
       "      window._bokeh_onload_callbacks = [];\n",
       "      window._bokeh_is_loading = undefined;\n",
       "    }\n",
       "  \n",
       "  \n",
       "    \n",
       "    if (typeof (window._bokeh_timeout) === \"undefined\" || force === true) {\n",
       "      window._bokeh_timeout = Date.now() + 0;\n",
       "      window._bokeh_failed_load = false;\n",
       "    }\n",
       "  \n",
       "    var NB_LOAD_WARNING = {'data': {'text/html':\n",
       "       \"<div style='background-color: #fdd'>\\n\"+\n",
       "       \"<p>\\n\"+\n",
       "       \"BokehJS does not appear to have successfully loaded. If loading BokehJS from CDN, this \\n\"+\n",
       "       \"may be due to a slow or bad network connection. Possible fixes:\\n\"+\n",
       "       \"</p>\\n\"+\n",
       "       \"<ul>\\n\"+\n",
       "       \"<li>re-rerun `output_notebook()` to attempt to load from CDN again, or</li>\\n\"+\n",
       "       \"<li>use INLINE resources instead, as so:</li>\\n\"+\n",
       "       \"</ul>\\n\"+\n",
       "       \"<code>\\n\"+\n",
       "       \"from bokeh.resources import INLINE\\n\"+\n",
       "       \"output_notebook(resources=INLINE)\\n\"+\n",
       "       \"</code>\\n\"+\n",
       "       \"</div>\"}};\n",
       "  \n",
       "    function display_loaded() {\n",
       "      if (window.Bokeh !== undefined) {\n",
       "        document.getElementById(\"b088b484-0b9f-4c2c-89c8-8881f2783086\").textContent = \"BokehJS successfully loaded.\";\n",
       "      } else if (Date.now() < window._bokeh_timeout) {\n",
       "        setTimeout(display_loaded, 100)\n",
       "      }\n",
       "    }\n",
       "  \n",
       "    function run_callbacks() {\n",
       "      window._bokeh_onload_callbacks.forEach(function(callback) { callback() });\n",
       "      delete window._bokeh_onload_callbacks\n",
       "      console.info(\"Bokeh: all callbacks have finished\");\n",
       "    }\n",
       "  \n",
       "    function load_libs(js_urls, callback) {\n",
       "      window._bokeh_onload_callbacks.push(callback);\n",
       "      if (window._bokeh_is_loading > 0) {\n",
       "        console.log(\"Bokeh: BokehJS is being loaded, scheduling callback at\", now());\n",
       "        return null;\n",
       "      }\n",
       "      if (js_urls == null || js_urls.length === 0) {\n",
       "        run_callbacks();\n",
       "        return null;\n",
       "      }\n",
       "      console.log(\"Bokeh: BokehJS not loaded, scheduling load and callback at\", now());\n",
       "      window._bokeh_is_loading = js_urls.length;\n",
       "      for (var i = 0; i < js_urls.length; i++) {\n",
       "        var url = js_urls[i];\n",
       "        var s = document.createElement('script');\n",
       "        s.src = url;\n",
       "        s.async = false;\n",
       "        s.onreadystatechange = s.onload = function() {\n",
       "          window._bokeh_is_loading--;\n",
       "          if (window._bokeh_is_loading === 0) {\n",
       "            console.log(\"Bokeh: all BokehJS libraries loaded\");\n",
       "            run_callbacks()\n",
       "          }\n",
       "        };\n",
       "        s.onerror = function() {\n",
       "          console.warn(\"failed to load library \" + url);\n",
       "        };\n",
       "        console.log(\"Bokeh: injecting script tag for BokehJS library: \", url);\n",
       "        document.getElementsByTagName(\"head\")[0].appendChild(s);\n",
       "      }\n",
       "    };var element = document.getElementById(\"b088b484-0b9f-4c2c-89c8-8881f2783086\");\n",
       "    if (element == null) {\n",
       "      console.log(\"Bokeh: ERROR: autoload.js configured with elementid 'b088b484-0b9f-4c2c-89c8-8881f2783086' but no matching script tag was found. \")\n",
       "      return false;\n",
       "    }\n",
       "  \n",
       "    var js_urls = [];\n",
       "  \n",
       "    var inline_js = [\n",
       "      function(Bokeh) {\n",
       "        (function() {\n",
       "          var fn = function() {\n",
       "            var docs_json = {\"4c4e6214-b0b8-4d4b-bfff-fec815d29f0a\":{\"roots\":{\"references\":[{\"attributes\":{\"plot\":{\"id\":\"870fcfe9-98ad-4213-a7c5-3cde6039bb81\",\"subtype\":\"Figure\",\"type\":\"Plot\"}},\"id\":\"655cb6b1-8584-4de9-98b1-dca51c628445\",\"type\":\"PanTool\"},{\"attributes\":{\"plot\":null,\"text\":\"word2vec T-SNE for most common words\"},\"id\":\"a8a2b934-8c3c-4fc6-8137-36f3f7cebd07\",\"type\":\"Title\"},{\"attributes\":{\"callback\":null},\"id\":\"3c6a955e-d77d-481c-8049-ae54a81de843\",\"type\":\"DataRange1d\"},{\"attributes\":{\"formatter\":{\"id\":\"9c967144-f235-45fa-9d25-78c95f42bc7a\",\"type\":\"BasicTickFormatter\"},\"plot\":{\"id\":\"870fcfe9-98ad-4213-a7c5-3cde6039bb81\",\"subtype\":\"Figure\",\"type\":\"Plot\"},\"ticker\":{\"id\":\"ac565166-19c5-4c54-8c3f-ab071f5649e4\",\"type\":\"BasicTicker\"}},\"id\":\"fa72c350-6c08-4f36-a0d6-0ec516070ec5\",\"type\":\"LinearAxis\"},{\"attributes\":{\"plot\":{\"id\":\"870fcfe9-98ad-4213-a7c5-3cde6039bb81\",\"subtype\":\"Figure\",\"type\":\"Plot\"}},\"id\":\"8c72d985-fc68-48df-bc1c-49478d2e16d0\",\"type\":\"WheelZoomTool\"},{\"attributes\":{},\"id\":\"ac565166-19c5-4c54-8c3f-ab071f5649e4\",\"type\":\"BasicTicker\"},{\"attributes\":{\"formatter\":{\"id\":\"33e7d492-8c7d-4210-a56a-9a51240156c0\",\"type\":\"BasicTickFormatter\"},\"plot\":{\"id\":\"870fcfe9-98ad-4213-a7c5-3cde6039bb81\",\"subtype\":\"Figure\",\"type\":\"Plot\"},\"ticker\":{\"id\":\"3df5e37d-787e-41b4-ac21-a589b0492efc\",\"type\":\"BasicTicker\"}},\"id\":\"d96521e4-6bc3-43f4-8481-b9d3519160c2\",\"type\":\"LinearAxis\"},{\"attributes\":{\"fill_color\":{\"value\":\"#1f77b4\"},\"line_color\":{\"value\":\"#1f77b4\"},\"size\":{\"units\":\"screen\",\"value\":8},\"x\":{\"field\":\"x1\"},\"y\":{\"field\":\"x2\"}},\"id\":\"c71e6099-2b05-44f1-be7b-45a3eb21c518\",\"type\":\"Circle\"},{\"attributes\":{},\"id\":\"e32d45cd-6ebc-4c45-a212-05b7dd579818\",\"type\":\"ToolEvents\"},{\"attributes\":{\"plot\":{\"id\":\"870fcfe9-98ad-4213-a7c5-3cde6039bb81\",\"subtype\":\"Figure\",\"type\":\"Plot\"}},\"id\":\"6f38bd1a-ed8b-42f1-bf7a-eb0832675b42\",\"type\":\"SaveTool\"},{\"attributes\":{\"fill_alpha\":{\"value\":0.1},\"fill_color\":{\"value\":\"#1f77b4\"},\"line_alpha\":{\"value\":0.1},\"line_color\":{\"value\":\"#1f77b4\"},\"size\":{\"units\":\"screen\",\"value\":8},\"x\":{\"field\":\"x1\"},\"y\":{\"field\":\"x2\"}},\"id\":\"ae16c380-97fd-49c2-80d8-0ac41c7de6da\",\"type\":\"Circle\"},{\"attributes\":{},\"id\":\"9c967144-f235-45fa-9d25-78c95f42bc7a\",\"type\":\"BasicTickFormatter\"},{\"attributes\":{\"below\":[{\"id\":\"fa72c350-6c08-4f36-a0d6-0ec516070ec5\",\"type\":\"LinearAxis\"}],\"left\":[{\"id\":\"d96521e4-6bc3-43f4-8481-b9d3519160c2\",\"type\":\"LinearAxis\"}],\"renderers\":[{\"id\":\"fa72c350-6c08-4f36-a0d6-0ec516070ec5\",\"type\":\"LinearAxis\"},{\"id\":\"b3ac2239-802a-4c70-ab11-b62becbdfdae\",\"type\":\"Grid\"},{\"id\":\"d96521e4-6bc3-43f4-8481-b9d3519160c2\",\"type\":\"LinearAxis\"},{\"id\":\"1849a9b1-1290-4a02-ae15-82c87aac192c\",\"type\":\"Grid\"},{\"id\":\"2767685d-5e48-4535-8618-b5890c990c38\",\"type\":\"GlyphRenderer\"},{\"id\":\"ee6e8bd6-9b9b-46ff-aa11-bb6421f94fe9\",\"type\":\"LabelSet\"}],\"title\":{\"id\":\"a8a2b934-8c3c-4fc6-8137-36f3f7cebd07\",\"type\":\"Title\"},\"tool_events\":{\"id\":\"e32d45cd-6ebc-4c45-a212-05b7dd579818\",\"type\":\"ToolEvents\"},\"toolbar\":{\"id\":\"a367f5bb-431b-4842-8f03-0f9f214c38b8\",\"type\":\"Toolbar\"},\"toolbar_location\":\"above\",\"x_range\":{\"id\":\"7b606383-c17d-4c1e-9104-9a0dadc77d87\",\"type\":\"DataRange1d\"},\"y_range\":{\"id\":\"3c6a955e-d77d-481c-8049-ae54a81de843\",\"type\":\"DataRange1d\"}},\"id\":\"870fcfe9-98ad-4213-a7c5-3cde6039bb81\",\"subtype\":\"Figure\",\"type\":\"Plot\"},{\"attributes\":{\"active_drag\":\"auto\",\"active_scroll\":\"auto\",\"active_tap\":\"auto\",\"tools\":[{\"id\":\"655cb6b1-8584-4de9-98b1-dca51c628445\",\"type\":\"PanTool\"},{\"id\":\"8c72d985-fc68-48df-bc1c-49478d2e16d0\",\"type\":\"WheelZoomTool\"},{\"id\":\"acbac927-c951-4089-a20e-e46f015b606d\",\"type\":\"ResetTool\"},{\"id\":\"6f38bd1a-ed8b-42f1-bf7a-eb0832675b42\",\"type\":\"SaveTool\"}]},\"id\":\"a367f5bb-431b-4842-8f03-0f9f214c38b8\",\"type\":\"Toolbar\"},{\"attributes\":{\"plot\":{\"id\":\"870fcfe9-98ad-4213-a7c5-3cde6039bb81\",\"subtype\":\"Figure\",\"type\":\"Plot\"}},\"id\":\"acbac927-c951-4089-a20e-e46f015b606d\",\"type\":\"ResetTool\"},{\"attributes\":{\"callback\":null,\"column_names\":[\"x2\",\"names\",\"x1\"],\"data\":{\"names\":[\"the\",\"of\",\"and\",\"in\",\"to\",\"a\",\"was\",\"s\",\"on\",\"as\",\"for\",\"that\",\"with\",\"by\",\"is\",\"his\",\"at\",\"he\",\"it\",\"from\",\"were\",\"an\",\"had\",\"which\",\"be\",\"this\",\"but\",\"are\",\"first\",\"not\",\"their\",\"after\",\"one\",\"also\",\"her\",\"its\",\"they\",\"two\",\"or\",\"have\",\"who\",\"new\",\"been\",\"has\",\"she\",\"when\",\"time\",\"during\",\"other\",\"would\",\"into\",\"all\",\"i\",\"more\",\"while\",\"over\",\"him\",\"game\",\"later\",\"only\",\"up\",\"three\",\"most\",\"about\",\"between\",\"out\",\"th\",\"than\",\"there\",\"some\",\"film\",\"may\",\"before\",\"no\",\"year\",\"made\",\"such\",\"second\",\"season\",\"where\",\"years\",\"world\",\"war\",\"both\",\"through\",\"then\",\"however\",\"them\",\"these\",\"used\",\"song\",\"being\",\"against\",\"series\",\"m\",\"many\",\"album\",\"number\",\"part\",\"team\",\"north\",\"city\",\"united\",\"including\",\"became\",\"can\",\"several\",\"well\",\"four\",\"under\",\"early\",\"state\",\"music\",\"south\",\"so\",\"day\",\"following\",\"episode\",\"states\",\"said\",\"could\",\"known\",\"although\",\"american\",\"did\",\"work\",\"until\",\"began\",\"because\",\"t\",\"released\",\"like\",\"called\",\"people\",\"end\",\"high\",\"since\",\"around\",\"british\",\"long\",\"found\",\"if\",\"life\",\"national\",\"each\",\"west\",\"same\",\"us\",\"best\",\"along\",\"september\",\"back\",\"another\",\"five\",\"million\",\"use\",\"any\",\"show\",\"took\",\"km\",\"you\",\"group\",\"area\",\"off\",\"final\",\"century\",\"received\",\"august\",\"october\",\"due\",\"what\",\"school\",\"john\",\"will\",\"line\",\"government\",\"east\",\"system\",\"june\",\"march\",\"much\",\"home\",\"single\",\"november\",\"games\",\"third\",\"general\",\"july\",\"april\",\"set\",\"large\",\"york\",\"major\",\"we\",\"down\",\"left\",\"house\",\"based\",\"family\",\"place\",\"just\",\"played\",\"army\",\"december\",\"history\",\"name\",\"road\",\"king\",\"six\",\"company\",\"now\",\"band\",\"wrote\",\"included\",\"character\",\"january\",\"won\",\"main\",\"according\",\"led\",\"those\",\"d\",\"river\",\"times\",\"men\",\"near\",\"last\",\"air\",\"within\",\"described\",\"own\",\"named\",\"way\",\"death\",\"st\",\"record\",\"video\",\"next\",\"de\",\"battle\",\"release\",\"still\",\"very\",\"force\",\"league\",\"original\",\"late\",\"even\",\"top\",\"make\",\"production\",\"great\",\"route\",\"ship\",\"public\",\"again\",\"club\",\"small\",\"february\",\"man\",\"species\",\"days\",\"u\",\"though\",\"old\",\"storm\",\"university\",\"held\",\"french\",\"power\",\"among\",\"built\",\"further\",\"play\",\"do\",\"book\",\"german\",\"service\",\"side\",\"white\",\"role\",\"water\",\"b\",\"match\",\"story\",\"members\",\"having\",\"division\",\"career\",\"often\",\"order\",\"point\",\"local\",\"park\",\"h\",\"black\",\"player\",\"former\",\"without\",\"continued\",\"town\",\"came\",\"party\",\"take\",\"despite\",\"considered\",\"england\",\"few\",\"support\",\"half\",\"county\",\"military\",\"island\",\"form\",\"songs\",\"moved\",\"written\",\"forces\",\"country\",\"development\",\"version\",\"different\",\"become\",\"building\",\"lost\",\"period\",\"english\",\"c\",\"given\",\"re\",\"little\",\"court\",\"international\",\"ii\",\"president\",\"london\",\"royal\",\"tropical\",\"street\",\"my\",\"produced\",\"using\",\"church\",\"attack\",\"n\",\"lead\",\"published\",\"class\",\"tour\",\"performance\",\"never\",\"gave\",\"short\",\"run\",\"similar\",\"track\",\"went\",\"position\",\"total\",\"good\",\"returned\",\"land\",\"television\",\"stated\",\"making\",\"week\",\"ships\",\"throughout\",\"live\",\"highway\",\"fire\",\"aircraft\",\"recorded\",\"women\",\"right\",\"western\",\"how\",\"per\",\"star\",\"control\",\"include\",\"father\",\"children\",\"once\",\"upon\",\"himself\",\"design\",\"central\",\"age\",\"characters\",\"me\",\"young\",\"head\",\"love\",\"ten\",\"australia\",\"players\",\"title\",\"instead\",\"less\",\"result\",\"r\",\"writing\",\"died\",\"seven\",\"developed\",\"red\",\"station\",\"light\",\"months\",\"away\",\"rock\",\"hurricane\",\"remained\",\"return\",\"political\",\"night\",\"across\",\"ft\",\"low\",\"eight\",\"law\",\"e\",\"sea\",\"felt\",\"various\",\"james\",\"previous\",\"noted\",\"southern\",\"win\",\"center\",\"eventually\",\"too\",\"reached\",\"style\",\"office\",\"miles\",\"should\",\"field\",\"race\",\"william\",\"reported\",\"act\",\"sent\",\"america\",\"created\",\"member\",\"areas\",\"son\",\"award\",\"japanese\",\"college\",\"served\",\"seen\",\"announced\",\"northern\",\"followed\",\"construction\",\"range\",\"together\",\"killed\",\"able\",\"full\",\"performed\",\"mm\",\"body\",\"points\",\"level\",\"originally\",\"taken\",\"action\",\"chart\",\"common\",\"features\",\"campaign\",\"thought\",\"fourth\",\"australian\",\"located\",\"rather\",\"playing\",\"works\",\"appeared\",\"modern\",\"george\",\"project\",\"born\",\"success\",\"behind\",\"others\",\"heavy\",\"stage\",\"started\",\"established\",\"football\",\"front\",\"f\",\"special\",\"feet\",\"caused\",\"bridge\",\"strong\",\"present\",\"see\",\"added\",\"decided\",\"critics\",\"post\",\"get\",\"site\",\"addition\",\"o\",\"formed\",\"director\",\"fleet\",\"go\",\"damage\",\"championship\",\"saw\",\"important\",\"command\",\"almost\",\"sold\",\"weeks\",\"soon\",\"initially\",\"popular\",\"every\",\"completed\",\"opened\",\"awards\",\"case\",\"eastern\",\"open\",\"non\",\"population\",\"navy\",\"kingdom\",\"close\",\"region\",\"l\",\"david\",\"guns\",\"leading\",\"free\",\"michael\",\"mi\",\"worked\",\"coast\",\"sound\",\"art\",\"working\",\"union\",\"mother\",\"records\",\"scene\",\"towards\",\"hall\",\"scored\",\"recording\",\"ground\",\"france\",\"allowed\",\"ever\",\"average\",\"provided\",\"event\",\"either\",\"brought\",\"training\",\"studio\",\"henry\",\"least\",\"put\",\"victory\",\"council\",\"featured\",\"human\",\"generally\",\"help\",\"wife\",\"placed\",\"hit\",\"magazine\",\"troops\",\"list\",\"does\",\"cup\",\"wanted\",\"designed\",\"runs\",\"washington\",\"europe\",\"nine\",\"hours\",\"opening\",\"events\",\"believed\",\"media\",\"example\",\"far\",\"mid\",\"robert\",\"summer\",\"start\",\"co\",\"operation\",\"official\",\"saying\",\"rest\",\"successful\",\"police\",\"joined\",\"squadron\",\"process\",\"possible\",\"earlier\",\"brown\",\"met\",\"available\",\"month\",\"review\",\"base\",\"radio\",\"passed\",\"largest\",\"involved\",\"japan\",\"replaced\",\"outside\",\"highest\",\"finished\",\"al\",\"significant\",\"minutes\",\"x\",\"crew\",\"mph\",\"european\",\"beginning\",\"taking\",\"turned\",\"cast\",\"change\",\"ended\",\"forced\",\"research\",\"test\",\"captain\",\"particularly\",\"society\",\"big\",\"praised\",\"lake\",\"future\",\"association\",\"additional\",\"increased\",\"better\",\"come\",\"stone\",\"san\",\"real\",\"g\",\"films\",\"section\",\"relationship\",\"community\",\"enough\",\"charles\",\"hill\",\"must\",\"signed\",\"social\",\"canada\",\"goal\",\"above\",\"cross\",\"appearance\",\"previously\",\"business\",\"thus\",\"middle\",\"program\",\"shot\",\"chief\",\"winds\",\"lower\",\"move\",\"parts\",\"going\",\"reviews\",\"interest\",\"space\",\"elements\",\"ordered\",\"spent\",\"round\",\"units\",\"thomas\",\"give\",\"board\",\"evidence\",\"staff\",\"money\",\"failed\",\"groups\",\"california\",\"critical\",\"overall\",\"lines\",\"told\",\"gold\",\"committee\",\"v\",\"castle\",\"musical\",\"don\",\"positive\",\"gun\",\"paul\",\"type\",\"female\",\"rights\",\"personal\",\"directed\",\"hand\",\"find\",\"cover\",\"asked\",\"grand\",\"person\",\"infantry\",\"india\",\"election\",\"reception\",\"k\",\"sometimes\",\"news\",\"background\",\"our\",\"term\",\"required\",\"itself\",\"plan\",\"prior\",\"smith\",\"attempt\",\"port\",\"already\",\"germany\",\"district\",\"brother\",\"study\",\"complete\",\"whom\",\"whose\",\"bill\",\"entire\",\"usually\",\"speed\",\"indian\",\"limited\",\"novel\",\"plot\",\"ny\",\"room\",\"uk\",\"square\",\"past\",\"response\",\"la\",\"centre\",\"green\",\"claimed\",\"turn\",\"debut\",\"flight\",\"battalion\",\"governor\",\"surface\",\"effects\",\"fifth\",\"decision\",\"idea\",\"press\",\"quickly\",\"introduced\",\"mark\",\"latter\",\"minister\",\"shows\",\"department\",\"stars\",\"arrived\",\"becoming\",\"bay\",\"suggested\",\"operations\",\"peter\",\"score\",\"woman\",\"village\",\"especially\",\"food\",\"material\",\"anti\",\"loss\",\"services\",\"students\",\"science\",\"issue\",\"education\",\"structure\",\"britain\",\"industry\",\"teams\",\"islands\",\"soviet\",\"running\",\"length\",\"blue\",\"p\",\"movement\",\"proposed\",\"nearly\",\"commander\",\"car\",\"leaving\",\"pressure\",\"winning\",\"episodes\",\"earth\",\"writer\",\"approximately\",\"changes\",\"estimated\",\"commercial\",\"los\",\"richard\",\"naval\",\"date\",\"might\",\"empire\",\"scenes\",\"carried\",\"larger\",\"voice\",\"immediately\",\"influence\",\"daughter\",\"pop\",\"report\",\"percent\",\"subsequently\",\"hot\",\"finally\",\"leader\",\"language\",\"today\",\"remaining\",\"entered\",\"defeated\",\"god\",\"provide\",\"queen\",\"child\",\"civil\",\"cut\",\"virginia\",\"network\",\"married\",\"spanish\",\"depression\",\"view\",\"appointed\",\"nature\",\"shortly\",\"whether\",\"higher\",\"living\",\"course\",\"size\",\"wide\",\"dark\",\"railway\",\"tracks\",\"destroyed\",\"compared\",\"related\",\"fort\",\"supported\",\"lack\",\"experience\",\"self\",\"regular\",\"helped\",\"guitar\",\"museum\",\"brigade\",\"intended\",\"current\",\"initial\",\"face\",\"fact\",\"producer\",\"jackson\",\"fans\",\"chicago\",\"cost\",\"natural\",\"plans\",\"planned\",\"captured\",\"chinese\",\"done\",\"officers\",\"something\",\"officer\",\"soldiers\",\"yet\",\"ball\",\"upper\",\"health\",\"contract\",\"friends\",\"appear\",\"pacific\",\"billboard\",\"mostly\",\"changed\",\"private\",\"awarded\",\"books\",\"agreed\",\"longer\",\"countries\",\"remains\",\"extended\",\"probably\",\"associated\",\"got\",\"corps\",\"singles\",\"your\",\"professional\",\"effect\",\"difficult\",\"j\",\"federal\",\"via\",\"themselves\",\"location\",\"mixed\",\"pass\",\"regiment\",\"key\",\"dance\",\"really\",\"johnson\",\"trade\",\"includes\",\"fight\",\"feature\",\"energy\",\"terms\",\"create\",\"meeting\",\"manager\",\"numerous\",\"minor\",\"dead\",\"information\",\"moving\",\"issued\",\"cm\",\"status\",\"ran\",\"always\",\"singer\",\"forward\",\"suffered\",\"copies\",\"broadcast\",\"christian\",\"edward\",\"leave\",\"conference\",\"friend\",\"buildings\",\"lord\",\"likely\",\"roman\",\"atlantic\",\"majority\",\"albums\",\"here\",\"removed\",\"florida\"],\"x1\":{\"__ndarray__\":\"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\",\"dtype\":\"float64\",\"shape\":[1000]},\"x2\":{\"__ndarray__\":\"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\",\"dtype\":\"float64\",\"shape\":[1000]}}},\"id\":\"4222a4dd-b069-4db4-a1f4-99113926d7f7\",\"type\":\"ColumnDataSource\"},{\"attributes\":{},\"id\":\"33e7d492-8c7d-4210-a56a-9a51240156c0\",\"type\":\"BasicTickFormatter\"},{\"attributes\":{\"plot\":{\"id\":\"870fcfe9-98ad-4213-a7c5-3cde6039bb81\",\"subtype\":\"Figure\",\"type\":\"Plot\"},\"ticker\":{\"id\":\"ac565166-19c5-4c54-8c3f-ab071f5649e4\",\"type\":\"BasicTicker\"}},\"id\":\"b3ac2239-802a-4c70-ab11-b62becbdfdae\",\"type\":\"Grid\"},{\"attributes\":{\"callback\":null},\"id\":\"7b606383-c17d-4c1e-9104-9a0dadc77d87\",\"type\":\"DataRange1d\"},{\"attributes\":{\"dimension\":1,\"plot\":{\"id\":\"870fcfe9-98ad-4213-a7c5-3cde6039bb81\",\"subtype\":\"Figure\",\"type\":\"Plot\"},\"ticker\":{\"id\":\"3df5e37d-787e-41b4-ac21-a589b0492efc\",\"type\":\"BasicTicker\"}},\"id\":\"1849a9b1-1290-4a02-ae15-82c87aac192c\",\"type\":\"Grid\"},{\"attributes\":{\"plot\":{\"id\":\"870fcfe9-98ad-4213-a7c5-3cde6039bb81\",\"subtype\":\"Figure\",\"type\":\"Plot\"},\"source\":{\"id\":\"4222a4dd-b069-4db4-a1f4-99113926d7f7\",\"type\":\"ColumnDataSource\"},\"text\":{\"field\":\"names\"},\"text_align\":\"center\",\"text_color\":{\"value\":\"#555555\"},\"text_font_size\":{\"value\":\"8pt\"},\"x\":{\"field\":\"x1\"},\"y\":{\"field\":\"x2\"},\"y_offset\":{\"value\":6}},\"id\":\"ee6e8bd6-9b9b-46ff-aa11-bb6421f94fe9\",\"type\":\"LabelSet\"},{\"attributes\":{},\"id\":\"3df5e37d-787e-41b4-ac21-a589b0492efc\",\"type\":\"BasicTicker\"},{\"attributes\":{\"data_source\":{\"id\":\"4222a4dd-b069-4db4-a1f4-99113926d7f7\",\"type\":\"ColumnDataSource\"},\"glyph\":{\"id\":\"c71e6099-2b05-44f1-be7b-45a3eb21c518\",\"type\":\"Circle\"},\"hover_glyph\":null,\"nonselection_glyph\":{\"id\":\"ae16c380-97fd-49c2-80d8-0ac41c7de6da\",\"type\":\"Circle\"},\"selection_glyph\":null},\"id\":\"2767685d-5e48-4535-8618-b5890c990c38\",\"type\":\"GlyphRenderer\"}],\"root_ids\":[\"870fcfe9-98ad-4213-a7c5-3cde6039bb81\"]},\"title\":\"Bokeh Application\",\"version\":\"0.12.4\"}};\n",
       "            var render_items = [{\"docid\":\"4c4e6214-b0b8-4d4b-bfff-fec815d29f0a\",\"elementid\":\"b088b484-0b9f-4c2c-89c8-8881f2783086\",\"modelid\":\"870fcfe9-98ad-4213-a7c5-3cde6039bb81\"}];\n",
       "            \n",
       "            Bokeh.embed.embed_items(docs_json, render_items);\n",
       "          };\n",
       "          if (document.readyState != \"loading\") fn();\n",
       "          else document.addEventListener(\"DOMContentLoaded\", fn);\n",
       "        })();\n",
       "      },\n",
       "      function(Bokeh) {\n",
       "      }\n",
       "    ];\n",
       "  \n",
       "    function run_inline_js() {\n",
       "      \n",
       "      if ((window.Bokeh !== undefined) || (force === true)) {\n",
       "        for (var i = 0; i < inline_js.length; i++) {\n",
       "          inline_js[i](window.Bokeh);\n",
       "        }if (force === true) {\n",
       "          display_loaded();\n",
       "        }} else if (Date.now() < window._bokeh_timeout) {\n",
       "        setTimeout(run_inline_js, 100);\n",
       "      } else if (!window._bokeh_failed_load) {\n",
       "        console.log(\"Bokeh: BokehJS failed to load within specified timeout.\");\n",
       "        window._bokeh_failed_load = true;\n",
       "      } else if (force !== true) {\n",
       "        var cell = $(document.getElementById(\"b088b484-0b9f-4c2c-89c8-8881f2783086\")).parents('.cell').data().cell;\n",
       "        cell.output_area.append_execute_result(NB_LOAD_WARNING)\n",
       "      }\n",
       "  \n",
       "    }\n",
       "  \n",
       "    if (window._bokeh_is_loading === 0) {\n",
       "      console.log(\"Bokeh: BokehJS loaded, going straight to plotting\");\n",
       "      run_inline_js();\n",
       "    } else {\n",
       "      load_libs(js_urls, function() {\n",
       "        console.log(\"Bokeh: BokehJS plotting callback run at\", now());\n",
       "        run_inline_js();\n",
       "      });\n",
       "    }\n",
       "  }(this));\n",
       "</script>"
      ]
     },
     "metadata": {},
     "output_type": "display_data"
    }
   ],
   "source": [
    "p = figure(tools=\"pan,wheel_zoom,reset,save\",\n",
    "           toolbar_location=\"above\",\n",
    "           title=\"word2vec T-SNE for most common words\")\n",
    "\n",
    "source = ColumnDataSource(data=dict(x1=words_top_wiki_tsne[:,0],\n",
    "                                    x2=words_top_wiki_tsne[:,1],\n",
    "                                    names=words_top_wiki))\n",
    "\n",
    "p.scatter(x=\"x1\", y=\"x2\", size=8, source=source)\n",
    "\n",
    "labels = LabelSet(x=\"x1\", y=\"x2\", text=\"names\", y_offset=6,\n",
    "                  text_font_size=\"8pt\", text_color=\"#555555\",\n",
    "                  source=source, text_align='center')\n",
    "p.add_layout(labels)\n",
    "\n",
    "show(p)"
   ]
  }
 ],
 "metadata": {
  "anaconda-cloud": {},
  "kernelspec": {
   "display_name": "Python 3",
   "language": "python",
   "name": "python3"
  },
  "language_info": {
   "codemirror_mode": {
    "name": "ipython",
    "version": 3
   },
   "file_extension": ".py",
   "mimetype": "text/x-python",
   "name": "python",
   "nbconvert_exporter": "python",
   "pygments_lexer": "ipython3",
   "version": "3.5.2"
  }
 },
 "nbformat": 4,
 "nbformat_minor": 0
}
